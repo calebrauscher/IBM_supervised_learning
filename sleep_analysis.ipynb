{
 "cells": [
  {
   "cell_type": "markdown",
   "metadata": {},
   "source": [
    "# Sleep Analysis\n",
    "\n",
    "A study of sleep efficiency, and sleep patterns.\n",
    "\n",
    "## About Dataset\n",
    "\n",
    "The dataset contains information about a group of test subjects and their sleep patterns. Each test subject is identified by a unique \"Subject ID\" and their age and gender are also recorded. The \"Bedtime\" and \"Wakeup time\" features indicate when each subject goes to bed and wakes up each day, and the \"Sleep duration\" feature records the total amount of time each subject slept in hours. The \"Sleep efficiency\" feature is a measure of the proportion of time spent in bed that is actually spent asleep. The \"REM sleep percentage\", \"Deep sleep percentage\", and \"Light sleep percentage\" features indicate the amount of time each subject spent in each stage of sleep. The \"Awakenings\" feature records the number of times each subject wakes up during the night. Additionally, the dataset includes information about each subject's caffeine and alcohol consumption in the 24 hours prior to bedtime, their smoking status, and their exercise frequency.\n",
    "\n",
    "There are 452 observations of 14 variables.  Awakenings has 20 missing values, Caffeine consumption has 25 missing values, Alcohol consumption has 14 missing values, Exercise frequency has 6 missing values.\n",
    "\n",
    "## Objective\n",
    "\n",
    "A typical adult needs 1.5 to 2 hours of deep sleep and 1.5 to 2 hours of REM sleep. There is no minimum amout of light sleep defined for a quality night of sleep. A label will be created called Sleep Quality that defines the provides percentage of required sleep achieved. In the case of someone with at least 1.5 hours of deep sleep and 1.5 hours of REM sleep they will receive a Sleep Quality rating of 100%. If someone has 1 hour of deep sleep and 1.5 hours of REM sleep they will receive a Sleep Quality rating of 83%.\n",
    "\n",
    "$Sleep Quality = \\frac{\\min\\{\\frac{Deep Sleep}{1.5}, 1\\} + \\min\\{\\frac{REM Sleep}{1.5}, 1\\}}{2}*100$\n",
    "\n",
    "The objective of this analysis will be to determine which features impact the Sleep Quality the most and to be able to predict the sleep quality."
   ]
  },
  {
   "cell_type": "code",
   "execution_count": 63,
   "metadata": {},
   "outputs": [],
   "source": [
    "from IPython.display import clear_output"
   ]
  },
  {
   "cell_type": "code",
   "execution_count": 64,
   "metadata": {},
   "outputs": [
    {
     "name": "stdout",
     "output_type": "stream",
     "text": [
      "CPU times: total: 125 ms\n",
      "Wall time: 7.64 s\n"
     ]
    }
   ],
   "source": [
    "%%time\n",
    "%pip install kagglehub\n",
    "%pip install ipywidgets\n",
    "%pip install pandas\n",
    "%pip install seaborn\n",
    "%pip install plotly\n",
    "%pip install statsmodels\n",
    "%pip install nbformat>=4.2.0\n",
    "clear_output()"
   ]
  },
  {
   "cell_type": "code",
   "execution_count": 65,
   "metadata": {},
   "outputs": [],
   "source": [
    "import kagglehub\n",
    "import shutil\n",
    "import os\n",
    "\n",
    "# Download latest version\n",
    "path = kagglehub.dataset_download(\"equilibriumm/sleep-efficiency\")\n",
    "destination = r\"data\"\n",
    "for item in os.listdir(path):\n",
    "    src = os.path.join(path, item)\n",
    "    dest = os.path.join(destination, item)\n",
    "    if os.path.isdir(src):\n",
    "        shutil.copytree(src, dest, dirs_exist_ok=True)\n",
    "    else:\n",
    "        shutil.copy2(src, dest)"
   ]
  },
  {
   "cell_type": "code",
   "execution_count": 66,
   "metadata": {},
   "outputs": [
    {
     "data": {
      "text/html": [
       "<div>\n",
       "<style scoped>\n",
       "    .dataframe tbody tr th:only-of-type {\n",
       "        vertical-align: middle;\n",
       "    }\n",
       "\n",
       "    .dataframe tbody tr th {\n",
       "        vertical-align: top;\n",
       "    }\n",
       "\n",
       "    .dataframe thead th {\n",
       "        text-align: right;\n",
       "    }\n",
       "</style>\n",
       "<table border=\"1\" class=\"dataframe\">\n",
       "  <thead>\n",
       "    <tr style=\"text-align: right;\">\n",
       "      <th></th>\n",
       "      <th>Age</th>\n",
       "      <th>Gender</th>\n",
       "      <th>Bedtime</th>\n",
       "      <th>Wakeup time</th>\n",
       "      <th>Sleep duration</th>\n",
       "      <th>Sleep efficiency</th>\n",
       "      <th>REM sleep percentage</th>\n",
       "      <th>Deep sleep percentage</th>\n",
       "      <th>Light sleep percentage</th>\n",
       "      <th>Awakenings</th>\n",
       "      <th>Caffeine consumption</th>\n",
       "      <th>Alcohol consumption</th>\n",
       "      <th>Smoking status</th>\n",
       "      <th>Exercise frequency</th>\n",
       "    </tr>\n",
       "    <tr>\n",
       "      <th>ID</th>\n",
       "      <th></th>\n",
       "      <th></th>\n",
       "      <th></th>\n",
       "      <th></th>\n",
       "      <th></th>\n",
       "      <th></th>\n",
       "      <th></th>\n",
       "      <th></th>\n",
       "      <th></th>\n",
       "      <th></th>\n",
       "      <th></th>\n",
       "      <th></th>\n",
       "      <th></th>\n",
       "      <th></th>\n",
       "    </tr>\n",
       "  </thead>\n",
       "  <tbody>\n",
       "    <tr>\n",
       "      <th>1</th>\n",
       "      <td>65</td>\n",
       "      <td>Female</td>\n",
       "      <td>01:00:00</td>\n",
       "      <td>07:00:00</td>\n",
       "      <td>6.0</td>\n",
       "      <td>0.88</td>\n",
       "      <td>18</td>\n",
       "      <td>70</td>\n",
       "      <td>12</td>\n",
       "      <td>0.0</td>\n",
       "      <td>0.0</td>\n",
       "      <td>0.0</td>\n",
       "      <td>Yes</td>\n",
       "      <td>3.0</td>\n",
       "    </tr>\n",
       "    <tr>\n",
       "      <th>2</th>\n",
       "      <td>69</td>\n",
       "      <td>Male</td>\n",
       "      <td>02:00:00</td>\n",
       "      <td>09:00:00</td>\n",
       "      <td>7.0</td>\n",
       "      <td>0.66</td>\n",
       "      <td>19</td>\n",
       "      <td>28</td>\n",
       "      <td>53</td>\n",
       "      <td>3.0</td>\n",
       "      <td>0.0</td>\n",
       "      <td>3.0</td>\n",
       "      <td>Yes</td>\n",
       "      <td>3.0</td>\n",
       "    </tr>\n",
       "    <tr>\n",
       "      <th>3</th>\n",
       "      <td>40</td>\n",
       "      <td>Female</td>\n",
       "      <td>21:30:00</td>\n",
       "      <td>05:30:00</td>\n",
       "      <td>8.0</td>\n",
       "      <td>0.89</td>\n",
       "      <td>20</td>\n",
       "      <td>70</td>\n",
       "      <td>10</td>\n",
       "      <td>1.0</td>\n",
       "      <td>0.0</td>\n",
       "      <td>0.0</td>\n",
       "      <td>No</td>\n",
       "      <td>3.0</td>\n",
       "    </tr>\n",
       "    <tr>\n",
       "      <th>4</th>\n",
       "      <td>40</td>\n",
       "      <td>Female</td>\n",
       "      <td>02:30:00</td>\n",
       "      <td>08:30:00</td>\n",
       "      <td>6.0</td>\n",
       "      <td>0.51</td>\n",
       "      <td>23</td>\n",
       "      <td>25</td>\n",
       "      <td>52</td>\n",
       "      <td>3.0</td>\n",
       "      <td>50.0</td>\n",
       "      <td>5.0</td>\n",
       "      <td>Yes</td>\n",
       "      <td>1.0</td>\n",
       "    </tr>\n",
       "    <tr>\n",
       "      <th>5</th>\n",
       "      <td>57</td>\n",
       "      <td>Male</td>\n",
       "      <td>01:00:00</td>\n",
       "      <td>09:00:00</td>\n",
       "      <td>8.0</td>\n",
       "      <td>0.76</td>\n",
       "      <td>27</td>\n",
       "      <td>55</td>\n",
       "      <td>18</td>\n",
       "      <td>3.0</td>\n",
       "      <td>0.0</td>\n",
       "      <td>3.0</td>\n",
       "      <td>No</td>\n",
       "      <td>3.0</td>\n",
       "    </tr>\n",
       "    <tr>\n",
       "      <th>...</th>\n",
       "      <td>...</td>\n",
       "      <td>...</td>\n",
       "      <td>...</td>\n",
       "      <td>...</td>\n",
       "      <td>...</td>\n",
       "      <td>...</td>\n",
       "      <td>...</td>\n",
       "      <td>...</td>\n",
       "      <td>...</td>\n",
       "      <td>...</td>\n",
       "      <td>...</td>\n",
       "      <td>...</td>\n",
       "      <td>...</td>\n",
       "      <td>...</td>\n",
       "    </tr>\n",
       "    <tr>\n",
       "      <th>448</th>\n",
       "      <td>27</td>\n",
       "      <td>Female</td>\n",
       "      <td>22:00:00</td>\n",
       "      <td>05:30:00</td>\n",
       "      <td>7.5</td>\n",
       "      <td>0.91</td>\n",
       "      <td>22</td>\n",
       "      <td>57</td>\n",
       "      <td>21</td>\n",
       "      <td>0.0</td>\n",
       "      <td>0.0</td>\n",
       "      <td>0.0</td>\n",
       "      <td>No</td>\n",
       "      <td>5.0</td>\n",
       "    </tr>\n",
       "    <tr>\n",
       "      <th>449</th>\n",
       "      <td>52</td>\n",
       "      <td>Male</td>\n",
       "      <td>21:00:00</td>\n",
       "      <td>03:00:00</td>\n",
       "      <td>6.0</td>\n",
       "      <td>0.74</td>\n",
       "      <td>28</td>\n",
       "      <td>57</td>\n",
       "      <td>15</td>\n",
       "      <td>4.0</td>\n",
       "      <td>25.0</td>\n",
       "      <td>0.0</td>\n",
       "      <td>No</td>\n",
       "      <td>3.0</td>\n",
       "    </tr>\n",
       "    <tr>\n",
       "      <th>450</th>\n",
       "      <td>40</td>\n",
       "      <td>Female</td>\n",
       "      <td>23:00:00</td>\n",
       "      <td>07:30:00</td>\n",
       "      <td>8.5</td>\n",
       "      <td>0.55</td>\n",
       "      <td>20</td>\n",
       "      <td>32</td>\n",
       "      <td>48</td>\n",
       "      <td>1.0</td>\n",
       "      <td>NaN</td>\n",
       "      <td>3.0</td>\n",
       "      <td>Yes</td>\n",
       "      <td>0.0</td>\n",
       "    </tr>\n",
       "    <tr>\n",
       "      <th>451</th>\n",
       "      <td>45</td>\n",
       "      <td>Male</td>\n",
       "      <td>21:00:00</td>\n",
       "      <td>04:00:00</td>\n",
       "      <td>7.0</td>\n",
       "      <td>0.76</td>\n",
       "      <td>18</td>\n",
       "      <td>72</td>\n",
       "      <td>10</td>\n",
       "      <td>3.0</td>\n",
       "      <td>0.0</td>\n",
       "      <td>0.0</td>\n",
       "      <td>No</td>\n",
       "      <td>3.0</td>\n",
       "    </tr>\n",
       "    <tr>\n",
       "      <th>452</th>\n",
       "      <td>18</td>\n",
       "      <td>Male</td>\n",
       "      <td>02:30:00</td>\n",
       "      <td>10:00:00</td>\n",
       "      <td>7.5</td>\n",
       "      <td>0.63</td>\n",
       "      <td>22</td>\n",
       "      <td>23</td>\n",
       "      <td>55</td>\n",
       "      <td>1.0</td>\n",
       "      <td>50.0</td>\n",
       "      <td>0.0</td>\n",
       "      <td>No</td>\n",
       "      <td>1.0</td>\n",
       "    </tr>\n",
       "  </tbody>\n",
       "</table>\n",
       "<p>452 rows × 14 columns</p>\n",
       "</div>"
      ],
      "text/plain": [
       "     Age  Gender   Bedtime Wakeup time  Sleep duration  Sleep efficiency  \\\n",
       "ID                                                                         \n",
       "1     65  Female  01:00:00    07:00:00             6.0              0.88   \n",
       "2     69    Male  02:00:00    09:00:00             7.0              0.66   \n",
       "3     40  Female  21:30:00    05:30:00             8.0              0.89   \n",
       "4     40  Female  02:30:00    08:30:00             6.0              0.51   \n",
       "5     57    Male  01:00:00    09:00:00             8.0              0.76   \n",
       "..   ...     ...       ...         ...             ...               ...   \n",
       "448   27  Female  22:00:00    05:30:00             7.5              0.91   \n",
       "449   52    Male  21:00:00    03:00:00             6.0              0.74   \n",
       "450   40  Female  23:00:00    07:30:00             8.5              0.55   \n",
       "451   45    Male  21:00:00    04:00:00             7.0              0.76   \n",
       "452   18    Male  02:30:00    10:00:00             7.5              0.63   \n",
       "\n",
       "     REM sleep percentage  Deep sleep percentage  Light sleep percentage  \\\n",
       "ID                                                                         \n",
       "1                      18                     70                      12   \n",
       "2                      19                     28                      53   \n",
       "3                      20                     70                      10   \n",
       "4                      23                     25                      52   \n",
       "5                      27                     55                      18   \n",
       "..                    ...                    ...                     ...   \n",
       "448                    22                     57                      21   \n",
       "449                    28                     57                      15   \n",
       "450                    20                     32                      48   \n",
       "451                    18                     72                      10   \n",
       "452                    22                     23                      55   \n",
       "\n",
       "     Awakenings  Caffeine consumption  Alcohol consumption Smoking status  \\\n",
       "ID                                                                          \n",
       "1           0.0                   0.0                  0.0            Yes   \n",
       "2           3.0                   0.0                  3.0            Yes   \n",
       "3           1.0                   0.0                  0.0             No   \n",
       "4           3.0                  50.0                  5.0            Yes   \n",
       "5           3.0                   0.0                  3.0             No   \n",
       "..          ...                   ...                  ...            ...   \n",
       "448         0.0                   0.0                  0.0             No   \n",
       "449         4.0                  25.0                  0.0             No   \n",
       "450         1.0                   NaN                  3.0            Yes   \n",
       "451         3.0                   0.0                  0.0             No   \n",
       "452         1.0                  50.0                  0.0             No   \n",
       "\n",
       "     Exercise frequency  \n",
       "ID                       \n",
       "1                   3.0  \n",
       "2                   3.0  \n",
       "3                   3.0  \n",
       "4                   1.0  \n",
       "5                   3.0  \n",
       "..                  ...  \n",
       "448                 5.0  \n",
       "449                 3.0  \n",
       "450                 0.0  \n",
       "451                 3.0  \n",
       "452                 1.0  \n",
       "\n",
       "[452 rows x 14 columns]"
      ]
     },
     "execution_count": 66,
     "metadata": {},
     "output_type": "execute_result"
    }
   ],
   "source": [
    "import pandas as pd\n",
    "\n",
    "sleep_df = pd.read_csv(r\"data\\Sleep_Efficiency.csv\").set_index(\"ID\")\n",
    "sleep_df[\"Bedtime\"] = pd.to_datetime(sleep_df[\"Bedtime\"]).dt.time\n",
    "sleep_df[\"Wakeup time\"] = pd.to_datetime(sleep_df[\"Wakeup time\"]).dt.time\n",
    "sleep_df"
   ]
  },
  {
   "cell_type": "code",
   "execution_count": 67,
   "metadata": {},
   "outputs": [
    {
     "data": {
      "text/html": [
       "<div>\n",
       "<style scoped>\n",
       "    .dataframe tbody tr th:only-of-type {\n",
       "        vertical-align: middle;\n",
       "    }\n",
       "\n",
       "    .dataframe tbody tr th {\n",
       "        vertical-align: top;\n",
       "    }\n",
       "\n",
       "    .dataframe thead th {\n",
       "        text-align: right;\n",
       "    }\n",
       "</style>\n",
       "<table border=\"1\" class=\"dataframe\">\n",
       "  <thead>\n",
       "    <tr style=\"text-align: right;\">\n",
       "      <th></th>\n",
       "      <th>Age</th>\n",
       "      <th>Sleep duration</th>\n",
       "      <th>Sleep efficiency</th>\n",
       "      <th>REM sleep percentage</th>\n",
       "      <th>Deep sleep percentage</th>\n",
       "      <th>Light sleep percentage</th>\n",
       "      <th>Awakenings</th>\n",
       "      <th>Caffeine consumption</th>\n",
       "      <th>Alcohol consumption</th>\n",
       "      <th>Exercise frequency</th>\n",
       "    </tr>\n",
       "  </thead>\n",
       "  <tbody>\n",
       "    <tr>\n",
       "      <th>count</th>\n",
       "      <td>452.000000</td>\n",
       "      <td>452.000000</td>\n",
       "      <td>452.000000</td>\n",
       "      <td>452.000000</td>\n",
       "      <td>452.000000</td>\n",
       "      <td>452.000000</td>\n",
       "      <td>432.000000</td>\n",
       "      <td>427.000000</td>\n",
       "      <td>438.000000</td>\n",
       "      <td>446.000000</td>\n",
       "    </tr>\n",
       "    <tr>\n",
       "      <th>mean</th>\n",
       "      <td>40.285398</td>\n",
       "      <td>7.465708</td>\n",
       "      <td>0.788916</td>\n",
       "      <td>22.615044</td>\n",
       "      <td>52.823009</td>\n",
       "      <td>24.561947</td>\n",
       "      <td>1.641204</td>\n",
       "      <td>23.653396</td>\n",
       "      <td>1.173516</td>\n",
       "      <td>1.791480</td>\n",
       "    </tr>\n",
       "    <tr>\n",
       "      <th>std</th>\n",
       "      <td>13.172250</td>\n",
       "      <td>0.866625</td>\n",
       "      <td>0.135237</td>\n",
       "      <td>3.525963</td>\n",
       "      <td>15.654235</td>\n",
       "      <td>15.313665</td>\n",
       "      <td>1.356762</td>\n",
       "      <td>30.202785</td>\n",
       "      <td>1.621377</td>\n",
       "      <td>1.428134</td>\n",
       "    </tr>\n",
       "    <tr>\n",
       "      <th>min</th>\n",
       "      <td>9.000000</td>\n",
       "      <td>5.000000</td>\n",
       "      <td>0.500000</td>\n",
       "      <td>15.000000</td>\n",
       "      <td>18.000000</td>\n",
       "      <td>7.000000</td>\n",
       "      <td>0.000000</td>\n",
       "      <td>0.000000</td>\n",
       "      <td>0.000000</td>\n",
       "      <td>0.000000</td>\n",
       "    </tr>\n",
       "    <tr>\n",
       "      <th>25%</th>\n",
       "      <td>29.000000</td>\n",
       "      <td>7.000000</td>\n",
       "      <td>0.697500</td>\n",
       "      <td>20.000000</td>\n",
       "      <td>48.250000</td>\n",
       "      <td>15.000000</td>\n",
       "      <td>1.000000</td>\n",
       "      <td>0.000000</td>\n",
       "      <td>0.000000</td>\n",
       "      <td>0.000000</td>\n",
       "    </tr>\n",
       "    <tr>\n",
       "      <th>50%</th>\n",
       "      <td>40.000000</td>\n",
       "      <td>7.500000</td>\n",
       "      <td>0.820000</td>\n",
       "      <td>22.000000</td>\n",
       "      <td>58.000000</td>\n",
       "      <td>18.000000</td>\n",
       "      <td>1.000000</td>\n",
       "      <td>25.000000</td>\n",
       "      <td>0.000000</td>\n",
       "      <td>2.000000</td>\n",
       "    </tr>\n",
       "    <tr>\n",
       "      <th>75%</th>\n",
       "      <td>52.000000</td>\n",
       "      <td>8.000000</td>\n",
       "      <td>0.900000</td>\n",
       "      <td>25.000000</td>\n",
       "      <td>63.000000</td>\n",
       "      <td>32.500000</td>\n",
       "      <td>3.000000</td>\n",
       "      <td>50.000000</td>\n",
       "      <td>2.000000</td>\n",
       "      <td>3.000000</td>\n",
       "    </tr>\n",
       "    <tr>\n",
       "      <th>max</th>\n",
       "      <td>69.000000</td>\n",
       "      <td>10.000000</td>\n",
       "      <td>0.990000</td>\n",
       "      <td>30.000000</td>\n",
       "      <td>75.000000</td>\n",
       "      <td>63.000000</td>\n",
       "      <td>4.000000</td>\n",
       "      <td>200.000000</td>\n",
       "      <td>5.000000</td>\n",
       "      <td>5.000000</td>\n",
       "    </tr>\n",
       "  </tbody>\n",
       "</table>\n",
       "</div>"
      ],
      "text/plain": [
       "              Age  Sleep duration  Sleep efficiency  REM sleep percentage  \\\n",
       "count  452.000000      452.000000        452.000000            452.000000   \n",
       "mean    40.285398        7.465708          0.788916             22.615044   \n",
       "std     13.172250        0.866625          0.135237              3.525963   \n",
       "min      9.000000        5.000000          0.500000             15.000000   \n",
       "25%     29.000000        7.000000          0.697500             20.000000   \n",
       "50%     40.000000        7.500000          0.820000             22.000000   \n",
       "75%     52.000000        8.000000          0.900000             25.000000   \n",
       "max     69.000000       10.000000          0.990000             30.000000   \n",
       "\n",
       "       Deep sleep percentage  Light sleep percentage  Awakenings  \\\n",
       "count             452.000000              452.000000  432.000000   \n",
       "mean               52.823009               24.561947    1.641204   \n",
       "std                15.654235               15.313665    1.356762   \n",
       "min                18.000000                7.000000    0.000000   \n",
       "25%                48.250000               15.000000    1.000000   \n",
       "50%                58.000000               18.000000    1.000000   \n",
       "75%                63.000000               32.500000    3.000000   \n",
       "max                75.000000               63.000000    4.000000   \n",
       "\n",
       "       Caffeine consumption  Alcohol consumption  Exercise frequency  \n",
       "count            427.000000           438.000000          446.000000  \n",
       "mean              23.653396             1.173516            1.791480  \n",
       "std               30.202785             1.621377            1.428134  \n",
       "min                0.000000             0.000000            0.000000  \n",
       "25%                0.000000             0.000000            0.000000  \n",
       "50%               25.000000             0.000000            2.000000  \n",
       "75%               50.000000             2.000000            3.000000  \n",
       "max              200.000000             5.000000            5.000000  "
      ]
     },
     "execution_count": 67,
     "metadata": {},
     "output_type": "execute_result"
    }
   ],
   "source": [
    "sleep_df.describe()"
   ]
  },
  {
   "cell_type": "code",
   "execution_count": 68,
   "metadata": {},
   "outputs": [
    {
     "name": "stdout",
     "output_type": "stream",
     "text": [
      "<class 'pandas.core.frame.DataFrame'>\n",
      "Index: 452 entries, 1 to 452\n",
      "Data columns (total 14 columns):\n",
      " #   Column                  Non-Null Count  Dtype  \n",
      "---  ------                  --------------  -----  \n",
      " 0   Age                     452 non-null    int64  \n",
      " 1   Gender                  452 non-null    object \n",
      " 2   Bedtime                 452 non-null    object \n",
      " 3   Wakeup time             452 non-null    object \n",
      " 4   Sleep duration          452 non-null    float64\n",
      " 5   Sleep efficiency        452 non-null    float64\n",
      " 6   REM sleep percentage    452 non-null    int64  \n",
      " 7   Deep sleep percentage   452 non-null    int64  \n",
      " 8   Light sleep percentage  452 non-null    int64  \n",
      " 9   Awakenings              432 non-null    float64\n",
      " 10  Caffeine consumption    427 non-null    float64\n",
      " 11  Alcohol consumption     438 non-null    float64\n",
      " 12  Smoking status          452 non-null    object \n",
      " 13  Exercise frequency      446 non-null    float64\n",
      "dtypes: float64(6), int64(4), object(4)\n",
      "memory usage: 53.0+ KB\n"
     ]
    }
   ],
   "source": [
    "sleep_df.info()"
   ]
  },
  {
   "cell_type": "code",
   "execution_count": 69,
   "metadata": {},
   "outputs": [
    {
     "data": {
      "text/html": [
       "<div>\n",
       "<style scoped>\n",
       "    .dataframe tbody tr th:only-of-type {\n",
       "        vertical-align: middle;\n",
       "    }\n",
       "\n",
       "    .dataframe tbody tr th {\n",
       "        vertical-align: top;\n",
       "    }\n",
       "\n",
       "    .dataframe thead th {\n",
       "        text-align: right;\n",
       "    }\n",
       "</style>\n",
       "<table border=\"1\" class=\"dataframe\">\n",
       "  <thead>\n",
       "    <tr style=\"text-align: right;\">\n",
       "      <th></th>\n",
       "      <th>Age</th>\n",
       "      <th>Gender</th>\n",
       "      <th>Bedtime</th>\n",
       "      <th>Wakeup time</th>\n",
       "      <th>Sleep duration</th>\n",
       "      <th>Sleep efficiency</th>\n",
       "      <th>REM sleep percentage</th>\n",
       "      <th>Deep sleep percentage</th>\n",
       "      <th>Light sleep percentage</th>\n",
       "      <th>Awakenings</th>\n",
       "      <th>Caffeine consumption</th>\n",
       "      <th>Alcohol consumption</th>\n",
       "      <th>Smoking status</th>\n",
       "      <th>Exercise frequency</th>\n",
       "      <th>Sleep Quality</th>\n",
       "    </tr>\n",
       "    <tr>\n",
       "      <th>ID</th>\n",
       "      <th></th>\n",
       "      <th></th>\n",
       "      <th></th>\n",
       "      <th></th>\n",
       "      <th></th>\n",
       "      <th></th>\n",
       "      <th></th>\n",
       "      <th></th>\n",
       "      <th></th>\n",
       "      <th></th>\n",
       "      <th></th>\n",
       "      <th></th>\n",
       "      <th></th>\n",
       "      <th></th>\n",
       "      <th></th>\n",
       "    </tr>\n",
       "  </thead>\n",
       "  <tbody>\n",
       "    <tr>\n",
       "      <th>1</th>\n",
       "      <td>65</td>\n",
       "      <td>Female</td>\n",
       "      <td>01:00:00</td>\n",
       "      <td>07:00:00</td>\n",
       "      <td>6.0</td>\n",
       "      <td>0.88</td>\n",
       "      <td>18</td>\n",
       "      <td>70</td>\n",
       "      <td>12</td>\n",
       "      <td>0.0</td>\n",
       "      <td>0.0</td>\n",
       "      <td>0.0</td>\n",
       "      <td>Yes</td>\n",
       "      <td>3.0</td>\n",
       "      <td>86.000000</td>\n",
       "    </tr>\n",
       "    <tr>\n",
       "      <th>2</th>\n",
       "      <td>69</td>\n",
       "      <td>Male</td>\n",
       "      <td>02:00:00</td>\n",
       "      <td>09:00:00</td>\n",
       "      <td>7.0</td>\n",
       "      <td>0.66</td>\n",
       "      <td>19</td>\n",
       "      <td>28</td>\n",
       "      <td>53</td>\n",
       "      <td>3.0</td>\n",
       "      <td>0.0</td>\n",
       "      <td>3.0</td>\n",
       "      <td>Yes</td>\n",
       "      <td>3.0</td>\n",
       "      <td>94.333333</td>\n",
       "    </tr>\n",
       "    <tr>\n",
       "      <th>3</th>\n",
       "      <td>40</td>\n",
       "      <td>Female</td>\n",
       "      <td>21:30:00</td>\n",
       "      <td>05:30:00</td>\n",
       "      <td>8.0</td>\n",
       "      <td>0.89</td>\n",
       "      <td>20</td>\n",
       "      <td>70</td>\n",
       "      <td>10</td>\n",
       "      <td>1.0</td>\n",
       "      <td>0.0</td>\n",
       "      <td>0.0</td>\n",
       "      <td>No</td>\n",
       "      <td>3.0</td>\n",
       "      <td>100.000000</td>\n",
       "    </tr>\n",
       "    <tr>\n",
       "      <th>4</th>\n",
       "      <td>40</td>\n",
       "      <td>Female</td>\n",
       "      <td>02:30:00</td>\n",
       "      <td>08:30:00</td>\n",
       "      <td>6.0</td>\n",
       "      <td>0.51</td>\n",
       "      <td>23</td>\n",
       "      <td>25</td>\n",
       "      <td>52</td>\n",
       "      <td>3.0</td>\n",
       "      <td>50.0</td>\n",
       "      <td>5.0</td>\n",
       "      <td>Yes</td>\n",
       "      <td>1.0</td>\n",
       "      <td>96.000000</td>\n",
       "    </tr>\n",
       "    <tr>\n",
       "      <th>5</th>\n",
       "      <td>57</td>\n",
       "      <td>Male</td>\n",
       "      <td>01:00:00</td>\n",
       "      <td>09:00:00</td>\n",
       "      <td>8.0</td>\n",
       "      <td>0.76</td>\n",
       "      <td>27</td>\n",
       "      <td>55</td>\n",
       "      <td>18</td>\n",
       "      <td>3.0</td>\n",
       "      <td>0.0</td>\n",
       "      <td>3.0</td>\n",
       "      <td>No</td>\n",
       "      <td>3.0</td>\n",
       "      <td>100.000000</td>\n",
       "    </tr>\n",
       "    <tr>\n",
       "      <th>...</th>\n",
       "      <td>...</td>\n",
       "      <td>...</td>\n",
       "      <td>...</td>\n",
       "      <td>...</td>\n",
       "      <td>...</td>\n",
       "      <td>...</td>\n",
       "      <td>...</td>\n",
       "      <td>...</td>\n",
       "      <td>...</td>\n",
       "      <td>...</td>\n",
       "      <td>...</td>\n",
       "      <td>...</td>\n",
       "      <td>...</td>\n",
       "      <td>...</td>\n",
       "      <td>...</td>\n",
       "    </tr>\n",
       "    <tr>\n",
       "      <th>448</th>\n",
       "      <td>27</td>\n",
       "      <td>Female</td>\n",
       "      <td>22:00:00</td>\n",
       "      <td>05:30:00</td>\n",
       "      <td>7.5</td>\n",
       "      <td>0.91</td>\n",
       "      <td>22</td>\n",
       "      <td>57</td>\n",
       "      <td>21</td>\n",
       "      <td>0.0</td>\n",
       "      <td>0.0</td>\n",
       "      <td>0.0</td>\n",
       "      <td>No</td>\n",
       "      <td>5.0</td>\n",
       "      <td>100.000000</td>\n",
       "    </tr>\n",
       "    <tr>\n",
       "      <th>449</th>\n",
       "      <td>52</td>\n",
       "      <td>Male</td>\n",
       "      <td>21:00:00</td>\n",
       "      <td>03:00:00</td>\n",
       "      <td>6.0</td>\n",
       "      <td>0.74</td>\n",
       "      <td>28</td>\n",
       "      <td>57</td>\n",
       "      <td>15</td>\n",
       "      <td>4.0</td>\n",
       "      <td>25.0</td>\n",
       "      <td>0.0</td>\n",
       "      <td>No</td>\n",
       "      <td>3.0</td>\n",
       "      <td>100.000000</td>\n",
       "    </tr>\n",
       "    <tr>\n",
       "      <th>450</th>\n",
       "      <td>40</td>\n",
       "      <td>Female</td>\n",
       "      <td>23:00:00</td>\n",
       "      <td>07:30:00</td>\n",
       "      <td>8.5</td>\n",
       "      <td>0.55</td>\n",
       "      <td>20</td>\n",
       "      <td>32</td>\n",
       "      <td>48</td>\n",
       "      <td>1.0</td>\n",
       "      <td>NaN</td>\n",
       "      <td>3.0</td>\n",
       "      <td>Yes</td>\n",
       "      <td>0.0</td>\n",
       "      <td>100.000000</td>\n",
       "    </tr>\n",
       "    <tr>\n",
       "      <th>451</th>\n",
       "      <td>45</td>\n",
       "      <td>Male</td>\n",
       "      <td>21:00:00</td>\n",
       "      <td>04:00:00</td>\n",
       "      <td>7.0</td>\n",
       "      <td>0.76</td>\n",
       "      <td>18</td>\n",
       "      <td>72</td>\n",
       "      <td>10</td>\n",
       "      <td>3.0</td>\n",
       "      <td>0.0</td>\n",
       "      <td>0.0</td>\n",
       "      <td>No</td>\n",
       "      <td>3.0</td>\n",
       "      <td>92.000000</td>\n",
       "    </tr>\n",
       "    <tr>\n",
       "      <th>452</th>\n",
       "      <td>18</td>\n",
       "      <td>Male</td>\n",
       "      <td>02:30:00</td>\n",
       "      <td>10:00:00</td>\n",
       "      <td>7.5</td>\n",
       "      <td>0.63</td>\n",
       "      <td>22</td>\n",
       "      <td>23</td>\n",
       "      <td>55</td>\n",
       "      <td>1.0</td>\n",
       "      <td>50.0</td>\n",
       "      <td>0.0</td>\n",
       "      <td>No</td>\n",
       "      <td>1.0</td>\n",
       "      <td>100.000000</td>\n",
       "    </tr>\n",
       "  </tbody>\n",
       "</table>\n",
       "<p>452 rows × 15 columns</p>\n",
       "</div>"
      ],
      "text/plain": [
       "     Age  Gender   Bedtime Wakeup time  Sleep duration  Sleep efficiency  \\\n",
       "ID                                                                         \n",
       "1     65  Female  01:00:00    07:00:00             6.0              0.88   \n",
       "2     69    Male  02:00:00    09:00:00             7.0              0.66   \n",
       "3     40  Female  21:30:00    05:30:00             8.0              0.89   \n",
       "4     40  Female  02:30:00    08:30:00             6.0              0.51   \n",
       "5     57    Male  01:00:00    09:00:00             8.0              0.76   \n",
       "..   ...     ...       ...         ...             ...               ...   \n",
       "448   27  Female  22:00:00    05:30:00             7.5              0.91   \n",
       "449   52    Male  21:00:00    03:00:00             6.0              0.74   \n",
       "450   40  Female  23:00:00    07:30:00             8.5              0.55   \n",
       "451   45    Male  21:00:00    04:00:00             7.0              0.76   \n",
       "452   18    Male  02:30:00    10:00:00             7.5              0.63   \n",
       "\n",
       "     REM sleep percentage  Deep sleep percentage  Light sleep percentage  \\\n",
       "ID                                                                         \n",
       "1                      18                     70                      12   \n",
       "2                      19                     28                      53   \n",
       "3                      20                     70                      10   \n",
       "4                      23                     25                      52   \n",
       "5                      27                     55                      18   \n",
       "..                    ...                    ...                     ...   \n",
       "448                    22                     57                      21   \n",
       "449                    28                     57                      15   \n",
       "450                    20                     32                      48   \n",
       "451                    18                     72                      10   \n",
       "452                    22                     23                      55   \n",
       "\n",
       "     Awakenings  Caffeine consumption  Alcohol consumption Smoking status  \\\n",
       "ID                                                                          \n",
       "1           0.0                   0.0                  0.0            Yes   \n",
       "2           3.0                   0.0                  3.0            Yes   \n",
       "3           1.0                   0.0                  0.0             No   \n",
       "4           3.0                  50.0                  5.0            Yes   \n",
       "5           3.0                   0.0                  3.0             No   \n",
       "..          ...                   ...                  ...            ...   \n",
       "448         0.0                   0.0                  0.0             No   \n",
       "449         4.0                  25.0                  0.0             No   \n",
       "450         1.0                   NaN                  3.0            Yes   \n",
       "451         3.0                   0.0                  0.0             No   \n",
       "452         1.0                  50.0                  0.0             No   \n",
       "\n",
       "     Exercise frequency  Sleep Quality  \n",
       "ID                                      \n",
       "1                   3.0      86.000000  \n",
       "2                   3.0      94.333333  \n",
       "3                   3.0     100.000000  \n",
       "4                   1.0      96.000000  \n",
       "5                   3.0     100.000000  \n",
       "..                  ...            ...  \n",
       "448                 5.0     100.000000  \n",
       "449                 3.0     100.000000  \n",
       "450                 0.0     100.000000  \n",
       "451                 3.0      92.000000  \n",
       "452                 1.0     100.000000  \n",
       "\n",
       "[452 rows x 15 columns]"
      ]
     },
     "execution_count": 69,
     "metadata": {},
     "output_type": "execute_result"
    }
   ],
   "source": [
    "sleep_df[\"Sleep Quality\"] = sleep_df.apply(\n",
    "    lambda row: (\n",
    "        min((row[\"Sleep duration\"] * row[\"REM sleep percentage\"] / 100) / 1.5, 1)\n",
    "        + min((row[\"Sleep duration\"] * row[\"Deep sleep percentage\"] / 100) / 1.5, 1)\n",
    "    )\n",
    "    / 2 * 100,\n",
    "    axis=1,\n",
    ")\n",
    "sleep_df"
   ]
  },
  {
   "cell_type": "markdown",
   "metadata": {},
   "source": [
    "## Exploratory Data Analysis\n",
    "\n"
   ]
  },
  {
   "cell_type": "code",
   "execution_count": 70,
   "metadata": {},
   "outputs": [
    {
     "data": {
      "application/vnd.plotly.v1+json": {
       "config": {
        "plotlyServerURL": "https://plot.ly"
       },
       "data": [
        {
         "hovertemplate": "Bedtime=%{x}<br>Sleep Quality=%{y}<extra></extra>",
         "legendgroup": "",
         "marker": {
          "color": "#636efa",
          "symbol": "circle"
         },
         "mode": "markers",
         "name": "",
         "orientation": "v",
         "showlegend": false,
         "type": "scatter",
         "x": [
          "01:00:00",
          "02:00:00",
          "21:30:00",
          "02:30:00",
          "01:00:00",
          "21:00:00",
          "21:00:00",
          "00:30:00",
          "02:30:00",
          "01:00:00",
          "00:30:00",
          "22:30:00",
          "02:30:00",
          "01:00:00",
          "01:30:00",
          "22:00:00",
          "01:00:00",
          "23:00:00",
          "00:00:00",
          "00:30:00",
          "00:00:00",
          "02:30:00",
          "22:00:00",
          "02:30:00",
          "00:00:00",
          "00:00:00",
          "00:00:00",
          "02:30:00",
          "21:30:00",
          "22:30:00",
          "00:00:00",
          "00:30:00",
          "00:00:00",
          "00:30:00",
          "21:30:00",
          "01:00:00",
          "22:00:00",
          "00:00:00",
          "00:00:00",
          "02:00:00",
          "22:00:00",
          "01:30:00",
          "00:00:00",
          "22:30:00",
          "23:00:00",
          "01:30:00",
          "00:00:00",
          "00:00:00",
          "00:00:00",
          "21:30:00",
          "22:00:00",
          "02:30:00",
          "01:00:00",
          "01:00:00",
          "01:30:00",
          "22:00:00",
          "01:00:00",
          "02:00:00",
          "01:30:00",
          "21:00:00",
          "02:30:00",
          "22:30:00",
          "21:00:00",
          "21:00:00",
          "01:30:00",
          "01:00:00",
          "00:00:00",
          "01:30:00",
          "00:00:00",
          "22:00:00",
          "02:30:00",
          "23:00:00",
          "21:30:00",
          "02:30:00",
          "22:00:00",
          "00:30:00",
          "21:00:00",
          "02:00:00",
          "22:00:00",
          "02:30:00",
          "01:30:00",
          "21:00:00",
          "02:00:00",
          "22:30:00",
          "22:00:00",
          "23:00:00",
          "00:00:00",
          "00:00:00",
          "02:00:00",
          "00:00:00",
          "02:30:00",
          "21:30:00",
          "21:00:00",
          "22:00:00",
          "00:00:00",
          "02:00:00",
          "21:00:00",
          "23:00:00",
          "02:00:00",
          "01:30:00",
          "00:30:00",
          "01:00:00",
          "00:00:00",
          "23:00:00",
          "23:00:00",
          "22:00:00",
          "21:00:00",
          "00:30:00",
          "23:00:00",
          "00:30:00",
          "00:30:00",
          "23:00:00",
          "23:00:00",
          "01:30:00",
          "00:30:00",
          "00:00:00",
          "00:30:00",
          "21:30:00",
          "22:30:00",
          "21:30:00",
          "22:30:00",
          "01:00:00",
          "00:00:00",
          "01:30:00",
          "02:00:00",
          "22:30:00",
          "00:00:00",
          "23:00:00",
          "23:00:00",
          "21:00:00",
          "00:30:00",
          "00:30:00",
          "22:00:00",
          "21:30:00",
          "23:00:00",
          "00:00:00",
          "00:30:00",
          "02:00:00",
          "02:30:00",
          "00:00:00",
          "22:00:00",
          "21:00:00",
          "22:00:00",
          "21:30:00",
          "02:00:00",
          "01:30:00",
          "23:00:00",
          "00:00:00",
          "21:00:00",
          "02:30:00",
          "01:00:00",
          "23:00:00",
          "23:00:00",
          "02:30:00",
          "02:00:00",
          "01:30:00",
          "21:30:00",
          "21:00:00",
          "01:00:00",
          "00:30:00",
          "02:30:00",
          "21:00:00",
          "22:00:00",
          "00:30:00",
          "02:00:00",
          "22:00:00",
          "23:00:00",
          "22:00:00",
          "23:00:00",
          "01:30:00",
          "21:30:00",
          "21:00:00",
          "23:00:00",
          "02:00:00",
          "22:30:00",
          "22:00:00",
          "02:00:00",
          "02:00:00",
          "00:30:00",
          "23:00:00",
          "02:30:00",
          "21:30:00",
          "21:30:00",
          "00:00:00",
          "21:00:00",
          "23:00:00",
          "00:00:00",
          "00:00:00",
          "02:30:00",
          "01:00:00",
          "00:00:00",
          "22:30:00",
          "00:00:00",
          "02:00:00",
          "21:00:00",
          "02:00:00",
          "00:00:00",
          "02:30:00",
          "01:30:00",
          "22:30:00",
          "00:00:00",
          "02:00:00",
          "00:30:00",
          "23:00:00",
          "22:30:00",
          "21:30:00",
          "01:30:00",
          "02:00:00",
          "22:00:00",
          "02:00:00",
          "00:00:00",
          "01:00:00",
          "23:00:00",
          "00:00:00",
          "00:30:00",
          "23:00:00",
          "21:00:00",
          "00:00:00",
          "01:00:00",
          "01:00:00",
          "21:00:00",
          "23:00:00",
          "00:00:00",
          "02:00:00",
          "23:00:00",
          "01:00:00",
          "22:00:00",
          "21:30:00",
          "00:00:00",
          "22:30:00",
          "01:30:00",
          "23:00:00",
          "23:00:00",
          "01:30:00",
          "01:00:00",
          "21:00:00",
          "21:30:00",
          "01:30:00",
          "01:30:00",
          "22:00:00",
          "22:30:00",
          "00:30:00",
          "02:30:00",
          "00:00:00",
          "22:00:00",
          "01:00:00",
          "22:00:00",
          "22:00:00",
          "00:00:00",
          "00:30:00",
          "21:30:00",
          "00:30:00",
          "02:30:00",
          "21:00:00",
          "01:30:00",
          "02:00:00",
          "00:00:00",
          "22:00:00",
          "22:00:00",
          "21:30:00",
          "22:00:00",
          "22:00:00",
          "21:00:00",
          "00:00:00",
          "22:00:00",
          "02:00:00",
          "00:00:00",
          "22:30:00",
          "01:00:00",
          "00:00:00",
          "00:00:00",
          "21:30:00",
          "01:00:00",
          "00:30:00",
          "22:00:00",
          "23:00:00",
          "22:00:00",
          "21:30:00",
          "02:30:00",
          "22:00:00",
          "00:00:00",
          "02:00:00",
          "21:00:00",
          "23:00:00",
          "02:00:00",
          "23:00:00",
          "22:00:00",
          "21:30:00",
          "23:00:00",
          "22:00:00",
          "22:30:00",
          "21:30:00",
          "22:00:00",
          "22:00:00",
          "23:00:00",
          "01:00:00",
          "00:00:00",
          "00:30:00",
          "23:00:00",
          "21:30:00",
          "22:30:00",
          "00:00:00",
          "00:00:00",
          "02:30:00",
          "00:00:00",
          "00:30:00",
          "21:00:00",
          "00:30:00",
          "01:00:00",
          "21:00:00",
          "23:00:00",
          "22:00:00",
          "01:00:00",
          "23:00:00",
          "22:30:00",
          "22:00:00",
          "00:00:00",
          "21:00:00",
          "00:00:00",
          "00:00:00",
          "23:00:00",
          "23:00:00",
          "21:00:00",
          "00:00:00",
          "01:30:00",
          "01:00:00",
          "00:00:00",
          "23:00:00",
          "22:00:00",
          "00:00:00",
          "22:30:00",
          "21:30:00",
          "01:00:00",
          "22:00:00",
          "23:00:00",
          "00:30:00",
          "22:00:00",
          "22:30:00",
          "02:30:00",
          "22:00:00",
          "22:30:00",
          "00:00:00",
          "01:00:00",
          "02:30:00",
          "21:30:00",
          "00:00:00",
          "22:30:00",
          "00:00:00",
          "01:30:00",
          "21:30:00",
          "21:30:00",
          "00:00:00",
          "21:00:00",
          "22:00:00",
          "22:00:00",
          "02:30:00",
          "22:30:00",
          "00:00:00",
          "22:00:00",
          "01:00:00",
          "00:00:00",
          "00:00:00",
          "23:00:00",
          "01:30:00",
          "00:30:00",
          "01:30:00",
          "23:00:00",
          "02:30:00",
          "01:30:00",
          "01:30:00",
          "22:00:00",
          "02:30:00",
          "22:00:00",
          "23:00:00",
          "01:30:00",
          "02:00:00",
          "22:30:00",
          "00:00:00",
          "00:00:00",
          "22:00:00",
          "21:30:00",
          "23:00:00",
          "21:00:00",
          "22:00:00",
          "21:00:00",
          "00:00:00",
          "02:30:00",
          "21:00:00",
          "00:00:00",
          "23:00:00",
          "23:00:00",
          "00:30:00",
          "23:00:00",
          "21:30:00",
          "02:00:00",
          "21:30:00",
          "01:30:00",
          "02:00:00",
          "01:00:00",
          "02:30:00",
          "21:30:00",
          "01:30:00",
          "22:00:00",
          "21:30:00",
          "02:30:00",
          "02:00:00",
          "22:30:00",
          "00:30:00",
          "00:00:00",
          "23:00:00",
          "02:00:00",
          "00:00:00",
          "01:00:00",
          "00:30:00",
          "00:00:00",
          "00:00:00",
          "22:00:00",
          "22:00:00",
          "22:00:00",
          "00:30:00",
          "21:30:00",
          "22:30:00",
          "21:00:00",
          "00:30:00",
          "00:00:00",
          "21:00:00",
          "23:00:00",
          "23:00:00",
          "01:00:00",
          "22:30:00",
          "00:30:00",
          "23:00:00",
          "01:00:00",
          "21:00:00",
          "23:00:00",
          "22:00:00",
          "21:30:00",
          "01:00:00",
          "01:30:00",
          "23:00:00",
          "21:00:00",
          "00:00:00",
          "01:30:00",
          "02:00:00",
          "00:00:00",
          "23:00:00",
          "00:00:00",
          "22:00:00",
          "21:00:00",
          "23:00:00",
          "21:00:00",
          "02:30:00"
         ],
         "xaxis": "x",
         "y": [
          86.00000000000001,
          94.33333333333334,
          100,
          96,
          100,
          100,
          100,
          100,
          100,
          100,
          100,
          95,
          100,
          100,
          100,
          100,
          100,
          95,
          100,
          100,
          89.99999999999999,
          100,
          100,
          100,
          85.00000000000001,
          86.00000000000001,
          100,
          100,
          100,
          96.66666666666666,
          96.66666666666666,
          100,
          100,
          100,
          100,
          100,
          92,
          100,
          100,
          100,
          94,
          89.99999999999999,
          100,
          100,
          100,
          94.33333333333334,
          100,
          100,
          100,
          100,
          100,
          100,
          100,
          100,
          95,
          100,
          100,
          100,
          100,
          100,
          100,
          92,
          89.99999999999999,
          100,
          100,
          100,
          85.00000000000001,
          95,
          92,
          89.99999999999999,
          100,
          92,
          89.99999999999999,
          100,
          100,
          100,
          100,
          100,
          96.66666666666666,
          100,
          100,
          87.5,
          100,
          100,
          88,
          95,
          100,
          100,
          100,
          100,
          89.99999999999999,
          100,
          92,
          100,
          100,
          96.66666666666666,
          100,
          100,
          100,
          100,
          100,
          100,
          100,
          89.99999999999999,
          100,
          100,
          96.66666666666666,
          100,
          100,
          100,
          88.33333333333333,
          96.66666666666666,
          89.99999999999999,
          89.99999999999999,
          100,
          96.66666666666666,
          100,
          100,
          96.66666666666666,
          96.66666666666666,
          89.99999999999999,
          100,
          100,
          100,
          96.66666666666666,
          100,
          100,
          100,
          100,
          92,
          100,
          100,
          100,
          98,
          100,
          96.66666666666666,
          94.33333333333334,
          100,
          100,
          100,
          100,
          96,
          100,
          100,
          100,
          100,
          98,
          100,
          100,
          100,
          100,
          100,
          95,
          100,
          100,
          100,
          100,
          100,
          92,
          100,
          100,
          100,
          100,
          100,
          100,
          100,
          96.66666666666666,
          100,
          100,
          100,
          100,
          100,
          100,
          100,
          100,
          92,
          100,
          100,
          100,
          89.99999999999999,
          100,
          100,
          100,
          100,
          100,
          100,
          96.66666666666666,
          92,
          100,
          96.66666666666666,
          95,
          100,
          85.00000000000001,
          96.66666666666666,
          100,
          100,
          100,
          98,
          83.33333333333333,
          100,
          100,
          100,
          86.00000000000001,
          100,
          96.66666666666666,
          89.99999999999999,
          96.66666666666666,
          96.66666666666666,
          100,
          100,
          100,
          92,
          87.5,
          91.66666666666667,
          100,
          100,
          100,
          100,
          100,
          98,
          100,
          100,
          100,
          100,
          100,
          100,
          100,
          96.66666666666666,
          100,
          100,
          100,
          100,
          86.66666666666667,
          100,
          100,
          100,
          100,
          100,
          100,
          100,
          92,
          100,
          100,
          100,
          100,
          100,
          100,
          98,
          100,
          100,
          92,
          100,
          96.66666666666666,
          100,
          96.66666666666666,
          96.66666666666666,
          96.66666666666666,
          89.99999999999999,
          98,
          100,
          100,
          100,
          100,
          100,
          100,
          95,
          96.66666666666666,
          100,
          100,
          100,
          100,
          100,
          100,
          100,
          100,
          99,
          98,
          100,
          100,
          96.66666666666666,
          100,
          100,
          100,
          100,
          100,
          89.99999999999999,
          98,
          100,
          96.66666666666666,
          100,
          98,
          100,
          89.99999999999999,
          100,
          96.66666666666666,
          100,
          100,
          100,
          100,
          100,
          100,
          100,
          100,
          100,
          89.99999999999999,
          88.33333333333333,
          98,
          100,
          96.66666666666666,
          100,
          100,
          100,
          100,
          96.66666666666666,
          100,
          100,
          100,
          100,
          100,
          85.00000000000001,
          96.66666666666666,
          100,
          100,
          100,
          86.00000000000001,
          100,
          100,
          100,
          100,
          100,
          80.66666666666666,
          98,
          100,
          100,
          100,
          100,
          100,
          100,
          100,
          90.33333333333333,
          96.66666666666666,
          100,
          100,
          100,
          100,
          100,
          85.00000000000001,
          98,
          100,
          100,
          96.66666666666666,
          97.50000000000001,
          100,
          100,
          100,
          100,
          100,
          100,
          96.66666666666666,
          100,
          100,
          100,
          100,
          100,
          100,
          100,
          100,
          86.66666666666667,
          100,
          89.99999999999999,
          96.66666666666666,
          96.66666666666666,
          100,
          100,
          100,
          100,
          100,
          100,
          92,
          100,
          96.66666666666666,
          100,
          100,
          100,
          92,
          100,
          96.66666666666666,
          100,
          100,
          100,
          95,
          80,
          96.66666666666666,
          100,
          100,
          100,
          92,
          100,
          100,
          100,
          100,
          100,
          98,
          100,
          92,
          90.33333333333333,
          96.66666666666666,
          100,
          100,
          100,
          92,
          96.66666666666666,
          92,
          100,
          100,
          100,
          100,
          96.66666666666666,
          100,
          100,
          96.66666666666666,
          100,
          96.66666666666666,
          100,
          89.99999999999999,
          100,
          92,
          100,
          100,
          100,
          100,
          100,
          100,
          100,
          100,
          100,
          100,
          100,
          100,
          100,
          100,
          100,
          100,
          100,
          100,
          100,
          85.00000000000001,
          100,
          100,
          100,
          92,
          100
         ],
         "yaxis": "y"
        }
       ],
       "layout": {
        "legend": {
         "tracegroupgap": 0
        },
        "margin": {
         "t": 60
        },
        "template": {
         "data": {
          "bar": [
           {
            "error_x": {
             "color": "#2a3f5f"
            },
            "error_y": {
             "color": "#2a3f5f"
            },
            "marker": {
             "line": {
              "color": "#E5ECF6",
              "width": 0.5
             },
             "pattern": {
              "fillmode": "overlay",
              "size": 10,
              "solidity": 0.2
             }
            },
            "type": "bar"
           }
          ],
          "barpolar": [
           {
            "marker": {
             "line": {
              "color": "#E5ECF6",
              "width": 0.5
             },
             "pattern": {
              "fillmode": "overlay",
              "size": 10,
              "solidity": 0.2
             }
            },
            "type": "barpolar"
           }
          ],
          "carpet": [
           {
            "aaxis": {
             "endlinecolor": "#2a3f5f",
             "gridcolor": "white",
             "linecolor": "white",
             "minorgridcolor": "white",
             "startlinecolor": "#2a3f5f"
            },
            "baxis": {
             "endlinecolor": "#2a3f5f",
             "gridcolor": "white",
             "linecolor": "white",
             "minorgridcolor": "white",
             "startlinecolor": "#2a3f5f"
            },
            "type": "carpet"
           }
          ],
          "choropleth": [
           {
            "colorbar": {
             "outlinewidth": 0,
             "ticks": ""
            },
            "type": "choropleth"
           }
          ],
          "contour": [
           {
            "colorbar": {
             "outlinewidth": 0,
             "ticks": ""
            },
            "colorscale": [
             [
              0,
              "#0d0887"
             ],
             [
              0.1111111111111111,
              "#46039f"
             ],
             [
              0.2222222222222222,
              "#7201a8"
             ],
             [
              0.3333333333333333,
              "#9c179e"
             ],
             [
              0.4444444444444444,
              "#bd3786"
             ],
             [
              0.5555555555555556,
              "#d8576b"
             ],
             [
              0.6666666666666666,
              "#ed7953"
             ],
             [
              0.7777777777777778,
              "#fb9f3a"
             ],
             [
              0.8888888888888888,
              "#fdca26"
             ],
             [
              1,
              "#f0f921"
             ]
            ],
            "type": "contour"
           }
          ],
          "contourcarpet": [
           {
            "colorbar": {
             "outlinewidth": 0,
             "ticks": ""
            },
            "type": "contourcarpet"
           }
          ],
          "heatmap": [
           {
            "colorbar": {
             "outlinewidth": 0,
             "ticks": ""
            },
            "colorscale": [
             [
              0,
              "#0d0887"
             ],
             [
              0.1111111111111111,
              "#46039f"
             ],
             [
              0.2222222222222222,
              "#7201a8"
             ],
             [
              0.3333333333333333,
              "#9c179e"
             ],
             [
              0.4444444444444444,
              "#bd3786"
             ],
             [
              0.5555555555555556,
              "#d8576b"
             ],
             [
              0.6666666666666666,
              "#ed7953"
             ],
             [
              0.7777777777777778,
              "#fb9f3a"
             ],
             [
              0.8888888888888888,
              "#fdca26"
             ],
             [
              1,
              "#f0f921"
             ]
            ],
            "type": "heatmap"
           }
          ],
          "heatmapgl": [
           {
            "colorbar": {
             "outlinewidth": 0,
             "ticks": ""
            },
            "colorscale": [
             [
              0,
              "#0d0887"
             ],
             [
              0.1111111111111111,
              "#46039f"
             ],
             [
              0.2222222222222222,
              "#7201a8"
             ],
             [
              0.3333333333333333,
              "#9c179e"
             ],
             [
              0.4444444444444444,
              "#bd3786"
             ],
             [
              0.5555555555555556,
              "#d8576b"
             ],
             [
              0.6666666666666666,
              "#ed7953"
             ],
             [
              0.7777777777777778,
              "#fb9f3a"
             ],
             [
              0.8888888888888888,
              "#fdca26"
             ],
             [
              1,
              "#f0f921"
             ]
            ],
            "type": "heatmapgl"
           }
          ],
          "histogram": [
           {
            "marker": {
             "pattern": {
              "fillmode": "overlay",
              "size": 10,
              "solidity": 0.2
             }
            },
            "type": "histogram"
           }
          ],
          "histogram2d": [
           {
            "colorbar": {
             "outlinewidth": 0,
             "ticks": ""
            },
            "colorscale": [
             [
              0,
              "#0d0887"
             ],
             [
              0.1111111111111111,
              "#46039f"
             ],
             [
              0.2222222222222222,
              "#7201a8"
             ],
             [
              0.3333333333333333,
              "#9c179e"
             ],
             [
              0.4444444444444444,
              "#bd3786"
             ],
             [
              0.5555555555555556,
              "#d8576b"
             ],
             [
              0.6666666666666666,
              "#ed7953"
             ],
             [
              0.7777777777777778,
              "#fb9f3a"
             ],
             [
              0.8888888888888888,
              "#fdca26"
             ],
             [
              1,
              "#f0f921"
             ]
            ],
            "type": "histogram2d"
           }
          ],
          "histogram2dcontour": [
           {
            "colorbar": {
             "outlinewidth": 0,
             "ticks": ""
            },
            "colorscale": [
             [
              0,
              "#0d0887"
             ],
             [
              0.1111111111111111,
              "#46039f"
             ],
             [
              0.2222222222222222,
              "#7201a8"
             ],
             [
              0.3333333333333333,
              "#9c179e"
             ],
             [
              0.4444444444444444,
              "#bd3786"
             ],
             [
              0.5555555555555556,
              "#d8576b"
             ],
             [
              0.6666666666666666,
              "#ed7953"
             ],
             [
              0.7777777777777778,
              "#fb9f3a"
             ],
             [
              0.8888888888888888,
              "#fdca26"
             ],
             [
              1,
              "#f0f921"
             ]
            ],
            "type": "histogram2dcontour"
           }
          ],
          "mesh3d": [
           {
            "colorbar": {
             "outlinewidth": 0,
             "ticks": ""
            },
            "type": "mesh3d"
           }
          ],
          "parcoords": [
           {
            "line": {
             "colorbar": {
              "outlinewidth": 0,
              "ticks": ""
             }
            },
            "type": "parcoords"
           }
          ],
          "pie": [
           {
            "automargin": true,
            "type": "pie"
           }
          ],
          "scatter": [
           {
            "fillpattern": {
             "fillmode": "overlay",
             "size": 10,
             "solidity": 0.2
            },
            "type": "scatter"
           }
          ],
          "scatter3d": [
           {
            "line": {
             "colorbar": {
              "outlinewidth": 0,
              "ticks": ""
             }
            },
            "marker": {
             "colorbar": {
              "outlinewidth": 0,
              "ticks": ""
             }
            },
            "type": "scatter3d"
           }
          ],
          "scattercarpet": [
           {
            "marker": {
             "colorbar": {
              "outlinewidth": 0,
              "ticks": ""
             }
            },
            "type": "scattercarpet"
           }
          ],
          "scattergeo": [
           {
            "marker": {
             "colorbar": {
              "outlinewidth": 0,
              "ticks": ""
             }
            },
            "type": "scattergeo"
           }
          ],
          "scattergl": [
           {
            "marker": {
             "colorbar": {
              "outlinewidth": 0,
              "ticks": ""
             }
            },
            "type": "scattergl"
           }
          ],
          "scattermapbox": [
           {
            "marker": {
             "colorbar": {
              "outlinewidth": 0,
              "ticks": ""
             }
            },
            "type": "scattermapbox"
           }
          ],
          "scatterpolar": [
           {
            "marker": {
             "colorbar": {
              "outlinewidth": 0,
              "ticks": ""
             }
            },
            "type": "scatterpolar"
           }
          ],
          "scatterpolargl": [
           {
            "marker": {
             "colorbar": {
              "outlinewidth": 0,
              "ticks": ""
             }
            },
            "type": "scatterpolargl"
           }
          ],
          "scatterternary": [
           {
            "marker": {
             "colorbar": {
              "outlinewidth": 0,
              "ticks": ""
             }
            },
            "type": "scatterternary"
           }
          ],
          "surface": [
           {
            "colorbar": {
             "outlinewidth": 0,
             "ticks": ""
            },
            "colorscale": [
             [
              0,
              "#0d0887"
             ],
             [
              0.1111111111111111,
              "#46039f"
             ],
             [
              0.2222222222222222,
              "#7201a8"
             ],
             [
              0.3333333333333333,
              "#9c179e"
             ],
             [
              0.4444444444444444,
              "#bd3786"
             ],
             [
              0.5555555555555556,
              "#d8576b"
             ],
             [
              0.6666666666666666,
              "#ed7953"
             ],
             [
              0.7777777777777778,
              "#fb9f3a"
             ],
             [
              0.8888888888888888,
              "#fdca26"
             ],
             [
              1,
              "#f0f921"
             ]
            ],
            "type": "surface"
           }
          ],
          "table": [
           {
            "cells": {
             "fill": {
              "color": "#EBF0F8"
             },
             "line": {
              "color": "white"
             }
            },
            "header": {
             "fill": {
              "color": "#C8D4E3"
             },
             "line": {
              "color": "white"
             }
            },
            "type": "table"
           }
          ]
         },
         "layout": {
          "annotationdefaults": {
           "arrowcolor": "#2a3f5f",
           "arrowhead": 0,
           "arrowwidth": 1
          },
          "autotypenumbers": "strict",
          "coloraxis": {
           "colorbar": {
            "outlinewidth": 0,
            "ticks": ""
           }
          },
          "colorscale": {
           "diverging": [
            [
             0,
             "#8e0152"
            ],
            [
             0.1,
             "#c51b7d"
            ],
            [
             0.2,
             "#de77ae"
            ],
            [
             0.3,
             "#f1b6da"
            ],
            [
             0.4,
             "#fde0ef"
            ],
            [
             0.5,
             "#f7f7f7"
            ],
            [
             0.6,
             "#e6f5d0"
            ],
            [
             0.7,
             "#b8e186"
            ],
            [
             0.8,
             "#7fbc41"
            ],
            [
             0.9,
             "#4d9221"
            ],
            [
             1,
             "#276419"
            ]
           ],
           "sequential": [
            [
             0,
             "#0d0887"
            ],
            [
             0.1111111111111111,
             "#46039f"
            ],
            [
             0.2222222222222222,
             "#7201a8"
            ],
            [
             0.3333333333333333,
             "#9c179e"
            ],
            [
             0.4444444444444444,
             "#bd3786"
            ],
            [
             0.5555555555555556,
             "#d8576b"
            ],
            [
             0.6666666666666666,
             "#ed7953"
            ],
            [
             0.7777777777777778,
             "#fb9f3a"
            ],
            [
             0.8888888888888888,
             "#fdca26"
            ],
            [
             1,
             "#f0f921"
            ]
           ],
           "sequentialminus": [
            [
             0,
             "#0d0887"
            ],
            [
             0.1111111111111111,
             "#46039f"
            ],
            [
             0.2222222222222222,
             "#7201a8"
            ],
            [
             0.3333333333333333,
             "#9c179e"
            ],
            [
             0.4444444444444444,
             "#bd3786"
            ],
            [
             0.5555555555555556,
             "#d8576b"
            ],
            [
             0.6666666666666666,
             "#ed7953"
            ],
            [
             0.7777777777777778,
             "#fb9f3a"
            ],
            [
             0.8888888888888888,
             "#fdca26"
            ],
            [
             1,
             "#f0f921"
            ]
           ]
          },
          "colorway": [
           "#636efa",
           "#EF553B",
           "#00cc96",
           "#ab63fa",
           "#FFA15A",
           "#19d3f3",
           "#FF6692",
           "#B6E880",
           "#FF97FF",
           "#FECB52"
          ],
          "font": {
           "color": "#2a3f5f"
          },
          "geo": {
           "bgcolor": "white",
           "lakecolor": "white",
           "landcolor": "#E5ECF6",
           "showlakes": true,
           "showland": true,
           "subunitcolor": "white"
          },
          "hoverlabel": {
           "align": "left"
          },
          "hovermode": "closest",
          "mapbox": {
           "style": "light"
          },
          "paper_bgcolor": "white",
          "plot_bgcolor": "#E5ECF6",
          "polar": {
           "angularaxis": {
            "gridcolor": "white",
            "linecolor": "white",
            "ticks": ""
           },
           "bgcolor": "#E5ECF6",
           "radialaxis": {
            "gridcolor": "white",
            "linecolor": "white",
            "ticks": ""
           }
          },
          "scene": {
           "xaxis": {
            "backgroundcolor": "#E5ECF6",
            "gridcolor": "white",
            "gridwidth": 2,
            "linecolor": "white",
            "showbackground": true,
            "ticks": "",
            "zerolinecolor": "white"
           },
           "yaxis": {
            "backgroundcolor": "#E5ECF6",
            "gridcolor": "white",
            "gridwidth": 2,
            "linecolor": "white",
            "showbackground": true,
            "ticks": "",
            "zerolinecolor": "white"
           },
           "zaxis": {
            "backgroundcolor": "#E5ECF6",
            "gridcolor": "white",
            "gridwidth": 2,
            "linecolor": "white",
            "showbackground": true,
            "ticks": "",
            "zerolinecolor": "white"
           }
          },
          "shapedefaults": {
           "line": {
            "color": "#2a3f5f"
           }
          },
          "ternary": {
           "aaxis": {
            "gridcolor": "white",
            "linecolor": "white",
            "ticks": ""
           },
           "baxis": {
            "gridcolor": "white",
            "linecolor": "white",
            "ticks": ""
           },
           "bgcolor": "#E5ECF6",
           "caxis": {
            "gridcolor": "white",
            "linecolor": "white",
            "ticks": ""
           }
          },
          "title": {
           "x": 0.05
          },
          "xaxis": {
           "automargin": true,
           "gridcolor": "white",
           "linecolor": "white",
           "ticks": "",
           "title": {
            "standoff": 15
           },
           "zerolinecolor": "white",
           "zerolinewidth": 2
          },
          "yaxis": {
           "automargin": true,
           "gridcolor": "white",
           "linecolor": "white",
           "ticks": "",
           "title": {
            "standoff": 15
           },
           "zerolinecolor": "white",
           "zerolinewidth": 2
          }
         }
        },
        "xaxis": {
         "anchor": "y",
         "domain": [
          0,
          1
         ],
         "title": {
          "text": "Bedtime"
         }
        },
        "yaxis": {
         "anchor": "x",
         "domain": [
          0,
          1
         ],
         "title": {
          "text": "Sleep Quality"
         }
        }
       }
      }
     },
     "metadata": {},
     "output_type": "display_data"
    },
    {
     "data": {
      "application/vnd.plotly.v1+json": {
       "config": {
        "plotlyServerURL": "https://plot.ly"
       },
       "data": [
        {
         "hovertemplate": "Wakeup time=%{x}<br>Sleep Quality=%{y}<extra></extra>",
         "legendgroup": "",
         "marker": {
          "color": "#636efa",
          "symbol": "circle"
         },
         "mode": "markers",
         "name": "",
         "orientation": "v",
         "showlegend": false,
         "type": "scatter",
         "x": [
          "07:00:00",
          "09:00:00",
          "05:30:00",
          "08:30:00",
          "09:00:00",
          "04:30:00",
          "03:00:00",
          "10:30:00",
          "08:30:00",
          "10:00:00",
          "08:30:00",
          "06:00:00",
          "11:30:00",
          "09:30:00",
          "10:00:00",
          "05:30:00",
          "08:00:00",
          "06:30:00",
          "09:00:00",
          "07:30:00",
          "08:00:00",
          "10:00:00",
          "06:00:00",
          "10:30:00",
          "07:00:00",
          "06:00:00",
          "07:00:00",
          "09:30:00",
          "06:30:00",
          "05:30:00",
          "07:00:00",
          "08:30:00",
          "07:00:00",
          "07:30:00",
          "05:00:00",
          "08:00:00",
          "05:00:00",
          "09:00:00",
          "07:30:00",
          "09:00:00",
          "04:00:00",
          "07:30:00",
          "10:00:00",
          "06:00:00",
          "07:00:00",
          "08:30:00",
          "08:00:00",
          "07:30:00",
          "08:00:00",
          "04:30:00",
          "05:00:00",
          "10:00:00",
          "09:30:00",
          "09:30:00",
          "09:00:00",
          "07:00:00",
          "09:00:00",
          "09:30:00",
          "08:30:00",
          "04:30:00",
          "10:00:00",
          "05:30:00",
          "05:00:00",
          "04:30:00",
          "09:00:00",
          "09:00:00",
          "07:00:00",
          "09:00:00",
          "07:00:00",
          "04:00:00",
          "10:00:00",
          "06:00:00",
          "03:30:00",
          "10:00:00",
          "05:00:00",
          "09:00:00",
          "04:00:00",
          "11:00:00",
          "05:00:00",
          "10:00:00",
          "10:00:00",
          "04:30:00",
          "09:30:00",
          "06:30:00",
          "04:00:00",
          "06:30:00",
          "07:00:00",
          "07:00:00",
          "09:30:00",
          "07:30:00",
          "07:30:00",
          "05:30:00",
          "04:00:00",
          "05:00:00",
          "07:30:00",
          "09:00:00",
          "04:00:00",
          "06:30:00",
          "11:00:00",
          "09:30:00",
          "08:30:00",
          "09:30:00",
          "08:00:00",
          "05:00:00",
          "05:00:00",
          "06:00:00",
          "04:00:00",
          "09:00:00",
          "07:00:00",
          "08:00:00",
          "05:30:00",
          "06:00:00",
          "07:00:00",
          "07:30:00",
          "09:00:00",
          "07:00:00",
          "08:30:00",
          "05:30:00",
          "05:30:00",
          "04:30:00",
          "04:30:00",
          "09:00:00",
          "07:00:00",
          "10:00:00",
          "09:00:00",
          "06:30:00",
          "07:00:00",
          "06:00:00",
          "08:00:00",
          "04:00:00",
          "08:30:00",
          "08:30:00",
          "05:30:00",
          "05:30:00",
          "06:00:00",
          "07:00:00",
          "07:30:00",
          "09:00:00",
          "10:00:00",
          "09:00:00",
          "06:30:00",
          "03:00:00",
          "05:00:00",
          "04:30:00",
          "09:00:00",
          "08:30:00",
          "07:00:00",
          "08:00:00",
          "05:00:00",
          "10:00:00",
          "09:30:00",
          "06:00:00",
          "06:30:00",
          "10:00:00",
          "09:30:00",
          "09:00:00",
          "05:00:00",
          "04:00:00",
          "08:00:00",
          "09:00:00",
          "09:30:00",
          "04:30:00",
          "05:00:00",
          "07:30:00",
          "10:00:00",
          "05:00:00",
          "06:00:00",
          "05:00:00",
          "06:30:00",
          "08:30:00",
          "05:30:00",
          "04:30:00",
          "07:00:00",
          "08:00:00",
          "06:30:00",
          "05:00:00",
          "09:30:00",
          "09:00:00",
          "08:30:00",
          "05:00:00",
          "10:00:00",
          "04:30:00",
          "05:00:00",
          "08:00:00",
          "04:30:00",
          "06:30:00",
          "07:00:00",
          "07:00:00",
          "10:30:00",
          "08:00:00",
          "07:30:00",
          "06:30:00",
          "07:00:00",
          "09:00:00",
          "05:00:00",
          "09:00:00",
          "08:00:00",
          "08:30:00",
          "06:30:00",
          "05:30:00",
          "07:00:00",
          "10:00:00",
          "06:30:00",
          "07:00:00",
          "05:30:00",
          "03:30:00",
          "08:30:00",
          "09:00:00",
          "06:00:00",
          "11:00:00",
          "07:00:00",
          "08:00:00",
          "06:30:00",
          "05:00:00",
          "08:00:00",
          "06:00:00",
          "03:00:00",
          "07:30:00",
          "08:00:00",
          "09:00:00",
          "04:00:00",
          "07:30:00",
          "08:00:00",
          "10:30:00",
          "05:00:00",
          "09:00:00",
          "05:30:00",
          "04:30:00",
          "08:00:00",
          "05:30:00",
          "09:00:00",
          "07:00:00",
          "04:00:00",
          "09:30:00",
          "10:00:00",
          "04:00:00",
          "05:00:00",
          "09:00:00",
          "10:00:00",
          "06:00:00",
          "05:30:00",
          "09:00:00",
          "10:30:00",
          "07:00:00",
          "05:00:00",
          "09:30:00",
          "06:30:00",
          "06:00:00",
          "07:30:00",
          "10:30:00",
          "04:30:00",
          "09:00:00",
          "09:30:00",
          "03:00:00",
          "08:30:00",
          "09:00:00",
          "07:00:00",
          "06:00:00",
          "06:00:00",
          "05:00:00",
          "05:00:00",
          "05:00:00",
          "06:00:00",
          "09:00:00",
          "05:00:00",
          "09:30:00",
          "07:00:00",
          "06:30:00",
          "09:30:00",
          "07:00:00",
          "08:00:00",
          "04:30:00",
          "10:00:00",
          "07:30:00",
          "05:00:00",
          "06:00:00",
          "06:00:00",
          "05:30:00",
          "10:30:00",
          "05:00:00",
          "07:30:00",
          "09:30:00",
          "04:00:00",
          "07:30:00",
          "09:00:00",
          "05:00:00",
          "06:00:00",
          "05:00:00",
          "06:00:00",
          "05:00:00",
          "06:30:00",
          "05:00:00",
          "04:00:00",
          "05:00:00",
          "06:00:00",
          "09:00:00",
          "07:00:00",
          "08:30:00",
          "07:30:00",
          "05:30:00",
          "05:30:00",
          "08:30:00",
          "07:00:00",
          "12:30:00",
          "08:00:00",
          "05:30:00",
          "03:00:00",
          "09:30:00",
          "08:00:00",
          "04:30:00",
          "09:00:00",
          "05:00:00",
          "10:00:00",
          "06:00:00",
          "05:30:00",
          "06:00:00",
          "07:30:00",
          "04:30:00",
          "08:00:00",
          "07:00:00",
          "06:00:00",
          "06:30:00",
          "04:30:00",
          "07:30:00",
          "07:30:00",
          "08:00:00",
          "07:30:00",
          "06:30:00",
          "06:00:00",
          "07:30:00",
          "04:00:00",
          "05:30:00",
          "10:00:00",
          "05:30:00",
          "07:30:00",
          "10:30:00",
          "05:00:00",
          "06:30:00",
          "12:30:00",
          "03:30:00",
          "05:30:00",
          "08:00:00",
          "09:00:00",
          "09:30:00",
          "06:30:00",
          "07:00:00",
          "05:30:00",
          "08:00:00",
          "08:30:00",
          "05:00:00",
          "04:30:00",
          "07:30:00",
          "05:00:00",
          "05:30:00",
          "05:00:00",
          "09:30:00",
          "06:30:00",
          "09:00:00",
          "05:00:00",
          "10:00:00",
          "09:00:00",
          "06:00:00",
          "06:30:00",
          "11:30:00",
          "08:30:00",
          "08:30:00",
          "07:00:00",
          "07:30:00",
          "09:00:00",
          "07:30:00",
          "05:00:00",
          "09:30:00",
          "06:00:00",
          "07:00:00",
          "09:00:00",
          "11:00:00",
          "06:30:00",
          "08:00:00",
          "07:00:00",
          "05:00:00",
          "04:30:00",
          "06:00:00",
          "04:30:00",
          "07:00:00",
          "04:00:00",
          "08:00:00",
          "09:30:00",
          "04:00:00",
          "08:00:00",
          "07:00:00",
          "06:30:00",
          "05:30:00",
          "06:00:00",
          "04:30:00",
          "10:00:00",
          "05:30:00",
          "08:30:00",
          "10:00:00",
          "08:00:00",
          "10:00:00",
          "05:30:00",
          "09:00:00",
          "06:00:00",
          "05:30:00",
          "08:30:00",
          "07:30:00",
          "05:30:00",
          "08:30:00",
          "08:00:00",
          "07:00:00",
          "09:00:00",
          "07:00:00",
          "08:00:00",
          "09:00:00",
          "08:00:00",
          "07:00:00",
          "05:00:00",
          "05:00:00",
          "07:00:00",
          "09:00:00",
          "04:30:00",
          "05:30:00",
          "04:00:00",
          "08:00:00",
          "08:00:00",
          "03:00:00",
          "06:00:00",
          "07:00:00",
          "09:00:00",
          "06:00:00",
          "06:30:00",
          "06:00:00",
          "09:00:00",
          "04:30:00",
          "07:00:00",
          "05:00:00",
          "05:30:00",
          "09:00:00",
          "07:30:00",
          "06:30:00",
          "05:00:00",
          "09:00:00",
          "08:30:00",
          "09:30:00",
          "07:30:00",
          "06:30:00",
          "07:00:00",
          "05:30:00",
          "03:00:00",
          "07:30:00",
          "04:00:00",
          "10:00:00"
         ],
         "xaxis": "x",
         "y": [
          86.00000000000001,
          94.33333333333334,
          100,
          96,
          100,
          100,
          100,
          100,
          100,
          100,
          100,
          95,
          100,
          100,
          100,
          100,
          100,
          95,
          100,
          100,
          89.99999999999999,
          100,
          100,
          100,
          85.00000000000001,
          86.00000000000001,
          100,
          100,
          100,
          96.66666666666666,
          96.66666666666666,
          100,
          100,
          100,
          100,
          100,
          92,
          100,
          100,
          100,
          94,
          89.99999999999999,
          100,
          100,
          100,
          94.33333333333334,
          100,
          100,
          100,
          100,
          100,
          100,
          100,
          100,
          95,
          100,
          100,
          100,
          100,
          100,
          100,
          92,
          89.99999999999999,
          100,
          100,
          100,
          85.00000000000001,
          95,
          92,
          89.99999999999999,
          100,
          92,
          89.99999999999999,
          100,
          100,
          100,
          100,
          100,
          96.66666666666666,
          100,
          100,
          87.5,
          100,
          100,
          88,
          95,
          100,
          100,
          100,
          100,
          89.99999999999999,
          100,
          92,
          100,
          100,
          96.66666666666666,
          100,
          100,
          100,
          100,
          100,
          100,
          100,
          89.99999999999999,
          100,
          100,
          96.66666666666666,
          100,
          100,
          100,
          88.33333333333333,
          96.66666666666666,
          89.99999999999999,
          89.99999999999999,
          100,
          96.66666666666666,
          100,
          100,
          96.66666666666666,
          96.66666666666666,
          89.99999999999999,
          100,
          100,
          100,
          96.66666666666666,
          100,
          100,
          100,
          100,
          92,
          100,
          100,
          100,
          98,
          100,
          96.66666666666666,
          94.33333333333334,
          100,
          100,
          100,
          100,
          96,
          100,
          100,
          100,
          100,
          98,
          100,
          100,
          100,
          100,
          100,
          95,
          100,
          100,
          100,
          100,
          100,
          92,
          100,
          100,
          100,
          100,
          100,
          100,
          100,
          96.66666666666666,
          100,
          100,
          100,
          100,
          100,
          100,
          100,
          100,
          92,
          100,
          100,
          100,
          89.99999999999999,
          100,
          100,
          100,
          100,
          100,
          100,
          96.66666666666666,
          92,
          100,
          96.66666666666666,
          95,
          100,
          85.00000000000001,
          96.66666666666666,
          100,
          100,
          100,
          98,
          83.33333333333333,
          100,
          100,
          100,
          86.00000000000001,
          100,
          96.66666666666666,
          89.99999999999999,
          96.66666666666666,
          96.66666666666666,
          100,
          100,
          100,
          92,
          87.5,
          91.66666666666667,
          100,
          100,
          100,
          100,
          100,
          98,
          100,
          100,
          100,
          100,
          100,
          100,
          100,
          96.66666666666666,
          100,
          100,
          100,
          100,
          86.66666666666667,
          100,
          100,
          100,
          100,
          100,
          100,
          100,
          92,
          100,
          100,
          100,
          100,
          100,
          100,
          98,
          100,
          100,
          92,
          100,
          96.66666666666666,
          100,
          96.66666666666666,
          96.66666666666666,
          96.66666666666666,
          89.99999999999999,
          98,
          100,
          100,
          100,
          100,
          100,
          100,
          95,
          96.66666666666666,
          100,
          100,
          100,
          100,
          100,
          100,
          100,
          100,
          99,
          98,
          100,
          100,
          96.66666666666666,
          100,
          100,
          100,
          100,
          100,
          89.99999999999999,
          98,
          100,
          96.66666666666666,
          100,
          98,
          100,
          89.99999999999999,
          100,
          96.66666666666666,
          100,
          100,
          100,
          100,
          100,
          100,
          100,
          100,
          100,
          89.99999999999999,
          88.33333333333333,
          98,
          100,
          96.66666666666666,
          100,
          100,
          100,
          100,
          96.66666666666666,
          100,
          100,
          100,
          100,
          100,
          85.00000000000001,
          96.66666666666666,
          100,
          100,
          100,
          86.00000000000001,
          100,
          100,
          100,
          100,
          100,
          80.66666666666666,
          98,
          100,
          100,
          100,
          100,
          100,
          100,
          100,
          90.33333333333333,
          96.66666666666666,
          100,
          100,
          100,
          100,
          100,
          85.00000000000001,
          98,
          100,
          100,
          96.66666666666666,
          97.50000000000001,
          100,
          100,
          100,
          100,
          100,
          100,
          96.66666666666666,
          100,
          100,
          100,
          100,
          100,
          100,
          100,
          100,
          86.66666666666667,
          100,
          89.99999999999999,
          96.66666666666666,
          96.66666666666666,
          100,
          100,
          100,
          100,
          100,
          100,
          92,
          100,
          96.66666666666666,
          100,
          100,
          100,
          92,
          100,
          96.66666666666666,
          100,
          100,
          100,
          95,
          80,
          96.66666666666666,
          100,
          100,
          100,
          92,
          100,
          100,
          100,
          100,
          100,
          98,
          100,
          92,
          90.33333333333333,
          96.66666666666666,
          100,
          100,
          100,
          92,
          96.66666666666666,
          92,
          100,
          100,
          100,
          100,
          96.66666666666666,
          100,
          100,
          96.66666666666666,
          100,
          96.66666666666666,
          100,
          89.99999999999999,
          100,
          92,
          100,
          100,
          100,
          100,
          100,
          100,
          100,
          100,
          100,
          100,
          100,
          100,
          100,
          100,
          100,
          100,
          100,
          100,
          100,
          85.00000000000001,
          100,
          100,
          100,
          92,
          100
         ],
         "yaxis": "y"
        }
       ],
       "layout": {
        "legend": {
         "tracegroupgap": 0
        },
        "margin": {
         "t": 60
        },
        "template": {
         "data": {
          "bar": [
           {
            "error_x": {
             "color": "#2a3f5f"
            },
            "error_y": {
             "color": "#2a3f5f"
            },
            "marker": {
             "line": {
              "color": "#E5ECF6",
              "width": 0.5
             },
             "pattern": {
              "fillmode": "overlay",
              "size": 10,
              "solidity": 0.2
             }
            },
            "type": "bar"
           }
          ],
          "barpolar": [
           {
            "marker": {
             "line": {
              "color": "#E5ECF6",
              "width": 0.5
             },
             "pattern": {
              "fillmode": "overlay",
              "size": 10,
              "solidity": 0.2
             }
            },
            "type": "barpolar"
           }
          ],
          "carpet": [
           {
            "aaxis": {
             "endlinecolor": "#2a3f5f",
             "gridcolor": "white",
             "linecolor": "white",
             "minorgridcolor": "white",
             "startlinecolor": "#2a3f5f"
            },
            "baxis": {
             "endlinecolor": "#2a3f5f",
             "gridcolor": "white",
             "linecolor": "white",
             "minorgridcolor": "white",
             "startlinecolor": "#2a3f5f"
            },
            "type": "carpet"
           }
          ],
          "choropleth": [
           {
            "colorbar": {
             "outlinewidth": 0,
             "ticks": ""
            },
            "type": "choropleth"
           }
          ],
          "contour": [
           {
            "colorbar": {
             "outlinewidth": 0,
             "ticks": ""
            },
            "colorscale": [
             [
              0,
              "#0d0887"
             ],
             [
              0.1111111111111111,
              "#46039f"
             ],
             [
              0.2222222222222222,
              "#7201a8"
             ],
             [
              0.3333333333333333,
              "#9c179e"
             ],
             [
              0.4444444444444444,
              "#bd3786"
             ],
             [
              0.5555555555555556,
              "#d8576b"
             ],
             [
              0.6666666666666666,
              "#ed7953"
             ],
             [
              0.7777777777777778,
              "#fb9f3a"
             ],
             [
              0.8888888888888888,
              "#fdca26"
             ],
             [
              1,
              "#f0f921"
             ]
            ],
            "type": "contour"
           }
          ],
          "contourcarpet": [
           {
            "colorbar": {
             "outlinewidth": 0,
             "ticks": ""
            },
            "type": "contourcarpet"
           }
          ],
          "heatmap": [
           {
            "colorbar": {
             "outlinewidth": 0,
             "ticks": ""
            },
            "colorscale": [
             [
              0,
              "#0d0887"
             ],
             [
              0.1111111111111111,
              "#46039f"
             ],
             [
              0.2222222222222222,
              "#7201a8"
             ],
             [
              0.3333333333333333,
              "#9c179e"
             ],
             [
              0.4444444444444444,
              "#bd3786"
             ],
             [
              0.5555555555555556,
              "#d8576b"
             ],
             [
              0.6666666666666666,
              "#ed7953"
             ],
             [
              0.7777777777777778,
              "#fb9f3a"
             ],
             [
              0.8888888888888888,
              "#fdca26"
             ],
             [
              1,
              "#f0f921"
             ]
            ],
            "type": "heatmap"
           }
          ],
          "heatmapgl": [
           {
            "colorbar": {
             "outlinewidth": 0,
             "ticks": ""
            },
            "colorscale": [
             [
              0,
              "#0d0887"
             ],
             [
              0.1111111111111111,
              "#46039f"
             ],
             [
              0.2222222222222222,
              "#7201a8"
             ],
             [
              0.3333333333333333,
              "#9c179e"
             ],
             [
              0.4444444444444444,
              "#bd3786"
             ],
             [
              0.5555555555555556,
              "#d8576b"
             ],
             [
              0.6666666666666666,
              "#ed7953"
             ],
             [
              0.7777777777777778,
              "#fb9f3a"
             ],
             [
              0.8888888888888888,
              "#fdca26"
             ],
             [
              1,
              "#f0f921"
             ]
            ],
            "type": "heatmapgl"
           }
          ],
          "histogram": [
           {
            "marker": {
             "pattern": {
              "fillmode": "overlay",
              "size": 10,
              "solidity": 0.2
             }
            },
            "type": "histogram"
           }
          ],
          "histogram2d": [
           {
            "colorbar": {
             "outlinewidth": 0,
             "ticks": ""
            },
            "colorscale": [
             [
              0,
              "#0d0887"
             ],
             [
              0.1111111111111111,
              "#46039f"
             ],
             [
              0.2222222222222222,
              "#7201a8"
             ],
             [
              0.3333333333333333,
              "#9c179e"
             ],
             [
              0.4444444444444444,
              "#bd3786"
             ],
             [
              0.5555555555555556,
              "#d8576b"
             ],
             [
              0.6666666666666666,
              "#ed7953"
             ],
             [
              0.7777777777777778,
              "#fb9f3a"
             ],
             [
              0.8888888888888888,
              "#fdca26"
             ],
             [
              1,
              "#f0f921"
             ]
            ],
            "type": "histogram2d"
           }
          ],
          "histogram2dcontour": [
           {
            "colorbar": {
             "outlinewidth": 0,
             "ticks": ""
            },
            "colorscale": [
             [
              0,
              "#0d0887"
             ],
             [
              0.1111111111111111,
              "#46039f"
             ],
             [
              0.2222222222222222,
              "#7201a8"
             ],
             [
              0.3333333333333333,
              "#9c179e"
             ],
             [
              0.4444444444444444,
              "#bd3786"
             ],
             [
              0.5555555555555556,
              "#d8576b"
             ],
             [
              0.6666666666666666,
              "#ed7953"
             ],
             [
              0.7777777777777778,
              "#fb9f3a"
             ],
             [
              0.8888888888888888,
              "#fdca26"
             ],
             [
              1,
              "#f0f921"
             ]
            ],
            "type": "histogram2dcontour"
           }
          ],
          "mesh3d": [
           {
            "colorbar": {
             "outlinewidth": 0,
             "ticks": ""
            },
            "type": "mesh3d"
           }
          ],
          "parcoords": [
           {
            "line": {
             "colorbar": {
              "outlinewidth": 0,
              "ticks": ""
             }
            },
            "type": "parcoords"
           }
          ],
          "pie": [
           {
            "automargin": true,
            "type": "pie"
           }
          ],
          "scatter": [
           {
            "fillpattern": {
             "fillmode": "overlay",
             "size": 10,
             "solidity": 0.2
            },
            "type": "scatter"
           }
          ],
          "scatter3d": [
           {
            "line": {
             "colorbar": {
              "outlinewidth": 0,
              "ticks": ""
             }
            },
            "marker": {
             "colorbar": {
              "outlinewidth": 0,
              "ticks": ""
             }
            },
            "type": "scatter3d"
           }
          ],
          "scattercarpet": [
           {
            "marker": {
             "colorbar": {
              "outlinewidth": 0,
              "ticks": ""
             }
            },
            "type": "scattercarpet"
           }
          ],
          "scattergeo": [
           {
            "marker": {
             "colorbar": {
              "outlinewidth": 0,
              "ticks": ""
             }
            },
            "type": "scattergeo"
           }
          ],
          "scattergl": [
           {
            "marker": {
             "colorbar": {
              "outlinewidth": 0,
              "ticks": ""
             }
            },
            "type": "scattergl"
           }
          ],
          "scattermapbox": [
           {
            "marker": {
             "colorbar": {
              "outlinewidth": 0,
              "ticks": ""
             }
            },
            "type": "scattermapbox"
           }
          ],
          "scatterpolar": [
           {
            "marker": {
             "colorbar": {
              "outlinewidth": 0,
              "ticks": ""
             }
            },
            "type": "scatterpolar"
           }
          ],
          "scatterpolargl": [
           {
            "marker": {
             "colorbar": {
              "outlinewidth": 0,
              "ticks": ""
             }
            },
            "type": "scatterpolargl"
           }
          ],
          "scatterternary": [
           {
            "marker": {
             "colorbar": {
              "outlinewidth": 0,
              "ticks": ""
             }
            },
            "type": "scatterternary"
           }
          ],
          "surface": [
           {
            "colorbar": {
             "outlinewidth": 0,
             "ticks": ""
            },
            "colorscale": [
             [
              0,
              "#0d0887"
             ],
             [
              0.1111111111111111,
              "#46039f"
             ],
             [
              0.2222222222222222,
              "#7201a8"
             ],
             [
              0.3333333333333333,
              "#9c179e"
             ],
             [
              0.4444444444444444,
              "#bd3786"
             ],
             [
              0.5555555555555556,
              "#d8576b"
             ],
             [
              0.6666666666666666,
              "#ed7953"
             ],
             [
              0.7777777777777778,
              "#fb9f3a"
             ],
             [
              0.8888888888888888,
              "#fdca26"
             ],
             [
              1,
              "#f0f921"
             ]
            ],
            "type": "surface"
           }
          ],
          "table": [
           {
            "cells": {
             "fill": {
              "color": "#EBF0F8"
             },
             "line": {
              "color": "white"
             }
            },
            "header": {
             "fill": {
              "color": "#C8D4E3"
             },
             "line": {
              "color": "white"
             }
            },
            "type": "table"
           }
          ]
         },
         "layout": {
          "annotationdefaults": {
           "arrowcolor": "#2a3f5f",
           "arrowhead": 0,
           "arrowwidth": 1
          },
          "autotypenumbers": "strict",
          "coloraxis": {
           "colorbar": {
            "outlinewidth": 0,
            "ticks": ""
           }
          },
          "colorscale": {
           "diverging": [
            [
             0,
             "#8e0152"
            ],
            [
             0.1,
             "#c51b7d"
            ],
            [
             0.2,
             "#de77ae"
            ],
            [
             0.3,
             "#f1b6da"
            ],
            [
             0.4,
             "#fde0ef"
            ],
            [
             0.5,
             "#f7f7f7"
            ],
            [
             0.6,
             "#e6f5d0"
            ],
            [
             0.7,
             "#b8e186"
            ],
            [
             0.8,
             "#7fbc41"
            ],
            [
             0.9,
             "#4d9221"
            ],
            [
             1,
             "#276419"
            ]
           ],
           "sequential": [
            [
             0,
             "#0d0887"
            ],
            [
             0.1111111111111111,
             "#46039f"
            ],
            [
             0.2222222222222222,
             "#7201a8"
            ],
            [
             0.3333333333333333,
             "#9c179e"
            ],
            [
             0.4444444444444444,
             "#bd3786"
            ],
            [
             0.5555555555555556,
             "#d8576b"
            ],
            [
             0.6666666666666666,
             "#ed7953"
            ],
            [
             0.7777777777777778,
             "#fb9f3a"
            ],
            [
             0.8888888888888888,
             "#fdca26"
            ],
            [
             1,
             "#f0f921"
            ]
           ],
           "sequentialminus": [
            [
             0,
             "#0d0887"
            ],
            [
             0.1111111111111111,
             "#46039f"
            ],
            [
             0.2222222222222222,
             "#7201a8"
            ],
            [
             0.3333333333333333,
             "#9c179e"
            ],
            [
             0.4444444444444444,
             "#bd3786"
            ],
            [
             0.5555555555555556,
             "#d8576b"
            ],
            [
             0.6666666666666666,
             "#ed7953"
            ],
            [
             0.7777777777777778,
             "#fb9f3a"
            ],
            [
             0.8888888888888888,
             "#fdca26"
            ],
            [
             1,
             "#f0f921"
            ]
           ]
          },
          "colorway": [
           "#636efa",
           "#EF553B",
           "#00cc96",
           "#ab63fa",
           "#FFA15A",
           "#19d3f3",
           "#FF6692",
           "#B6E880",
           "#FF97FF",
           "#FECB52"
          ],
          "font": {
           "color": "#2a3f5f"
          },
          "geo": {
           "bgcolor": "white",
           "lakecolor": "white",
           "landcolor": "#E5ECF6",
           "showlakes": true,
           "showland": true,
           "subunitcolor": "white"
          },
          "hoverlabel": {
           "align": "left"
          },
          "hovermode": "closest",
          "mapbox": {
           "style": "light"
          },
          "paper_bgcolor": "white",
          "plot_bgcolor": "#E5ECF6",
          "polar": {
           "angularaxis": {
            "gridcolor": "white",
            "linecolor": "white",
            "ticks": ""
           },
           "bgcolor": "#E5ECF6",
           "radialaxis": {
            "gridcolor": "white",
            "linecolor": "white",
            "ticks": ""
           }
          },
          "scene": {
           "xaxis": {
            "backgroundcolor": "#E5ECF6",
            "gridcolor": "white",
            "gridwidth": 2,
            "linecolor": "white",
            "showbackground": true,
            "ticks": "",
            "zerolinecolor": "white"
           },
           "yaxis": {
            "backgroundcolor": "#E5ECF6",
            "gridcolor": "white",
            "gridwidth": 2,
            "linecolor": "white",
            "showbackground": true,
            "ticks": "",
            "zerolinecolor": "white"
           },
           "zaxis": {
            "backgroundcolor": "#E5ECF6",
            "gridcolor": "white",
            "gridwidth": 2,
            "linecolor": "white",
            "showbackground": true,
            "ticks": "",
            "zerolinecolor": "white"
           }
          },
          "shapedefaults": {
           "line": {
            "color": "#2a3f5f"
           }
          },
          "ternary": {
           "aaxis": {
            "gridcolor": "white",
            "linecolor": "white",
            "ticks": ""
           },
           "baxis": {
            "gridcolor": "white",
            "linecolor": "white",
            "ticks": ""
           },
           "bgcolor": "#E5ECF6",
           "caxis": {
            "gridcolor": "white",
            "linecolor": "white",
            "ticks": ""
           }
          },
          "title": {
           "x": 0.05
          },
          "xaxis": {
           "automargin": true,
           "gridcolor": "white",
           "linecolor": "white",
           "ticks": "",
           "title": {
            "standoff": 15
           },
           "zerolinecolor": "white",
           "zerolinewidth": 2
          },
          "yaxis": {
           "automargin": true,
           "gridcolor": "white",
           "linecolor": "white",
           "ticks": "",
           "title": {
            "standoff": 15
           },
           "zerolinecolor": "white",
           "zerolinewidth": 2
          }
         }
        },
        "xaxis": {
         "anchor": "y",
         "domain": [
          0,
          1
         ],
         "title": {
          "text": "Wakeup time"
         }
        },
        "yaxis": {
         "anchor": "x",
         "domain": [
          0,
          1
         ],
         "title": {
          "text": "Sleep Quality"
         }
        }
       }
      }
     },
     "metadata": {},
     "output_type": "display_data"
    },
    {
     "data": {
      "application/vnd.plotly.v1+json": {
       "config": {
        "plotlyServerURL": "https://plot.ly"
       },
       "data": [
        {
         "hovertemplate": "Sleep duration=%{x}<br>Sleep Quality=%{y}<extra></extra>",
         "legendgroup": "",
         "marker": {
          "color": "#636efa",
          "symbol": "circle"
         },
         "mode": "markers",
         "name": "",
         "orientation": "v",
         "showlegend": false,
         "type": "scatter",
         "x": [
          6,
          7,
          8,
          6,
          8,
          7.5,
          6,
          10,
          6,
          9,
          8,
          7.5,
          9,
          8.5,
          8.5,
          7.5,
          7,
          7.5,
          9,
          7,
          8,
          7.5,
          8,
          8,
          7,
          6,
          7,
          7,
          9,
          7,
          7,
          8,
          7,
          7,
          7.5,
          7,
          7,
          9,
          7.5,
          7,
          6,
          6,
          10,
          7.5,
          8,
          7,
          8,
          7.5,
          8,
          7,
          7,
          7.5,
          8.5,
          8.5,
          7.5,
          9,
          8,
          7.5,
          7,
          7.5,
          7.5,
          7,
          8,
          7.5,
          7.5,
          8,
          7,
          7.5,
          7,
          6,
          7.5,
          7,
          6,
          7.5,
          7,
          8.5,
          7,
          9,
          7,
          7.5,
          8.5,
          7.5,
          7.5,
          8,
          6,
          7.5,
          7,
          7,
          7.5,
          7.5,
          5,
          8,
          7,
          7,
          7.5,
          7,
          7,
          7.5,
          9,
          8,
          8,
          8.5,
          8,
          6,
          6,
          8,
          7,
          8.5,
          8,
          7.5,
          5,
          7,
          8,
          6,
          8.5,
          7,
          8,
          8,
          7,
          7,
          6,
          8,
          7,
          8.5,
          7,
          8,
          7,
          7,
          9,
          7,
          8,
          8,
          7.5,
          8,
          7,
          7,
          7,
          7,
          7.5,
          9,
          8.5,
          6,
          7,
          7,
          7,
          7,
          8,
          8,
          8,
          7.5,
          8.5,
          7,
          7.5,
          7.5,
          7.5,
          7.5,
          7.5,
          7,
          7,
          8.5,
          7,
          7.5,
          7,
          7,
          8,
          7,
          7,
          7,
          7.5,
          7,
          8,
          7.5,
          8,
          6,
          8,
          7,
          7.5,
          7,
          8,
          6,
          7.5,
          7,
          7.5,
          8,
          7.5,
          7.5,
          7,
          7,
          8,
          7,
          7.5,
          8,
          7,
          7,
          8,
          7,
          8,
          6,
          5,
          7,
          7,
          8,
          6,
          8,
          7,
          6,
          7,
          7,
          8,
          9,
          7,
          7,
          7.5,
          5,
          7.5,
          7,
          6,
          7.5,
          7,
          8,
          7,
          8.5,
          8,
          8.5,
          6,
          8,
          7.5,
          7,
          8,
          7,
          7.5,
          8,
          5,
          8,
          9,
          7,
          7.5,
          7.5,
          8.5,
          8,
          7,
          8.5,
          8,
          7,
          7,
          8.5,
          8.5,
          8,
          7.5,
          10,
          7,
          8.5,
          7,
          6,
          7,
          7,
          7,
          8,
          8,
          7.5,
          7,
          7,
          9,
          9,
          7,
          7.5,
          7,
          8,
          8.5,
          7,
          8,
          7,
          9,
          7,
          7,
          7,
          8,
          8,
          8,
          7,
          7.5,
          7.5,
          7,
          8.5,
          7,
          6,
          8,
          7.5,
          7,
          7,
          8,
          7.5,
          6,
          7,
          7,
          8,
          7,
          8,
          8.5,
          8,
          7,
          8.5,
          7,
          10,
          8,
          5,
          6,
          9,
          7,
          7.5,
          10,
          7,
          9,
          7,
          7,
          8,
          7.5,
          7.5,
          8,
          7,
          7,
          7.5,
          7.5,
          7.5,
          6,
          7,
          7.5,
          7.5,
          8,
          7.5,
          5.5,
          8,
          9,
          7.5,
          8.5,
          10,
          7,
          8,
          10,
          5.5,
          7,
          8,
          8,
          7,
          9,
          7,
          7,
          8,
          7,
          7.5,
          7,
          7.5,
          8,
          7.5,
          7,
          7,
          8,
          9,
          7,
          9,
          9,
          6,
          7.5,
          10,
          8,
          7,
          8,
          5,
          7.5,
          6,
          7,
          7,
          8,
          8,
          7.5,
          9,
          8,
          8,
          7,
          7,
          7,
          7,
          7.5,
          9,
          7,
          8,
          7,
          7,
          8,
          8,
          7.5,
          5,
          7,
          7,
          8,
          8,
          7,
          8,
          7,
          7.5,
          8,
          7.5,
          8,
          8,
          6,
          5.5,
          7,
          8,
          8,
          8,
          7,
          7,
          7,
          8.5,
          8,
          7,
          7,
          7,
          9,
          8.5,
          7,
          7,
          7,
          7.5,
          8,
          6,
          7,
          8,
          8,
          7.5,
          6,
          7,
          8,
          7.5,
          8,
          7,
          8,
          8,
          6,
          7.5,
          8,
          9,
          7,
          7.5,
          7.5,
          7.5,
          7,
          7.5,
          6,
          8.5,
          7,
          7.5
         ],
         "xaxis": "x",
         "y": [
          86.00000000000001,
          94.33333333333334,
          100,
          96,
          100,
          100,
          100,
          100,
          100,
          100,
          100,
          95,
          100,
          100,
          100,
          100,
          100,
          95,
          100,
          100,
          89.99999999999999,
          100,
          100,
          100,
          85.00000000000001,
          86.00000000000001,
          100,
          100,
          100,
          96.66666666666666,
          96.66666666666666,
          100,
          100,
          100,
          100,
          100,
          92,
          100,
          100,
          100,
          94,
          89.99999999999999,
          100,
          100,
          100,
          94.33333333333334,
          100,
          100,
          100,
          100,
          100,
          100,
          100,
          100,
          95,
          100,
          100,
          100,
          100,
          100,
          100,
          92,
          89.99999999999999,
          100,
          100,
          100,
          85.00000000000001,
          95,
          92,
          89.99999999999999,
          100,
          92,
          89.99999999999999,
          100,
          100,
          100,
          100,
          100,
          96.66666666666666,
          100,
          100,
          87.5,
          100,
          100,
          88,
          95,
          100,
          100,
          100,
          100,
          89.99999999999999,
          100,
          92,
          100,
          100,
          96.66666666666666,
          100,
          100,
          100,
          100,
          100,
          100,
          100,
          89.99999999999999,
          100,
          100,
          96.66666666666666,
          100,
          100,
          100,
          88.33333333333333,
          96.66666666666666,
          89.99999999999999,
          89.99999999999999,
          100,
          96.66666666666666,
          100,
          100,
          96.66666666666666,
          96.66666666666666,
          89.99999999999999,
          100,
          100,
          100,
          96.66666666666666,
          100,
          100,
          100,
          100,
          92,
          100,
          100,
          100,
          98,
          100,
          96.66666666666666,
          94.33333333333334,
          100,
          100,
          100,
          100,
          96,
          100,
          100,
          100,
          100,
          98,
          100,
          100,
          100,
          100,
          100,
          95,
          100,
          100,
          100,
          100,
          100,
          92,
          100,
          100,
          100,
          100,
          100,
          100,
          100,
          96.66666666666666,
          100,
          100,
          100,
          100,
          100,
          100,
          100,
          100,
          92,
          100,
          100,
          100,
          89.99999999999999,
          100,
          100,
          100,
          100,
          100,
          100,
          96.66666666666666,
          92,
          100,
          96.66666666666666,
          95,
          100,
          85.00000000000001,
          96.66666666666666,
          100,
          100,
          100,
          98,
          83.33333333333333,
          100,
          100,
          100,
          86.00000000000001,
          100,
          96.66666666666666,
          89.99999999999999,
          96.66666666666666,
          96.66666666666666,
          100,
          100,
          100,
          92,
          87.5,
          91.66666666666667,
          100,
          100,
          100,
          100,
          100,
          98,
          100,
          100,
          100,
          100,
          100,
          100,
          100,
          96.66666666666666,
          100,
          100,
          100,
          100,
          86.66666666666667,
          100,
          100,
          100,
          100,
          100,
          100,
          100,
          92,
          100,
          100,
          100,
          100,
          100,
          100,
          98,
          100,
          100,
          92,
          100,
          96.66666666666666,
          100,
          96.66666666666666,
          96.66666666666666,
          96.66666666666666,
          89.99999999999999,
          98,
          100,
          100,
          100,
          100,
          100,
          100,
          95,
          96.66666666666666,
          100,
          100,
          100,
          100,
          100,
          100,
          100,
          100,
          99,
          98,
          100,
          100,
          96.66666666666666,
          100,
          100,
          100,
          100,
          100,
          89.99999999999999,
          98,
          100,
          96.66666666666666,
          100,
          98,
          100,
          89.99999999999999,
          100,
          96.66666666666666,
          100,
          100,
          100,
          100,
          100,
          100,
          100,
          100,
          100,
          89.99999999999999,
          88.33333333333333,
          98,
          100,
          96.66666666666666,
          100,
          100,
          100,
          100,
          96.66666666666666,
          100,
          100,
          100,
          100,
          100,
          85.00000000000001,
          96.66666666666666,
          100,
          100,
          100,
          86.00000000000001,
          100,
          100,
          100,
          100,
          100,
          80.66666666666666,
          98,
          100,
          100,
          100,
          100,
          100,
          100,
          100,
          90.33333333333333,
          96.66666666666666,
          100,
          100,
          100,
          100,
          100,
          85.00000000000001,
          98,
          100,
          100,
          96.66666666666666,
          97.50000000000001,
          100,
          100,
          100,
          100,
          100,
          100,
          96.66666666666666,
          100,
          100,
          100,
          100,
          100,
          100,
          100,
          100,
          86.66666666666667,
          100,
          89.99999999999999,
          96.66666666666666,
          96.66666666666666,
          100,
          100,
          100,
          100,
          100,
          100,
          92,
          100,
          96.66666666666666,
          100,
          100,
          100,
          92,
          100,
          96.66666666666666,
          100,
          100,
          100,
          95,
          80,
          96.66666666666666,
          100,
          100,
          100,
          92,
          100,
          100,
          100,
          100,
          100,
          98,
          100,
          92,
          90.33333333333333,
          96.66666666666666,
          100,
          100,
          100,
          92,
          96.66666666666666,
          92,
          100,
          100,
          100,
          100,
          96.66666666666666,
          100,
          100,
          96.66666666666666,
          100,
          96.66666666666666,
          100,
          89.99999999999999,
          100,
          92,
          100,
          100,
          100,
          100,
          100,
          100,
          100,
          100,
          100,
          100,
          100,
          100,
          100,
          100,
          100,
          100,
          100,
          100,
          100,
          85.00000000000001,
          100,
          100,
          100,
          92,
          100
         ],
         "yaxis": "y"
        }
       ],
       "layout": {
        "legend": {
         "tracegroupgap": 0
        },
        "margin": {
         "t": 60
        },
        "template": {
         "data": {
          "bar": [
           {
            "error_x": {
             "color": "#2a3f5f"
            },
            "error_y": {
             "color": "#2a3f5f"
            },
            "marker": {
             "line": {
              "color": "#E5ECF6",
              "width": 0.5
             },
             "pattern": {
              "fillmode": "overlay",
              "size": 10,
              "solidity": 0.2
             }
            },
            "type": "bar"
           }
          ],
          "barpolar": [
           {
            "marker": {
             "line": {
              "color": "#E5ECF6",
              "width": 0.5
             },
             "pattern": {
              "fillmode": "overlay",
              "size": 10,
              "solidity": 0.2
             }
            },
            "type": "barpolar"
           }
          ],
          "carpet": [
           {
            "aaxis": {
             "endlinecolor": "#2a3f5f",
             "gridcolor": "white",
             "linecolor": "white",
             "minorgridcolor": "white",
             "startlinecolor": "#2a3f5f"
            },
            "baxis": {
             "endlinecolor": "#2a3f5f",
             "gridcolor": "white",
             "linecolor": "white",
             "minorgridcolor": "white",
             "startlinecolor": "#2a3f5f"
            },
            "type": "carpet"
           }
          ],
          "choropleth": [
           {
            "colorbar": {
             "outlinewidth": 0,
             "ticks": ""
            },
            "type": "choropleth"
           }
          ],
          "contour": [
           {
            "colorbar": {
             "outlinewidth": 0,
             "ticks": ""
            },
            "colorscale": [
             [
              0,
              "#0d0887"
             ],
             [
              0.1111111111111111,
              "#46039f"
             ],
             [
              0.2222222222222222,
              "#7201a8"
             ],
             [
              0.3333333333333333,
              "#9c179e"
             ],
             [
              0.4444444444444444,
              "#bd3786"
             ],
             [
              0.5555555555555556,
              "#d8576b"
             ],
             [
              0.6666666666666666,
              "#ed7953"
             ],
             [
              0.7777777777777778,
              "#fb9f3a"
             ],
             [
              0.8888888888888888,
              "#fdca26"
             ],
             [
              1,
              "#f0f921"
             ]
            ],
            "type": "contour"
           }
          ],
          "contourcarpet": [
           {
            "colorbar": {
             "outlinewidth": 0,
             "ticks": ""
            },
            "type": "contourcarpet"
           }
          ],
          "heatmap": [
           {
            "colorbar": {
             "outlinewidth": 0,
             "ticks": ""
            },
            "colorscale": [
             [
              0,
              "#0d0887"
             ],
             [
              0.1111111111111111,
              "#46039f"
             ],
             [
              0.2222222222222222,
              "#7201a8"
             ],
             [
              0.3333333333333333,
              "#9c179e"
             ],
             [
              0.4444444444444444,
              "#bd3786"
             ],
             [
              0.5555555555555556,
              "#d8576b"
             ],
             [
              0.6666666666666666,
              "#ed7953"
             ],
             [
              0.7777777777777778,
              "#fb9f3a"
             ],
             [
              0.8888888888888888,
              "#fdca26"
             ],
             [
              1,
              "#f0f921"
             ]
            ],
            "type": "heatmap"
           }
          ],
          "heatmapgl": [
           {
            "colorbar": {
             "outlinewidth": 0,
             "ticks": ""
            },
            "colorscale": [
             [
              0,
              "#0d0887"
             ],
             [
              0.1111111111111111,
              "#46039f"
             ],
             [
              0.2222222222222222,
              "#7201a8"
             ],
             [
              0.3333333333333333,
              "#9c179e"
             ],
             [
              0.4444444444444444,
              "#bd3786"
             ],
             [
              0.5555555555555556,
              "#d8576b"
             ],
             [
              0.6666666666666666,
              "#ed7953"
             ],
             [
              0.7777777777777778,
              "#fb9f3a"
             ],
             [
              0.8888888888888888,
              "#fdca26"
             ],
             [
              1,
              "#f0f921"
             ]
            ],
            "type": "heatmapgl"
           }
          ],
          "histogram": [
           {
            "marker": {
             "pattern": {
              "fillmode": "overlay",
              "size": 10,
              "solidity": 0.2
             }
            },
            "type": "histogram"
           }
          ],
          "histogram2d": [
           {
            "colorbar": {
             "outlinewidth": 0,
             "ticks": ""
            },
            "colorscale": [
             [
              0,
              "#0d0887"
             ],
             [
              0.1111111111111111,
              "#46039f"
             ],
             [
              0.2222222222222222,
              "#7201a8"
             ],
             [
              0.3333333333333333,
              "#9c179e"
             ],
             [
              0.4444444444444444,
              "#bd3786"
             ],
             [
              0.5555555555555556,
              "#d8576b"
             ],
             [
              0.6666666666666666,
              "#ed7953"
             ],
             [
              0.7777777777777778,
              "#fb9f3a"
             ],
             [
              0.8888888888888888,
              "#fdca26"
             ],
             [
              1,
              "#f0f921"
             ]
            ],
            "type": "histogram2d"
           }
          ],
          "histogram2dcontour": [
           {
            "colorbar": {
             "outlinewidth": 0,
             "ticks": ""
            },
            "colorscale": [
             [
              0,
              "#0d0887"
             ],
             [
              0.1111111111111111,
              "#46039f"
             ],
             [
              0.2222222222222222,
              "#7201a8"
             ],
             [
              0.3333333333333333,
              "#9c179e"
             ],
             [
              0.4444444444444444,
              "#bd3786"
             ],
             [
              0.5555555555555556,
              "#d8576b"
             ],
             [
              0.6666666666666666,
              "#ed7953"
             ],
             [
              0.7777777777777778,
              "#fb9f3a"
             ],
             [
              0.8888888888888888,
              "#fdca26"
             ],
             [
              1,
              "#f0f921"
             ]
            ],
            "type": "histogram2dcontour"
           }
          ],
          "mesh3d": [
           {
            "colorbar": {
             "outlinewidth": 0,
             "ticks": ""
            },
            "type": "mesh3d"
           }
          ],
          "parcoords": [
           {
            "line": {
             "colorbar": {
              "outlinewidth": 0,
              "ticks": ""
             }
            },
            "type": "parcoords"
           }
          ],
          "pie": [
           {
            "automargin": true,
            "type": "pie"
           }
          ],
          "scatter": [
           {
            "fillpattern": {
             "fillmode": "overlay",
             "size": 10,
             "solidity": 0.2
            },
            "type": "scatter"
           }
          ],
          "scatter3d": [
           {
            "line": {
             "colorbar": {
              "outlinewidth": 0,
              "ticks": ""
             }
            },
            "marker": {
             "colorbar": {
              "outlinewidth": 0,
              "ticks": ""
             }
            },
            "type": "scatter3d"
           }
          ],
          "scattercarpet": [
           {
            "marker": {
             "colorbar": {
              "outlinewidth": 0,
              "ticks": ""
             }
            },
            "type": "scattercarpet"
           }
          ],
          "scattergeo": [
           {
            "marker": {
             "colorbar": {
              "outlinewidth": 0,
              "ticks": ""
             }
            },
            "type": "scattergeo"
           }
          ],
          "scattergl": [
           {
            "marker": {
             "colorbar": {
              "outlinewidth": 0,
              "ticks": ""
             }
            },
            "type": "scattergl"
           }
          ],
          "scattermapbox": [
           {
            "marker": {
             "colorbar": {
              "outlinewidth": 0,
              "ticks": ""
             }
            },
            "type": "scattermapbox"
           }
          ],
          "scatterpolar": [
           {
            "marker": {
             "colorbar": {
              "outlinewidth": 0,
              "ticks": ""
             }
            },
            "type": "scatterpolar"
           }
          ],
          "scatterpolargl": [
           {
            "marker": {
             "colorbar": {
              "outlinewidth": 0,
              "ticks": ""
             }
            },
            "type": "scatterpolargl"
           }
          ],
          "scatterternary": [
           {
            "marker": {
             "colorbar": {
              "outlinewidth": 0,
              "ticks": ""
             }
            },
            "type": "scatterternary"
           }
          ],
          "surface": [
           {
            "colorbar": {
             "outlinewidth": 0,
             "ticks": ""
            },
            "colorscale": [
             [
              0,
              "#0d0887"
             ],
             [
              0.1111111111111111,
              "#46039f"
             ],
             [
              0.2222222222222222,
              "#7201a8"
             ],
             [
              0.3333333333333333,
              "#9c179e"
             ],
             [
              0.4444444444444444,
              "#bd3786"
             ],
             [
              0.5555555555555556,
              "#d8576b"
             ],
             [
              0.6666666666666666,
              "#ed7953"
             ],
             [
              0.7777777777777778,
              "#fb9f3a"
             ],
             [
              0.8888888888888888,
              "#fdca26"
             ],
             [
              1,
              "#f0f921"
             ]
            ],
            "type": "surface"
           }
          ],
          "table": [
           {
            "cells": {
             "fill": {
              "color": "#EBF0F8"
             },
             "line": {
              "color": "white"
             }
            },
            "header": {
             "fill": {
              "color": "#C8D4E3"
             },
             "line": {
              "color": "white"
             }
            },
            "type": "table"
           }
          ]
         },
         "layout": {
          "annotationdefaults": {
           "arrowcolor": "#2a3f5f",
           "arrowhead": 0,
           "arrowwidth": 1
          },
          "autotypenumbers": "strict",
          "coloraxis": {
           "colorbar": {
            "outlinewidth": 0,
            "ticks": ""
           }
          },
          "colorscale": {
           "diverging": [
            [
             0,
             "#8e0152"
            ],
            [
             0.1,
             "#c51b7d"
            ],
            [
             0.2,
             "#de77ae"
            ],
            [
             0.3,
             "#f1b6da"
            ],
            [
             0.4,
             "#fde0ef"
            ],
            [
             0.5,
             "#f7f7f7"
            ],
            [
             0.6,
             "#e6f5d0"
            ],
            [
             0.7,
             "#b8e186"
            ],
            [
             0.8,
             "#7fbc41"
            ],
            [
             0.9,
             "#4d9221"
            ],
            [
             1,
             "#276419"
            ]
           ],
           "sequential": [
            [
             0,
             "#0d0887"
            ],
            [
             0.1111111111111111,
             "#46039f"
            ],
            [
             0.2222222222222222,
             "#7201a8"
            ],
            [
             0.3333333333333333,
             "#9c179e"
            ],
            [
             0.4444444444444444,
             "#bd3786"
            ],
            [
             0.5555555555555556,
             "#d8576b"
            ],
            [
             0.6666666666666666,
             "#ed7953"
            ],
            [
             0.7777777777777778,
             "#fb9f3a"
            ],
            [
             0.8888888888888888,
             "#fdca26"
            ],
            [
             1,
             "#f0f921"
            ]
           ],
           "sequentialminus": [
            [
             0,
             "#0d0887"
            ],
            [
             0.1111111111111111,
             "#46039f"
            ],
            [
             0.2222222222222222,
             "#7201a8"
            ],
            [
             0.3333333333333333,
             "#9c179e"
            ],
            [
             0.4444444444444444,
             "#bd3786"
            ],
            [
             0.5555555555555556,
             "#d8576b"
            ],
            [
             0.6666666666666666,
             "#ed7953"
            ],
            [
             0.7777777777777778,
             "#fb9f3a"
            ],
            [
             0.8888888888888888,
             "#fdca26"
            ],
            [
             1,
             "#f0f921"
            ]
           ]
          },
          "colorway": [
           "#636efa",
           "#EF553B",
           "#00cc96",
           "#ab63fa",
           "#FFA15A",
           "#19d3f3",
           "#FF6692",
           "#B6E880",
           "#FF97FF",
           "#FECB52"
          ],
          "font": {
           "color": "#2a3f5f"
          },
          "geo": {
           "bgcolor": "white",
           "lakecolor": "white",
           "landcolor": "#E5ECF6",
           "showlakes": true,
           "showland": true,
           "subunitcolor": "white"
          },
          "hoverlabel": {
           "align": "left"
          },
          "hovermode": "closest",
          "mapbox": {
           "style": "light"
          },
          "paper_bgcolor": "white",
          "plot_bgcolor": "#E5ECF6",
          "polar": {
           "angularaxis": {
            "gridcolor": "white",
            "linecolor": "white",
            "ticks": ""
           },
           "bgcolor": "#E5ECF6",
           "radialaxis": {
            "gridcolor": "white",
            "linecolor": "white",
            "ticks": ""
           }
          },
          "scene": {
           "xaxis": {
            "backgroundcolor": "#E5ECF6",
            "gridcolor": "white",
            "gridwidth": 2,
            "linecolor": "white",
            "showbackground": true,
            "ticks": "",
            "zerolinecolor": "white"
           },
           "yaxis": {
            "backgroundcolor": "#E5ECF6",
            "gridcolor": "white",
            "gridwidth": 2,
            "linecolor": "white",
            "showbackground": true,
            "ticks": "",
            "zerolinecolor": "white"
           },
           "zaxis": {
            "backgroundcolor": "#E5ECF6",
            "gridcolor": "white",
            "gridwidth": 2,
            "linecolor": "white",
            "showbackground": true,
            "ticks": "",
            "zerolinecolor": "white"
           }
          },
          "shapedefaults": {
           "line": {
            "color": "#2a3f5f"
           }
          },
          "ternary": {
           "aaxis": {
            "gridcolor": "white",
            "linecolor": "white",
            "ticks": ""
           },
           "baxis": {
            "gridcolor": "white",
            "linecolor": "white",
            "ticks": ""
           },
           "bgcolor": "#E5ECF6",
           "caxis": {
            "gridcolor": "white",
            "linecolor": "white",
            "ticks": ""
           }
          },
          "title": {
           "x": 0.05
          },
          "xaxis": {
           "automargin": true,
           "gridcolor": "white",
           "linecolor": "white",
           "ticks": "",
           "title": {
            "standoff": 15
           },
           "zerolinecolor": "white",
           "zerolinewidth": 2
          },
          "yaxis": {
           "automargin": true,
           "gridcolor": "white",
           "linecolor": "white",
           "ticks": "",
           "title": {
            "standoff": 15
           },
           "zerolinecolor": "white",
           "zerolinewidth": 2
          }
         }
        },
        "xaxis": {
         "anchor": "y",
         "domain": [
          0,
          1
         ],
         "title": {
          "text": "Sleep duration"
         }
        },
        "yaxis": {
         "anchor": "x",
         "domain": [
          0,
          1
         ],
         "title": {
          "text": "Sleep Quality"
         }
        }
       }
      }
     },
     "metadata": {},
     "output_type": "display_data"
    },
    {
     "data": {
      "application/vnd.plotly.v1+json": {
       "config": {
        "plotlyServerURL": "https://plot.ly"
       },
       "data": [
        {
         "hovertemplate": "Sleep efficiency=%{x}<br>Sleep Quality=%{y}<extra></extra>",
         "legendgroup": "",
         "marker": {
          "color": "#636efa",
          "symbol": "circle"
         },
         "mode": "markers",
         "name": "",
         "orientation": "v",
         "showlegend": false,
         "type": "scatter",
         "x": [
          0.88,
          0.66,
          0.89,
          0.51,
          0.76,
          0.9,
          0.54,
          0.9,
          0.79,
          0.55,
          0.92,
          0.93,
          0.93,
          0.64,
          0.54,
          0.92,
          0.54,
          0.5,
          0.98,
          0.89,
          0.83,
          0.71,
          0.84,
          0.98,
          0.88,
          0.91,
          0.95,
          0.84,
          0.65,
          0.91,
          0.57,
          0.68,
          0.55,
          0.9,
          0.94,
          0.64,
          0.87,
          0.82,
          0.87,
          0.63,
          0.83,
          0.83,
          0.59,
          0.87,
          0.77,
          0.86,
          0.91,
          0.71,
          0.81,
          0.81,
          0.71,
          0.71,
          0.52,
          0.65,
          0.84,
          0.84,
          0.99,
          0.91,
          0.71,
          0.8,
          0.95,
          0.91,
          0.81,
          0.93,
          0.85,
          0.77,
          0.84,
          0.87,
          0.8,
          0.52,
          0.54,
          0.88,
          0.64,
          0.87,
          0.77,
          0.68,
          0.94,
          0.7,
          0.79,
          0.77,
          0.86,
          0.81,
          0.88,
          0.78,
          0.64,
          0.88,
          0.78,
          0.71,
          0.97,
          0.77,
          0.8,
          0.94,
          0.52,
          0.76,
          0.73,
          0.73,
          0.96,
          0.91,
          0.8,
          0.77,
          0.81,
          0.71,
          0.95,
          0.64,
          0.94,
          0.87,
          0.63,
          0.88,
          0.9,
          0.94,
          0.91,
          0.9,
          0.8,
          0.85,
          0.89,
          0.53,
          0.87,
          0.5,
          0.93,
          0.72,
          0.92,
          0.62,
          0.93,
          0.91,
          0.63,
          0.77,
          0.51,
          0.94,
          0.73,
          0.78,
          0.55,
          0.83,
          0.94,
          0.95,
          0.59,
          0.82,
          0.9,
          0.77,
          0.83,
          0.65,
          0.54,
          0.51,
          0.81,
          0.87,
          0.75,
          0.57,
          0.58,
          0.81,
          0.75,
          0.6,
          0.53,
          0.93,
          0.89,
          0.7,
          0.74,
          0.92,
          0.93,
          0.95,
          0.6,
          0.93,
          0.81,
          0.95,
          0.72,
          0.9,
          0.95,
          0.91,
          0.85,
          0.9,
          0.92,
          0.6,
          0.89,
          0.67,
          0.51,
          0.78,
          0.95,
          0.68,
          0.68,
          0.94,
          0.78,
          0.9,
          0.83,
          0.8,
          0.96,
          0.91,
          0.96,
          0.94,
          0.63,
          0.73,
          0.87,
          0.76,
          0.68,
          0.94,
          0.95,
          0.62,
          0.91,
          0.67,
          0.94,
          0.79,
          0.86,
          0.83,
          0.73,
          0.71,
          0.87,
          0.5,
          0.92,
          0.79,
          0.98,
          0.93,
          0.88,
          0.77,
          0.86,
          0.54,
          0.8,
          0.86,
          0.61,
          0.72,
          0.72,
          0.55,
          0.96,
          0.58,
          0.77,
          0.85,
          0.95,
          0.69,
          0.95,
          0.82,
          0.93,
          0.82,
          0.94,
          0.75,
          0.91,
          0.65,
          0.87,
          0.84,
          0.85,
          0.91,
          0.71,
          0.82,
          0.77,
          0.95,
          0.95,
          0.76,
          0.85,
          0.75,
          0.92,
          0.78,
          0.91,
          0.85,
          0.95,
          0.66,
          0.63,
          0.86,
          0.54,
          0.95,
          0.72,
          0.52,
          0.93,
          0.52,
          0.61,
          0.79,
          0.94,
          0.76,
          0.76,
          0.78,
          0.94,
          0.87,
          0.55,
          0.93,
          0.93,
          0.94,
          0.78,
          0.94,
          0.5,
          0.93,
          0.73,
          0.9,
          0.87,
          0.93,
          0.9,
          0.67,
          0.9,
          0.9,
          0.98,
          0.66,
          0.68,
          0.56,
          0.62,
          0.52,
          0.96,
          0.81,
          0.84,
          0.93,
          0.87,
          0.86,
          0.89,
          0.94,
          0.84,
          0.86,
          0.75,
          0.6,
          0.93,
          0.75,
          0.81,
          0.78,
          0.84,
          0.9,
          0.9,
          0.67,
          0.93,
          0.8,
          0.63,
          0.9,
          0.9,
          0.86,
          0.51,
          0.71,
          0.87,
          0.7,
          0.85,
          0.87,
          0.6,
          0.83,
          0.8,
          0.93,
          0.75,
          0.5,
          0.5,
          0.67,
          0.96,
          0.52,
          0.68,
          0.72,
          0.56,
          0.91,
          0.85,
          0.72,
          0.9,
          0.77,
          0.89,
          0.9,
          0.85,
          0.95,
          0.51,
          0.9,
          0.9,
          0.51,
          0.84,
          0.82,
          0.88,
          0.79,
          0.64,
          0.84,
          0.86,
          0.71,
          0.9,
          0.82,
          0.95,
          0.95,
          0.54,
          0.95,
          0.53,
          0.92,
          0.85,
          0.92,
          0.53,
          0.75,
          0.82,
          0.74,
          0.87,
          0.72,
          0.87,
          0.53,
          0.72,
          0.87,
          0.66,
          0.66,
          0.72,
          0.81,
          0.88,
          0.94,
          0.83,
          0.91,
          0.95,
          0.9,
          0.95,
          0.9,
          0.62,
          0.93,
          0.79,
          0.91,
          0.81,
          0.52,
          0.52,
          0.84,
          0.67,
          0.83,
          0.63,
          0.64,
          0.91,
          0.82,
          0.92,
          0.92,
          0.93,
          0.87,
          0.64,
          0.9,
          0.82,
          0.86,
          0.73,
          0.9,
          0.68,
          0.82,
          0.74,
          0.88,
          0.72,
          0.67,
          0.87,
          0.66,
          0.66,
          0.87,
          0.51,
          0.79,
          0.8,
          0.55,
          0.85,
          0.88,
          0.88,
          0.93,
          0.63,
          0.92,
          0.8,
          0.92,
          0.77,
          0.9,
          0.9,
          0.96,
          0.72,
          0.86,
          0.9,
          0.5,
          0.88,
          0.6,
          0.68,
          0.67,
          0.58,
          0.53,
          0.5,
          0.91,
          0.74,
          0.55,
          0.76,
          0.63
         ],
         "xaxis": "x",
         "y": [
          86.00000000000001,
          94.33333333333334,
          100,
          96,
          100,
          100,
          100,
          100,
          100,
          100,
          100,
          95,
          100,
          100,
          100,
          100,
          100,
          95,
          100,
          100,
          89.99999999999999,
          100,
          100,
          100,
          85.00000000000001,
          86.00000000000001,
          100,
          100,
          100,
          96.66666666666666,
          96.66666666666666,
          100,
          100,
          100,
          100,
          100,
          92,
          100,
          100,
          100,
          94,
          89.99999999999999,
          100,
          100,
          100,
          94.33333333333334,
          100,
          100,
          100,
          100,
          100,
          100,
          100,
          100,
          95,
          100,
          100,
          100,
          100,
          100,
          100,
          92,
          89.99999999999999,
          100,
          100,
          100,
          85.00000000000001,
          95,
          92,
          89.99999999999999,
          100,
          92,
          89.99999999999999,
          100,
          100,
          100,
          100,
          100,
          96.66666666666666,
          100,
          100,
          87.5,
          100,
          100,
          88,
          95,
          100,
          100,
          100,
          100,
          89.99999999999999,
          100,
          92,
          100,
          100,
          96.66666666666666,
          100,
          100,
          100,
          100,
          100,
          100,
          100,
          89.99999999999999,
          100,
          100,
          96.66666666666666,
          100,
          100,
          100,
          88.33333333333333,
          96.66666666666666,
          89.99999999999999,
          89.99999999999999,
          100,
          96.66666666666666,
          100,
          100,
          96.66666666666666,
          96.66666666666666,
          89.99999999999999,
          100,
          100,
          100,
          96.66666666666666,
          100,
          100,
          100,
          100,
          92,
          100,
          100,
          100,
          98,
          100,
          96.66666666666666,
          94.33333333333334,
          100,
          100,
          100,
          100,
          96,
          100,
          100,
          100,
          100,
          98,
          100,
          100,
          100,
          100,
          100,
          95,
          100,
          100,
          100,
          100,
          100,
          92,
          100,
          100,
          100,
          100,
          100,
          100,
          100,
          96.66666666666666,
          100,
          100,
          100,
          100,
          100,
          100,
          100,
          100,
          92,
          100,
          100,
          100,
          89.99999999999999,
          100,
          100,
          100,
          100,
          100,
          100,
          96.66666666666666,
          92,
          100,
          96.66666666666666,
          95,
          100,
          85.00000000000001,
          96.66666666666666,
          100,
          100,
          100,
          98,
          83.33333333333333,
          100,
          100,
          100,
          86.00000000000001,
          100,
          96.66666666666666,
          89.99999999999999,
          96.66666666666666,
          96.66666666666666,
          100,
          100,
          100,
          92,
          87.5,
          91.66666666666667,
          100,
          100,
          100,
          100,
          100,
          98,
          100,
          100,
          100,
          100,
          100,
          100,
          100,
          96.66666666666666,
          100,
          100,
          100,
          100,
          86.66666666666667,
          100,
          100,
          100,
          100,
          100,
          100,
          100,
          92,
          100,
          100,
          100,
          100,
          100,
          100,
          98,
          100,
          100,
          92,
          100,
          96.66666666666666,
          100,
          96.66666666666666,
          96.66666666666666,
          96.66666666666666,
          89.99999999999999,
          98,
          100,
          100,
          100,
          100,
          100,
          100,
          95,
          96.66666666666666,
          100,
          100,
          100,
          100,
          100,
          100,
          100,
          100,
          99,
          98,
          100,
          100,
          96.66666666666666,
          100,
          100,
          100,
          100,
          100,
          89.99999999999999,
          98,
          100,
          96.66666666666666,
          100,
          98,
          100,
          89.99999999999999,
          100,
          96.66666666666666,
          100,
          100,
          100,
          100,
          100,
          100,
          100,
          100,
          100,
          89.99999999999999,
          88.33333333333333,
          98,
          100,
          96.66666666666666,
          100,
          100,
          100,
          100,
          96.66666666666666,
          100,
          100,
          100,
          100,
          100,
          85.00000000000001,
          96.66666666666666,
          100,
          100,
          100,
          86.00000000000001,
          100,
          100,
          100,
          100,
          100,
          80.66666666666666,
          98,
          100,
          100,
          100,
          100,
          100,
          100,
          100,
          90.33333333333333,
          96.66666666666666,
          100,
          100,
          100,
          100,
          100,
          85.00000000000001,
          98,
          100,
          100,
          96.66666666666666,
          97.50000000000001,
          100,
          100,
          100,
          100,
          100,
          100,
          96.66666666666666,
          100,
          100,
          100,
          100,
          100,
          100,
          100,
          100,
          86.66666666666667,
          100,
          89.99999999999999,
          96.66666666666666,
          96.66666666666666,
          100,
          100,
          100,
          100,
          100,
          100,
          92,
          100,
          96.66666666666666,
          100,
          100,
          100,
          92,
          100,
          96.66666666666666,
          100,
          100,
          100,
          95,
          80,
          96.66666666666666,
          100,
          100,
          100,
          92,
          100,
          100,
          100,
          100,
          100,
          98,
          100,
          92,
          90.33333333333333,
          96.66666666666666,
          100,
          100,
          100,
          92,
          96.66666666666666,
          92,
          100,
          100,
          100,
          100,
          96.66666666666666,
          100,
          100,
          96.66666666666666,
          100,
          96.66666666666666,
          100,
          89.99999999999999,
          100,
          92,
          100,
          100,
          100,
          100,
          100,
          100,
          100,
          100,
          100,
          100,
          100,
          100,
          100,
          100,
          100,
          100,
          100,
          100,
          100,
          85.00000000000001,
          100,
          100,
          100,
          92,
          100
         ],
         "yaxis": "y"
        }
       ],
       "layout": {
        "legend": {
         "tracegroupgap": 0
        },
        "margin": {
         "t": 60
        },
        "template": {
         "data": {
          "bar": [
           {
            "error_x": {
             "color": "#2a3f5f"
            },
            "error_y": {
             "color": "#2a3f5f"
            },
            "marker": {
             "line": {
              "color": "#E5ECF6",
              "width": 0.5
             },
             "pattern": {
              "fillmode": "overlay",
              "size": 10,
              "solidity": 0.2
             }
            },
            "type": "bar"
           }
          ],
          "barpolar": [
           {
            "marker": {
             "line": {
              "color": "#E5ECF6",
              "width": 0.5
             },
             "pattern": {
              "fillmode": "overlay",
              "size": 10,
              "solidity": 0.2
             }
            },
            "type": "barpolar"
           }
          ],
          "carpet": [
           {
            "aaxis": {
             "endlinecolor": "#2a3f5f",
             "gridcolor": "white",
             "linecolor": "white",
             "minorgridcolor": "white",
             "startlinecolor": "#2a3f5f"
            },
            "baxis": {
             "endlinecolor": "#2a3f5f",
             "gridcolor": "white",
             "linecolor": "white",
             "minorgridcolor": "white",
             "startlinecolor": "#2a3f5f"
            },
            "type": "carpet"
           }
          ],
          "choropleth": [
           {
            "colorbar": {
             "outlinewidth": 0,
             "ticks": ""
            },
            "type": "choropleth"
           }
          ],
          "contour": [
           {
            "colorbar": {
             "outlinewidth": 0,
             "ticks": ""
            },
            "colorscale": [
             [
              0,
              "#0d0887"
             ],
             [
              0.1111111111111111,
              "#46039f"
             ],
             [
              0.2222222222222222,
              "#7201a8"
             ],
             [
              0.3333333333333333,
              "#9c179e"
             ],
             [
              0.4444444444444444,
              "#bd3786"
             ],
             [
              0.5555555555555556,
              "#d8576b"
             ],
             [
              0.6666666666666666,
              "#ed7953"
             ],
             [
              0.7777777777777778,
              "#fb9f3a"
             ],
             [
              0.8888888888888888,
              "#fdca26"
             ],
             [
              1,
              "#f0f921"
             ]
            ],
            "type": "contour"
           }
          ],
          "contourcarpet": [
           {
            "colorbar": {
             "outlinewidth": 0,
             "ticks": ""
            },
            "type": "contourcarpet"
           }
          ],
          "heatmap": [
           {
            "colorbar": {
             "outlinewidth": 0,
             "ticks": ""
            },
            "colorscale": [
             [
              0,
              "#0d0887"
             ],
             [
              0.1111111111111111,
              "#46039f"
             ],
             [
              0.2222222222222222,
              "#7201a8"
             ],
             [
              0.3333333333333333,
              "#9c179e"
             ],
             [
              0.4444444444444444,
              "#bd3786"
             ],
             [
              0.5555555555555556,
              "#d8576b"
             ],
             [
              0.6666666666666666,
              "#ed7953"
             ],
             [
              0.7777777777777778,
              "#fb9f3a"
             ],
             [
              0.8888888888888888,
              "#fdca26"
             ],
             [
              1,
              "#f0f921"
             ]
            ],
            "type": "heatmap"
           }
          ],
          "heatmapgl": [
           {
            "colorbar": {
             "outlinewidth": 0,
             "ticks": ""
            },
            "colorscale": [
             [
              0,
              "#0d0887"
             ],
             [
              0.1111111111111111,
              "#46039f"
             ],
             [
              0.2222222222222222,
              "#7201a8"
             ],
             [
              0.3333333333333333,
              "#9c179e"
             ],
             [
              0.4444444444444444,
              "#bd3786"
             ],
             [
              0.5555555555555556,
              "#d8576b"
             ],
             [
              0.6666666666666666,
              "#ed7953"
             ],
             [
              0.7777777777777778,
              "#fb9f3a"
             ],
             [
              0.8888888888888888,
              "#fdca26"
             ],
             [
              1,
              "#f0f921"
             ]
            ],
            "type": "heatmapgl"
           }
          ],
          "histogram": [
           {
            "marker": {
             "pattern": {
              "fillmode": "overlay",
              "size": 10,
              "solidity": 0.2
             }
            },
            "type": "histogram"
           }
          ],
          "histogram2d": [
           {
            "colorbar": {
             "outlinewidth": 0,
             "ticks": ""
            },
            "colorscale": [
             [
              0,
              "#0d0887"
             ],
             [
              0.1111111111111111,
              "#46039f"
             ],
             [
              0.2222222222222222,
              "#7201a8"
             ],
             [
              0.3333333333333333,
              "#9c179e"
             ],
             [
              0.4444444444444444,
              "#bd3786"
             ],
             [
              0.5555555555555556,
              "#d8576b"
             ],
             [
              0.6666666666666666,
              "#ed7953"
             ],
             [
              0.7777777777777778,
              "#fb9f3a"
             ],
             [
              0.8888888888888888,
              "#fdca26"
             ],
             [
              1,
              "#f0f921"
             ]
            ],
            "type": "histogram2d"
           }
          ],
          "histogram2dcontour": [
           {
            "colorbar": {
             "outlinewidth": 0,
             "ticks": ""
            },
            "colorscale": [
             [
              0,
              "#0d0887"
             ],
             [
              0.1111111111111111,
              "#46039f"
             ],
             [
              0.2222222222222222,
              "#7201a8"
             ],
             [
              0.3333333333333333,
              "#9c179e"
             ],
             [
              0.4444444444444444,
              "#bd3786"
             ],
             [
              0.5555555555555556,
              "#d8576b"
             ],
             [
              0.6666666666666666,
              "#ed7953"
             ],
             [
              0.7777777777777778,
              "#fb9f3a"
             ],
             [
              0.8888888888888888,
              "#fdca26"
             ],
             [
              1,
              "#f0f921"
             ]
            ],
            "type": "histogram2dcontour"
           }
          ],
          "mesh3d": [
           {
            "colorbar": {
             "outlinewidth": 0,
             "ticks": ""
            },
            "type": "mesh3d"
           }
          ],
          "parcoords": [
           {
            "line": {
             "colorbar": {
              "outlinewidth": 0,
              "ticks": ""
             }
            },
            "type": "parcoords"
           }
          ],
          "pie": [
           {
            "automargin": true,
            "type": "pie"
           }
          ],
          "scatter": [
           {
            "fillpattern": {
             "fillmode": "overlay",
             "size": 10,
             "solidity": 0.2
            },
            "type": "scatter"
           }
          ],
          "scatter3d": [
           {
            "line": {
             "colorbar": {
              "outlinewidth": 0,
              "ticks": ""
             }
            },
            "marker": {
             "colorbar": {
              "outlinewidth": 0,
              "ticks": ""
             }
            },
            "type": "scatter3d"
           }
          ],
          "scattercarpet": [
           {
            "marker": {
             "colorbar": {
              "outlinewidth": 0,
              "ticks": ""
             }
            },
            "type": "scattercarpet"
           }
          ],
          "scattergeo": [
           {
            "marker": {
             "colorbar": {
              "outlinewidth": 0,
              "ticks": ""
             }
            },
            "type": "scattergeo"
           }
          ],
          "scattergl": [
           {
            "marker": {
             "colorbar": {
              "outlinewidth": 0,
              "ticks": ""
             }
            },
            "type": "scattergl"
           }
          ],
          "scattermapbox": [
           {
            "marker": {
             "colorbar": {
              "outlinewidth": 0,
              "ticks": ""
             }
            },
            "type": "scattermapbox"
           }
          ],
          "scatterpolar": [
           {
            "marker": {
             "colorbar": {
              "outlinewidth": 0,
              "ticks": ""
             }
            },
            "type": "scatterpolar"
           }
          ],
          "scatterpolargl": [
           {
            "marker": {
             "colorbar": {
              "outlinewidth": 0,
              "ticks": ""
             }
            },
            "type": "scatterpolargl"
           }
          ],
          "scatterternary": [
           {
            "marker": {
             "colorbar": {
              "outlinewidth": 0,
              "ticks": ""
             }
            },
            "type": "scatterternary"
           }
          ],
          "surface": [
           {
            "colorbar": {
             "outlinewidth": 0,
             "ticks": ""
            },
            "colorscale": [
             [
              0,
              "#0d0887"
             ],
             [
              0.1111111111111111,
              "#46039f"
             ],
             [
              0.2222222222222222,
              "#7201a8"
             ],
             [
              0.3333333333333333,
              "#9c179e"
             ],
             [
              0.4444444444444444,
              "#bd3786"
             ],
             [
              0.5555555555555556,
              "#d8576b"
             ],
             [
              0.6666666666666666,
              "#ed7953"
             ],
             [
              0.7777777777777778,
              "#fb9f3a"
             ],
             [
              0.8888888888888888,
              "#fdca26"
             ],
             [
              1,
              "#f0f921"
             ]
            ],
            "type": "surface"
           }
          ],
          "table": [
           {
            "cells": {
             "fill": {
              "color": "#EBF0F8"
             },
             "line": {
              "color": "white"
             }
            },
            "header": {
             "fill": {
              "color": "#C8D4E3"
             },
             "line": {
              "color": "white"
             }
            },
            "type": "table"
           }
          ]
         },
         "layout": {
          "annotationdefaults": {
           "arrowcolor": "#2a3f5f",
           "arrowhead": 0,
           "arrowwidth": 1
          },
          "autotypenumbers": "strict",
          "coloraxis": {
           "colorbar": {
            "outlinewidth": 0,
            "ticks": ""
           }
          },
          "colorscale": {
           "diverging": [
            [
             0,
             "#8e0152"
            ],
            [
             0.1,
             "#c51b7d"
            ],
            [
             0.2,
             "#de77ae"
            ],
            [
             0.3,
             "#f1b6da"
            ],
            [
             0.4,
             "#fde0ef"
            ],
            [
             0.5,
             "#f7f7f7"
            ],
            [
             0.6,
             "#e6f5d0"
            ],
            [
             0.7,
             "#b8e186"
            ],
            [
             0.8,
             "#7fbc41"
            ],
            [
             0.9,
             "#4d9221"
            ],
            [
             1,
             "#276419"
            ]
           ],
           "sequential": [
            [
             0,
             "#0d0887"
            ],
            [
             0.1111111111111111,
             "#46039f"
            ],
            [
             0.2222222222222222,
             "#7201a8"
            ],
            [
             0.3333333333333333,
             "#9c179e"
            ],
            [
             0.4444444444444444,
             "#bd3786"
            ],
            [
             0.5555555555555556,
             "#d8576b"
            ],
            [
             0.6666666666666666,
             "#ed7953"
            ],
            [
             0.7777777777777778,
             "#fb9f3a"
            ],
            [
             0.8888888888888888,
             "#fdca26"
            ],
            [
             1,
             "#f0f921"
            ]
           ],
           "sequentialminus": [
            [
             0,
             "#0d0887"
            ],
            [
             0.1111111111111111,
             "#46039f"
            ],
            [
             0.2222222222222222,
             "#7201a8"
            ],
            [
             0.3333333333333333,
             "#9c179e"
            ],
            [
             0.4444444444444444,
             "#bd3786"
            ],
            [
             0.5555555555555556,
             "#d8576b"
            ],
            [
             0.6666666666666666,
             "#ed7953"
            ],
            [
             0.7777777777777778,
             "#fb9f3a"
            ],
            [
             0.8888888888888888,
             "#fdca26"
            ],
            [
             1,
             "#f0f921"
            ]
           ]
          },
          "colorway": [
           "#636efa",
           "#EF553B",
           "#00cc96",
           "#ab63fa",
           "#FFA15A",
           "#19d3f3",
           "#FF6692",
           "#B6E880",
           "#FF97FF",
           "#FECB52"
          ],
          "font": {
           "color": "#2a3f5f"
          },
          "geo": {
           "bgcolor": "white",
           "lakecolor": "white",
           "landcolor": "#E5ECF6",
           "showlakes": true,
           "showland": true,
           "subunitcolor": "white"
          },
          "hoverlabel": {
           "align": "left"
          },
          "hovermode": "closest",
          "mapbox": {
           "style": "light"
          },
          "paper_bgcolor": "white",
          "plot_bgcolor": "#E5ECF6",
          "polar": {
           "angularaxis": {
            "gridcolor": "white",
            "linecolor": "white",
            "ticks": ""
           },
           "bgcolor": "#E5ECF6",
           "radialaxis": {
            "gridcolor": "white",
            "linecolor": "white",
            "ticks": ""
           }
          },
          "scene": {
           "xaxis": {
            "backgroundcolor": "#E5ECF6",
            "gridcolor": "white",
            "gridwidth": 2,
            "linecolor": "white",
            "showbackground": true,
            "ticks": "",
            "zerolinecolor": "white"
           },
           "yaxis": {
            "backgroundcolor": "#E5ECF6",
            "gridcolor": "white",
            "gridwidth": 2,
            "linecolor": "white",
            "showbackground": true,
            "ticks": "",
            "zerolinecolor": "white"
           },
           "zaxis": {
            "backgroundcolor": "#E5ECF6",
            "gridcolor": "white",
            "gridwidth": 2,
            "linecolor": "white",
            "showbackground": true,
            "ticks": "",
            "zerolinecolor": "white"
           }
          },
          "shapedefaults": {
           "line": {
            "color": "#2a3f5f"
           }
          },
          "ternary": {
           "aaxis": {
            "gridcolor": "white",
            "linecolor": "white",
            "ticks": ""
           },
           "baxis": {
            "gridcolor": "white",
            "linecolor": "white",
            "ticks": ""
           },
           "bgcolor": "#E5ECF6",
           "caxis": {
            "gridcolor": "white",
            "linecolor": "white",
            "ticks": ""
           }
          },
          "title": {
           "x": 0.05
          },
          "xaxis": {
           "automargin": true,
           "gridcolor": "white",
           "linecolor": "white",
           "ticks": "",
           "title": {
            "standoff": 15
           },
           "zerolinecolor": "white",
           "zerolinewidth": 2
          },
          "yaxis": {
           "automargin": true,
           "gridcolor": "white",
           "linecolor": "white",
           "ticks": "",
           "title": {
            "standoff": 15
           },
           "zerolinecolor": "white",
           "zerolinewidth": 2
          }
         }
        },
        "xaxis": {
         "anchor": "y",
         "domain": [
          0,
          1
         ],
         "title": {
          "text": "Sleep efficiency"
         }
        },
        "yaxis": {
         "anchor": "x",
         "domain": [
          0,
          1
         ],
         "title": {
          "text": "Sleep Quality"
         }
        }
       }
      }
     },
     "metadata": {},
     "output_type": "display_data"
    },
    {
     "data": {
      "application/vnd.plotly.v1+json": {
       "config": {
        "plotlyServerURL": "https://plot.ly"
       },
       "data": [
        {
         "hovertemplate": "REM sleep percentage=%{x}<br>Sleep Quality=%{y}<extra></extra>",
         "legendgroup": "",
         "marker": {
          "color": "#636efa",
          "symbol": "circle"
         },
         "mode": "markers",
         "name": "",
         "orientation": "v",
         "showlegend": false,
         "type": "scatter",
         "x": [
          18,
          19,
          20,
          23,
          27,
          23,
          28,
          28,
          28,
          18,
          23,
          18,
          24,
          28,
          20,
          25,
          28,
          18,
          20,
          28,
          15,
          23,
          23,
          22,
          15,
          18,
          28,
          24,
          27,
          20,
          27,
          22,
          23,
          28,
          25,
          23,
          18,
          26,
          28,
          22,
          22,
          20,
          28,
          23,
          22,
          19,
          23,
          28,
          23,
          25,
          22,
          22,
          18,
          18,
          18,
          18,
          27,
          23,
          22,
          28,
          28,
          18,
          15,
          28,
          20,
          19,
          15,
          18,
          18,
          20,
          28,
          18,
          20,
          23,
          22,
          26,
          30,
          18,
          20,
          23,
          20,
          15,
          24,
          22,
          22,
          18,
          22,
          26,
          23,
          26,
          24,
          27,
          18,
          22,
          22,
          20,
          28,
          22,
          20,
          20,
          28,
          20,
          23,
          20,
          28,
          22,
          25,
          19,
          22,
          23,
          23,
          20,
          15,
          20,
          19,
          27,
          28,
          20,
          20,
          20,
          20,
          20,
          22,
          20,
          20,
          28,
          23,
          30,
          20,
          18,
          28,
          23,
          28,
          18,
          23,
          20,
          19,
          22,
          23,
          18,
          20,
          23,
          27,
          27,
          22,
          24,
          18,
          20,
          28,
          24,
          28,
          25,
          18,
          22,
          28,
          20,
          23,
          30,
          18,
          26,
          24,
          28,
          23,
          22,
          20,
          25,
          20,
          23,
          20,
          28,
          27,
          28,
          25,
          26,
          20,
          18,
          22,
          22,
          24,
          20,
          24,
          23,
          28,
          24,
          22,
          30,
          28,
          18,
          19,
          20,
          18,
          25,
          15,
          20,
          20,
          23,
          22,
          24,
          20,
          23,
          22,
          23,
          18,
          20,
          20,
          20,
          20,
          20,
          22,
          20,
          23,
          18,
          15,
          25,
          25,
          28,
          27,
          23,
          28,
          18,
          28,
          20,
          25,
          22,
          28,
          22,
          25,
          20,
          24,
          24,
          22,
          27,
          22,
          22,
          23,
          23,
          22,
          20,
          22,
          20,
          18,
          26,
          23,
          23,
          24,
          24,
          20,
          18,
          24,
          19,
          18,
          28,
          20,
          30,
          20,
          20,
          20,
          15,
          18,
          20,
          27,
          28,
          23,
          26,
          22,
          18,
          20,
          20,
          20,
          22,
          23,
          28,
          27,
          28,
          22,
          21,
          18,
          25,
          23,
          20,
          28,
          26,
          24,
          22,
          22,
          20,
          18,
          23,
          20,
          28,
          18,
          25,
          20,
          23,
          20,
          24,
          22,
          20,
          22,
          27,
          25,
          26,
          25,
          24,
          15,
          23,
          24,
          24,
          20,
          28,
          20,
          25,
          27,
          20,
          22,
          25,
          22,
          23,
          23,
          15,
          27,
          23,
          28,
          22,
          18,
          23,
          22,
          23,
          20,
          23,
          22,
          18,
          18,
          22,
          22,
          28,
          22,
          20,
          23,
          22,
          20,
          23,
          19,
          22,
          27,
          28,
          15,
          18,
          22,
          28,
          27,
          19,
          25,
          25,
          25,
          24,
          20,
          25,
          20,
          23,
          24,
          25,
          22,
          22,
          30,
          26,
          20,
          22,
          20,
          20,
          20,
          20,
          25,
          20,
          20,
          22,
          22,
          26,
          18,
          27,
          20,
          25,
          25,
          20,
          18,
          24,
          20,
          30,
          26,
          25,
          18,
          28,
          20,
          23,
          20,
          27,
          28,
          22,
          28,
          28,
          20,
          20,
          18,
          27,
          22,
          22,
          20,
          24,
          26,
          28,
          18,
          20,
          18,
          28,
          26,
          23,
          25,
          20,
          22,
          19,
          27,
          22,
          20,
          23,
          15,
          28,
          18,
          27,
          20,
          25,
          28,
          25,
          28,
          25,
          22,
          28,
          27,
          27,
          28,
          20,
          22,
          23,
          23,
          23,
          24,
          28,
          15,
          22,
          28,
          20,
          18,
          22
         ],
         "xaxis": "x",
         "y": [
          86.00000000000001,
          94.33333333333334,
          100,
          96,
          100,
          100,
          100,
          100,
          100,
          100,
          100,
          95,
          100,
          100,
          100,
          100,
          100,
          95,
          100,
          100,
          89.99999999999999,
          100,
          100,
          100,
          85.00000000000001,
          86.00000000000001,
          100,
          100,
          100,
          96.66666666666666,
          96.66666666666666,
          100,
          100,
          100,
          100,
          100,
          92,
          100,
          100,
          100,
          94,
          89.99999999999999,
          100,
          100,
          100,
          94.33333333333334,
          100,
          100,
          100,
          100,
          100,
          100,
          100,
          100,
          95,
          100,
          100,
          100,
          100,
          100,
          100,
          92,
          89.99999999999999,
          100,
          100,
          100,
          85.00000000000001,
          95,
          92,
          89.99999999999999,
          100,
          92,
          89.99999999999999,
          100,
          100,
          100,
          100,
          100,
          96.66666666666666,
          100,
          100,
          87.5,
          100,
          100,
          88,
          95,
          100,
          100,
          100,
          100,
          89.99999999999999,
          100,
          92,
          100,
          100,
          96.66666666666666,
          100,
          100,
          100,
          100,
          100,
          100,
          100,
          89.99999999999999,
          100,
          100,
          96.66666666666666,
          100,
          100,
          100,
          88.33333333333333,
          96.66666666666666,
          89.99999999999999,
          89.99999999999999,
          100,
          96.66666666666666,
          100,
          100,
          96.66666666666666,
          96.66666666666666,
          89.99999999999999,
          100,
          100,
          100,
          96.66666666666666,
          100,
          100,
          100,
          100,
          92,
          100,
          100,
          100,
          98,
          100,
          96.66666666666666,
          94.33333333333334,
          100,
          100,
          100,
          100,
          96,
          100,
          100,
          100,
          100,
          98,
          100,
          100,
          100,
          100,
          100,
          95,
          100,
          100,
          100,
          100,
          100,
          92,
          100,
          100,
          100,
          100,
          100,
          100,
          100,
          96.66666666666666,
          100,
          100,
          100,
          100,
          100,
          100,
          100,
          100,
          92,
          100,
          100,
          100,
          89.99999999999999,
          100,
          100,
          100,
          100,
          100,
          100,
          96.66666666666666,
          92,
          100,
          96.66666666666666,
          95,
          100,
          85.00000000000001,
          96.66666666666666,
          100,
          100,
          100,
          98,
          83.33333333333333,
          100,
          100,
          100,
          86.00000000000001,
          100,
          96.66666666666666,
          89.99999999999999,
          96.66666666666666,
          96.66666666666666,
          100,
          100,
          100,
          92,
          87.5,
          91.66666666666667,
          100,
          100,
          100,
          100,
          100,
          98,
          100,
          100,
          100,
          100,
          100,
          100,
          100,
          96.66666666666666,
          100,
          100,
          100,
          100,
          86.66666666666667,
          100,
          100,
          100,
          100,
          100,
          100,
          100,
          92,
          100,
          100,
          100,
          100,
          100,
          100,
          98,
          100,
          100,
          92,
          100,
          96.66666666666666,
          100,
          96.66666666666666,
          96.66666666666666,
          96.66666666666666,
          89.99999999999999,
          98,
          100,
          100,
          100,
          100,
          100,
          100,
          95,
          96.66666666666666,
          100,
          100,
          100,
          100,
          100,
          100,
          100,
          100,
          99,
          98,
          100,
          100,
          96.66666666666666,
          100,
          100,
          100,
          100,
          100,
          89.99999999999999,
          98,
          100,
          96.66666666666666,
          100,
          98,
          100,
          89.99999999999999,
          100,
          96.66666666666666,
          100,
          100,
          100,
          100,
          100,
          100,
          100,
          100,
          100,
          89.99999999999999,
          88.33333333333333,
          98,
          100,
          96.66666666666666,
          100,
          100,
          100,
          100,
          96.66666666666666,
          100,
          100,
          100,
          100,
          100,
          85.00000000000001,
          96.66666666666666,
          100,
          100,
          100,
          86.00000000000001,
          100,
          100,
          100,
          100,
          100,
          80.66666666666666,
          98,
          100,
          100,
          100,
          100,
          100,
          100,
          100,
          90.33333333333333,
          96.66666666666666,
          100,
          100,
          100,
          100,
          100,
          85.00000000000001,
          98,
          100,
          100,
          96.66666666666666,
          97.50000000000001,
          100,
          100,
          100,
          100,
          100,
          100,
          96.66666666666666,
          100,
          100,
          100,
          100,
          100,
          100,
          100,
          100,
          86.66666666666667,
          100,
          89.99999999999999,
          96.66666666666666,
          96.66666666666666,
          100,
          100,
          100,
          100,
          100,
          100,
          92,
          100,
          96.66666666666666,
          100,
          100,
          100,
          92,
          100,
          96.66666666666666,
          100,
          100,
          100,
          95,
          80,
          96.66666666666666,
          100,
          100,
          100,
          92,
          100,
          100,
          100,
          100,
          100,
          98,
          100,
          92,
          90.33333333333333,
          96.66666666666666,
          100,
          100,
          100,
          92,
          96.66666666666666,
          92,
          100,
          100,
          100,
          100,
          96.66666666666666,
          100,
          100,
          96.66666666666666,
          100,
          96.66666666666666,
          100,
          89.99999999999999,
          100,
          92,
          100,
          100,
          100,
          100,
          100,
          100,
          100,
          100,
          100,
          100,
          100,
          100,
          100,
          100,
          100,
          100,
          100,
          100,
          100,
          85.00000000000001,
          100,
          100,
          100,
          92,
          100
         ],
         "yaxis": "y"
        }
       ],
       "layout": {
        "legend": {
         "tracegroupgap": 0
        },
        "margin": {
         "t": 60
        },
        "template": {
         "data": {
          "bar": [
           {
            "error_x": {
             "color": "#2a3f5f"
            },
            "error_y": {
             "color": "#2a3f5f"
            },
            "marker": {
             "line": {
              "color": "#E5ECF6",
              "width": 0.5
             },
             "pattern": {
              "fillmode": "overlay",
              "size": 10,
              "solidity": 0.2
             }
            },
            "type": "bar"
           }
          ],
          "barpolar": [
           {
            "marker": {
             "line": {
              "color": "#E5ECF6",
              "width": 0.5
             },
             "pattern": {
              "fillmode": "overlay",
              "size": 10,
              "solidity": 0.2
             }
            },
            "type": "barpolar"
           }
          ],
          "carpet": [
           {
            "aaxis": {
             "endlinecolor": "#2a3f5f",
             "gridcolor": "white",
             "linecolor": "white",
             "minorgridcolor": "white",
             "startlinecolor": "#2a3f5f"
            },
            "baxis": {
             "endlinecolor": "#2a3f5f",
             "gridcolor": "white",
             "linecolor": "white",
             "minorgridcolor": "white",
             "startlinecolor": "#2a3f5f"
            },
            "type": "carpet"
           }
          ],
          "choropleth": [
           {
            "colorbar": {
             "outlinewidth": 0,
             "ticks": ""
            },
            "type": "choropleth"
           }
          ],
          "contour": [
           {
            "colorbar": {
             "outlinewidth": 0,
             "ticks": ""
            },
            "colorscale": [
             [
              0,
              "#0d0887"
             ],
             [
              0.1111111111111111,
              "#46039f"
             ],
             [
              0.2222222222222222,
              "#7201a8"
             ],
             [
              0.3333333333333333,
              "#9c179e"
             ],
             [
              0.4444444444444444,
              "#bd3786"
             ],
             [
              0.5555555555555556,
              "#d8576b"
             ],
             [
              0.6666666666666666,
              "#ed7953"
             ],
             [
              0.7777777777777778,
              "#fb9f3a"
             ],
             [
              0.8888888888888888,
              "#fdca26"
             ],
             [
              1,
              "#f0f921"
             ]
            ],
            "type": "contour"
           }
          ],
          "contourcarpet": [
           {
            "colorbar": {
             "outlinewidth": 0,
             "ticks": ""
            },
            "type": "contourcarpet"
           }
          ],
          "heatmap": [
           {
            "colorbar": {
             "outlinewidth": 0,
             "ticks": ""
            },
            "colorscale": [
             [
              0,
              "#0d0887"
             ],
             [
              0.1111111111111111,
              "#46039f"
             ],
             [
              0.2222222222222222,
              "#7201a8"
             ],
             [
              0.3333333333333333,
              "#9c179e"
             ],
             [
              0.4444444444444444,
              "#bd3786"
             ],
             [
              0.5555555555555556,
              "#d8576b"
             ],
             [
              0.6666666666666666,
              "#ed7953"
             ],
             [
              0.7777777777777778,
              "#fb9f3a"
             ],
             [
              0.8888888888888888,
              "#fdca26"
             ],
             [
              1,
              "#f0f921"
             ]
            ],
            "type": "heatmap"
           }
          ],
          "heatmapgl": [
           {
            "colorbar": {
             "outlinewidth": 0,
             "ticks": ""
            },
            "colorscale": [
             [
              0,
              "#0d0887"
             ],
             [
              0.1111111111111111,
              "#46039f"
             ],
             [
              0.2222222222222222,
              "#7201a8"
             ],
             [
              0.3333333333333333,
              "#9c179e"
             ],
             [
              0.4444444444444444,
              "#bd3786"
             ],
             [
              0.5555555555555556,
              "#d8576b"
             ],
             [
              0.6666666666666666,
              "#ed7953"
             ],
             [
              0.7777777777777778,
              "#fb9f3a"
             ],
             [
              0.8888888888888888,
              "#fdca26"
             ],
             [
              1,
              "#f0f921"
             ]
            ],
            "type": "heatmapgl"
           }
          ],
          "histogram": [
           {
            "marker": {
             "pattern": {
              "fillmode": "overlay",
              "size": 10,
              "solidity": 0.2
             }
            },
            "type": "histogram"
           }
          ],
          "histogram2d": [
           {
            "colorbar": {
             "outlinewidth": 0,
             "ticks": ""
            },
            "colorscale": [
             [
              0,
              "#0d0887"
             ],
             [
              0.1111111111111111,
              "#46039f"
             ],
             [
              0.2222222222222222,
              "#7201a8"
             ],
             [
              0.3333333333333333,
              "#9c179e"
             ],
             [
              0.4444444444444444,
              "#bd3786"
             ],
             [
              0.5555555555555556,
              "#d8576b"
             ],
             [
              0.6666666666666666,
              "#ed7953"
             ],
             [
              0.7777777777777778,
              "#fb9f3a"
             ],
             [
              0.8888888888888888,
              "#fdca26"
             ],
             [
              1,
              "#f0f921"
             ]
            ],
            "type": "histogram2d"
           }
          ],
          "histogram2dcontour": [
           {
            "colorbar": {
             "outlinewidth": 0,
             "ticks": ""
            },
            "colorscale": [
             [
              0,
              "#0d0887"
             ],
             [
              0.1111111111111111,
              "#46039f"
             ],
             [
              0.2222222222222222,
              "#7201a8"
             ],
             [
              0.3333333333333333,
              "#9c179e"
             ],
             [
              0.4444444444444444,
              "#bd3786"
             ],
             [
              0.5555555555555556,
              "#d8576b"
             ],
             [
              0.6666666666666666,
              "#ed7953"
             ],
             [
              0.7777777777777778,
              "#fb9f3a"
             ],
             [
              0.8888888888888888,
              "#fdca26"
             ],
             [
              1,
              "#f0f921"
             ]
            ],
            "type": "histogram2dcontour"
           }
          ],
          "mesh3d": [
           {
            "colorbar": {
             "outlinewidth": 0,
             "ticks": ""
            },
            "type": "mesh3d"
           }
          ],
          "parcoords": [
           {
            "line": {
             "colorbar": {
              "outlinewidth": 0,
              "ticks": ""
             }
            },
            "type": "parcoords"
           }
          ],
          "pie": [
           {
            "automargin": true,
            "type": "pie"
           }
          ],
          "scatter": [
           {
            "fillpattern": {
             "fillmode": "overlay",
             "size": 10,
             "solidity": 0.2
            },
            "type": "scatter"
           }
          ],
          "scatter3d": [
           {
            "line": {
             "colorbar": {
              "outlinewidth": 0,
              "ticks": ""
             }
            },
            "marker": {
             "colorbar": {
              "outlinewidth": 0,
              "ticks": ""
             }
            },
            "type": "scatter3d"
           }
          ],
          "scattercarpet": [
           {
            "marker": {
             "colorbar": {
              "outlinewidth": 0,
              "ticks": ""
             }
            },
            "type": "scattercarpet"
           }
          ],
          "scattergeo": [
           {
            "marker": {
             "colorbar": {
              "outlinewidth": 0,
              "ticks": ""
             }
            },
            "type": "scattergeo"
           }
          ],
          "scattergl": [
           {
            "marker": {
             "colorbar": {
              "outlinewidth": 0,
              "ticks": ""
             }
            },
            "type": "scattergl"
           }
          ],
          "scattermapbox": [
           {
            "marker": {
             "colorbar": {
              "outlinewidth": 0,
              "ticks": ""
             }
            },
            "type": "scattermapbox"
           }
          ],
          "scatterpolar": [
           {
            "marker": {
             "colorbar": {
              "outlinewidth": 0,
              "ticks": ""
             }
            },
            "type": "scatterpolar"
           }
          ],
          "scatterpolargl": [
           {
            "marker": {
             "colorbar": {
              "outlinewidth": 0,
              "ticks": ""
             }
            },
            "type": "scatterpolargl"
           }
          ],
          "scatterternary": [
           {
            "marker": {
             "colorbar": {
              "outlinewidth": 0,
              "ticks": ""
             }
            },
            "type": "scatterternary"
           }
          ],
          "surface": [
           {
            "colorbar": {
             "outlinewidth": 0,
             "ticks": ""
            },
            "colorscale": [
             [
              0,
              "#0d0887"
             ],
             [
              0.1111111111111111,
              "#46039f"
             ],
             [
              0.2222222222222222,
              "#7201a8"
             ],
             [
              0.3333333333333333,
              "#9c179e"
             ],
             [
              0.4444444444444444,
              "#bd3786"
             ],
             [
              0.5555555555555556,
              "#d8576b"
             ],
             [
              0.6666666666666666,
              "#ed7953"
             ],
             [
              0.7777777777777778,
              "#fb9f3a"
             ],
             [
              0.8888888888888888,
              "#fdca26"
             ],
             [
              1,
              "#f0f921"
             ]
            ],
            "type": "surface"
           }
          ],
          "table": [
           {
            "cells": {
             "fill": {
              "color": "#EBF0F8"
             },
             "line": {
              "color": "white"
             }
            },
            "header": {
             "fill": {
              "color": "#C8D4E3"
             },
             "line": {
              "color": "white"
             }
            },
            "type": "table"
           }
          ]
         },
         "layout": {
          "annotationdefaults": {
           "arrowcolor": "#2a3f5f",
           "arrowhead": 0,
           "arrowwidth": 1
          },
          "autotypenumbers": "strict",
          "coloraxis": {
           "colorbar": {
            "outlinewidth": 0,
            "ticks": ""
           }
          },
          "colorscale": {
           "diverging": [
            [
             0,
             "#8e0152"
            ],
            [
             0.1,
             "#c51b7d"
            ],
            [
             0.2,
             "#de77ae"
            ],
            [
             0.3,
             "#f1b6da"
            ],
            [
             0.4,
             "#fde0ef"
            ],
            [
             0.5,
             "#f7f7f7"
            ],
            [
             0.6,
             "#e6f5d0"
            ],
            [
             0.7,
             "#b8e186"
            ],
            [
             0.8,
             "#7fbc41"
            ],
            [
             0.9,
             "#4d9221"
            ],
            [
             1,
             "#276419"
            ]
           ],
           "sequential": [
            [
             0,
             "#0d0887"
            ],
            [
             0.1111111111111111,
             "#46039f"
            ],
            [
             0.2222222222222222,
             "#7201a8"
            ],
            [
             0.3333333333333333,
             "#9c179e"
            ],
            [
             0.4444444444444444,
             "#bd3786"
            ],
            [
             0.5555555555555556,
             "#d8576b"
            ],
            [
             0.6666666666666666,
             "#ed7953"
            ],
            [
             0.7777777777777778,
             "#fb9f3a"
            ],
            [
             0.8888888888888888,
             "#fdca26"
            ],
            [
             1,
             "#f0f921"
            ]
           ],
           "sequentialminus": [
            [
             0,
             "#0d0887"
            ],
            [
             0.1111111111111111,
             "#46039f"
            ],
            [
             0.2222222222222222,
             "#7201a8"
            ],
            [
             0.3333333333333333,
             "#9c179e"
            ],
            [
             0.4444444444444444,
             "#bd3786"
            ],
            [
             0.5555555555555556,
             "#d8576b"
            ],
            [
             0.6666666666666666,
             "#ed7953"
            ],
            [
             0.7777777777777778,
             "#fb9f3a"
            ],
            [
             0.8888888888888888,
             "#fdca26"
            ],
            [
             1,
             "#f0f921"
            ]
           ]
          },
          "colorway": [
           "#636efa",
           "#EF553B",
           "#00cc96",
           "#ab63fa",
           "#FFA15A",
           "#19d3f3",
           "#FF6692",
           "#B6E880",
           "#FF97FF",
           "#FECB52"
          ],
          "font": {
           "color": "#2a3f5f"
          },
          "geo": {
           "bgcolor": "white",
           "lakecolor": "white",
           "landcolor": "#E5ECF6",
           "showlakes": true,
           "showland": true,
           "subunitcolor": "white"
          },
          "hoverlabel": {
           "align": "left"
          },
          "hovermode": "closest",
          "mapbox": {
           "style": "light"
          },
          "paper_bgcolor": "white",
          "plot_bgcolor": "#E5ECF6",
          "polar": {
           "angularaxis": {
            "gridcolor": "white",
            "linecolor": "white",
            "ticks": ""
           },
           "bgcolor": "#E5ECF6",
           "radialaxis": {
            "gridcolor": "white",
            "linecolor": "white",
            "ticks": ""
           }
          },
          "scene": {
           "xaxis": {
            "backgroundcolor": "#E5ECF6",
            "gridcolor": "white",
            "gridwidth": 2,
            "linecolor": "white",
            "showbackground": true,
            "ticks": "",
            "zerolinecolor": "white"
           },
           "yaxis": {
            "backgroundcolor": "#E5ECF6",
            "gridcolor": "white",
            "gridwidth": 2,
            "linecolor": "white",
            "showbackground": true,
            "ticks": "",
            "zerolinecolor": "white"
           },
           "zaxis": {
            "backgroundcolor": "#E5ECF6",
            "gridcolor": "white",
            "gridwidth": 2,
            "linecolor": "white",
            "showbackground": true,
            "ticks": "",
            "zerolinecolor": "white"
           }
          },
          "shapedefaults": {
           "line": {
            "color": "#2a3f5f"
           }
          },
          "ternary": {
           "aaxis": {
            "gridcolor": "white",
            "linecolor": "white",
            "ticks": ""
           },
           "baxis": {
            "gridcolor": "white",
            "linecolor": "white",
            "ticks": ""
           },
           "bgcolor": "#E5ECF6",
           "caxis": {
            "gridcolor": "white",
            "linecolor": "white",
            "ticks": ""
           }
          },
          "title": {
           "x": 0.05
          },
          "xaxis": {
           "automargin": true,
           "gridcolor": "white",
           "linecolor": "white",
           "ticks": "",
           "title": {
            "standoff": 15
           },
           "zerolinecolor": "white",
           "zerolinewidth": 2
          },
          "yaxis": {
           "automargin": true,
           "gridcolor": "white",
           "linecolor": "white",
           "ticks": "",
           "title": {
            "standoff": 15
           },
           "zerolinecolor": "white",
           "zerolinewidth": 2
          }
         }
        },
        "xaxis": {
         "anchor": "y",
         "domain": [
          0,
          1
         ],
         "title": {
          "text": "REM sleep percentage"
         }
        },
        "yaxis": {
         "anchor": "x",
         "domain": [
          0,
          1
         ],
         "title": {
          "text": "Sleep Quality"
         }
        }
       }
      }
     },
     "metadata": {},
     "output_type": "display_data"
    },
    {
     "data": {
      "application/vnd.plotly.v1+json": {
       "config": {
        "plotlyServerURL": "https://plot.ly"
       },
       "data": [
        {
         "hovertemplate": "Deep sleep percentage=%{x}<br>Sleep Quality=%{y}<extra></extra>",
         "legendgroup": "",
         "marker": {
          "color": "#636efa",
          "symbol": "circle"
         },
         "mode": "markers",
         "name": "",
         "orientation": "v",
         "showlegend": false,
         "type": "scatter",
         "x": [
          70,
          28,
          70,
          25,
          55,
          60,
          25,
          52,
          55,
          37,
          57,
          60,
          58,
          25,
          32,
          55,
          22,
          20,
          67,
          52,
          75,
          58,
          60,
          65,
          75,
          72,
          55,
          60,
          20,
          60,
          20,
          30,
          23,
          53,
          60,
          22,
          72,
          56,
          60,
          23,
          58,
          67,
          20,
          60,
          65,
          63,
          57,
          60,
          60,
          55,
          57,
          59,
          35,
          35,
          70,
          70,
          55,
          58,
          65,
          60,
          60,
          60,
          67,
          55,
          70,
          63,
          70,
          72,
          70,
          35,
          20,
          62,
          35,
          60,
          58,
          28,
          60,
          70,
          70,
          60,
          67,
          67,
          60,
          57,
          22,
          65,
          57,
          58,
          60,
          56,
          60,
          55,
          35,
          58,
          58,
          67,
          55,
          57,
          67,
          70,
          55,
          67,
          60,
          32,
          60,
          57,
          20,
          63,
          63,
          57,
          57,
          65,
          65,
          67,
          63,
          20,
          57,
          35,
          62,
          70,
          62,
          35,
          58,
          67,
          35,
          51,
          22,
          55,
          65,
          65,
          25,
          60,
          60,
          70,
          25,
          65,
          63,
          65,
          58,
          35,
          32,
          25,
          55,
          55,
          65,
          28,
          35,
          65,
          60,
          25,
          20,
          63,
          65,
          59,
          58,
          70,
          60,
          60,
          35,
          56,
          59,
          55,
          57,
          57,
          70,
          55,
          70,
          60,
          62,
          25,
          55,
          25,
          20,
          60,
          70,
          35,
          24,
          65,
          58,
          65,
          60,
          60,
          60,
          59,
          57,
          55,
          20,
          65,
          63,
          70,
          30,
          60,
          70,
          30,
          60,
          23,
          63,
          60,
          65,
          57,
          57,
          58,
          70,
          30,
          60,
          67,
          67,
          65,
          65,
          70,
          60,
          35,
          55,
          60,
          35,
          60,
          55,
          25,
          52,
          37,
          51,
          67,
          55,
          24,
          65,
          58,
          55,
          70,
          59,
          56,
          58,
          20,
          65,
          65,
          57,
          60,
          58,
          67,
          65,
          70,
          60,
          56,
          60,
          60,
          59,
          60,
          65,
          62,
          63,
          28,
          30,
          57,
          35,
          60,
          65,
          32,
          65,
          22,
          35,
          65,
          55,
          57,
          60,
          56,
          57,
          72,
          32,
          60,
          67,
          57,
          60,
          55,
          20,
          57,
          58,
          62,
          67,
          60,
          58,
          27,
          55,
          58,
          60,
          30,
          24,
          35,
          37,
          25,
          65,
          60,
          60,
          60,
          70,
          60,
          65,
          59,
          58,
          65,
          65,
          20,
          55,
          56,
          55,
          59,
          70,
          60,
          60,
          25,
          65,
          60,
          30,
          60,
          55,
          70,
          23,
          55,
          58,
          57,
          57,
          70,
          20,
          60,
          55,
          58,
          70,
          22,
          28,
          25,
          65,
          25,
          22,
          72,
          35,
          57,
          65,
          60,
          58,
          65,
          58,
          57,
          65,
          60,
          28,
          60,
          55,
          22,
          67,
          75,
          65,
          60,
          20,
          63,
          55,
          57,
          55,
          60,
          62,
          60,
          35,
          57,
          25,
          63,
          63,
          65,
          25,
          60,
          70,
          59,
          65,
          70,
          65,
          35,
          55,
          70,
          35,
          23,
          57,
          63,
          75,
          55,
          67,
          58,
          57,
          70,
          72,
          60,
          35,
          60,
          63,
          55,
          65,
          20,
          35,
          57,
          30,
          55,
          18,
          23,
          52,
          60,
          65,
          67,
          70,
          55,
          24,
          57,
          62,
          63,
          56,
          60,
          35,
          70,
          72,
          52,
          56,
          22,
          55,
          35,
          22,
          63,
          20,
          58,
          65,
          25,
          70,
          55,
          65,
          55,
          35,
          62,
          60,
          55,
          53,
          63,
          63,
          57,
          55,
          55,
          57,
          35,
          63,
          22,
          22,
          23,
          28,
          20,
          40,
          57,
          57,
          32,
          72,
          23
         ],
         "xaxis": "x",
         "y": [
          86.00000000000001,
          94.33333333333334,
          100,
          96,
          100,
          100,
          100,
          100,
          100,
          100,
          100,
          95,
          100,
          100,
          100,
          100,
          100,
          95,
          100,
          100,
          89.99999999999999,
          100,
          100,
          100,
          85.00000000000001,
          86.00000000000001,
          100,
          100,
          100,
          96.66666666666666,
          96.66666666666666,
          100,
          100,
          100,
          100,
          100,
          92,
          100,
          100,
          100,
          94,
          89.99999999999999,
          100,
          100,
          100,
          94.33333333333334,
          100,
          100,
          100,
          100,
          100,
          100,
          100,
          100,
          95,
          100,
          100,
          100,
          100,
          100,
          100,
          92,
          89.99999999999999,
          100,
          100,
          100,
          85.00000000000001,
          95,
          92,
          89.99999999999999,
          100,
          92,
          89.99999999999999,
          100,
          100,
          100,
          100,
          100,
          96.66666666666666,
          100,
          100,
          87.5,
          100,
          100,
          88,
          95,
          100,
          100,
          100,
          100,
          89.99999999999999,
          100,
          92,
          100,
          100,
          96.66666666666666,
          100,
          100,
          100,
          100,
          100,
          100,
          100,
          89.99999999999999,
          100,
          100,
          96.66666666666666,
          100,
          100,
          100,
          88.33333333333333,
          96.66666666666666,
          89.99999999999999,
          89.99999999999999,
          100,
          96.66666666666666,
          100,
          100,
          96.66666666666666,
          96.66666666666666,
          89.99999999999999,
          100,
          100,
          100,
          96.66666666666666,
          100,
          100,
          100,
          100,
          92,
          100,
          100,
          100,
          98,
          100,
          96.66666666666666,
          94.33333333333334,
          100,
          100,
          100,
          100,
          96,
          100,
          100,
          100,
          100,
          98,
          100,
          100,
          100,
          100,
          100,
          95,
          100,
          100,
          100,
          100,
          100,
          92,
          100,
          100,
          100,
          100,
          100,
          100,
          100,
          96.66666666666666,
          100,
          100,
          100,
          100,
          100,
          100,
          100,
          100,
          92,
          100,
          100,
          100,
          89.99999999999999,
          100,
          100,
          100,
          100,
          100,
          100,
          96.66666666666666,
          92,
          100,
          96.66666666666666,
          95,
          100,
          85.00000000000001,
          96.66666666666666,
          100,
          100,
          100,
          98,
          83.33333333333333,
          100,
          100,
          100,
          86.00000000000001,
          100,
          96.66666666666666,
          89.99999999999999,
          96.66666666666666,
          96.66666666666666,
          100,
          100,
          100,
          92,
          87.5,
          91.66666666666667,
          100,
          100,
          100,
          100,
          100,
          98,
          100,
          100,
          100,
          100,
          100,
          100,
          100,
          96.66666666666666,
          100,
          100,
          100,
          100,
          86.66666666666667,
          100,
          100,
          100,
          100,
          100,
          100,
          100,
          92,
          100,
          100,
          100,
          100,
          100,
          100,
          98,
          100,
          100,
          92,
          100,
          96.66666666666666,
          100,
          96.66666666666666,
          96.66666666666666,
          96.66666666666666,
          89.99999999999999,
          98,
          100,
          100,
          100,
          100,
          100,
          100,
          95,
          96.66666666666666,
          100,
          100,
          100,
          100,
          100,
          100,
          100,
          100,
          99,
          98,
          100,
          100,
          96.66666666666666,
          100,
          100,
          100,
          100,
          100,
          89.99999999999999,
          98,
          100,
          96.66666666666666,
          100,
          98,
          100,
          89.99999999999999,
          100,
          96.66666666666666,
          100,
          100,
          100,
          100,
          100,
          100,
          100,
          100,
          100,
          89.99999999999999,
          88.33333333333333,
          98,
          100,
          96.66666666666666,
          100,
          100,
          100,
          100,
          96.66666666666666,
          100,
          100,
          100,
          100,
          100,
          85.00000000000001,
          96.66666666666666,
          100,
          100,
          100,
          86.00000000000001,
          100,
          100,
          100,
          100,
          100,
          80.66666666666666,
          98,
          100,
          100,
          100,
          100,
          100,
          100,
          100,
          90.33333333333333,
          96.66666666666666,
          100,
          100,
          100,
          100,
          100,
          85.00000000000001,
          98,
          100,
          100,
          96.66666666666666,
          97.50000000000001,
          100,
          100,
          100,
          100,
          100,
          100,
          96.66666666666666,
          100,
          100,
          100,
          100,
          100,
          100,
          100,
          100,
          86.66666666666667,
          100,
          89.99999999999999,
          96.66666666666666,
          96.66666666666666,
          100,
          100,
          100,
          100,
          100,
          100,
          92,
          100,
          96.66666666666666,
          100,
          100,
          100,
          92,
          100,
          96.66666666666666,
          100,
          100,
          100,
          95,
          80,
          96.66666666666666,
          100,
          100,
          100,
          92,
          100,
          100,
          100,
          100,
          100,
          98,
          100,
          92,
          90.33333333333333,
          96.66666666666666,
          100,
          100,
          100,
          92,
          96.66666666666666,
          92,
          100,
          100,
          100,
          100,
          96.66666666666666,
          100,
          100,
          96.66666666666666,
          100,
          96.66666666666666,
          100,
          89.99999999999999,
          100,
          92,
          100,
          100,
          100,
          100,
          100,
          100,
          100,
          100,
          100,
          100,
          100,
          100,
          100,
          100,
          100,
          100,
          100,
          100,
          100,
          85.00000000000001,
          100,
          100,
          100,
          92,
          100
         ],
         "yaxis": "y"
        }
       ],
       "layout": {
        "legend": {
         "tracegroupgap": 0
        },
        "margin": {
         "t": 60
        },
        "template": {
         "data": {
          "bar": [
           {
            "error_x": {
             "color": "#2a3f5f"
            },
            "error_y": {
             "color": "#2a3f5f"
            },
            "marker": {
             "line": {
              "color": "#E5ECF6",
              "width": 0.5
             },
             "pattern": {
              "fillmode": "overlay",
              "size": 10,
              "solidity": 0.2
             }
            },
            "type": "bar"
           }
          ],
          "barpolar": [
           {
            "marker": {
             "line": {
              "color": "#E5ECF6",
              "width": 0.5
             },
             "pattern": {
              "fillmode": "overlay",
              "size": 10,
              "solidity": 0.2
             }
            },
            "type": "barpolar"
           }
          ],
          "carpet": [
           {
            "aaxis": {
             "endlinecolor": "#2a3f5f",
             "gridcolor": "white",
             "linecolor": "white",
             "minorgridcolor": "white",
             "startlinecolor": "#2a3f5f"
            },
            "baxis": {
             "endlinecolor": "#2a3f5f",
             "gridcolor": "white",
             "linecolor": "white",
             "minorgridcolor": "white",
             "startlinecolor": "#2a3f5f"
            },
            "type": "carpet"
           }
          ],
          "choropleth": [
           {
            "colorbar": {
             "outlinewidth": 0,
             "ticks": ""
            },
            "type": "choropleth"
           }
          ],
          "contour": [
           {
            "colorbar": {
             "outlinewidth": 0,
             "ticks": ""
            },
            "colorscale": [
             [
              0,
              "#0d0887"
             ],
             [
              0.1111111111111111,
              "#46039f"
             ],
             [
              0.2222222222222222,
              "#7201a8"
             ],
             [
              0.3333333333333333,
              "#9c179e"
             ],
             [
              0.4444444444444444,
              "#bd3786"
             ],
             [
              0.5555555555555556,
              "#d8576b"
             ],
             [
              0.6666666666666666,
              "#ed7953"
             ],
             [
              0.7777777777777778,
              "#fb9f3a"
             ],
             [
              0.8888888888888888,
              "#fdca26"
             ],
             [
              1,
              "#f0f921"
             ]
            ],
            "type": "contour"
           }
          ],
          "contourcarpet": [
           {
            "colorbar": {
             "outlinewidth": 0,
             "ticks": ""
            },
            "type": "contourcarpet"
           }
          ],
          "heatmap": [
           {
            "colorbar": {
             "outlinewidth": 0,
             "ticks": ""
            },
            "colorscale": [
             [
              0,
              "#0d0887"
             ],
             [
              0.1111111111111111,
              "#46039f"
             ],
             [
              0.2222222222222222,
              "#7201a8"
             ],
             [
              0.3333333333333333,
              "#9c179e"
             ],
             [
              0.4444444444444444,
              "#bd3786"
             ],
             [
              0.5555555555555556,
              "#d8576b"
             ],
             [
              0.6666666666666666,
              "#ed7953"
             ],
             [
              0.7777777777777778,
              "#fb9f3a"
             ],
             [
              0.8888888888888888,
              "#fdca26"
             ],
             [
              1,
              "#f0f921"
             ]
            ],
            "type": "heatmap"
           }
          ],
          "heatmapgl": [
           {
            "colorbar": {
             "outlinewidth": 0,
             "ticks": ""
            },
            "colorscale": [
             [
              0,
              "#0d0887"
             ],
             [
              0.1111111111111111,
              "#46039f"
             ],
             [
              0.2222222222222222,
              "#7201a8"
             ],
             [
              0.3333333333333333,
              "#9c179e"
             ],
             [
              0.4444444444444444,
              "#bd3786"
             ],
             [
              0.5555555555555556,
              "#d8576b"
             ],
             [
              0.6666666666666666,
              "#ed7953"
             ],
             [
              0.7777777777777778,
              "#fb9f3a"
             ],
             [
              0.8888888888888888,
              "#fdca26"
             ],
             [
              1,
              "#f0f921"
             ]
            ],
            "type": "heatmapgl"
           }
          ],
          "histogram": [
           {
            "marker": {
             "pattern": {
              "fillmode": "overlay",
              "size": 10,
              "solidity": 0.2
             }
            },
            "type": "histogram"
           }
          ],
          "histogram2d": [
           {
            "colorbar": {
             "outlinewidth": 0,
             "ticks": ""
            },
            "colorscale": [
             [
              0,
              "#0d0887"
             ],
             [
              0.1111111111111111,
              "#46039f"
             ],
             [
              0.2222222222222222,
              "#7201a8"
             ],
             [
              0.3333333333333333,
              "#9c179e"
             ],
             [
              0.4444444444444444,
              "#bd3786"
             ],
             [
              0.5555555555555556,
              "#d8576b"
             ],
             [
              0.6666666666666666,
              "#ed7953"
             ],
             [
              0.7777777777777778,
              "#fb9f3a"
             ],
             [
              0.8888888888888888,
              "#fdca26"
             ],
             [
              1,
              "#f0f921"
             ]
            ],
            "type": "histogram2d"
           }
          ],
          "histogram2dcontour": [
           {
            "colorbar": {
             "outlinewidth": 0,
             "ticks": ""
            },
            "colorscale": [
             [
              0,
              "#0d0887"
             ],
             [
              0.1111111111111111,
              "#46039f"
             ],
             [
              0.2222222222222222,
              "#7201a8"
             ],
             [
              0.3333333333333333,
              "#9c179e"
             ],
             [
              0.4444444444444444,
              "#bd3786"
             ],
             [
              0.5555555555555556,
              "#d8576b"
             ],
             [
              0.6666666666666666,
              "#ed7953"
             ],
             [
              0.7777777777777778,
              "#fb9f3a"
             ],
             [
              0.8888888888888888,
              "#fdca26"
             ],
             [
              1,
              "#f0f921"
             ]
            ],
            "type": "histogram2dcontour"
           }
          ],
          "mesh3d": [
           {
            "colorbar": {
             "outlinewidth": 0,
             "ticks": ""
            },
            "type": "mesh3d"
           }
          ],
          "parcoords": [
           {
            "line": {
             "colorbar": {
              "outlinewidth": 0,
              "ticks": ""
             }
            },
            "type": "parcoords"
           }
          ],
          "pie": [
           {
            "automargin": true,
            "type": "pie"
           }
          ],
          "scatter": [
           {
            "fillpattern": {
             "fillmode": "overlay",
             "size": 10,
             "solidity": 0.2
            },
            "type": "scatter"
           }
          ],
          "scatter3d": [
           {
            "line": {
             "colorbar": {
              "outlinewidth": 0,
              "ticks": ""
             }
            },
            "marker": {
             "colorbar": {
              "outlinewidth": 0,
              "ticks": ""
             }
            },
            "type": "scatter3d"
           }
          ],
          "scattercarpet": [
           {
            "marker": {
             "colorbar": {
              "outlinewidth": 0,
              "ticks": ""
             }
            },
            "type": "scattercarpet"
           }
          ],
          "scattergeo": [
           {
            "marker": {
             "colorbar": {
              "outlinewidth": 0,
              "ticks": ""
             }
            },
            "type": "scattergeo"
           }
          ],
          "scattergl": [
           {
            "marker": {
             "colorbar": {
              "outlinewidth": 0,
              "ticks": ""
             }
            },
            "type": "scattergl"
           }
          ],
          "scattermapbox": [
           {
            "marker": {
             "colorbar": {
              "outlinewidth": 0,
              "ticks": ""
             }
            },
            "type": "scattermapbox"
           }
          ],
          "scatterpolar": [
           {
            "marker": {
             "colorbar": {
              "outlinewidth": 0,
              "ticks": ""
             }
            },
            "type": "scatterpolar"
           }
          ],
          "scatterpolargl": [
           {
            "marker": {
             "colorbar": {
              "outlinewidth": 0,
              "ticks": ""
             }
            },
            "type": "scatterpolargl"
           }
          ],
          "scatterternary": [
           {
            "marker": {
             "colorbar": {
              "outlinewidth": 0,
              "ticks": ""
             }
            },
            "type": "scatterternary"
           }
          ],
          "surface": [
           {
            "colorbar": {
             "outlinewidth": 0,
             "ticks": ""
            },
            "colorscale": [
             [
              0,
              "#0d0887"
             ],
             [
              0.1111111111111111,
              "#46039f"
             ],
             [
              0.2222222222222222,
              "#7201a8"
             ],
             [
              0.3333333333333333,
              "#9c179e"
             ],
             [
              0.4444444444444444,
              "#bd3786"
             ],
             [
              0.5555555555555556,
              "#d8576b"
             ],
             [
              0.6666666666666666,
              "#ed7953"
             ],
             [
              0.7777777777777778,
              "#fb9f3a"
             ],
             [
              0.8888888888888888,
              "#fdca26"
             ],
             [
              1,
              "#f0f921"
             ]
            ],
            "type": "surface"
           }
          ],
          "table": [
           {
            "cells": {
             "fill": {
              "color": "#EBF0F8"
             },
             "line": {
              "color": "white"
             }
            },
            "header": {
             "fill": {
              "color": "#C8D4E3"
             },
             "line": {
              "color": "white"
             }
            },
            "type": "table"
           }
          ]
         },
         "layout": {
          "annotationdefaults": {
           "arrowcolor": "#2a3f5f",
           "arrowhead": 0,
           "arrowwidth": 1
          },
          "autotypenumbers": "strict",
          "coloraxis": {
           "colorbar": {
            "outlinewidth": 0,
            "ticks": ""
           }
          },
          "colorscale": {
           "diverging": [
            [
             0,
             "#8e0152"
            ],
            [
             0.1,
             "#c51b7d"
            ],
            [
             0.2,
             "#de77ae"
            ],
            [
             0.3,
             "#f1b6da"
            ],
            [
             0.4,
             "#fde0ef"
            ],
            [
             0.5,
             "#f7f7f7"
            ],
            [
             0.6,
             "#e6f5d0"
            ],
            [
             0.7,
             "#b8e186"
            ],
            [
             0.8,
             "#7fbc41"
            ],
            [
             0.9,
             "#4d9221"
            ],
            [
             1,
             "#276419"
            ]
           ],
           "sequential": [
            [
             0,
             "#0d0887"
            ],
            [
             0.1111111111111111,
             "#46039f"
            ],
            [
             0.2222222222222222,
             "#7201a8"
            ],
            [
             0.3333333333333333,
             "#9c179e"
            ],
            [
             0.4444444444444444,
             "#bd3786"
            ],
            [
             0.5555555555555556,
             "#d8576b"
            ],
            [
             0.6666666666666666,
             "#ed7953"
            ],
            [
             0.7777777777777778,
             "#fb9f3a"
            ],
            [
             0.8888888888888888,
             "#fdca26"
            ],
            [
             1,
             "#f0f921"
            ]
           ],
           "sequentialminus": [
            [
             0,
             "#0d0887"
            ],
            [
             0.1111111111111111,
             "#46039f"
            ],
            [
             0.2222222222222222,
             "#7201a8"
            ],
            [
             0.3333333333333333,
             "#9c179e"
            ],
            [
             0.4444444444444444,
             "#bd3786"
            ],
            [
             0.5555555555555556,
             "#d8576b"
            ],
            [
             0.6666666666666666,
             "#ed7953"
            ],
            [
             0.7777777777777778,
             "#fb9f3a"
            ],
            [
             0.8888888888888888,
             "#fdca26"
            ],
            [
             1,
             "#f0f921"
            ]
           ]
          },
          "colorway": [
           "#636efa",
           "#EF553B",
           "#00cc96",
           "#ab63fa",
           "#FFA15A",
           "#19d3f3",
           "#FF6692",
           "#B6E880",
           "#FF97FF",
           "#FECB52"
          ],
          "font": {
           "color": "#2a3f5f"
          },
          "geo": {
           "bgcolor": "white",
           "lakecolor": "white",
           "landcolor": "#E5ECF6",
           "showlakes": true,
           "showland": true,
           "subunitcolor": "white"
          },
          "hoverlabel": {
           "align": "left"
          },
          "hovermode": "closest",
          "mapbox": {
           "style": "light"
          },
          "paper_bgcolor": "white",
          "plot_bgcolor": "#E5ECF6",
          "polar": {
           "angularaxis": {
            "gridcolor": "white",
            "linecolor": "white",
            "ticks": ""
           },
           "bgcolor": "#E5ECF6",
           "radialaxis": {
            "gridcolor": "white",
            "linecolor": "white",
            "ticks": ""
           }
          },
          "scene": {
           "xaxis": {
            "backgroundcolor": "#E5ECF6",
            "gridcolor": "white",
            "gridwidth": 2,
            "linecolor": "white",
            "showbackground": true,
            "ticks": "",
            "zerolinecolor": "white"
           },
           "yaxis": {
            "backgroundcolor": "#E5ECF6",
            "gridcolor": "white",
            "gridwidth": 2,
            "linecolor": "white",
            "showbackground": true,
            "ticks": "",
            "zerolinecolor": "white"
           },
           "zaxis": {
            "backgroundcolor": "#E5ECF6",
            "gridcolor": "white",
            "gridwidth": 2,
            "linecolor": "white",
            "showbackground": true,
            "ticks": "",
            "zerolinecolor": "white"
           }
          },
          "shapedefaults": {
           "line": {
            "color": "#2a3f5f"
           }
          },
          "ternary": {
           "aaxis": {
            "gridcolor": "white",
            "linecolor": "white",
            "ticks": ""
           },
           "baxis": {
            "gridcolor": "white",
            "linecolor": "white",
            "ticks": ""
           },
           "bgcolor": "#E5ECF6",
           "caxis": {
            "gridcolor": "white",
            "linecolor": "white",
            "ticks": ""
           }
          },
          "title": {
           "x": 0.05
          },
          "xaxis": {
           "automargin": true,
           "gridcolor": "white",
           "linecolor": "white",
           "ticks": "",
           "title": {
            "standoff": 15
           },
           "zerolinecolor": "white",
           "zerolinewidth": 2
          },
          "yaxis": {
           "automargin": true,
           "gridcolor": "white",
           "linecolor": "white",
           "ticks": "",
           "title": {
            "standoff": 15
           },
           "zerolinecolor": "white",
           "zerolinewidth": 2
          }
         }
        },
        "xaxis": {
         "anchor": "y",
         "domain": [
          0,
          1
         ],
         "title": {
          "text": "Deep sleep percentage"
         }
        },
        "yaxis": {
         "anchor": "x",
         "domain": [
          0,
          1
         ],
         "title": {
          "text": "Sleep Quality"
         }
        }
       }
      }
     },
     "metadata": {},
     "output_type": "display_data"
    },
    {
     "data": {
      "application/vnd.plotly.v1+json": {
       "config": {
        "plotlyServerURL": "https://plot.ly"
       },
       "data": [
        {
         "hovertemplate": "Light sleep percentage=%{x}<br>Sleep Quality=%{y}<extra></extra>",
         "legendgroup": "",
         "marker": {
          "color": "#636efa",
          "symbol": "circle"
         },
         "mode": "markers",
         "name": "",
         "orientation": "v",
         "showlegend": false,
         "type": "scatter",
         "x": [
          12,
          53,
          10,
          52,
          18,
          17,
          47,
          20,
          17,
          45,
          20,
          22,
          18,
          47,
          48,
          20,
          50,
          62,
          13,
          20,
          10,
          19,
          17,
          13,
          10,
          10,
          17,
          16,
          53,
          20,
          53,
          48,
          54,
          19,
          15,
          55,
          10,
          18,
          12,
          55,
          20,
          13,
          52,
          17,
          13,
          18,
          20,
          12,
          17,
          20,
          21,
          19,
          47,
          47,
          12,
          12,
          18,
          19,
          13,
          12,
          12,
          22,
          18,
          17,
          10,
          18,
          15,
          10,
          12,
          45,
          52,
          20,
          45,
          17,
          20,
          46,
          10,
          12,
          10,
          17,
          13,
          18,
          16,
          21,
          56,
          17,
          21,
          16,
          17,
          18,
          16,
          18,
          47,
          20,
          20,
          13,
          17,
          21,
          13,
          10,
          17,
          13,
          17,
          48,
          12,
          21,
          55,
          18,
          15,
          20,
          20,
          15,
          20,
          13,
          18,
          53,
          15,
          45,
          18,
          10,
          18,
          45,
          20,
          13,
          45,
          21,
          55,
          15,
          15,
          17,
          47,
          17,
          12,
          12,
          52,
          15,
          18,
          13,
          19,
          47,
          48,
          52,
          18,
          18,
          13,
          48,
          47,
          15,
          12,
          51,
          52,
          12,
          17,
          19,
          14,
          10,
          17,
          10,
          47,
          18,
          17,
          17,
          20,
          21,
          10,
          20,
          10,
          17,
          18,
          47,
          18,
          47,
          55,
          14,
          10,
          47,
          54,
          13,
          18,
          15,
          16,
          17,
          12,
          17,
          21,
          15,
          52,
          17,
          18,
          10,
          52,
          15,
          15,
          50,
          20,
          54,
          15,
          16,
          15,
          20,
          21,
          19,
          12,
          50,
          20,
          13,
          13,
          15,
          13,
          10,
          17,
          47,
          30,
          15,
          40,
          12,
          18,
          52,
          20,
          45,
          21,
          13,
          20,
          54,
          7,
          20,
          20,
          10,
          17,
          20,
          20,
          53,
          13,
          13,
          20,
          17,
          20,
          13,
          13,
          10,
          22,
          18,
          17,
          17,
          17,
          16,
          15,
          20,
          13,
          53,
          52,
          15,
          45,
          10,
          15,
          48,
          15,
          63,
          47,
          15,
          18,
          15,
          17,
          18,
          21,
          10,
          48,
          20,
          13,
          21,
          17,
          17,
          53,
          15,
          20,
          17,
          15,
          15,
          19,
          53,
          17,
          16,
          16,
          48,
          54,
          45,
          45,
          52,
          15,
          12,
          22,
          15,
          10,
          17,
          15,
          17,
          20,
          15,
          13,
          53,
          20,
          18,
          20,
          17,
          15,
          17,
          16,
          51,
          15,
          12,
          50,
          15,
          18,
          10,
          55,
          20,
          20,
          20,
          20,
          15,
          53,
          17,
          17,
          20,
          12,
          55,
          50,
          52,
          15,
          52,
          56,
          10,
          47,
          21,
          13,
          12,
          20,
          15,
          19,
          21,
          15,
          17,
          53,
          18,
          18,
          50,
          18,
          7,
          13,
          12,
          53,
          18,
          20,
          18,
          20,
          16,
          18,
          15,
          45,
          20,
          51,
          12,
          15,
          13,
          45,
          14,
          10,
          19,
          15,
          10,
          15,
          45,
          20,
          10,
          45,
          55,
          21,
          11,
          7,
          18,
          13,
          17,
          18,
          10,
          10,
          16,
          45,
          10,
          11,
          20,
          17,
          52,
          45,
          20,
          50,
          18,
          54,
          55,
          20,
          12,
          15,
          13,
          12,
          18,
          54,
          21,
          18,
          13,
          18,
          12,
          47,
          10,
          10,
          20,
          18,
          55,
          20,
          45,
          56,
          18,
          53,
          20,
          15,
          52,
          15,
          17,
          17,
          18,
          45,
          13,
          12,
          20,
          19,
          12,
          15,
          15,
          18,
          18,
          15,
          45,
          15,
          55,
          55,
          54,
          48,
          52,
          45,
          21,
          15,
          48,
          10,
          55
         ],
         "xaxis": "x",
         "y": [
          86.00000000000001,
          94.33333333333334,
          100,
          96,
          100,
          100,
          100,
          100,
          100,
          100,
          100,
          95,
          100,
          100,
          100,
          100,
          100,
          95,
          100,
          100,
          89.99999999999999,
          100,
          100,
          100,
          85.00000000000001,
          86.00000000000001,
          100,
          100,
          100,
          96.66666666666666,
          96.66666666666666,
          100,
          100,
          100,
          100,
          100,
          92,
          100,
          100,
          100,
          94,
          89.99999999999999,
          100,
          100,
          100,
          94.33333333333334,
          100,
          100,
          100,
          100,
          100,
          100,
          100,
          100,
          95,
          100,
          100,
          100,
          100,
          100,
          100,
          92,
          89.99999999999999,
          100,
          100,
          100,
          85.00000000000001,
          95,
          92,
          89.99999999999999,
          100,
          92,
          89.99999999999999,
          100,
          100,
          100,
          100,
          100,
          96.66666666666666,
          100,
          100,
          87.5,
          100,
          100,
          88,
          95,
          100,
          100,
          100,
          100,
          89.99999999999999,
          100,
          92,
          100,
          100,
          96.66666666666666,
          100,
          100,
          100,
          100,
          100,
          100,
          100,
          89.99999999999999,
          100,
          100,
          96.66666666666666,
          100,
          100,
          100,
          88.33333333333333,
          96.66666666666666,
          89.99999999999999,
          89.99999999999999,
          100,
          96.66666666666666,
          100,
          100,
          96.66666666666666,
          96.66666666666666,
          89.99999999999999,
          100,
          100,
          100,
          96.66666666666666,
          100,
          100,
          100,
          100,
          92,
          100,
          100,
          100,
          98,
          100,
          96.66666666666666,
          94.33333333333334,
          100,
          100,
          100,
          100,
          96,
          100,
          100,
          100,
          100,
          98,
          100,
          100,
          100,
          100,
          100,
          95,
          100,
          100,
          100,
          100,
          100,
          92,
          100,
          100,
          100,
          100,
          100,
          100,
          100,
          96.66666666666666,
          100,
          100,
          100,
          100,
          100,
          100,
          100,
          100,
          92,
          100,
          100,
          100,
          89.99999999999999,
          100,
          100,
          100,
          100,
          100,
          100,
          96.66666666666666,
          92,
          100,
          96.66666666666666,
          95,
          100,
          85.00000000000001,
          96.66666666666666,
          100,
          100,
          100,
          98,
          83.33333333333333,
          100,
          100,
          100,
          86.00000000000001,
          100,
          96.66666666666666,
          89.99999999999999,
          96.66666666666666,
          96.66666666666666,
          100,
          100,
          100,
          92,
          87.5,
          91.66666666666667,
          100,
          100,
          100,
          100,
          100,
          98,
          100,
          100,
          100,
          100,
          100,
          100,
          100,
          96.66666666666666,
          100,
          100,
          100,
          100,
          86.66666666666667,
          100,
          100,
          100,
          100,
          100,
          100,
          100,
          92,
          100,
          100,
          100,
          100,
          100,
          100,
          98,
          100,
          100,
          92,
          100,
          96.66666666666666,
          100,
          96.66666666666666,
          96.66666666666666,
          96.66666666666666,
          89.99999999999999,
          98,
          100,
          100,
          100,
          100,
          100,
          100,
          95,
          96.66666666666666,
          100,
          100,
          100,
          100,
          100,
          100,
          100,
          100,
          99,
          98,
          100,
          100,
          96.66666666666666,
          100,
          100,
          100,
          100,
          100,
          89.99999999999999,
          98,
          100,
          96.66666666666666,
          100,
          98,
          100,
          89.99999999999999,
          100,
          96.66666666666666,
          100,
          100,
          100,
          100,
          100,
          100,
          100,
          100,
          100,
          89.99999999999999,
          88.33333333333333,
          98,
          100,
          96.66666666666666,
          100,
          100,
          100,
          100,
          96.66666666666666,
          100,
          100,
          100,
          100,
          100,
          85.00000000000001,
          96.66666666666666,
          100,
          100,
          100,
          86.00000000000001,
          100,
          100,
          100,
          100,
          100,
          80.66666666666666,
          98,
          100,
          100,
          100,
          100,
          100,
          100,
          100,
          90.33333333333333,
          96.66666666666666,
          100,
          100,
          100,
          100,
          100,
          85.00000000000001,
          98,
          100,
          100,
          96.66666666666666,
          97.50000000000001,
          100,
          100,
          100,
          100,
          100,
          100,
          96.66666666666666,
          100,
          100,
          100,
          100,
          100,
          100,
          100,
          100,
          86.66666666666667,
          100,
          89.99999999999999,
          96.66666666666666,
          96.66666666666666,
          100,
          100,
          100,
          100,
          100,
          100,
          92,
          100,
          96.66666666666666,
          100,
          100,
          100,
          92,
          100,
          96.66666666666666,
          100,
          100,
          100,
          95,
          80,
          96.66666666666666,
          100,
          100,
          100,
          92,
          100,
          100,
          100,
          100,
          100,
          98,
          100,
          92,
          90.33333333333333,
          96.66666666666666,
          100,
          100,
          100,
          92,
          96.66666666666666,
          92,
          100,
          100,
          100,
          100,
          96.66666666666666,
          100,
          100,
          96.66666666666666,
          100,
          96.66666666666666,
          100,
          89.99999999999999,
          100,
          92,
          100,
          100,
          100,
          100,
          100,
          100,
          100,
          100,
          100,
          100,
          100,
          100,
          100,
          100,
          100,
          100,
          100,
          100,
          100,
          85.00000000000001,
          100,
          100,
          100,
          92,
          100
         ],
         "yaxis": "y"
        }
       ],
       "layout": {
        "legend": {
         "tracegroupgap": 0
        },
        "margin": {
         "t": 60
        },
        "template": {
         "data": {
          "bar": [
           {
            "error_x": {
             "color": "#2a3f5f"
            },
            "error_y": {
             "color": "#2a3f5f"
            },
            "marker": {
             "line": {
              "color": "#E5ECF6",
              "width": 0.5
             },
             "pattern": {
              "fillmode": "overlay",
              "size": 10,
              "solidity": 0.2
             }
            },
            "type": "bar"
           }
          ],
          "barpolar": [
           {
            "marker": {
             "line": {
              "color": "#E5ECF6",
              "width": 0.5
             },
             "pattern": {
              "fillmode": "overlay",
              "size": 10,
              "solidity": 0.2
             }
            },
            "type": "barpolar"
           }
          ],
          "carpet": [
           {
            "aaxis": {
             "endlinecolor": "#2a3f5f",
             "gridcolor": "white",
             "linecolor": "white",
             "minorgridcolor": "white",
             "startlinecolor": "#2a3f5f"
            },
            "baxis": {
             "endlinecolor": "#2a3f5f",
             "gridcolor": "white",
             "linecolor": "white",
             "minorgridcolor": "white",
             "startlinecolor": "#2a3f5f"
            },
            "type": "carpet"
           }
          ],
          "choropleth": [
           {
            "colorbar": {
             "outlinewidth": 0,
             "ticks": ""
            },
            "type": "choropleth"
           }
          ],
          "contour": [
           {
            "colorbar": {
             "outlinewidth": 0,
             "ticks": ""
            },
            "colorscale": [
             [
              0,
              "#0d0887"
             ],
             [
              0.1111111111111111,
              "#46039f"
             ],
             [
              0.2222222222222222,
              "#7201a8"
             ],
             [
              0.3333333333333333,
              "#9c179e"
             ],
             [
              0.4444444444444444,
              "#bd3786"
             ],
             [
              0.5555555555555556,
              "#d8576b"
             ],
             [
              0.6666666666666666,
              "#ed7953"
             ],
             [
              0.7777777777777778,
              "#fb9f3a"
             ],
             [
              0.8888888888888888,
              "#fdca26"
             ],
             [
              1,
              "#f0f921"
             ]
            ],
            "type": "contour"
           }
          ],
          "contourcarpet": [
           {
            "colorbar": {
             "outlinewidth": 0,
             "ticks": ""
            },
            "type": "contourcarpet"
           }
          ],
          "heatmap": [
           {
            "colorbar": {
             "outlinewidth": 0,
             "ticks": ""
            },
            "colorscale": [
             [
              0,
              "#0d0887"
             ],
             [
              0.1111111111111111,
              "#46039f"
             ],
             [
              0.2222222222222222,
              "#7201a8"
             ],
             [
              0.3333333333333333,
              "#9c179e"
             ],
             [
              0.4444444444444444,
              "#bd3786"
             ],
             [
              0.5555555555555556,
              "#d8576b"
             ],
             [
              0.6666666666666666,
              "#ed7953"
             ],
             [
              0.7777777777777778,
              "#fb9f3a"
             ],
             [
              0.8888888888888888,
              "#fdca26"
             ],
             [
              1,
              "#f0f921"
             ]
            ],
            "type": "heatmap"
           }
          ],
          "heatmapgl": [
           {
            "colorbar": {
             "outlinewidth": 0,
             "ticks": ""
            },
            "colorscale": [
             [
              0,
              "#0d0887"
             ],
             [
              0.1111111111111111,
              "#46039f"
             ],
             [
              0.2222222222222222,
              "#7201a8"
             ],
             [
              0.3333333333333333,
              "#9c179e"
             ],
             [
              0.4444444444444444,
              "#bd3786"
             ],
             [
              0.5555555555555556,
              "#d8576b"
             ],
             [
              0.6666666666666666,
              "#ed7953"
             ],
             [
              0.7777777777777778,
              "#fb9f3a"
             ],
             [
              0.8888888888888888,
              "#fdca26"
             ],
             [
              1,
              "#f0f921"
             ]
            ],
            "type": "heatmapgl"
           }
          ],
          "histogram": [
           {
            "marker": {
             "pattern": {
              "fillmode": "overlay",
              "size": 10,
              "solidity": 0.2
             }
            },
            "type": "histogram"
           }
          ],
          "histogram2d": [
           {
            "colorbar": {
             "outlinewidth": 0,
             "ticks": ""
            },
            "colorscale": [
             [
              0,
              "#0d0887"
             ],
             [
              0.1111111111111111,
              "#46039f"
             ],
             [
              0.2222222222222222,
              "#7201a8"
             ],
             [
              0.3333333333333333,
              "#9c179e"
             ],
             [
              0.4444444444444444,
              "#bd3786"
             ],
             [
              0.5555555555555556,
              "#d8576b"
             ],
             [
              0.6666666666666666,
              "#ed7953"
             ],
             [
              0.7777777777777778,
              "#fb9f3a"
             ],
             [
              0.8888888888888888,
              "#fdca26"
             ],
             [
              1,
              "#f0f921"
             ]
            ],
            "type": "histogram2d"
           }
          ],
          "histogram2dcontour": [
           {
            "colorbar": {
             "outlinewidth": 0,
             "ticks": ""
            },
            "colorscale": [
             [
              0,
              "#0d0887"
             ],
             [
              0.1111111111111111,
              "#46039f"
             ],
             [
              0.2222222222222222,
              "#7201a8"
             ],
             [
              0.3333333333333333,
              "#9c179e"
             ],
             [
              0.4444444444444444,
              "#bd3786"
             ],
             [
              0.5555555555555556,
              "#d8576b"
             ],
             [
              0.6666666666666666,
              "#ed7953"
             ],
             [
              0.7777777777777778,
              "#fb9f3a"
             ],
             [
              0.8888888888888888,
              "#fdca26"
             ],
             [
              1,
              "#f0f921"
             ]
            ],
            "type": "histogram2dcontour"
           }
          ],
          "mesh3d": [
           {
            "colorbar": {
             "outlinewidth": 0,
             "ticks": ""
            },
            "type": "mesh3d"
           }
          ],
          "parcoords": [
           {
            "line": {
             "colorbar": {
              "outlinewidth": 0,
              "ticks": ""
             }
            },
            "type": "parcoords"
           }
          ],
          "pie": [
           {
            "automargin": true,
            "type": "pie"
           }
          ],
          "scatter": [
           {
            "fillpattern": {
             "fillmode": "overlay",
             "size": 10,
             "solidity": 0.2
            },
            "type": "scatter"
           }
          ],
          "scatter3d": [
           {
            "line": {
             "colorbar": {
              "outlinewidth": 0,
              "ticks": ""
             }
            },
            "marker": {
             "colorbar": {
              "outlinewidth": 0,
              "ticks": ""
             }
            },
            "type": "scatter3d"
           }
          ],
          "scattercarpet": [
           {
            "marker": {
             "colorbar": {
              "outlinewidth": 0,
              "ticks": ""
             }
            },
            "type": "scattercarpet"
           }
          ],
          "scattergeo": [
           {
            "marker": {
             "colorbar": {
              "outlinewidth": 0,
              "ticks": ""
             }
            },
            "type": "scattergeo"
           }
          ],
          "scattergl": [
           {
            "marker": {
             "colorbar": {
              "outlinewidth": 0,
              "ticks": ""
             }
            },
            "type": "scattergl"
           }
          ],
          "scattermapbox": [
           {
            "marker": {
             "colorbar": {
              "outlinewidth": 0,
              "ticks": ""
             }
            },
            "type": "scattermapbox"
           }
          ],
          "scatterpolar": [
           {
            "marker": {
             "colorbar": {
              "outlinewidth": 0,
              "ticks": ""
             }
            },
            "type": "scatterpolar"
           }
          ],
          "scatterpolargl": [
           {
            "marker": {
             "colorbar": {
              "outlinewidth": 0,
              "ticks": ""
             }
            },
            "type": "scatterpolargl"
           }
          ],
          "scatterternary": [
           {
            "marker": {
             "colorbar": {
              "outlinewidth": 0,
              "ticks": ""
             }
            },
            "type": "scatterternary"
           }
          ],
          "surface": [
           {
            "colorbar": {
             "outlinewidth": 0,
             "ticks": ""
            },
            "colorscale": [
             [
              0,
              "#0d0887"
             ],
             [
              0.1111111111111111,
              "#46039f"
             ],
             [
              0.2222222222222222,
              "#7201a8"
             ],
             [
              0.3333333333333333,
              "#9c179e"
             ],
             [
              0.4444444444444444,
              "#bd3786"
             ],
             [
              0.5555555555555556,
              "#d8576b"
             ],
             [
              0.6666666666666666,
              "#ed7953"
             ],
             [
              0.7777777777777778,
              "#fb9f3a"
             ],
             [
              0.8888888888888888,
              "#fdca26"
             ],
             [
              1,
              "#f0f921"
             ]
            ],
            "type": "surface"
           }
          ],
          "table": [
           {
            "cells": {
             "fill": {
              "color": "#EBF0F8"
             },
             "line": {
              "color": "white"
             }
            },
            "header": {
             "fill": {
              "color": "#C8D4E3"
             },
             "line": {
              "color": "white"
             }
            },
            "type": "table"
           }
          ]
         },
         "layout": {
          "annotationdefaults": {
           "arrowcolor": "#2a3f5f",
           "arrowhead": 0,
           "arrowwidth": 1
          },
          "autotypenumbers": "strict",
          "coloraxis": {
           "colorbar": {
            "outlinewidth": 0,
            "ticks": ""
           }
          },
          "colorscale": {
           "diverging": [
            [
             0,
             "#8e0152"
            ],
            [
             0.1,
             "#c51b7d"
            ],
            [
             0.2,
             "#de77ae"
            ],
            [
             0.3,
             "#f1b6da"
            ],
            [
             0.4,
             "#fde0ef"
            ],
            [
             0.5,
             "#f7f7f7"
            ],
            [
             0.6,
             "#e6f5d0"
            ],
            [
             0.7,
             "#b8e186"
            ],
            [
             0.8,
             "#7fbc41"
            ],
            [
             0.9,
             "#4d9221"
            ],
            [
             1,
             "#276419"
            ]
           ],
           "sequential": [
            [
             0,
             "#0d0887"
            ],
            [
             0.1111111111111111,
             "#46039f"
            ],
            [
             0.2222222222222222,
             "#7201a8"
            ],
            [
             0.3333333333333333,
             "#9c179e"
            ],
            [
             0.4444444444444444,
             "#bd3786"
            ],
            [
             0.5555555555555556,
             "#d8576b"
            ],
            [
             0.6666666666666666,
             "#ed7953"
            ],
            [
             0.7777777777777778,
             "#fb9f3a"
            ],
            [
             0.8888888888888888,
             "#fdca26"
            ],
            [
             1,
             "#f0f921"
            ]
           ],
           "sequentialminus": [
            [
             0,
             "#0d0887"
            ],
            [
             0.1111111111111111,
             "#46039f"
            ],
            [
             0.2222222222222222,
             "#7201a8"
            ],
            [
             0.3333333333333333,
             "#9c179e"
            ],
            [
             0.4444444444444444,
             "#bd3786"
            ],
            [
             0.5555555555555556,
             "#d8576b"
            ],
            [
             0.6666666666666666,
             "#ed7953"
            ],
            [
             0.7777777777777778,
             "#fb9f3a"
            ],
            [
             0.8888888888888888,
             "#fdca26"
            ],
            [
             1,
             "#f0f921"
            ]
           ]
          },
          "colorway": [
           "#636efa",
           "#EF553B",
           "#00cc96",
           "#ab63fa",
           "#FFA15A",
           "#19d3f3",
           "#FF6692",
           "#B6E880",
           "#FF97FF",
           "#FECB52"
          ],
          "font": {
           "color": "#2a3f5f"
          },
          "geo": {
           "bgcolor": "white",
           "lakecolor": "white",
           "landcolor": "#E5ECF6",
           "showlakes": true,
           "showland": true,
           "subunitcolor": "white"
          },
          "hoverlabel": {
           "align": "left"
          },
          "hovermode": "closest",
          "mapbox": {
           "style": "light"
          },
          "paper_bgcolor": "white",
          "plot_bgcolor": "#E5ECF6",
          "polar": {
           "angularaxis": {
            "gridcolor": "white",
            "linecolor": "white",
            "ticks": ""
           },
           "bgcolor": "#E5ECF6",
           "radialaxis": {
            "gridcolor": "white",
            "linecolor": "white",
            "ticks": ""
           }
          },
          "scene": {
           "xaxis": {
            "backgroundcolor": "#E5ECF6",
            "gridcolor": "white",
            "gridwidth": 2,
            "linecolor": "white",
            "showbackground": true,
            "ticks": "",
            "zerolinecolor": "white"
           },
           "yaxis": {
            "backgroundcolor": "#E5ECF6",
            "gridcolor": "white",
            "gridwidth": 2,
            "linecolor": "white",
            "showbackground": true,
            "ticks": "",
            "zerolinecolor": "white"
           },
           "zaxis": {
            "backgroundcolor": "#E5ECF6",
            "gridcolor": "white",
            "gridwidth": 2,
            "linecolor": "white",
            "showbackground": true,
            "ticks": "",
            "zerolinecolor": "white"
           }
          },
          "shapedefaults": {
           "line": {
            "color": "#2a3f5f"
           }
          },
          "ternary": {
           "aaxis": {
            "gridcolor": "white",
            "linecolor": "white",
            "ticks": ""
           },
           "baxis": {
            "gridcolor": "white",
            "linecolor": "white",
            "ticks": ""
           },
           "bgcolor": "#E5ECF6",
           "caxis": {
            "gridcolor": "white",
            "linecolor": "white",
            "ticks": ""
           }
          },
          "title": {
           "x": 0.05
          },
          "xaxis": {
           "automargin": true,
           "gridcolor": "white",
           "linecolor": "white",
           "ticks": "",
           "title": {
            "standoff": 15
           },
           "zerolinecolor": "white",
           "zerolinewidth": 2
          },
          "yaxis": {
           "automargin": true,
           "gridcolor": "white",
           "linecolor": "white",
           "ticks": "",
           "title": {
            "standoff": 15
           },
           "zerolinecolor": "white",
           "zerolinewidth": 2
          }
         }
        },
        "xaxis": {
         "anchor": "y",
         "domain": [
          0,
          1
         ],
         "title": {
          "text": "Light sleep percentage"
         }
        },
        "yaxis": {
         "anchor": "x",
         "domain": [
          0,
          1
         ],
         "title": {
          "text": "Sleep Quality"
         }
        }
       }
      }
     },
     "metadata": {},
     "output_type": "display_data"
    },
    {
     "data": {
      "application/vnd.plotly.v1+json": {
       "config": {
        "plotlyServerURL": "https://plot.ly"
       },
       "data": [
        {
         "hovertemplate": "Awakenings=%{x}<br>Sleep Quality=%{y}<extra></extra>",
         "legendgroup": "",
         "marker": {
          "color": "#636efa",
          "symbol": "circle"
         },
         "mode": "markers",
         "name": "",
         "orientation": "v",
         "showlegend": false,
         "type": "scatter",
         "x": [
          0,
          3,
          1,
          3,
          3,
          0,
          2,
          0,
          3,
          4,
          1,
          0,
          0,
          4,
          2,
          0,
          4,
          3,
          0,
          null,
          3,
          3,
          2,
          0,
          1,
          1,
          0,
          2,
          3,
          1,
          3,
          3,
          3,
          0,
          0,
          2,
          1,
          4,
          1,
          3,
          3,
          1,
          2,
          1,
          3,
          1,
          1,
          1,
          3,
          1,
          1,
          2,
          2,
          2,
          2,
          1,
          1,
          1,
          3,
          4,
          1,
          0,
          1,
          1,
          1,
          4,
          4,
          0,
          2,
          2,
          1,
          1,
          1,
          0,
          4,
          2,
          1,
          1,
          4,
          3,
          1,
          2,
          0,
          4,
          4,
          null,
          2,
          3,
          0,
          4,
          4,
          0,
          3,
          4,
          4,
          1,
          0,
          1,
          2,
          4,
          1,
          4,
          1,
          4,
          0,
          0,
          3,
          0,
          1,
          1,
          1,
          0,
          4,
          1,
          1,
          2,
          1,
          1,
          1,
          2,
          1,
          1,
          1,
          null,
          3,
          2,
          3,
          1,
          2,
          2,
          1,
          4,
          1,
          1,
          3,
          null,
          0,
          2,
          null,
          2,
          2,
          2,
          3,
          null,
          2,
          3,
          2,
          4,
          3,
          null,
          3,
          1,
          0,
          3,
          4,
          1,
          0,
          1,
          3,
          0,
          4,
          0,
          3,
          1,
          1,
          1,
          1,
          0,
          0,
          3,
          null,
          1,
          3,
          1,
          1,
          2,
          3,
          0,
          3,
          1,
          2,
          2,
          0,
          0,
          0,
          0,
          3,
          4,
          1,
          4,
          4,
          1,
          0,
          1,
          1,
          2,
          1,
          4,
          1,
          1,
          3,
          2,
          0,
          3,
          1,
          1,
          0,
          1,
          1,
          1,
          0,
          3,
          1,
          1,
          1,
          4,
          1,
          4,
          1,
          1,
          4,
          0,
          0,
          3,
          1,
          3,
          0,
          1,
          0,
          4,
          0,
          1,
          1,
          4,
          1,
          1,
          1,
          2,
          4,
          0,
          0,
          3,
          0,
          4,
          null,
          3,
          1,
          0,
          0,
          null,
          2,
          0,
          1,
          0,
          3,
          2,
          0,
          1,
          1,
          2,
          0,
          1,
          4,
          1,
          0,
          0,
          3,
          1,
          1,
          0,
          1,
          1,
          2,
          0,
          4,
          0,
          0,
          0,
          0,
          1,
          1,
          1,
          1,
          4,
          3,
          3,
          1,
          null,
          null,
          2,
          3,
          1,
          0,
          0,
          0,
          0,
          2,
          1,
          2,
          4,
          0,
          2,
          4,
          2,
          4,
          1,
          1,
          null,
          1,
          2,
          4,
          1,
          1,
          1,
          4,
          null,
          1,
          1,
          1,
          1,
          1,
          2,
          3,
          0,
          4,
          4,
          1,
          null,
          1,
          4,
          2,
          3,
          1,
          0,
          0,
          3,
          1,
          null,
          1,
          0,
          1,
          0,
          4,
          0,
          1,
          1,
          1,
          3,
          0,
          1,
          4,
          4,
          null,
          4,
          1,
          3,
          0,
          0,
          1,
          0,
          2,
          0,
          1,
          0,
          1,
          4,
          3,
          1,
          0,
          2,
          1,
          2,
          3,
          1,
          4,
          2,
          1,
          4,
          0,
          1,
          1,
          1,
          1,
          1,
          1,
          1,
          4,
          1,
          3,
          1,
          2,
          2,
          3,
          3,
          4,
          2,
          1,
          2,
          0,
          3,
          1,
          0,
          0,
          0,
          null,
          0,
          2,
          null,
          3,
          0,
          1,
          3,
          3,
          1,
          1,
          1,
          0,
          4,
          1,
          0,
          4,
          4,
          4,
          1,
          0,
          0,
          1,
          0,
          2,
          1,
          1,
          1,
          3,
          0,
          null,
          0,
          2,
          0,
          1,
          4,
          0,
          4,
          1,
          4,
          1,
          4,
          2,
          0,
          4,
          1,
          3,
          1
         ],
         "xaxis": "x",
         "y": [
          86.00000000000001,
          94.33333333333334,
          100,
          96,
          100,
          100,
          100,
          100,
          100,
          100,
          100,
          95,
          100,
          100,
          100,
          100,
          100,
          95,
          100,
          100,
          89.99999999999999,
          100,
          100,
          100,
          85.00000000000001,
          86.00000000000001,
          100,
          100,
          100,
          96.66666666666666,
          96.66666666666666,
          100,
          100,
          100,
          100,
          100,
          92,
          100,
          100,
          100,
          94,
          89.99999999999999,
          100,
          100,
          100,
          94.33333333333334,
          100,
          100,
          100,
          100,
          100,
          100,
          100,
          100,
          95,
          100,
          100,
          100,
          100,
          100,
          100,
          92,
          89.99999999999999,
          100,
          100,
          100,
          85.00000000000001,
          95,
          92,
          89.99999999999999,
          100,
          92,
          89.99999999999999,
          100,
          100,
          100,
          100,
          100,
          96.66666666666666,
          100,
          100,
          87.5,
          100,
          100,
          88,
          95,
          100,
          100,
          100,
          100,
          89.99999999999999,
          100,
          92,
          100,
          100,
          96.66666666666666,
          100,
          100,
          100,
          100,
          100,
          100,
          100,
          89.99999999999999,
          100,
          100,
          96.66666666666666,
          100,
          100,
          100,
          88.33333333333333,
          96.66666666666666,
          89.99999999999999,
          89.99999999999999,
          100,
          96.66666666666666,
          100,
          100,
          96.66666666666666,
          96.66666666666666,
          89.99999999999999,
          100,
          100,
          100,
          96.66666666666666,
          100,
          100,
          100,
          100,
          92,
          100,
          100,
          100,
          98,
          100,
          96.66666666666666,
          94.33333333333334,
          100,
          100,
          100,
          100,
          96,
          100,
          100,
          100,
          100,
          98,
          100,
          100,
          100,
          100,
          100,
          95,
          100,
          100,
          100,
          100,
          100,
          92,
          100,
          100,
          100,
          100,
          100,
          100,
          100,
          96.66666666666666,
          100,
          100,
          100,
          100,
          100,
          100,
          100,
          100,
          92,
          100,
          100,
          100,
          89.99999999999999,
          100,
          100,
          100,
          100,
          100,
          100,
          96.66666666666666,
          92,
          100,
          96.66666666666666,
          95,
          100,
          85.00000000000001,
          96.66666666666666,
          100,
          100,
          100,
          98,
          83.33333333333333,
          100,
          100,
          100,
          86.00000000000001,
          100,
          96.66666666666666,
          89.99999999999999,
          96.66666666666666,
          96.66666666666666,
          100,
          100,
          100,
          92,
          87.5,
          91.66666666666667,
          100,
          100,
          100,
          100,
          100,
          98,
          100,
          100,
          100,
          100,
          100,
          100,
          100,
          96.66666666666666,
          100,
          100,
          100,
          100,
          86.66666666666667,
          100,
          100,
          100,
          100,
          100,
          100,
          100,
          92,
          100,
          100,
          100,
          100,
          100,
          100,
          98,
          100,
          100,
          92,
          100,
          96.66666666666666,
          100,
          96.66666666666666,
          96.66666666666666,
          96.66666666666666,
          89.99999999999999,
          98,
          100,
          100,
          100,
          100,
          100,
          100,
          95,
          96.66666666666666,
          100,
          100,
          100,
          100,
          100,
          100,
          100,
          100,
          99,
          98,
          100,
          100,
          96.66666666666666,
          100,
          100,
          100,
          100,
          100,
          89.99999999999999,
          98,
          100,
          96.66666666666666,
          100,
          98,
          100,
          89.99999999999999,
          100,
          96.66666666666666,
          100,
          100,
          100,
          100,
          100,
          100,
          100,
          100,
          100,
          89.99999999999999,
          88.33333333333333,
          98,
          100,
          96.66666666666666,
          100,
          100,
          100,
          100,
          96.66666666666666,
          100,
          100,
          100,
          100,
          100,
          85.00000000000001,
          96.66666666666666,
          100,
          100,
          100,
          86.00000000000001,
          100,
          100,
          100,
          100,
          100,
          80.66666666666666,
          98,
          100,
          100,
          100,
          100,
          100,
          100,
          100,
          90.33333333333333,
          96.66666666666666,
          100,
          100,
          100,
          100,
          100,
          85.00000000000001,
          98,
          100,
          100,
          96.66666666666666,
          97.50000000000001,
          100,
          100,
          100,
          100,
          100,
          100,
          96.66666666666666,
          100,
          100,
          100,
          100,
          100,
          100,
          100,
          100,
          86.66666666666667,
          100,
          89.99999999999999,
          96.66666666666666,
          96.66666666666666,
          100,
          100,
          100,
          100,
          100,
          100,
          92,
          100,
          96.66666666666666,
          100,
          100,
          100,
          92,
          100,
          96.66666666666666,
          100,
          100,
          100,
          95,
          80,
          96.66666666666666,
          100,
          100,
          100,
          92,
          100,
          100,
          100,
          100,
          100,
          98,
          100,
          92,
          90.33333333333333,
          96.66666666666666,
          100,
          100,
          100,
          92,
          96.66666666666666,
          92,
          100,
          100,
          100,
          100,
          96.66666666666666,
          100,
          100,
          96.66666666666666,
          100,
          96.66666666666666,
          100,
          89.99999999999999,
          100,
          92,
          100,
          100,
          100,
          100,
          100,
          100,
          100,
          100,
          100,
          100,
          100,
          100,
          100,
          100,
          100,
          100,
          100,
          100,
          100,
          85.00000000000001,
          100,
          100,
          100,
          92,
          100
         ],
         "yaxis": "y"
        }
       ],
       "layout": {
        "legend": {
         "tracegroupgap": 0
        },
        "margin": {
         "t": 60
        },
        "template": {
         "data": {
          "bar": [
           {
            "error_x": {
             "color": "#2a3f5f"
            },
            "error_y": {
             "color": "#2a3f5f"
            },
            "marker": {
             "line": {
              "color": "#E5ECF6",
              "width": 0.5
             },
             "pattern": {
              "fillmode": "overlay",
              "size": 10,
              "solidity": 0.2
             }
            },
            "type": "bar"
           }
          ],
          "barpolar": [
           {
            "marker": {
             "line": {
              "color": "#E5ECF6",
              "width": 0.5
             },
             "pattern": {
              "fillmode": "overlay",
              "size": 10,
              "solidity": 0.2
             }
            },
            "type": "barpolar"
           }
          ],
          "carpet": [
           {
            "aaxis": {
             "endlinecolor": "#2a3f5f",
             "gridcolor": "white",
             "linecolor": "white",
             "minorgridcolor": "white",
             "startlinecolor": "#2a3f5f"
            },
            "baxis": {
             "endlinecolor": "#2a3f5f",
             "gridcolor": "white",
             "linecolor": "white",
             "minorgridcolor": "white",
             "startlinecolor": "#2a3f5f"
            },
            "type": "carpet"
           }
          ],
          "choropleth": [
           {
            "colorbar": {
             "outlinewidth": 0,
             "ticks": ""
            },
            "type": "choropleth"
           }
          ],
          "contour": [
           {
            "colorbar": {
             "outlinewidth": 0,
             "ticks": ""
            },
            "colorscale": [
             [
              0,
              "#0d0887"
             ],
             [
              0.1111111111111111,
              "#46039f"
             ],
             [
              0.2222222222222222,
              "#7201a8"
             ],
             [
              0.3333333333333333,
              "#9c179e"
             ],
             [
              0.4444444444444444,
              "#bd3786"
             ],
             [
              0.5555555555555556,
              "#d8576b"
             ],
             [
              0.6666666666666666,
              "#ed7953"
             ],
             [
              0.7777777777777778,
              "#fb9f3a"
             ],
             [
              0.8888888888888888,
              "#fdca26"
             ],
             [
              1,
              "#f0f921"
             ]
            ],
            "type": "contour"
           }
          ],
          "contourcarpet": [
           {
            "colorbar": {
             "outlinewidth": 0,
             "ticks": ""
            },
            "type": "contourcarpet"
           }
          ],
          "heatmap": [
           {
            "colorbar": {
             "outlinewidth": 0,
             "ticks": ""
            },
            "colorscale": [
             [
              0,
              "#0d0887"
             ],
             [
              0.1111111111111111,
              "#46039f"
             ],
             [
              0.2222222222222222,
              "#7201a8"
             ],
             [
              0.3333333333333333,
              "#9c179e"
             ],
             [
              0.4444444444444444,
              "#bd3786"
             ],
             [
              0.5555555555555556,
              "#d8576b"
             ],
             [
              0.6666666666666666,
              "#ed7953"
             ],
             [
              0.7777777777777778,
              "#fb9f3a"
             ],
             [
              0.8888888888888888,
              "#fdca26"
             ],
             [
              1,
              "#f0f921"
             ]
            ],
            "type": "heatmap"
           }
          ],
          "heatmapgl": [
           {
            "colorbar": {
             "outlinewidth": 0,
             "ticks": ""
            },
            "colorscale": [
             [
              0,
              "#0d0887"
             ],
             [
              0.1111111111111111,
              "#46039f"
             ],
             [
              0.2222222222222222,
              "#7201a8"
             ],
             [
              0.3333333333333333,
              "#9c179e"
             ],
             [
              0.4444444444444444,
              "#bd3786"
             ],
             [
              0.5555555555555556,
              "#d8576b"
             ],
             [
              0.6666666666666666,
              "#ed7953"
             ],
             [
              0.7777777777777778,
              "#fb9f3a"
             ],
             [
              0.8888888888888888,
              "#fdca26"
             ],
             [
              1,
              "#f0f921"
             ]
            ],
            "type": "heatmapgl"
           }
          ],
          "histogram": [
           {
            "marker": {
             "pattern": {
              "fillmode": "overlay",
              "size": 10,
              "solidity": 0.2
             }
            },
            "type": "histogram"
           }
          ],
          "histogram2d": [
           {
            "colorbar": {
             "outlinewidth": 0,
             "ticks": ""
            },
            "colorscale": [
             [
              0,
              "#0d0887"
             ],
             [
              0.1111111111111111,
              "#46039f"
             ],
             [
              0.2222222222222222,
              "#7201a8"
             ],
             [
              0.3333333333333333,
              "#9c179e"
             ],
             [
              0.4444444444444444,
              "#bd3786"
             ],
             [
              0.5555555555555556,
              "#d8576b"
             ],
             [
              0.6666666666666666,
              "#ed7953"
             ],
             [
              0.7777777777777778,
              "#fb9f3a"
             ],
             [
              0.8888888888888888,
              "#fdca26"
             ],
             [
              1,
              "#f0f921"
             ]
            ],
            "type": "histogram2d"
           }
          ],
          "histogram2dcontour": [
           {
            "colorbar": {
             "outlinewidth": 0,
             "ticks": ""
            },
            "colorscale": [
             [
              0,
              "#0d0887"
             ],
             [
              0.1111111111111111,
              "#46039f"
             ],
             [
              0.2222222222222222,
              "#7201a8"
             ],
             [
              0.3333333333333333,
              "#9c179e"
             ],
             [
              0.4444444444444444,
              "#bd3786"
             ],
             [
              0.5555555555555556,
              "#d8576b"
             ],
             [
              0.6666666666666666,
              "#ed7953"
             ],
             [
              0.7777777777777778,
              "#fb9f3a"
             ],
             [
              0.8888888888888888,
              "#fdca26"
             ],
             [
              1,
              "#f0f921"
             ]
            ],
            "type": "histogram2dcontour"
           }
          ],
          "mesh3d": [
           {
            "colorbar": {
             "outlinewidth": 0,
             "ticks": ""
            },
            "type": "mesh3d"
           }
          ],
          "parcoords": [
           {
            "line": {
             "colorbar": {
              "outlinewidth": 0,
              "ticks": ""
             }
            },
            "type": "parcoords"
           }
          ],
          "pie": [
           {
            "automargin": true,
            "type": "pie"
           }
          ],
          "scatter": [
           {
            "fillpattern": {
             "fillmode": "overlay",
             "size": 10,
             "solidity": 0.2
            },
            "type": "scatter"
           }
          ],
          "scatter3d": [
           {
            "line": {
             "colorbar": {
              "outlinewidth": 0,
              "ticks": ""
             }
            },
            "marker": {
             "colorbar": {
              "outlinewidth": 0,
              "ticks": ""
             }
            },
            "type": "scatter3d"
           }
          ],
          "scattercarpet": [
           {
            "marker": {
             "colorbar": {
              "outlinewidth": 0,
              "ticks": ""
             }
            },
            "type": "scattercarpet"
           }
          ],
          "scattergeo": [
           {
            "marker": {
             "colorbar": {
              "outlinewidth": 0,
              "ticks": ""
             }
            },
            "type": "scattergeo"
           }
          ],
          "scattergl": [
           {
            "marker": {
             "colorbar": {
              "outlinewidth": 0,
              "ticks": ""
             }
            },
            "type": "scattergl"
           }
          ],
          "scattermapbox": [
           {
            "marker": {
             "colorbar": {
              "outlinewidth": 0,
              "ticks": ""
             }
            },
            "type": "scattermapbox"
           }
          ],
          "scatterpolar": [
           {
            "marker": {
             "colorbar": {
              "outlinewidth": 0,
              "ticks": ""
             }
            },
            "type": "scatterpolar"
           }
          ],
          "scatterpolargl": [
           {
            "marker": {
             "colorbar": {
              "outlinewidth": 0,
              "ticks": ""
             }
            },
            "type": "scatterpolargl"
           }
          ],
          "scatterternary": [
           {
            "marker": {
             "colorbar": {
              "outlinewidth": 0,
              "ticks": ""
             }
            },
            "type": "scatterternary"
           }
          ],
          "surface": [
           {
            "colorbar": {
             "outlinewidth": 0,
             "ticks": ""
            },
            "colorscale": [
             [
              0,
              "#0d0887"
             ],
             [
              0.1111111111111111,
              "#46039f"
             ],
             [
              0.2222222222222222,
              "#7201a8"
             ],
             [
              0.3333333333333333,
              "#9c179e"
             ],
             [
              0.4444444444444444,
              "#bd3786"
             ],
             [
              0.5555555555555556,
              "#d8576b"
             ],
             [
              0.6666666666666666,
              "#ed7953"
             ],
             [
              0.7777777777777778,
              "#fb9f3a"
             ],
             [
              0.8888888888888888,
              "#fdca26"
             ],
             [
              1,
              "#f0f921"
             ]
            ],
            "type": "surface"
           }
          ],
          "table": [
           {
            "cells": {
             "fill": {
              "color": "#EBF0F8"
             },
             "line": {
              "color": "white"
             }
            },
            "header": {
             "fill": {
              "color": "#C8D4E3"
             },
             "line": {
              "color": "white"
             }
            },
            "type": "table"
           }
          ]
         },
         "layout": {
          "annotationdefaults": {
           "arrowcolor": "#2a3f5f",
           "arrowhead": 0,
           "arrowwidth": 1
          },
          "autotypenumbers": "strict",
          "coloraxis": {
           "colorbar": {
            "outlinewidth": 0,
            "ticks": ""
           }
          },
          "colorscale": {
           "diverging": [
            [
             0,
             "#8e0152"
            ],
            [
             0.1,
             "#c51b7d"
            ],
            [
             0.2,
             "#de77ae"
            ],
            [
             0.3,
             "#f1b6da"
            ],
            [
             0.4,
             "#fde0ef"
            ],
            [
             0.5,
             "#f7f7f7"
            ],
            [
             0.6,
             "#e6f5d0"
            ],
            [
             0.7,
             "#b8e186"
            ],
            [
             0.8,
             "#7fbc41"
            ],
            [
             0.9,
             "#4d9221"
            ],
            [
             1,
             "#276419"
            ]
           ],
           "sequential": [
            [
             0,
             "#0d0887"
            ],
            [
             0.1111111111111111,
             "#46039f"
            ],
            [
             0.2222222222222222,
             "#7201a8"
            ],
            [
             0.3333333333333333,
             "#9c179e"
            ],
            [
             0.4444444444444444,
             "#bd3786"
            ],
            [
             0.5555555555555556,
             "#d8576b"
            ],
            [
             0.6666666666666666,
             "#ed7953"
            ],
            [
             0.7777777777777778,
             "#fb9f3a"
            ],
            [
             0.8888888888888888,
             "#fdca26"
            ],
            [
             1,
             "#f0f921"
            ]
           ],
           "sequentialminus": [
            [
             0,
             "#0d0887"
            ],
            [
             0.1111111111111111,
             "#46039f"
            ],
            [
             0.2222222222222222,
             "#7201a8"
            ],
            [
             0.3333333333333333,
             "#9c179e"
            ],
            [
             0.4444444444444444,
             "#bd3786"
            ],
            [
             0.5555555555555556,
             "#d8576b"
            ],
            [
             0.6666666666666666,
             "#ed7953"
            ],
            [
             0.7777777777777778,
             "#fb9f3a"
            ],
            [
             0.8888888888888888,
             "#fdca26"
            ],
            [
             1,
             "#f0f921"
            ]
           ]
          },
          "colorway": [
           "#636efa",
           "#EF553B",
           "#00cc96",
           "#ab63fa",
           "#FFA15A",
           "#19d3f3",
           "#FF6692",
           "#B6E880",
           "#FF97FF",
           "#FECB52"
          ],
          "font": {
           "color": "#2a3f5f"
          },
          "geo": {
           "bgcolor": "white",
           "lakecolor": "white",
           "landcolor": "#E5ECF6",
           "showlakes": true,
           "showland": true,
           "subunitcolor": "white"
          },
          "hoverlabel": {
           "align": "left"
          },
          "hovermode": "closest",
          "mapbox": {
           "style": "light"
          },
          "paper_bgcolor": "white",
          "plot_bgcolor": "#E5ECF6",
          "polar": {
           "angularaxis": {
            "gridcolor": "white",
            "linecolor": "white",
            "ticks": ""
           },
           "bgcolor": "#E5ECF6",
           "radialaxis": {
            "gridcolor": "white",
            "linecolor": "white",
            "ticks": ""
           }
          },
          "scene": {
           "xaxis": {
            "backgroundcolor": "#E5ECF6",
            "gridcolor": "white",
            "gridwidth": 2,
            "linecolor": "white",
            "showbackground": true,
            "ticks": "",
            "zerolinecolor": "white"
           },
           "yaxis": {
            "backgroundcolor": "#E5ECF6",
            "gridcolor": "white",
            "gridwidth": 2,
            "linecolor": "white",
            "showbackground": true,
            "ticks": "",
            "zerolinecolor": "white"
           },
           "zaxis": {
            "backgroundcolor": "#E5ECF6",
            "gridcolor": "white",
            "gridwidth": 2,
            "linecolor": "white",
            "showbackground": true,
            "ticks": "",
            "zerolinecolor": "white"
           }
          },
          "shapedefaults": {
           "line": {
            "color": "#2a3f5f"
           }
          },
          "ternary": {
           "aaxis": {
            "gridcolor": "white",
            "linecolor": "white",
            "ticks": ""
           },
           "baxis": {
            "gridcolor": "white",
            "linecolor": "white",
            "ticks": ""
           },
           "bgcolor": "#E5ECF6",
           "caxis": {
            "gridcolor": "white",
            "linecolor": "white",
            "ticks": ""
           }
          },
          "title": {
           "x": 0.05
          },
          "xaxis": {
           "automargin": true,
           "gridcolor": "white",
           "linecolor": "white",
           "ticks": "",
           "title": {
            "standoff": 15
           },
           "zerolinecolor": "white",
           "zerolinewidth": 2
          },
          "yaxis": {
           "automargin": true,
           "gridcolor": "white",
           "linecolor": "white",
           "ticks": "",
           "title": {
            "standoff": 15
           },
           "zerolinecolor": "white",
           "zerolinewidth": 2
          }
         }
        },
        "xaxis": {
         "anchor": "y",
         "domain": [
          0,
          1
         ],
         "title": {
          "text": "Awakenings"
         }
        },
        "yaxis": {
         "anchor": "x",
         "domain": [
          0,
          1
         ],
         "title": {
          "text": "Sleep Quality"
         }
        }
       }
      }
     },
     "metadata": {},
     "output_type": "display_data"
    },
    {
     "data": {
      "application/vnd.plotly.v1+json": {
       "config": {
        "plotlyServerURL": "https://plot.ly"
       },
       "data": [
        {
         "hovertemplate": "Caffeine consumption=%{x}<br>Sleep Quality=%{y}<extra></extra>",
         "legendgroup": "",
         "marker": {
          "color": "#636efa",
          "symbol": "circle"
         },
         "mode": "markers",
         "name": "",
         "orientation": "v",
         "showlegend": false,
         "type": "scatter",
         "x": [
          0,
          0,
          0,
          50,
          0,
          null,
          50,
          50,
          50,
          0,
          50,
          0,
          50,
          0,
          25,
          50,
          0,
          50,
          25,
          50,
          0,
          50,
          75,
          50,
          null,
          0,
          null,
          0,
          0,
          0,
          0,
          25,
          0,
          25,
          0,
          50,
          0,
          null,
          50,
          50,
          0,
          25,
          50,
          50,
          25,
          50,
          0,
          50,
          0,
          0,
          25,
          50,
          0,
          0,
          0,
          0,
          0,
          null,
          50,
          50,
          null,
          0,
          200,
          null,
          null,
          0,
          0,
          25,
          0,
          0,
          50,
          50,
          0,
          25,
          0,
          0,
          0,
          0,
          0,
          0,
          25,
          200,
          0,
          25,
          0,
          75,
          0,
          0,
          0,
          25,
          0,
          0,
          0,
          0,
          0,
          25,
          200,
          25,
          25,
          0,
          25,
          0,
          25,
          25,
          50,
          25,
          0,
          50,
          50,
          50,
          50,
          100,
          75,
          25,
          null,
          0,
          50,
          0,
          0,
          0,
          0,
          0,
          0,
          25,
          0,
          25,
          0,
          50,
          25,
          50,
          25,
          50,
          50,
          0,
          75,
          50,
          null,
          0,
          0,
          25,
          25,
          50,
          0,
          0,
          25,
          50,
          0,
          25,
          50,
          50,
          0,
          50,
          75,
          0,
          0,
          0,
          50,
          0,
          0,
          0,
          0,
          200,
          0,
          25,
          null,
          0,
          0,
          75,
          50,
          null,
          0,
          50,
          0,
          0,
          0,
          null,
          50,
          50,
          25,
          75,
          0,
          50,
          0,
          0,
          25,
          50,
          null,
          50,
          50,
          0,
          50,
          75,
          0,
          25,
          0,
          50,
          75,
          0,
          25,
          0,
          0,
          50,
          25,
          null,
          0,
          25,
          25,
          50,
          0,
          0,
          0,
          0,
          50,
          75,
          25,
          null,
          0,
          50,
          50,
          0,
          0,
          25,
          50,
          50,
          75,
          0,
          0,
          0,
          25,
          0,
          50,
          0,
          25,
          25,
          50,
          50,
          0,
          25,
          25,
          0,
          0,
          0,
          50,
          75,
          0,
          0,
          25,
          0,
          0,
          0,
          50,
          50,
          50,
          0,
          50,
          50,
          25,
          25,
          0,
          0,
          0,
          25,
          50,
          25,
          50,
          0,
          0,
          0,
          0,
          25,
          null,
          0,
          0,
          50,
          0,
          50,
          50,
          25,
          50,
          0,
          50,
          0,
          75,
          25,
          50,
          0,
          0,
          75,
          25,
          50,
          0,
          0,
          0,
          25,
          75,
          0,
          0,
          25,
          25,
          0,
          0,
          25,
          0,
          0,
          0,
          0,
          0,
          25,
          0,
          50,
          25,
          0,
          0,
          25,
          0,
          0,
          0,
          0,
          0,
          0,
          0,
          null,
          50,
          0,
          null,
          0,
          75,
          50,
          25,
          50,
          0,
          0,
          0,
          25,
          25,
          50,
          0,
          50,
          0,
          0,
          75,
          0,
          50,
          50,
          0,
          50,
          0,
          0,
          25,
          50,
          0,
          25,
          0,
          0,
          0,
          null,
          0,
          75,
          0,
          0,
          25,
          75,
          0,
          25,
          0,
          50,
          75,
          0,
          25,
          25,
          50,
          50,
          25,
          0,
          25,
          50,
          0,
          25,
          0,
          0,
          25,
          75,
          0,
          0,
          0,
          0,
          50,
          0,
          25,
          50,
          null,
          50,
          null,
          0,
          50,
          0,
          50,
          50,
          50,
          50,
          25,
          0,
          0,
          0,
          null,
          0,
          0,
          25,
          0,
          50,
          0,
          0,
          25,
          50,
          25,
          0,
          0,
          0,
          0,
          50,
          0,
          0,
          25,
          50,
          0,
          50,
          75,
          0,
          0,
          0,
          50,
          50,
          0,
          75,
          75,
          0,
          0,
          0,
          0,
          0,
          75,
          0,
          null,
          50,
          0,
          50,
          0,
          0,
          25,
          null,
          0,
          50
         ],
         "xaxis": "x",
         "y": [
          86.00000000000001,
          94.33333333333334,
          100,
          96,
          100,
          100,
          100,
          100,
          100,
          100,
          100,
          95,
          100,
          100,
          100,
          100,
          100,
          95,
          100,
          100,
          89.99999999999999,
          100,
          100,
          100,
          85.00000000000001,
          86.00000000000001,
          100,
          100,
          100,
          96.66666666666666,
          96.66666666666666,
          100,
          100,
          100,
          100,
          100,
          92,
          100,
          100,
          100,
          94,
          89.99999999999999,
          100,
          100,
          100,
          94.33333333333334,
          100,
          100,
          100,
          100,
          100,
          100,
          100,
          100,
          95,
          100,
          100,
          100,
          100,
          100,
          100,
          92,
          89.99999999999999,
          100,
          100,
          100,
          85.00000000000001,
          95,
          92,
          89.99999999999999,
          100,
          92,
          89.99999999999999,
          100,
          100,
          100,
          100,
          100,
          96.66666666666666,
          100,
          100,
          87.5,
          100,
          100,
          88,
          95,
          100,
          100,
          100,
          100,
          89.99999999999999,
          100,
          92,
          100,
          100,
          96.66666666666666,
          100,
          100,
          100,
          100,
          100,
          100,
          100,
          89.99999999999999,
          100,
          100,
          96.66666666666666,
          100,
          100,
          100,
          88.33333333333333,
          96.66666666666666,
          89.99999999999999,
          89.99999999999999,
          100,
          96.66666666666666,
          100,
          100,
          96.66666666666666,
          96.66666666666666,
          89.99999999999999,
          100,
          100,
          100,
          96.66666666666666,
          100,
          100,
          100,
          100,
          92,
          100,
          100,
          100,
          98,
          100,
          96.66666666666666,
          94.33333333333334,
          100,
          100,
          100,
          100,
          96,
          100,
          100,
          100,
          100,
          98,
          100,
          100,
          100,
          100,
          100,
          95,
          100,
          100,
          100,
          100,
          100,
          92,
          100,
          100,
          100,
          100,
          100,
          100,
          100,
          96.66666666666666,
          100,
          100,
          100,
          100,
          100,
          100,
          100,
          100,
          92,
          100,
          100,
          100,
          89.99999999999999,
          100,
          100,
          100,
          100,
          100,
          100,
          96.66666666666666,
          92,
          100,
          96.66666666666666,
          95,
          100,
          85.00000000000001,
          96.66666666666666,
          100,
          100,
          100,
          98,
          83.33333333333333,
          100,
          100,
          100,
          86.00000000000001,
          100,
          96.66666666666666,
          89.99999999999999,
          96.66666666666666,
          96.66666666666666,
          100,
          100,
          100,
          92,
          87.5,
          91.66666666666667,
          100,
          100,
          100,
          100,
          100,
          98,
          100,
          100,
          100,
          100,
          100,
          100,
          100,
          96.66666666666666,
          100,
          100,
          100,
          100,
          86.66666666666667,
          100,
          100,
          100,
          100,
          100,
          100,
          100,
          92,
          100,
          100,
          100,
          100,
          100,
          100,
          98,
          100,
          100,
          92,
          100,
          96.66666666666666,
          100,
          96.66666666666666,
          96.66666666666666,
          96.66666666666666,
          89.99999999999999,
          98,
          100,
          100,
          100,
          100,
          100,
          100,
          95,
          96.66666666666666,
          100,
          100,
          100,
          100,
          100,
          100,
          100,
          100,
          99,
          98,
          100,
          100,
          96.66666666666666,
          100,
          100,
          100,
          100,
          100,
          89.99999999999999,
          98,
          100,
          96.66666666666666,
          100,
          98,
          100,
          89.99999999999999,
          100,
          96.66666666666666,
          100,
          100,
          100,
          100,
          100,
          100,
          100,
          100,
          100,
          89.99999999999999,
          88.33333333333333,
          98,
          100,
          96.66666666666666,
          100,
          100,
          100,
          100,
          96.66666666666666,
          100,
          100,
          100,
          100,
          100,
          85.00000000000001,
          96.66666666666666,
          100,
          100,
          100,
          86.00000000000001,
          100,
          100,
          100,
          100,
          100,
          80.66666666666666,
          98,
          100,
          100,
          100,
          100,
          100,
          100,
          100,
          90.33333333333333,
          96.66666666666666,
          100,
          100,
          100,
          100,
          100,
          85.00000000000001,
          98,
          100,
          100,
          96.66666666666666,
          97.50000000000001,
          100,
          100,
          100,
          100,
          100,
          100,
          96.66666666666666,
          100,
          100,
          100,
          100,
          100,
          100,
          100,
          100,
          86.66666666666667,
          100,
          89.99999999999999,
          96.66666666666666,
          96.66666666666666,
          100,
          100,
          100,
          100,
          100,
          100,
          92,
          100,
          96.66666666666666,
          100,
          100,
          100,
          92,
          100,
          96.66666666666666,
          100,
          100,
          100,
          95,
          80,
          96.66666666666666,
          100,
          100,
          100,
          92,
          100,
          100,
          100,
          100,
          100,
          98,
          100,
          92,
          90.33333333333333,
          96.66666666666666,
          100,
          100,
          100,
          92,
          96.66666666666666,
          92,
          100,
          100,
          100,
          100,
          96.66666666666666,
          100,
          100,
          96.66666666666666,
          100,
          96.66666666666666,
          100,
          89.99999999999999,
          100,
          92,
          100,
          100,
          100,
          100,
          100,
          100,
          100,
          100,
          100,
          100,
          100,
          100,
          100,
          100,
          100,
          100,
          100,
          100,
          100,
          85.00000000000001,
          100,
          100,
          100,
          92,
          100
         ],
         "yaxis": "y"
        }
       ],
       "layout": {
        "legend": {
         "tracegroupgap": 0
        },
        "margin": {
         "t": 60
        },
        "template": {
         "data": {
          "bar": [
           {
            "error_x": {
             "color": "#2a3f5f"
            },
            "error_y": {
             "color": "#2a3f5f"
            },
            "marker": {
             "line": {
              "color": "#E5ECF6",
              "width": 0.5
             },
             "pattern": {
              "fillmode": "overlay",
              "size": 10,
              "solidity": 0.2
             }
            },
            "type": "bar"
           }
          ],
          "barpolar": [
           {
            "marker": {
             "line": {
              "color": "#E5ECF6",
              "width": 0.5
             },
             "pattern": {
              "fillmode": "overlay",
              "size": 10,
              "solidity": 0.2
             }
            },
            "type": "barpolar"
           }
          ],
          "carpet": [
           {
            "aaxis": {
             "endlinecolor": "#2a3f5f",
             "gridcolor": "white",
             "linecolor": "white",
             "minorgridcolor": "white",
             "startlinecolor": "#2a3f5f"
            },
            "baxis": {
             "endlinecolor": "#2a3f5f",
             "gridcolor": "white",
             "linecolor": "white",
             "minorgridcolor": "white",
             "startlinecolor": "#2a3f5f"
            },
            "type": "carpet"
           }
          ],
          "choropleth": [
           {
            "colorbar": {
             "outlinewidth": 0,
             "ticks": ""
            },
            "type": "choropleth"
           }
          ],
          "contour": [
           {
            "colorbar": {
             "outlinewidth": 0,
             "ticks": ""
            },
            "colorscale": [
             [
              0,
              "#0d0887"
             ],
             [
              0.1111111111111111,
              "#46039f"
             ],
             [
              0.2222222222222222,
              "#7201a8"
             ],
             [
              0.3333333333333333,
              "#9c179e"
             ],
             [
              0.4444444444444444,
              "#bd3786"
             ],
             [
              0.5555555555555556,
              "#d8576b"
             ],
             [
              0.6666666666666666,
              "#ed7953"
             ],
             [
              0.7777777777777778,
              "#fb9f3a"
             ],
             [
              0.8888888888888888,
              "#fdca26"
             ],
             [
              1,
              "#f0f921"
             ]
            ],
            "type": "contour"
           }
          ],
          "contourcarpet": [
           {
            "colorbar": {
             "outlinewidth": 0,
             "ticks": ""
            },
            "type": "contourcarpet"
           }
          ],
          "heatmap": [
           {
            "colorbar": {
             "outlinewidth": 0,
             "ticks": ""
            },
            "colorscale": [
             [
              0,
              "#0d0887"
             ],
             [
              0.1111111111111111,
              "#46039f"
             ],
             [
              0.2222222222222222,
              "#7201a8"
             ],
             [
              0.3333333333333333,
              "#9c179e"
             ],
             [
              0.4444444444444444,
              "#bd3786"
             ],
             [
              0.5555555555555556,
              "#d8576b"
             ],
             [
              0.6666666666666666,
              "#ed7953"
             ],
             [
              0.7777777777777778,
              "#fb9f3a"
             ],
             [
              0.8888888888888888,
              "#fdca26"
             ],
             [
              1,
              "#f0f921"
             ]
            ],
            "type": "heatmap"
           }
          ],
          "heatmapgl": [
           {
            "colorbar": {
             "outlinewidth": 0,
             "ticks": ""
            },
            "colorscale": [
             [
              0,
              "#0d0887"
             ],
             [
              0.1111111111111111,
              "#46039f"
             ],
             [
              0.2222222222222222,
              "#7201a8"
             ],
             [
              0.3333333333333333,
              "#9c179e"
             ],
             [
              0.4444444444444444,
              "#bd3786"
             ],
             [
              0.5555555555555556,
              "#d8576b"
             ],
             [
              0.6666666666666666,
              "#ed7953"
             ],
             [
              0.7777777777777778,
              "#fb9f3a"
             ],
             [
              0.8888888888888888,
              "#fdca26"
             ],
             [
              1,
              "#f0f921"
             ]
            ],
            "type": "heatmapgl"
           }
          ],
          "histogram": [
           {
            "marker": {
             "pattern": {
              "fillmode": "overlay",
              "size": 10,
              "solidity": 0.2
             }
            },
            "type": "histogram"
           }
          ],
          "histogram2d": [
           {
            "colorbar": {
             "outlinewidth": 0,
             "ticks": ""
            },
            "colorscale": [
             [
              0,
              "#0d0887"
             ],
             [
              0.1111111111111111,
              "#46039f"
             ],
             [
              0.2222222222222222,
              "#7201a8"
             ],
             [
              0.3333333333333333,
              "#9c179e"
             ],
             [
              0.4444444444444444,
              "#bd3786"
             ],
             [
              0.5555555555555556,
              "#d8576b"
             ],
             [
              0.6666666666666666,
              "#ed7953"
             ],
             [
              0.7777777777777778,
              "#fb9f3a"
             ],
             [
              0.8888888888888888,
              "#fdca26"
             ],
             [
              1,
              "#f0f921"
             ]
            ],
            "type": "histogram2d"
           }
          ],
          "histogram2dcontour": [
           {
            "colorbar": {
             "outlinewidth": 0,
             "ticks": ""
            },
            "colorscale": [
             [
              0,
              "#0d0887"
             ],
             [
              0.1111111111111111,
              "#46039f"
             ],
             [
              0.2222222222222222,
              "#7201a8"
             ],
             [
              0.3333333333333333,
              "#9c179e"
             ],
             [
              0.4444444444444444,
              "#bd3786"
             ],
             [
              0.5555555555555556,
              "#d8576b"
             ],
             [
              0.6666666666666666,
              "#ed7953"
             ],
             [
              0.7777777777777778,
              "#fb9f3a"
             ],
             [
              0.8888888888888888,
              "#fdca26"
             ],
             [
              1,
              "#f0f921"
             ]
            ],
            "type": "histogram2dcontour"
           }
          ],
          "mesh3d": [
           {
            "colorbar": {
             "outlinewidth": 0,
             "ticks": ""
            },
            "type": "mesh3d"
           }
          ],
          "parcoords": [
           {
            "line": {
             "colorbar": {
              "outlinewidth": 0,
              "ticks": ""
             }
            },
            "type": "parcoords"
           }
          ],
          "pie": [
           {
            "automargin": true,
            "type": "pie"
           }
          ],
          "scatter": [
           {
            "fillpattern": {
             "fillmode": "overlay",
             "size": 10,
             "solidity": 0.2
            },
            "type": "scatter"
           }
          ],
          "scatter3d": [
           {
            "line": {
             "colorbar": {
              "outlinewidth": 0,
              "ticks": ""
             }
            },
            "marker": {
             "colorbar": {
              "outlinewidth": 0,
              "ticks": ""
             }
            },
            "type": "scatter3d"
           }
          ],
          "scattercarpet": [
           {
            "marker": {
             "colorbar": {
              "outlinewidth": 0,
              "ticks": ""
             }
            },
            "type": "scattercarpet"
           }
          ],
          "scattergeo": [
           {
            "marker": {
             "colorbar": {
              "outlinewidth": 0,
              "ticks": ""
             }
            },
            "type": "scattergeo"
           }
          ],
          "scattergl": [
           {
            "marker": {
             "colorbar": {
              "outlinewidth": 0,
              "ticks": ""
             }
            },
            "type": "scattergl"
           }
          ],
          "scattermapbox": [
           {
            "marker": {
             "colorbar": {
              "outlinewidth": 0,
              "ticks": ""
             }
            },
            "type": "scattermapbox"
           }
          ],
          "scatterpolar": [
           {
            "marker": {
             "colorbar": {
              "outlinewidth": 0,
              "ticks": ""
             }
            },
            "type": "scatterpolar"
           }
          ],
          "scatterpolargl": [
           {
            "marker": {
             "colorbar": {
              "outlinewidth": 0,
              "ticks": ""
             }
            },
            "type": "scatterpolargl"
           }
          ],
          "scatterternary": [
           {
            "marker": {
             "colorbar": {
              "outlinewidth": 0,
              "ticks": ""
             }
            },
            "type": "scatterternary"
           }
          ],
          "surface": [
           {
            "colorbar": {
             "outlinewidth": 0,
             "ticks": ""
            },
            "colorscale": [
             [
              0,
              "#0d0887"
             ],
             [
              0.1111111111111111,
              "#46039f"
             ],
             [
              0.2222222222222222,
              "#7201a8"
             ],
             [
              0.3333333333333333,
              "#9c179e"
             ],
             [
              0.4444444444444444,
              "#bd3786"
             ],
             [
              0.5555555555555556,
              "#d8576b"
             ],
             [
              0.6666666666666666,
              "#ed7953"
             ],
             [
              0.7777777777777778,
              "#fb9f3a"
             ],
             [
              0.8888888888888888,
              "#fdca26"
             ],
             [
              1,
              "#f0f921"
             ]
            ],
            "type": "surface"
           }
          ],
          "table": [
           {
            "cells": {
             "fill": {
              "color": "#EBF0F8"
             },
             "line": {
              "color": "white"
             }
            },
            "header": {
             "fill": {
              "color": "#C8D4E3"
             },
             "line": {
              "color": "white"
             }
            },
            "type": "table"
           }
          ]
         },
         "layout": {
          "annotationdefaults": {
           "arrowcolor": "#2a3f5f",
           "arrowhead": 0,
           "arrowwidth": 1
          },
          "autotypenumbers": "strict",
          "coloraxis": {
           "colorbar": {
            "outlinewidth": 0,
            "ticks": ""
           }
          },
          "colorscale": {
           "diverging": [
            [
             0,
             "#8e0152"
            ],
            [
             0.1,
             "#c51b7d"
            ],
            [
             0.2,
             "#de77ae"
            ],
            [
             0.3,
             "#f1b6da"
            ],
            [
             0.4,
             "#fde0ef"
            ],
            [
             0.5,
             "#f7f7f7"
            ],
            [
             0.6,
             "#e6f5d0"
            ],
            [
             0.7,
             "#b8e186"
            ],
            [
             0.8,
             "#7fbc41"
            ],
            [
             0.9,
             "#4d9221"
            ],
            [
             1,
             "#276419"
            ]
           ],
           "sequential": [
            [
             0,
             "#0d0887"
            ],
            [
             0.1111111111111111,
             "#46039f"
            ],
            [
             0.2222222222222222,
             "#7201a8"
            ],
            [
             0.3333333333333333,
             "#9c179e"
            ],
            [
             0.4444444444444444,
             "#bd3786"
            ],
            [
             0.5555555555555556,
             "#d8576b"
            ],
            [
             0.6666666666666666,
             "#ed7953"
            ],
            [
             0.7777777777777778,
             "#fb9f3a"
            ],
            [
             0.8888888888888888,
             "#fdca26"
            ],
            [
             1,
             "#f0f921"
            ]
           ],
           "sequentialminus": [
            [
             0,
             "#0d0887"
            ],
            [
             0.1111111111111111,
             "#46039f"
            ],
            [
             0.2222222222222222,
             "#7201a8"
            ],
            [
             0.3333333333333333,
             "#9c179e"
            ],
            [
             0.4444444444444444,
             "#bd3786"
            ],
            [
             0.5555555555555556,
             "#d8576b"
            ],
            [
             0.6666666666666666,
             "#ed7953"
            ],
            [
             0.7777777777777778,
             "#fb9f3a"
            ],
            [
             0.8888888888888888,
             "#fdca26"
            ],
            [
             1,
             "#f0f921"
            ]
           ]
          },
          "colorway": [
           "#636efa",
           "#EF553B",
           "#00cc96",
           "#ab63fa",
           "#FFA15A",
           "#19d3f3",
           "#FF6692",
           "#B6E880",
           "#FF97FF",
           "#FECB52"
          ],
          "font": {
           "color": "#2a3f5f"
          },
          "geo": {
           "bgcolor": "white",
           "lakecolor": "white",
           "landcolor": "#E5ECF6",
           "showlakes": true,
           "showland": true,
           "subunitcolor": "white"
          },
          "hoverlabel": {
           "align": "left"
          },
          "hovermode": "closest",
          "mapbox": {
           "style": "light"
          },
          "paper_bgcolor": "white",
          "plot_bgcolor": "#E5ECF6",
          "polar": {
           "angularaxis": {
            "gridcolor": "white",
            "linecolor": "white",
            "ticks": ""
           },
           "bgcolor": "#E5ECF6",
           "radialaxis": {
            "gridcolor": "white",
            "linecolor": "white",
            "ticks": ""
           }
          },
          "scene": {
           "xaxis": {
            "backgroundcolor": "#E5ECF6",
            "gridcolor": "white",
            "gridwidth": 2,
            "linecolor": "white",
            "showbackground": true,
            "ticks": "",
            "zerolinecolor": "white"
           },
           "yaxis": {
            "backgroundcolor": "#E5ECF6",
            "gridcolor": "white",
            "gridwidth": 2,
            "linecolor": "white",
            "showbackground": true,
            "ticks": "",
            "zerolinecolor": "white"
           },
           "zaxis": {
            "backgroundcolor": "#E5ECF6",
            "gridcolor": "white",
            "gridwidth": 2,
            "linecolor": "white",
            "showbackground": true,
            "ticks": "",
            "zerolinecolor": "white"
           }
          },
          "shapedefaults": {
           "line": {
            "color": "#2a3f5f"
           }
          },
          "ternary": {
           "aaxis": {
            "gridcolor": "white",
            "linecolor": "white",
            "ticks": ""
           },
           "baxis": {
            "gridcolor": "white",
            "linecolor": "white",
            "ticks": ""
           },
           "bgcolor": "#E5ECF6",
           "caxis": {
            "gridcolor": "white",
            "linecolor": "white",
            "ticks": ""
           }
          },
          "title": {
           "x": 0.05
          },
          "xaxis": {
           "automargin": true,
           "gridcolor": "white",
           "linecolor": "white",
           "ticks": "",
           "title": {
            "standoff": 15
           },
           "zerolinecolor": "white",
           "zerolinewidth": 2
          },
          "yaxis": {
           "automargin": true,
           "gridcolor": "white",
           "linecolor": "white",
           "ticks": "",
           "title": {
            "standoff": 15
           },
           "zerolinecolor": "white",
           "zerolinewidth": 2
          }
         }
        },
        "xaxis": {
         "anchor": "y",
         "domain": [
          0,
          1
         ],
         "title": {
          "text": "Caffeine consumption"
         }
        },
        "yaxis": {
         "anchor": "x",
         "domain": [
          0,
          1
         ],
         "title": {
          "text": "Sleep Quality"
         }
        }
       }
      }
     },
     "metadata": {},
     "output_type": "display_data"
    },
    {
     "data": {
      "application/vnd.plotly.v1+json": {
       "config": {
        "plotlyServerURL": "https://plot.ly"
       },
       "data": [
        {
         "hovertemplate": "Alcohol consumption=%{x}<br>Sleep Quality=%{y}<extra></extra>",
         "legendgroup": "",
         "marker": {
          "color": "#636efa",
          "symbol": "circle"
         },
         "mode": "markers",
         "name": "",
         "orientation": "v",
         "showlegend": false,
         "type": "scatter",
         "x": [
          0,
          3,
          0,
          5,
          3,
          0,
          0,
          0,
          0,
          0,
          0,
          0,
          0,
          0,
          1,
          2,
          2,
          2,
          1,
          0,
          null,
          4,
          0,
          0,
          5,
          0,
          0,
          0,
          0,
          3,
          1,
          0,
          4,
          1,
          0,
          3,
          0,
          0,
          0,
          3,
          0,
          0,
          0,
          0,
          1,
          0,
          0,
          1,
          0,
          5,
          0,
          2,
          0,
          0,
          0,
          0,
          3,
          0,
          0,
          0,
          0,
          0,
          0,
          0,
          0,
          3,
          4,
          2,
          0,
          2,
          3,
          2,
          4,
          0,
          0,
          null,
          0,
          5,
          0,
          0,
          0,
          0,
          0,
          0,
          3,
          0,
          0,
          3,
          0,
          0,
          0,
          3,
          3,
          0,
          3,
          2,
          0,
          0,
          0,
          0,
          1,
          1,
          0,
          5,
          0,
          0,
          5,
          0,
          2,
          0,
          0,
          0,
          0,
          0,
          0,
          5,
          0,
          5,
          0,
          0,
          0,
          0,
          0,
          0,
          2,
          0,
          0,
          1,
          1,
          null,
          1,
          0,
          0,
          0,
          2,
          1,
          3,
          0,
          3,
          2,
          null,
          5,
          3,
          3,
          1,
          5,
          0,
          1,
          null,
          0,
          2,
          2,
          1,
          0,
          1,
          0,
          0,
          0,
          0,
          0,
          0,
          0,
          0,
          1,
          0,
          5,
          0,
          0,
          1,
          0,
          3,
          3,
          0,
          0,
          0,
          0,
          2,
          0,
          1,
          0,
          0,
          0,
          0,
          0,
          0,
          null,
          3,
          null,
          0,
          0,
          4,
          0,
          null,
          0,
          0,
          5,
          0,
          0,
          1,
          0,
          4,
          0,
          1,
          3,
          3,
          1,
          1,
          0,
          0,
          0,
          0,
          0,
          2,
          0,
          2,
          5,
          5,
          3,
          0,
          0,
          0,
          1,
          1,
          0,
          1,
          3,
          0,
          0,
          0,
          0,
          0,
          0,
          1,
          0,
          0,
          0,
          3,
          0,
          1,
          0,
          0,
          0,
          0,
          0,
          0,
          3,
          1,
          0,
          0,
          4,
          2,
          0,
          5,
          0,
          5,
          0,
          1,
          5,
          0,
          0,
          3,
          0,
          0,
          0,
          0,
          0,
          3,
          3,
          3,
          0,
          0,
          0,
          3,
          0,
          5,
          4,
          1,
          0,
          0,
          2,
          0,
          0,
          0,
          2,
          0,
          5,
          2,
          2,
          1,
          0,
          0,
          0,
          0,
          0,
          1,
          0,
          0,
          1,
          1,
          4,
          3,
          0,
          5,
          0,
          4,
          0,
          5,
          1,
          5,
          0,
          1,
          0,
          3,
          0,
          0,
          0,
          0,
          5,
          0,
          4,
          2,
          0,
          0,
          0,
          0,
          4,
          1,
          1,
          1,
          2,
          0,
          0,
          0,
          0,
          1,
          4,
          null,
          1,
          0,
          0,
          0,
          0,
          5,
          0,
          3,
          2,
          0,
          4,
          0,
          0,
          1,
          0,
          5,
          2,
          5,
          0,
          0,
          0,
          2,
          0,
          4,
          0,
          0,
          1,
          0,
          0,
          0,
          0,
          0,
          1,
          1,
          2,
          1,
          0,
          1,
          3,
          2,
          0,
          5,
          3,
          1,
          1,
          0,
          0,
          0,
          0,
          5,
          0,
          0,
          2,
          0,
          4,
          3,
          0,
          5,
          null,
          1,
          2,
          0,
          0,
          0,
          0,
          0,
          3,
          3,
          null,
          0,
          1,
          2,
          0,
          4,
          0,
          0,
          0,
          4,
          4,
          0,
          3,
          2,
          0,
          null,
          0,
          1,
          4,
          4,
          0,
          null,
          3,
          5,
          0,
          0,
          1,
          3,
          0,
          2,
          0,
          3,
          3,
          3,
          3,
          null,
          3,
          4,
          2,
          2,
          2,
          4,
          0,
          0,
          3,
          0,
          0
         ],
         "xaxis": "x",
         "y": [
          86.00000000000001,
          94.33333333333334,
          100,
          96,
          100,
          100,
          100,
          100,
          100,
          100,
          100,
          95,
          100,
          100,
          100,
          100,
          100,
          95,
          100,
          100,
          89.99999999999999,
          100,
          100,
          100,
          85.00000000000001,
          86.00000000000001,
          100,
          100,
          100,
          96.66666666666666,
          96.66666666666666,
          100,
          100,
          100,
          100,
          100,
          92,
          100,
          100,
          100,
          94,
          89.99999999999999,
          100,
          100,
          100,
          94.33333333333334,
          100,
          100,
          100,
          100,
          100,
          100,
          100,
          100,
          95,
          100,
          100,
          100,
          100,
          100,
          100,
          92,
          89.99999999999999,
          100,
          100,
          100,
          85.00000000000001,
          95,
          92,
          89.99999999999999,
          100,
          92,
          89.99999999999999,
          100,
          100,
          100,
          100,
          100,
          96.66666666666666,
          100,
          100,
          87.5,
          100,
          100,
          88,
          95,
          100,
          100,
          100,
          100,
          89.99999999999999,
          100,
          92,
          100,
          100,
          96.66666666666666,
          100,
          100,
          100,
          100,
          100,
          100,
          100,
          89.99999999999999,
          100,
          100,
          96.66666666666666,
          100,
          100,
          100,
          88.33333333333333,
          96.66666666666666,
          89.99999999999999,
          89.99999999999999,
          100,
          96.66666666666666,
          100,
          100,
          96.66666666666666,
          96.66666666666666,
          89.99999999999999,
          100,
          100,
          100,
          96.66666666666666,
          100,
          100,
          100,
          100,
          92,
          100,
          100,
          100,
          98,
          100,
          96.66666666666666,
          94.33333333333334,
          100,
          100,
          100,
          100,
          96,
          100,
          100,
          100,
          100,
          98,
          100,
          100,
          100,
          100,
          100,
          95,
          100,
          100,
          100,
          100,
          100,
          92,
          100,
          100,
          100,
          100,
          100,
          100,
          100,
          96.66666666666666,
          100,
          100,
          100,
          100,
          100,
          100,
          100,
          100,
          92,
          100,
          100,
          100,
          89.99999999999999,
          100,
          100,
          100,
          100,
          100,
          100,
          96.66666666666666,
          92,
          100,
          96.66666666666666,
          95,
          100,
          85.00000000000001,
          96.66666666666666,
          100,
          100,
          100,
          98,
          83.33333333333333,
          100,
          100,
          100,
          86.00000000000001,
          100,
          96.66666666666666,
          89.99999999999999,
          96.66666666666666,
          96.66666666666666,
          100,
          100,
          100,
          92,
          87.5,
          91.66666666666667,
          100,
          100,
          100,
          100,
          100,
          98,
          100,
          100,
          100,
          100,
          100,
          100,
          100,
          96.66666666666666,
          100,
          100,
          100,
          100,
          86.66666666666667,
          100,
          100,
          100,
          100,
          100,
          100,
          100,
          92,
          100,
          100,
          100,
          100,
          100,
          100,
          98,
          100,
          100,
          92,
          100,
          96.66666666666666,
          100,
          96.66666666666666,
          96.66666666666666,
          96.66666666666666,
          89.99999999999999,
          98,
          100,
          100,
          100,
          100,
          100,
          100,
          95,
          96.66666666666666,
          100,
          100,
          100,
          100,
          100,
          100,
          100,
          100,
          99,
          98,
          100,
          100,
          96.66666666666666,
          100,
          100,
          100,
          100,
          100,
          89.99999999999999,
          98,
          100,
          96.66666666666666,
          100,
          98,
          100,
          89.99999999999999,
          100,
          96.66666666666666,
          100,
          100,
          100,
          100,
          100,
          100,
          100,
          100,
          100,
          89.99999999999999,
          88.33333333333333,
          98,
          100,
          96.66666666666666,
          100,
          100,
          100,
          100,
          96.66666666666666,
          100,
          100,
          100,
          100,
          100,
          85.00000000000001,
          96.66666666666666,
          100,
          100,
          100,
          86.00000000000001,
          100,
          100,
          100,
          100,
          100,
          80.66666666666666,
          98,
          100,
          100,
          100,
          100,
          100,
          100,
          100,
          90.33333333333333,
          96.66666666666666,
          100,
          100,
          100,
          100,
          100,
          85.00000000000001,
          98,
          100,
          100,
          96.66666666666666,
          97.50000000000001,
          100,
          100,
          100,
          100,
          100,
          100,
          96.66666666666666,
          100,
          100,
          100,
          100,
          100,
          100,
          100,
          100,
          86.66666666666667,
          100,
          89.99999999999999,
          96.66666666666666,
          96.66666666666666,
          100,
          100,
          100,
          100,
          100,
          100,
          92,
          100,
          96.66666666666666,
          100,
          100,
          100,
          92,
          100,
          96.66666666666666,
          100,
          100,
          100,
          95,
          80,
          96.66666666666666,
          100,
          100,
          100,
          92,
          100,
          100,
          100,
          100,
          100,
          98,
          100,
          92,
          90.33333333333333,
          96.66666666666666,
          100,
          100,
          100,
          92,
          96.66666666666666,
          92,
          100,
          100,
          100,
          100,
          96.66666666666666,
          100,
          100,
          96.66666666666666,
          100,
          96.66666666666666,
          100,
          89.99999999999999,
          100,
          92,
          100,
          100,
          100,
          100,
          100,
          100,
          100,
          100,
          100,
          100,
          100,
          100,
          100,
          100,
          100,
          100,
          100,
          100,
          100,
          85.00000000000001,
          100,
          100,
          100,
          92,
          100
         ],
         "yaxis": "y"
        }
       ],
       "layout": {
        "legend": {
         "tracegroupgap": 0
        },
        "margin": {
         "t": 60
        },
        "template": {
         "data": {
          "bar": [
           {
            "error_x": {
             "color": "#2a3f5f"
            },
            "error_y": {
             "color": "#2a3f5f"
            },
            "marker": {
             "line": {
              "color": "#E5ECF6",
              "width": 0.5
             },
             "pattern": {
              "fillmode": "overlay",
              "size": 10,
              "solidity": 0.2
             }
            },
            "type": "bar"
           }
          ],
          "barpolar": [
           {
            "marker": {
             "line": {
              "color": "#E5ECF6",
              "width": 0.5
             },
             "pattern": {
              "fillmode": "overlay",
              "size": 10,
              "solidity": 0.2
             }
            },
            "type": "barpolar"
           }
          ],
          "carpet": [
           {
            "aaxis": {
             "endlinecolor": "#2a3f5f",
             "gridcolor": "white",
             "linecolor": "white",
             "minorgridcolor": "white",
             "startlinecolor": "#2a3f5f"
            },
            "baxis": {
             "endlinecolor": "#2a3f5f",
             "gridcolor": "white",
             "linecolor": "white",
             "minorgridcolor": "white",
             "startlinecolor": "#2a3f5f"
            },
            "type": "carpet"
           }
          ],
          "choropleth": [
           {
            "colorbar": {
             "outlinewidth": 0,
             "ticks": ""
            },
            "type": "choropleth"
           }
          ],
          "contour": [
           {
            "colorbar": {
             "outlinewidth": 0,
             "ticks": ""
            },
            "colorscale": [
             [
              0,
              "#0d0887"
             ],
             [
              0.1111111111111111,
              "#46039f"
             ],
             [
              0.2222222222222222,
              "#7201a8"
             ],
             [
              0.3333333333333333,
              "#9c179e"
             ],
             [
              0.4444444444444444,
              "#bd3786"
             ],
             [
              0.5555555555555556,
              "#d8576b"
             ],
             [
              0.6666666666666666,
              "#ed7953"
             ],
             [
              0.7777777777777778,
              "#fb9f3a"
             ],
             [
              0.8888888888888888,
              "#fdca26"
             ],
             [
              1,
              "#f0f921"
             ]
            ],
            "type": "contour"
           }
          ],
          "contourcarpet": [
           {
            "colorbar": {
             "outlinewidth": 0,
             "ticks": ""
            },
            "type": "contourcarpet"
           }
          ],
          "heatmap": [
           {
            "colorbar": {
             "outlinewidth": 0,
             "ticks": ""
            },
            "colorscale": [
             [
              0,
              "#0d0887"
             ],
             [
              0.1111111111111111,
              "#46039f"
             ],
             [
              0.2222222222222222,
              "#7201a8"
             ],
             [
              0.3333333333333333,
              "#9c179e"
             ],
             [
              0.4444444444444444,
              "#bd3786"
             ],
             [
              0.5555555555555556,
              "#d8576b"
             ],
             [
              0.6666666666666666,
              "#ed7953"
             ],
             [
              0.7777777777777778,
              "#fb9f3a"
             ],
             [
              0.8888888888888888,
              "#fdca26"
             ],
             [
              1,
              "#f0f921"
             ]
            ],
            "type": "heatmap"
           }
          ],
          "heatmapgl": [
           {
            "colorbar": {
             "outlinewidth": 0,
             "ticks": ""
            },
            "colorscale": [
             [
              0,
              "#0d0887"
             ],
             [
              0.1111111111111111,
              "#46039f"
             ],
             [
              0.2222222222222222,
              "#7201a8"
             ],
             [
              0.3333333333333333,
              "#9c179e"
             ],
             [
              0.4444444444444444,
              "#bd3786"
             ],
             [
              0.5555555555555556,
              "#d8576b"
             ],
             [
              0.6666666666666666,
              "#ed7953"
             ],
             [
              0.7777777777777778,
              "#fb9f3a"
             ],
             [
              0.8888888888888888,
              "#fdca26"
             ],
             [
              1,
              "#f0f921"
             ]
            ],
            "type": "heatmapgl"
           }
          ],
          "histogram": [
           {
            "marker": {
             "pattern": {
              "fillmode": "overlay",
              "size": 10,
              "solidity": 0.2
             }
            },
            "type": "histogram"
           }
          ],
          "histogram2d": [
           {
            "colorbar": {
             "outlinewidth": 0,
             "ticks": ""
            },
            "colorscale": [
             [
              0,
              "#0d0887"
             ],
             [
              0.1111111111111111,
              "#46039f"
             ],
             [
              0.2222222222222222,
              "#7201a8"
             ],
             [
              0.3333333333333333,
              "#9c179e"
             ],
             [
              0.4444444444444444,
              "#bd3786"
             ],
             [
              0.5555555555555556,
              "#d8576b"
             ],
             [
              0.6666666666666666,
              "#ed7953"
             ],
             [
              0.7777777777777778,
              "#fb9f3a"
             ],
             [
              0.8888888888888888,
              "#fdca26"
             ],
             [
              1,
              "#f0f921"
             ]
            ],
            "type": "histogram2d"
           }
          ],
          "histogram2dcontour": [
           {
            "colorbar": {
             "outlinewidth": 0,
             "ticks": ""
            },
            "colorscale": [
             [
              0,
              "#0d0887"
             ],
             [
              0.1111111111111111,
              "#46039f"
             ],
             [
              0.2222222222222222,
              "#7201a8"
             ],
             [
              0.3333333333333333,
              "#9c179e"
             ],
             [
              0.4444444444444444,
              "#bd3786"
             ],
             [
              0.5555555555555556,
              "#d8576b"
             ],
             [
              0.6666666666666666,
              "#ed7953"
             ],
             [
              0.7777777777777778,
              "#fb9f3a"
             ],
             [
              0.8888888888888888,
              "#fdca26"
             ],
             [
              1,
              "#f0f921"
             ]
            ],
            "type": "histogram2dcontour"
           }
          ],
          "mesh3d": [
           {
            "colorbar": {
             "outlinewidth": 0,
             "ticks": ""
            },
            "type": "mesh3d"
           }
          ],
          "parcoords": [
           {
            "line": {
             "colorbar": {
              "outlinewidth": 0,
              "ticks": ""
             }
            },
            "type": "parcoords"
           }
          ],
          "pie": [
           {
            "automargin": true,
            "type": "pie"
           }
          ],
          "scatter": [
           {
            "fillpattern": {
             "fillmode": "overlay",
             "size": 10,
             "solidity": 0.2
            },
            "type": "scatter"
           }
          ],
          "scatter3d": [
           {
            "line": {
             "colorbar": {
              "outlinewidth": 0,
              "ticks": ""
             }
            },
            "marker": {
             "colorbar": {
              "outlinewidth": 0,
              "ticks": ""
             }
            },
            "type": "scatter3d"
           }
          ],
          "scattercarpet": [
           {
            "marker": {
             "colorbar": {
              "outlinewidth": 0,
              "ticks": ""
             }
            },
            "type": "scattercarpet"
           }
          ],
          "scattergeo": [
           {
            "marker": {
             "colorbar": {
              "outlinewidth": 0,
              "ticks": ""
             }
            },
            "type": "scattergeo"
           }
          ],
          "scattergl": [
           {
            "marker": {
             "colorbar": {
              "outlinewidth": 0,
              "ticks": ""
             }
            },
            "type": "scattergl"
           }
          ],
          "scattermapbox": [
           {
            "marker": {
             "colorbar": {
              "outlinewidth": 0,
              "ticks": ""
             }
            },
            "type": "scattermapbox"
           }
          ],
          "scatterpolar": [
           {
            "marker": {
             "colorbar": {
              "outlinewidth": 0,
              "ticks": ""
             }
            },
            "type": "scatterpolar"
           }
          ],
          "scatterpolargl": [
           {
            "marker": {
             "colorbar": {
              "outlinewidth": 0,
              "ticks": ""
             }
            },
            "type": "scatterpolargl"
           }
          ],
          "scatterternary": [
           {
            "marker": {
             "colorbar": {
              "outlinewidth": 0,
              "ticks": ""
             }
            },
            "type": "scatterternary"
           }
          ],
          "surface": [
           {
            "colorbar": {
             "outlinewidth": 0,
             "ticks": ""
            },
            "colorscale": [
             [
              0,
              "#0d0887"
             ],
             [
              0.1111111111111111,
              "#46039f"
             ],
             [
              0.2222222222222222,
              "#7201a8"
             ],
             [
              0.3333333333333333,
              "#9c179e"
             ],
             [
              0.4444444444444444,
              "#bd3786"
             ],
             [
              0.5555555555555556,
              "#d8576b"
             ],
             [
              0.6666666666666666,
              "#ed7953"
             ],
             [
              0.7777777777777778,
              "#fb9f3a"
             ],
             [
              0.8888888888888888,
              "#fdca26"
             ],
             [
              1,
              "#f0f921"
             ]
            ],
            "type": "surface"
           }
          ],
          "table": [
           {
            "cells": {
             "fill": {
              "color": "#EBF0F8"
             },
             "line": {
              "color": "white"
             }
            },
            "header": {
             "fill": {
              "color": "#C8D4E3"
             },
             "line": {
              "color": "white"
             }
            },
            "type": "table"
           }
          ]
         },
         "layout": {
          "annotationdefaults": {
           "arrowcolor": "#2a3f5f",
           "arrowhead": 0,
           "arrowwidth": 1
          },
          "autotypenumbers": "strict",
          "coloraxis": {
           "colorbar": {
            "outlinewidth": 0,
            "ticks": ""
           }
          },
          "colorscale": {
           "diverging": [
            [
             0,
             "#8e0152"
            ],
            [
             0.1,
             "#c51b7d"
            ],
            [
             0.2,
             "#de77ae"
            ],
            [
             0.3,
             "#f1b6da"
            ],
            [
             0.4,
             "#fde0ef"
            ],
            [
             0.5,
             "#f7f7f7"
            ],
            [
             0.6,
             "#e6f5d0"
            ],
            [
             0.7,
             "#b8e186"
            ],
            [
             0.8,
             "#7fbc41"
            ],
            [
             0.9,
             "#4d9221"
            ],
            [
             1,
             "#276419"
            ]
           ],
           "sequential": [
            [
             0,
             "#0d0887"
            ],
            [
             0.1111111111111111,
             "#46039f"
            ],
            [
             0.2222222222222222,
             "#7201a8"
            ],
            [
             0.3333333333333333,
             "#9c179e"
            ],
            [
             0.4444444444444444,
             "#bd3786"
            ],
            [
             0.5555555555555556,
             "#d8576b"
            ],
            [
             0.6666666666666666,
             "#ed7953"
            ],
            [
             0.7777777777777778,
             "#fb9f3a"
            ],
            [
             0.8888888888888888,
             "#fdca26"
            ],
            [
             1,
             "#f0f921"
            ]
           ],
           "sequentialminus": [
            [
             0,
             "#0d0887"
            ],
            [
             0.1111111111111111,
             "#46039f"
            ],
            [
             0.2222222222222222,
             "#7201a8"
            ],
            [
             0.3333333333333333,
             "#9c179e"
            ],
            [
             0.4444444444444444,
             "#bd3786"
            ],
            [
             0.5555555555555556,
             "#d8576b"
            ],
            [
             0.6666666666666666,
             "#ed7953"
            ],
            [
             0.7777777777777778,
             "#fb9f3a"
            ],
            [
             0.8888888888888888,
             "#fdca26"
            ],
            [
             1,
             "#f0f921"
            ]
           ]
          },
          "colorway": [
           "#636efa",
           "#EF553B",
           "#00cc96",
           "#ab63fa",
           "#FFA15A",
           "#19d3f3",
           "#FF6692",
           "#B6E880",
           "#FF97FF",
           "#FECB52"
          ],
          "font": {
           "color": "#2a3f5f"
          },
          "geo": {
           "bgcolor": "white",
           "lakecolor": "white",
           "landcolor": "#E5ECF6",
           "showlakes": true,
           "showland": true,
           "subunitcolor": "white"
          },
          "hoverlabel": {
           "align": "left"
          },
          "hovermode": "closest",
          "mapbox": {
           "style": "light"
          },
          "paper_bgcolor": "white",
          "plot_bgcolor": "#E5ECF6",
          "polar": {
           "angularaxis": {
            "gridcolor": "white",
            "linecolor": "white",
            "ticks": ""
           },
           "bgcolor": "#E5ECF6",
           "radialaxis": {
            "gridcolor": "white",
            "linecolor": "white",
            "ticks": ""
           }
          },
          "scene": {
           "xaxis": {
            "backgroundcolor": "#E5ECF6",
            "gridcolor": "white",
            "gridwidth": 2,
            "linecolor": "white",
            "showbackground": true,
            "ticks": "",
            "zerolinecolor": "white"
           },
           "yaxis": {
            "backgroundcolor": "#E5ECF6",
            "gridcolor": "white",
            "gridwidth": 2,
            "linecolor": "white",
            "showbackground": true,
            "ticks": "",
            "zerolinecolor": "white"
           },
           "zaxis": {
            "backgroundcolor": "#E5ECF6",
            "gridcolor": "white",
            "gridwidth": 2,
            "linecolor": "white",
            "showbackground": true,
            "ticks": "",
            "zerolinecolor": "white"
           }
          },
          "shapedefaults": {
           "line": {
            "color": "#2a3f5f"
           }
          },
          "ternary": {
           "aaxis": {
            "gridcolor": "white",
            "linecolor": "white",
            "ticks": ""
           },
           "baxis": {
            "gridcolor": "white",
            "linecolor": "white",
            "ticks": ""
           },
           "bgcolor": "#E5ECF6",
           "caxis": {
            "gridcolor": "white",
            "linecolor": "white",
            "ticks": ""
           }
          },
          "title": {
           "x": 0.05
          },
          "xaxis": {
           "automargin": true,
           "gridcolor": "white",
           "linecolor": "white",
           "ticks": "",
           "title": {
            "standoff": 15
           },
           "zerolinecolor": "white",
           "zerolinewidth": 2
          },
          "yaxis": {
           "automargin": true,
           "gridcolor": "white",
           "linecolor": "white",
           "ticks": "",
           "title": {
            "standoff": 15
           },
           "zerolinecolor": "white",
           "zerolinewidth": 2
          }
         }
        },
        "xaxis": {
         "anchor": "y",
         "domain": [
          0,
          1
         ],
         "title": {
          "text": "Alcohol consumption"
         }
        },
        "yaxis": {
         "anchor": "x",
         "domain": [
          0,
          1
         ],
         "title": {
          "text": "Sleep Quality"
         }
        }
       }
      }
     },
     "metadata": {},
     "output_type": "display_data"
    },
    {
     "data": {
      "application/vnd.plotly.v1+json": {
       "config": {
        "plotlyServerURL": "https://plot.ly"
       },
       "data": [
        {
         "hovertemplate": "Exercise frequency=%{x}<br>Sleep Quality=%{y}<extra></extra>",
         "legendgroup": "",
         "marker": {
          "color": "#636efa",
          "symbol": "circle"
         },
         "mode": "markers",
         "name": "",
         "orientation": "v",
         "showlegend": false,
         "type": "scatter",
         "x": [
          3,
          3,
          3,
          1,
          3,
          1,
          1,
          3,
          1,
          0,
          3,
          3,
          1,
          3,
          0,
          5,
          0,
          3,
          0,
          3,
          2,
          1,
          2,
          1,
          2,
          2,
          1,
          2,
          3,
          4,
          3,
          0,
          0,
          null,
          3,
          0,
          3,
          1,
          1,
          0,
          0,
          1,
          1,
          1,
          0,
          1,
          0,
          1,
          0,
          4,
          2,
          3,
          0,
          0,
          3,
          3,
          3,
          3,
          1,
          1,
          1,
          4,
          null,
          1,
          3,
          3,
          2,
          1,
          0,
          3,
          1,
          4,
          3,
          2,
          0,
          1,
          3,
          3,
          3,
          2,
          1,
          2,
          3,
          3,
          0,
          2,
          0,
          0,
          3,
          1,
          2,
          3,
          3,
          0,
          0,
          0,
          3,
          2,
          0,
          3,
          0,
          3,
          0,
          0,
          1,
          3,
          2,
          1,
          4,
          3,
          3,
          3,
          2,
          1,
          1,
          3,
          3,
          0,
          3,
          3,
          4,
          0,
          0,
          1,
          3,
          3,
          0,
          3,
          0,
          3,
          0,
          1,
          1,
          3,
          2,
          4,
          1,
          3,
          3,
          0,
          0,
          1,
          3,
          3,
          0,
          1,
          3,
          0,
          1,
          1,
          3,
          4,
          4,
          3,
          3,
          1,
          1,
          4,
          0,
          1,
          2,
          3,
          0,
          0,
          3,
          4,
          3,
          4,
          3,
          1,
          3,
          1,
          2,
          0,
          4,
          3,
          0,
          1,
          0,
          2,
          2,
          1,
          4,
          0,
          4,
          4,
          1,
          2,
          1,
          0,
          2,
          2,
          2,
          0,
          3,
          0,
          2,
          2,
          0,
          0,
          0,
          0,
          0,
          2,
          4,
          0,
          0,
          0,
          2,
          3,
          0,
          0,
          4,
          2,
          2,
          1,
          3,
          1,
          0,
          0,
          4,
          0,
          3,
          0,
          4,
          3,
          5,
          2,
          0,
          3,
          1,
          3,
          0,
          1,
          0,
          1,
          0,
          1,
          0,
          3,
          4,
          1,
          1,
          3,
          4,
          3,
          0,
          5,
          0,
          1,
          2,
          1,
          1,
          3,
          1,
          0,
          0,
          5,
          3,
          4,
          3,
          4,
          null,
          1,
          3,
          3,
          0,
          4,
          3,
          2,
          0,
          3,
          3,
          3,
          0,
          1,
          4,
          4,
          1,
          4,
          1,
          3,
          2,
          0,
          0,
          2,
          3,
          3,
          0,
          1,
          3,
          3,
          4,
          0,
          4,
          2,
          0,
          0,
          0,
          3,
          4,
          1,
          3,
          2,
          null,
          1,
          2,
          0,
          3,
          1,
          0,
          4,
          3,
          2,
          0,
          3,
          0,
          0,
          0,
          2,
          3,
          3,
          1,
          0,
          1,
          0,
          2,
          1,
          0,
          1,
          0,
          3,
          0,
          5,
          0,
          1,
          5,
          3,
          3,
          0,
          2,
          0,
          0,
          1,
          3,
          3,
          4,
          2,
          1,
          1,
          3,
          1,
          3,
          0,
          2,
          2,
          4,
          2,
          3,
          0,
          0,
          2,
          1,
          0,
          3,
          1,
          null,
          3,
          1,
          1,
          3,
          1,
          2,
          3,
          1,
          0,
          0,
          1,
          2,
          3,
          0,
          4,
          3,
          3,
          3,
          0,
          1,
          3,
          1,
          4,
          2,
          1,
          4,
          0,
          0,
          3,
          1,
          0,
          0,
          1,
          4,
          3,
          3,
          3,
          1,
          3,
          3,
          0,
          0,
          1,
          3,
          2,
          1,
          3,
          1,
          0,
          5,
          3,
          0,
          1,
          3,
          0,
          0,
          1,
          2,
          1,
          4,
          3,
          3,
          4,
          1,
          3,
          3,
          2,
          4,
          3,
          3,
          3,
          3,
          3,
          2,
          0,
          1,
          0,
          0,
          1,
          null,
          5,
          3,
          0,
          3,
          1
         ],
         "xaxis": "x",
         "y": [
          86.00000000000001,
          94.33333333333334,
          100,
          96,
          100,
          100,
          100,
          100,
          100,
          100,
          100,
          95,
          100,
          100,
          100,
          100,
          100,
          95,
          100,
          100,
          89.99999999999999,
          100,
          100,
          100,
          85.00000000000001,
          86.00000000000001,
          100,
          100,
          100,
          96.66666666666666,
          96.66666666666666,
          100,
          100,
          100,
          100,
          100,
          92,
          100,
          100,
          100,
          94,
          89.99999999999999,
          100,
          100,
          100,
          94.33333333333334,
          100,
          100,
          100,
          100,
          100,
          100,
          100,
          100,
          95,
          100,
          100,
          100,
          100,
          100,
          100,
          92,
          89.99999999999999,
          100,
          100,
          100,
          85.00000000000001,
          95,
          92,
          89.99999999999999,
          100,
          92,
          89.99999999999999,
          100,
          100,
          100,
          100,
          100,
          96.66666666666666,
          100,
          100,
          87.5,
          100,
          100,
          88,
          95,
          100,
          100,
          100,
          100,
          89.99999999999999,
          100,
          92,
          100,
          100,
          96.66666666666666,
          100,
          100,
          100,
          100,
          100,
          100,
          100,
          89.99999999999999,
          100,
          100,
          96.66666666666666,
          100,
          100,
          100,
          88.33333333333333,
          96.66666666666666,
          89.99999999999999,
          89.99999999999999,
          100,
          96.66666666666666,
          100,
          100,
          96.66666666666666,
          96.66666666666666,
          89.99999999999999,
          100,
          100,
          100,
          96.66666666666666,
          100,
          100,
          100,
          100,
          92,
          100,
          100,
          100,
          98,
          100,
          96.66666666666666,
          94.33333333333334,
          100,
          100,
          100,
          100,
          96,
          100,
          100,
          100,
          100,
          98,
          100,
          100,
          100,
          100,
          100,
          95,
          100,
          100,
          100,
          100,
          100,
          92,
          100,
          100,
          100,
          100,
          100,
          100,
          100,
          96.66666666666666,
          100,
          100,
          100,
          100,
          100,
          100,
          100,
          100,
          92,
          100,
          100,
          100,
          89.99999999999999,
          100,
          100,
          100,
          100,
          100,
          100,
          96.66666666666666,
          92,
          100,
          96.66666666666666,
          95,
          100,
          85.00000000000001,
          96.66666666666666,
          100,
          100,
          100,
          98,
          83.33333333333333,
          100,
          100,
          100,
          86.00000000000001,
          100,
          96.66666666666666,
          89.99999999999999,
          96.66666666666666,
          96.66666666666666,
          100,
          100,
          100,
          92,
          87.5,
          91.66666666666667,
          100,
          100,
          100,
          100,
          100,
          98,
          100,
          100,
          100,
          100,
          100,
          100,
          100,
          96.66666666666666,
          100,
          100,
          100,
          100,
          86.66666666666667,
          100,
          100,
          100,
          100,
          100,
          100,
          100,
          92,
          100,
          100,
          100,
          100,
          100,
          100,
          98,
          100,
          100,
          92,
          100,
          96.66666666666666,
          100,
          96.66666666666666,
          96.66666666666666,
          96.66666666666666,
          89.99999999999999,
          98,
          100,
          100,
          100,
          100,
          100,
          100,
          95,
          96.66666666666666,
          100,
          100,
          100,
          100,
          100,
          100,
          100,
          100,
          99,
          98,
          100,
          100,
          96.66666666666666,
          100,
          100,
          100,
          100,
          100,
          89.99999999999999,
          98,
          100,
          96.66666666666666,
          100,
          98,
          100,
          89.99999999999999,
          100,
          96.66666666666666,
          100,
          100,
          100,
          100,
          100,
          100,
          100,
          100,
          100,
          89.99999999999999,
          88.33333333333333,
          98,
          100,
          96.66666666666666,
          100,
          100,
          100,
          100,
          96.66666666666666,
          100,
          100,
          100,
          100,
          100,
          85.00000000000001,
          96.66666666666666,
          100,
          100,
          100,
          86.00000000000001,
          100,
          100,
          100,
          100,
          100,
          80.66666666666666,
          98,
          100,
          100,
          100,
          100,
          100,
          100,
          100,
          90.33333333333333,
          96.66666666666666,
          100,
          100,
          100,
          100,
          100,
          85.00000000000001,
          98,
          100,
          100,
          96.66666666666666,
          97.50000000000001,
          100,
          100,
          100,
          100,
          100,
          100,
          96.66666666666666,
          100,
          100,
          100,
          100,
          100,
          100,
          100,
          100,
          86.66666666666667,
          100,
          89.99999999999999,
          96.66666666666666,
          96.66666666666666,
          100,
          100,
          100,
          100,
          100,
          100,
          92,
          100,
          96.66666666666666,
          100,
          100,
          100,
          92,
          100,
          96.66666666666666,
          100,
          100,
          100,
          95,
          80,
          96.66666666666666,
          100,
          100,
          100,
          92,
          100,
          100,
          100,
          100,
          100,
          98,
          100,
          92,
          90.33333333333333,
          96.66666666666666,
          100,
          100,
          100,
          92,
          96.66666666666666,
          92,
          100,
          100,
          100,
          100,
          96.66666666666666,
          100,
          100,
          96.66666666666666,
          100,
          96.66666666666666,
          100,
          89.99999999999999,
          100,
          92,
          100,
          100,
          100,
          100,
          100,
          100,
          100,
          100,
          100,
          100,
          100,
          100,
          100,
          100,
          100,
          100,
          100,
          100,
          100,
          85.00000000000001,
          100,
          100,
          100,
          92,
          100
         ],
         "yaxis": "y"
        }
       ],
       "layout": {
        "legend": {
         "tracegroupgap": 0
        },
        "margin": {
         "t": 60
        },
        "template": {
         "data": {
          "bar": [
           {
            "error_x": {
             "color": "#2a3f5f"
            },
            "error_y": {
             "color": "#2a3f5f"
            },
            "marker": {
             "line": {
              "color": "#E5ECF6",
              "width": 0.5
             },
             "pattern": {
              "fillmode": "overlay",
              "size": 10,
              "solidity": 0.2
             }
            },
            "type": "bar"
           }
          ],
          "barpolar": [
           {
            "marker": {
             "line": {
              "color": "#E5ECF6",
              "width": 0.5
             },
             "pattern": {
              "fillmode": "overlay",
              "size": 10,
              "solidity": 0.2
             }
            },
            "type": "barpolar"
           }
          ],
          "carpet": [
           {
            "aaxis": {
             "endlinecolor": "#2a3f5f",
             "gridcolor": "white",
             "linecolor": "white",
             "minorgridcolor": "white",
             "startlinecolor": "#2a3f5f"
            },
            "baxis": {
             "endlinecolor": "#2a3f5f",
             "gridcolor": "white",
             "linecolor": "white",
             "minorgridcolor": "white",
             "startlinecolor": "#2a3f5f"
            },
            "type": "carpet"
           }
          ],
          "choropleth": [
           {
            "colorbar": {
             "outlinewidth": 0,
             "ticks": ""
            },
            "type": "choropleth"
           }
          ],
          "contour": [
           {
            "colorbar": {
             "outlinewidth": 0,
             "ticks": ""
            },
            "colorscale": [
             [
              0,
              "#0d0887"
             ],
             [
              0.1111111111111111,
              "#46039f"
             ],
             [
              0.2222222222222222,
              "#7201a8"
             ],
             [
              0.3333333333333333,
              "#9c179e"
             ],
             [
              0.4444444444444444,
              "#bd3786"
             ],
             [
              0.5555555555555556,
              "#d8576b"
             ],
             [
              0.6666666666666666,
              "#ed7953"
             ],
             [
              0.7777777777777778,
              "#fb9f3a"
             ],
             [
              0.8888888888888888,
              "#fdca26"
             ],
             [
              1,
              "#f0f921"
             ]
            ],
            "type": "contour"
           }
          ],
          "contourcarpet": [
           {
            "colorbar": {
             "outlinewidth": 0,
             "ticks": ""
            },
            "type": "contourcarpet"
           }
          ],
          "heatmap": [
           {
            "colorbar": {
             "outlinewidth": 0,
             "ticks": ""
            },
            "colorscale": [
             [
              0,
              "#0d0887"
             ],
             [
              0.1111111111111111,
              "#46039f"
             ],
             [
              0.2222222222222222,
              "#7201a8"
             ],
             [
              0.3333333333333333,
              "#9c179e"
             ],
             [
              0.4444444444444444,
              "#bd3786"
             ],
             [
              0.5555555555555556,
              "#d8576b"
             ],
             [
              0.6666666666666666,
              "#ed7953"
             ],
             [
              0.7777777777777778,
              "#fb9f3a"
             ],
             [
              0.8888888888888888,
              "#fdca26"
             ],
             [
              1,
              "#f0f921"
             ]
            ],
            "type": "heatmap"
           }
          ],
          "heatmapgl": [
           {
            "colorbar": {
             "outlinewidth": 0,
             "ticks": ""
            },
            "colorscale": [
             [
              0,
              "#0d0887"
             ],
             [
              0.1111111111111111,
              "#46039f"
             ],
             [
              0.2222222222222222,
              "#7201a8"
             ],
             [
              0.3333333333333333,
              "#9c179e"
             ],
             [
              0.4444444444444444,
              "#bd3786"
             ],
             [
              0.5555555555555556,
              "#d8576b"
             ],
             [
              0.6666666666666666,
              "#ed7953"
             ],
             [
              0.7777777777777778,
              "#fb9f3a"
             ],
             [
              0.8888888888888888,
              "#fdca26"
             ],
             [
              1,
              "#f0f921"
             ]
            ],
            "type": "heatmapgl"
           }
          ],
          "histogram": [
           {
            "marker": {
             "pattern": {
              "fillmode": "overlay",
              "size": 10,
              "solidity": 0.2
             }
            },
            "type": "histogram"
           }
          ],
          "histogram2d": [
           {
            "colorbar": {
             "outlinewidth": 0,
             "ticks": ""
            },
            "colorscale": [
             [
              0,
              "#0d0887"
             ],
             [
              0.1111111111111111,
              "#46039f"
             ],
             [
              0.2222222222222222,
              "#7201a8"
             ],
             [
              0.3333333333333333,
              "#9c179e"
             ],
             [
              0.4444444444444444,
              "#bd3786"
             ],
             [
              0.5555555555555556,
              "#d8576b"
             ],
             [
              0.6666666666666666,
              "#ed7953"
             ],
             [
              0.7777777777777778,
              "#fb9f3a"
             ],
             [
              0.8888888888888888,
              "#fdca26"
             ],
             [
              1,
              "#f0f921"
             ]
            ],
            "type": "histogram2d"
           }
          ],
          "histogram2dcontour": [
           {
            "colorbar": {
             "outlinewidth": 0,
             "ticks": ""
            },
            "colorscale": [
             [
              0,
              "#0d0887"
             ],
             [
              0.1111111111111111,
              "#46039f"
             ],
             [
              0.2222222222222222,
              "#7201a8"
             ],
             [
              0.3333333333333333,
              "#9c179e"
             ],
             [
              0.4444444444444444,
              "#bd3786"
             ],
             [
              0.5555555555555556,
              "#d8576b"
             ],
             [
              0.6666666666666666,
              "#ed7953"
             ],
             [
              0.7777777777777778,
              "#fb9f3a"
             ],
             [
              0.8888888888888888,
              "#fdca26"
             ],
             [
              1,
              "#f0f921"
             ]
            ],
            "type": "histogram2dcontour"
           }
          ],
          "mesh3d": [
           {
            "colorbar": {
             "outlinewidth": 0,
             "ticks": ""
            },
            "type": "mesh3d"
           }
          ],
          "parcoords": [
           {
            "line": {
             "colorbar": {
              "outlinewidth": 0,
              "ticks": ""
             }
            },
            "type": "parcoords"
           }
          ],
          "pie": [
           {
            "automargin": true,
            "type": "pie"
           }
          ],
          "scatter": [
           {
            "fillpattern": {
             "fillmode": "overlay",
             "size": 10,
             "solidity": 0.2
            },
            "type": "scatter"
           }
          ],
          "scatter3d": [
           {
            "line": {
             "colorbar": {
              "outlinewidth": 0,
              "ticks": ""
             }
            },
            "marker": {
             "colorbar": {
              "outlinewidth": 0,
              "ticks": ""
             }
            },
            "type": "scatter3d"
           }
          ],
          "scattercarpet": [
           {
            "marker": {
             "colorbar": {
              "outlinewidth": 0,
              "ticks": ""
             }
            },
            "type": "scattercarpet"
           }
          ],
          "scattergeo": [
           {
            "marker": {
             "colorbar": {
              "outlinewidth": 0,
              "ticks": ""
             }
            },
            "type": "scattergeo"
           }
          ],
          "scattergl": [
           {
            "marker": {
             "colorbar": {
              "outlinewidth": 0,
              "ticks": ""
             }
            },
            "type": "scattergl"
           }
          ],
          "scattermapbox": [
           {
            "marker": {
             "colorbar": {
              "outlinewidth": 0,
              "ticks": ""
             }
            },
            "type": "scattermapbox"
           }
          ],
          "scatterpolar": [
           {
            "marker": {
             "colorbar": {
              "outlinewidth": 0,
              "ticks": ""
             }
            },
            "type": "scatterpolar"
           }
          ],
          "scatterpolargl": [
           {
            "marker": {
             "colorbar": {
              "outlinewidth": 0,
              "ticks": ""
             }
            },
            "type": "scatterpolargl"
           }
          ],
          "scatterternary": [
           {
            "marker": {
             "colorbar": {
              "outlinewidth": 0,
              "ticks": ""
             }
            },
            "type": "scatterternary"
           }
          ],
          "surface": [
           {
            "colorbar": {
             "outlinewidth": 0,
             "ticks": ""
            },
            "colorscale": [
             [
              0,
              "#0d0887"
             ],
             [
              0.1111111111111111,
              "#46039f"
             ],
             [
              0.2222222222222222,
              "#7201a8"
             ],
             [
              0.3333333333333333,
              "#9c179e"
             ],
             [
              0.4444444444444444,
              "#bd3786"
             ],
             [
              0.5555555555555556,
              "#d8576b"
             ],
             [
              0.6666666666666666,
              "#ed7953"
             ],
             [
              0.7777777777777778,
              "#fb9f3a"
             ],
             [
              0.8888888888888888,
              "#fdca26"
             ],
             [
              1,
              "#f0f921"
             ]
            ],
            "type": "surface"
           }
          ],
          "table": [
           {
            "cells": {
             "fill": {
              "color": "#EBF0F8"
             },
             "line": {
              "color": "white"
             }
            },
            "header": {
             "fill": {
              "color": "#C8D4E3"
             },
             "line": {
              "color": "white"
             }
            },
            "type": "table"
           }
          ]
         },
         "layout": {
          "annotationdefaults": {
           "arrowcolor": "#2a3f5f",
           "arrowhead": 0,
           "arrowwidth": 1
          },
          "autotypenumbers": "strict",
          "coloraxis": {
           "colorbar": {
            "outlinewidth": 0,
            "ticks": ""
           }
          },
          "colorscale": {
           "diverging": [
            [
             0,
             "#8e0152"
            ],
            [
             0.1,
             "#c51b7d"
            ],
            [
             0.2,
             "#de77ae"
            ],
            [
             0.3,
             "#f1b6da"
            ],
            [
             0.4,
             "#fde0ef"
            ],
            [
             0.5,
             "#f7f7f7"
            ],
            [
             0.6,
             "#e6f5d0"
            ],
            [
             0.7,
             "#b8e186"
            ],
            [
             0.8,
             "#7fbc41"
            ],
            [
             0.9,
             "#4d9221"
            ],
            [
             1,
             "#276419"
            ]
           ],
           "sequential": [
            [
             0,
             "#0d0887"
            ],
            [
             0.1111111111111111,
             "#46039f"
            ],
            [
             0.2222222222222222,
             "#7201a8"
            ],
            [
             0.3333333333333333,
             "#9c179e"
            ],
            [
             0.4444444444444444,
             "#bd3786"
            ],
            [
             0.5555555555555556,
             "#d8576b"
            ],
            [
             0.6666666666666666,
             "#ed7953"
            ],
            [
             0.7777777777777778,
             "#fb9f3a"
            ],
            [
             0.8888888888888888,
             "#fdca26"
            ],
            [
             1,
             "#f0f921"
            ]
           ],
           "sequentialminus": [
            [
             0,
             "#0d0887"
            ],
            [
             0.1111111111111111,
             "#46039f"
            ],
            [
             0.2222222222222222,
             "#7201a8"
            ],
            [
             0.3333333333333333,
             "#9c179e"
            ],
            [
             0.4444444444444444,
             "#bd3786"
            ],
            [
             0.5555555555555556,
             "#d8576b"
            ],
            [
             0.6666666666666666,
             "#ed7953"
            ],
            [
             0.7777777777777778,
             "#fb9f3a"
            ],
            [
             0.8888888888888888,
             "#fdca26"
            ],
            [
             1,
             "#f0f921"
            ]
           ]
          },
          "colorway": [
           "#636efa",
           "#EF553B",
           "#00cc96",
           "#ab63fa",
           "#FFA15A",
           "#19d3f3",
           "#FF6692",
           "#B6E880",
           "#FF97FF",
           "#FECB52"
          ],
          "font": {
           "color": "#2a3f5f"
          },
          "geo": {
           "bgcolor": "white",
           "lakecolor": "white",
           "landcolor": "#E5ECF6",
           "showlakes": true,
           "showland": true,
           "subunitcolor": "white"
          },
          "hoverlabel": {
           "align": "left"
          },
          "hovermode": "closest",
          "mapbox": {
           "style": "light"
          },
          "paper_bgcolor": "white",
          "plot_bgcolor": "#E5ECF6",
          "polar": {
           "angularaxis": {
            "gridcolor": "white",
            "linecolor": "white",
            "ticks": ""
           },
           "bgcolor": "#E5ECF6",
           "radialaxis": {
            "gridcolor": "white",
            "linecolor": "white",
            "ticks": ""
           }
          },
          "scene": {
           "xaxis": {
            "backgroundcolor": "#E5ECF6",
            "gridcolor": "white",
            "gridwidth": 2,
            "linecolor": "white",
            "showbackground": true,
            "ticks": "",
            "zerolinecolor": "white"
           },
           "yaxis": {
            "backgroundcolor": "#E5ECF6",
            "gridcolor": "white",
            "gridwidth": 2,
            "linecolor": "white",
            "showbackground": true,
            "ticks": "",
            "zerolinecolor": "white"
           },
           "zaxis": {
            "backgroundcolor": "#E5ECF6",
            "gridcolor": "white",
            "gridwidth": 2,
            "linecolor": "white",
            "showbackground": true,
            "ticks": "",
            "zerolinecolor": "white"
           }
          },
          "shapedefaults": {
           "line": {
            "color": "#2a3f5f"
           }
          },
          "ternary": {
           "aaxis": {
            "gridcolor": "white",
            "linecolor": "white",
            "ticks": ""
           },
           "baxis": {
            "gridcolor": "white",
            "linecolor": "white",
            "ticks": ""
           },
           "bgcolor": "#E5ECF6",
           "caxis": {
            "gridcolor": "white",
            "linecolor": "white",
            "ticks": ""
           }
          },
          "title": {
           "x": 0.05
          },
          "xaxis": {
           "automargin": true,
           "gridcolor": "white",
           "linecolor": "white",
           "ticks": "",
           "title": {
            "standoff": 15
           },
           "zerolinecolor": "white",
           "zerolinewidth": 2
          },
          "yaxis": {
           "automargin": true,
           "gridcolor": "white",
           "linecolor": "white",
           "ticks": "",
           "title": {
            "standoff": 15
           },
           "zerolinecolor": "white",
           "zerolinewidth": 2
          }
         }
        },
        "xaxis": {
         "anchor": "y",
         "domain": [
          0,
          1
         ],
         "title": {
          "text": "Exercise frequency"
         }
        },
        "yaxis": {
         "anchor": "x",
         "domain": [
          0,
          1
         ],
         "title": {
          "text": "Sleep Quality"
         }
        }
       }
      }
     },
     "metadata": {},
     "output_type": "display_data"
    }
   ],
   "source": [
    "import plotly.express as px\n",
    "\n",
    "continous_columns = (\n",
    "    \"Bedtime\",\n",
    "    \"Wakeup time\",\n",
    "    \"Sleep duration\",\n",
    "    \"Sleep efficiency\",\n",
    "    \"REM sleep percentage\",\n",
    "    \"Deep sleep percentage\",\n",
    "    \"Light sleep percentage\",\n",
    "    \"Awakenings\",\n",
    "    \"Caffeine consumption\",\n",
    "    \"Alcohol consumption\",\n",
    "    \"Exercise frequency\",\n",
    ")\n",
    "\n",
    "for col in continous_columns:\n",
    "    fig1 = px.scatter(sleep_df, col, \"Sleep Quality\")\n",
    "    fig1.show()"
   ]
  },
  {
   "cell_type": "code",
   "execution_count": 71,
   "metadata": {},
   "outputs": [
    {
     "data": {
      "application/vnd.plotly.v1+json": {
       "config": {
        "plotlyServerURL": "https://plot.ly"
       },
       "data": [
        {
         "alignmentgroup": "True",
         "hovertemplate": "Age=%{x}<br>Sleep Quality=%{y}<extra></extra>",
         "legendgroup": "",
         "marker": {
          "color": "#636efa"
         },
         "name": "",
         "notched": false,
         "offsetgroup": "",
         "orientation": "v",
         "showlegend": false,
         "type": "box",
         "x": [
          65,
          69,
          40,
          40,
          57,
          36,
          27,
          53,
          41,
          11,
          50,
          55,
          30,
          28,
          36,
          32,
          21,
          40,
          43,
          52,
          24,
          32,
          29,
          63,
          24,
          52,
          36,
          35,
          23,
          47,
          24,
          18,
          26,
          37,
          46,
          61,
          38,
          20,
          28,
          58,
          46,
          52,
          29,
          31,
          34,
          40,
          55,
          27,
          21,
          37,
          29,
          65,
          9,
          16,
          18,
          37,
          54,
          43,
          34,
          34,
          32,
          56,
          29,
          35,
          30,
          21,
          25,
          52,
          46,
          40,
          30,
          32,
          55,
          58,
          47,
          44,
          47,
          46,
          43,
          54,
          55,
          29,
          66,
          40,
          50,
          53,
          50,
          50,
          48,
          24,
          45,
          57,
          39,
          43,
          51,
          61,
          41,
          53,
          32,
          65,
          38,
          53,
          55,
          44,
          38,
          40,
          53,
          24,
          39,
          47,
          51,
          25,
          23,
          54,
          32,
          22,
          50,
          30,
          52,
          52,
          51,
          15,
          48,
          19,
          56,
          25,
          54,
          37,
          33,
          25,
          29,
          36,
          32,
          37,
          27,
          48,
          52,
          36,
          55,
          52,
          37,
          28,
          48,
          25,
          65,
          31,
          42,
          40,
          26,
          33,
          65,
          50,
          22,
          41,
          68,
          61,
          23,
          45,
          14,
          30,
          42,
          42,
          53,
          49,
          48,
          48,
          40,
          48,
          35,
          55,
          24,
          33,
          27,
          24,
          48,
          42,
          62,
          44,
          39,
          53,
          37,
          29,
          49,
          24,
          48,
          36,
          37,
          27,
          21,
          52,
          53,
          27,
          24,
          18,
          44,
          61,
          30,
          48,
          32,
          52,
          61,
          64,
          59,
          38,
          31,
          32,
          31,
          41,
          32,
          61,
          61,
          10,
          36,
          29,
          27,
          22,
          22,
          40,
          56,
          13,
          37,
          41,
          52,
          63,
          38,
          60,
          29,
          29,
          30,
          26,
          32,
          55,
          36,
          53,
          18,
          28,
          58,
          51,
          37,
          41,
          32,
          56,
          43,
          52,
          37,
          67,
          36,
          29,
          25,
          61,
          29,
          31,
          23,
          46,
          47,
          65,
          35,
          27,
          54,
          48,
          46,
          37,
          31,
          23,
          48,
          44,
          24,
          30,
          45,
          27,
          44,
          50,
          58,
          49,
          46,
          27,
          37,
          48,
          42,
          48,
          25,
          64,
          53,
          38,
          17,
          27,
          50,
          40,
          34,
          26,
          54,
          46,
          38,
          24,
          38,
          29,
          51,
          27,
          35,
          22,
          47,
          25,
          25,
          51,
          25,
          65,
          27,
          41,
          56,
          28,
          33,
          22,
          50,
          25,
          54,
          40,
          58,
          45,
          55,
          54,
          60,
          25,
          30,
          41,
          44,
          52,
          29,
          44,
          42,
          26,
          49,
          46,
          12,
          27,
          39,
          44,
          50,
          52,
          44,
          57,
          53,
          65,
          41,
          52,
          53,
          25,
          51,
          30,
          57,
          24,
          24,
          19,
          52,
          45,
          29,
          39,
          51,
          27,
          41,
          65,
          56,
          27,
          28,
          30,
          37,
          22,
          52,
          56,
          56,
          41,
          40,
          32,
          29,
          39,
          65,
          60,
          48,
          21,
          25,
          61,
          35,
          22,
          40,
          39,
          40,
          32,
          62,
          48,
          22,
          36,
          21,
          37,
          37,
          56,
          55,
          56,
          57,
          59,
          30,
          32,
          37,
          48,
          38,
          58,
          24,
          56,
          53,
          35,
          61,
          32,
          58,
          53,
          27,
          51,
          28,
          49,
          49,
          44,
          51,
          21,
          55,
          44,
          41,
          41,
          19,
          26,
          26,
          54,
          23,
          52,
          38,
          37,
          55,
          29,
          28,
          40,
          59,
          56,
          55,
          25,
          28,
          46,
          27,
          65,
          24,
          30,
          23,
          27,
          52,
          40,
          45,
          18
         ],
         "x0": " ",
         "xaxis": "x",
         "y": [
          86.00000000000001,
          94.33333333333334,
          100,
          96,
          100,
          100,
          100,
          100,
          100,
          100,
          100,
          95,
          100,
          100,
          100,
          100,
          100,
          95,
          100,
          100,
          89.99999999999999,
          100,
          100,
          100,
          85.00000000000001,
          86.00000000000001,
          100,
          100,
          100,
          96.66666666666666,
          96.66666666666666,
          100,
          100,
          100,
          100,
          100,
          92,
          100,
          100,
          100,
          94,
          89.99999999999999,
          100,
          100,
          100,
          94.33333333333334,
          100,
          100,
          100,
          100,
          100,
          100,
          100,
          100,
          95,
          100,
          100,
          100,
          100,
          100,
          100,
          92,
          89.99999999999999,
          100,
          100,
          100,
          85.00000000000001,
          95,
          92,
          89.99999999999999,
          100,
          92,
          89.99999999999999,
          100,
          100,
          100,
          100,
          100,
          96.66666666666666,
          100,
          100,
          87.5,
          100,
          100,
          88,
          95,
          100,
          100,
          100,
          100,
          89.99999999999999,
          100,
          92,
          100,
          100,
          96.66666666666666,
          100,
          100,
          100,
          100,
          100,
          100,
          100,
          89.99999999999999,
          100,
          100,
          96.66666666666666,
          100,
          100,
          100,
          88.33333333333333,
          96.66666666666666,
          89.99999999999999,
          89.99999999999999,
          100,
          96.66666666666666,
          100,
          100,
          96.66666666666666,
          96.66666666666666,
          89.99999999999999,
          100,
          100,
          100,
          96.66666666666666,
          100,
          100,
          100,
          100,
          92,
          100,
          100,
          100,
          98,
          100,
          96.66666666666666,
          94.33333333333334,
          100,
          100,
          100,
          100,
          96,
          100,
          100,
          100,
          100,
          98,
          100,
          100,
          100,
          100,
          100,
          95,
          100,
          100,
          100,
          100,
          100,
          92,
          100,
          100,
          100,
          100,
          100,
          100,
          100,
          96.66666666666666,
          100,
          100,
          100,
          100,
          100,
          100,
          100,
          100,
          92,
          100,
          100,
          100,
          89.99999999999999,
          100,
          100,
          100,
          100,
          100,
          100,
          96.66666666666666,
          92,
          100,
          96.66666666666666,
          95,
          100,
          85.00000000000001,
          96.66666666666666,
          100,
          100,
          100,
          98,
          83.33333333333333,
          100,
          100,
          100,
          86.00000000000001,
          100,
          96.66666666666666,
          89.99999999999999,
          96.66666666666666,
          96.66666666666666,
          100,
          100,
          100,
          92,
          87.5,
          91.66666666666667,
          100,
          100,
          100,
          100,
          100,
          98,
          100,
          100,
          100,
          100,
          100,
          100,
          100,
          96.66666666666666,
          100,
          100,
          100,
          100,
          86.66666666666667,
          100,
          100,
          100,
          100,
          100,
          100,
          100,
          92,
          100,
          100,
          100,
          100,
          100,
          100,
          98,
          100,
          100,
          92,
          100,
          96.66666666666666,
          100,
          96.66666666666666,
          96.66666666666666,
          96.66666666666666,
          89.99999999999999,
          98,
          100,
          100,
          100,
          100,
          100,
          100,
          95,
          96.66666666666666,
          100,
          100,
          100,
          100,
          100,
          100,
          100,
          100,
          99,
          98,
          100,
          100,
          96.66666666666666,
          100,
          100,
          100,
          100,
          100,
          89.99999999999999,
          98,
          100,
          96.66666666666666,
          100,
          98,
          100,
          89.99999999999999,
          100,
          96.66666666666666,
          100,
          100,
          100,
          100,
          100,
          100,
          100,
          100,
          100,
          89.99999999999999,
          88.33333333333333,
          98,
          100,
          96.66666666666666,
          100,
          100,
          100,
          100,
          96.66666666666666,
          100,
          100,
          100,
          100,
          100,
          85.00000000000001,
          96.66666666666666,
          100,
          100,
          100,
          86.00000000000001,
          100,
          100,
          100,
          100,
          100,
          80.66666666666666,
          98,
          100,
          100,
          100,
          100,
          100,
          100,
          100,
          90.33333333333333,
          96.66666666666666,
          100,
          100,
          100,
          100,
          100,
          85.00000000000001,
          98,
          100,
          100,
          96.66666666666666,
          97.50000000000001,
          100,
          100,
          100,
          100,
          100,
          100,
          96.66666666666666,
          100,
          100,
          100,
          100,
          100,
          100,
          100,
          100,
          86.66666666666667,
          100,
          89.99999999999999,
          96.66666666666666,
          96.66666666666666,
          100,
          100,
          100,
          100,
          100,
          100,
          92,
          100,
          96.66666666666666,
          100,
          100,
          100,
          92,
          100,
          96.66666666666666,
          100,
          100,
          100,
          95,
          80,
          96.66666666666666,
          100,
          100,
          100,
          92,
          100,
          100,
          100,
          100,
          100,
          98,
          100,
          92,
          90.33333333333333,
          96.66666666666666,
          100,
          100,
          100,
          92,
          96.66666666666666,
          92,
          100,
          100,
          100,
          100,
          96.66666666666666,
          100,
          100,
          96.66666666666666,
          100,
          96.66666666666666,
          100,
          89.99999999999999,
          100,
          92,
          100,
          100,
          100,
          100,
          100,
          100,
          100,
          100,
          100,
          100,
          100,
          100,
          100,
          100,
          100,
          100,
          100,
          100,
          100,
          85.00000000000001,
          100,
          100,
          100,
          92,
          100
         ],
         "y0": " ",
         "yaxis": "y"
        }
       ],
       "layout": {
        "boxmode": "group",
        "legend": {
         "tracegroupgap": 0
        },
        "margin": {
         "t": 60
        },
        "template": {
         "data": {
          "bar": [
           {
            "error_x": {
             "color": "#2a3f5f"
            },
            "error_y": {
             "color": "#2a3f5f"
            },
            "marker": {
             "line": {
              "color": "#E5ECF6",
              "width": 0.5
             },
             "pattern": {
              "fillmode": "overlay",
              "size": 10,
              "solidity": 0.2
             }
            },
            "type": "bar"
           }
          ],
          "barpolar": [
           {
            "marker": {
             "line": {
              "color": "#E5ECF6",
              "width": 0.5
             },
             "pattern": {
              "fillmode": "overlay",
              "size": 10,
              "solidity": 0.2
             }
            },
            "type": "barpolar"
           }
          ],
          "carpet": [
           {
            "aaxis": {
             "endlinecolor": "#2a3f5f",
             "gridcolor": "white",
             "linecolor": "white",
             "minorgridcolor": "white",
             "startlinecolor": "#2a3f5f"
            },
            "baxis": {
             "endlinecolor": "#2a3f5f",
             "gridcolor": "white",
             "linecolor": "white",
             "minorgridcolor": "white",
             "startlinecolor": "#2a3f5f"
            },
            "type": "carpet"
           }
          ],
          "choropleth": [
           {
            "colorbar": {
             "outlinewidth": 0,
             "ticks": ""
            },
            "type": "choropleth"
           }
          ],
          "contour": [
           {
            "colorbar": {
             "outlinewidth": 0,
             "ticks": ""
            },
            "colorscale": [
             [
              0,
              "#0d0887"
             ],
             [
              0.1111111111111111,
              "#46039f"
             ],
             [
              0.2222222222222222,
              "#7201a8"
             ],
             [
              0.3333333333333333,
              "#9c179e"
             ],
             [
              0.4444444444444444,
              "#bd3786"
             ],
             [
              0.5555555555555556,
              "#d8576b"
             ],
             [
              0.6666666666666666,
              "#ed7953"
             ],
             [
              0.7777777777777778,
              "#fb9f3a"
             ],
             [
              0.8888888888888888,
              "#fdca26"
             ],
             [
              1,
              "#f0f921"
             ]
            ],
            "type": "contour"
           }
          ],
          "contourcarpet": [
           {
            "colorbar": {
             "outlinewidth": 0,
             "ticks": ""
            },
            "type": "contourcarpet"
           }
          ],
          "heatmap": [
           {
            "colorbar": {
             "outlinewidth": 0,
             "ticks": ""
            },
            "colorscale": [
             [
              0,
              "#0d0887"
             ],
             [
              0.1111111111111111,
              "#46039f"
             ],
             [
              0.2222222222222222,
              "#7201a8"
             ],
             [
              0.3333333333333333,
              "#9c179e"
             ],
             [
              0.4444444444444444,
              "#bd3786"
             ],
             [
              0.5555555555555556,
              "#d8576b"
             ],
             [
              0.6666666666666666,
              "#ed7953"
             ],
             [
              0.7777777777777778,
              "#fb9f3a"
             ],
             [
              0.8888888888888888,
              "#fdca26"
             ],
             [
              1,
              "#f0f921"
             ]
            ],
            "type": "heatmap"
           }
          ],
          "heatmapgl": [
           {
            "colorbar": {
             "outlinewidth": 0,
             "ticks": ""
            },
            "colorscale": [
             [
              0,
              "#0d0887"
             ],
             [
              0.1111111111111111,
              "#46039f"
             ],
             [
              0.2222222222222222,
              "#7201a8"
             ],
             [
              0.3333333333333333,
              "#9c179e"
             ],
             [
              0.4444444444444444,
              "#bd3786"
             ],
             [
              0.5555555555555556,
              "#d8576b"
             ],
             [
              0.6666666666666666,
              "#ed7953"
             ],
             [
              0.7777777777777778,
              "#fb9f3a"
             ],
             [
              0.8888888888888888,
              "#fdca26"
             ],
             [
              1,
              "#f0f921"
             ]
            ],
            "type": "heatmapgl"
           }
          ],
          "histogram": [
           {
            "marker": {
             "pattern": {
              "fillmode": "overlay",
              "size": 10,
              "solidity": 0.2
             }
            },
            "type": "histogram"
           }
          ],
          "histogram2d": [
           {
            "colorbar": {
             "outlinewidth": 0,
             "ticks": ""
            },
            "colorscale": [
             [
              0,
              "#0d0887"
             ],
             [
              0.1111111111111111,
              "#46039f"
             ],
             [
              0.2222222222222222,
              "#7201a8"
             ],
             [
              0.3333333333333333,
              "#9c179e"
             ],
             [
              0.4444444444444444,
              "#bd3786"
             ],
             [
              0.5555555555555556,
              "#d8576b"
             ],
             [
              0.6666666666666666,
              "#ed7953"
             ],
             [
              0.7777777777777778,
              "#fb9f3a"
             ],
             [
              0.8888888888888888,
              "#fdca26"
             ],
             [
              1,
              "#f0f921"
             ]
            ],
            "type": "histogram2d"
           }
          ],
          "histogram2dcontour": [
           {
            "colorbar": {
             "outlinewidth": 0,
             "ticks": ""
            },
            "colorscale": [
             [
              0,
              "#0d0887"
             ],
             [
              0.1111111111111111,
              "#46039f"
             ],
             [
              0.2222222222222222,
              "#7201a8"
             ],
             [
              0.3333333333333333,
              "#9c179e"
             ],
             [
              0.4444444444444444,
              "#bd3786"
             ],
             [
              0.5555555555555556,
              "#d8576b"
             ],
             [
              0.6666666666666666,
              "#ed7953"
             ],
             [
              0.7777777777777778,
              "#fb9f3a"
             ],
             [
              0.8888888888888888,
              "#fdca26"
             ],
             [
              1,
              "#f0f921"
             ]
            ],
            "type": "histogram2dcontour"
           }
          ],
          "mesh3d": [
           {
            "colorbar": {
             "outlinewidth": 0,
             "ticks": ""
            },
            "type": "mesh3d"
           }
          ],
          "parcoords": [
           {
            "line": {
             "colorbar": {
              "outlinewidth": 0,
              "ticks": ""
             }
            },
            "type": "parcoords"
           }
          ],
          "pie": [
           {
            "automargin": true,
            "type": "pie"
           }
          ],
          "scatter": [
           {
            "fillpattern": {
             "fillmode": "overlay",
             "size": 10,
             "solidity": 0.2
            },
            "type": "scatter"
           }
          ],
          "scatter3d": [
           {
            "line": {
             "colorbar": {
              "outlinewidth": 0,
              "ticks": ""
             }
            },
            "marker": {
             "colorbar": {
              "outlinewidth": 0,
              "ticks": ""
             }
            },
            "type": "scatter3d"
           }
          ],
          "scattercarpet": [
           {
            "marker": {
             "colorbar": {
              "outlinewidth": 0,
              "ticks": ""
             }
            },
            "type": "scattercarpet"
           }
          ],
          "scattergeo": [
           {
            "marker": {
             "colorbar": {
              "outlinewidth": 0,
              "ticks": ""
             }
            },
            "type": "scattergeo"
           }
          ],
          "scattergl": [
           {
            "marker": {
             "colorbar": {
              "outlinewidth": 0,
              "ticks": ""
             }
            },
            "type": "scattergl"
           }
          ],
          "scattermapbox": [
           {
            "marker": {
             "colorbar": {
              "outlinewidth": 0,
              "ticks": ""
             }
            },
            "type": "scattermapbox"
           }
          ],
          "scatterpolar": [
           {
            "marker": {
             "colorbar": {
              "outlinewidth": 0,
              "ticks": ""
             }
            },
            "type": "scatterpolar"
           }
          ],
          "scatterpolargl": [
           {
            "marker": {
             "colorbar": {
              "outlinewidth": 0,
              "ticks": ""
             }
            },
            "type": "scatterpolargl"
           }
          ],
          "scatterternary": [
           {
            "marker": {
             "colorbar": {
              "outlinewidth": 0,
              "ticks": ""
             }
            },
            "type": "scatterternary"
           }
          ],
          "surface": [
           {
            "colorbar": {
             "outlinewidth": 0,
             "ticks": ""
            },
            "colorscale": [
             [
              0,
              "#0d0887"
             ],
             [
              0.1111111111111111,
              "#46039f"
             ],
             [
              0.2222222222222222,
              "#7201a8"
             ],
             [
              0.3333333333333333,
              "#9c179e"
             ],
             [
              0.4444444444444444,
              "#bd3786"
             ],
             [
              0.5555555555555556,
              "#d8576b"
             ],
             [
              0.6666666666666666,
              "#ed7953"
             ],
             [
              0.7777777777777778,
              "#fb9f3a"
             ],
             [
              0.8888888888888888,
              "#fdca26"
             ],
             [
              1,
              "#f0f921"
             ]
            ],
            "type": "surface"
           }
          ],
          "table": [
           {
            "cells": {
             "fill": {
              "color": "#EBF0F8"
             },
             "line": {
              "color": "white"
             }
            },
            "header": {
             "fill": {
              "color": "#C8D4E3"
             },
             "line": {
              "color": "white"
             }
            },
            "type": "table"
           }
          ]
         },
         "layout": {
          "annotationdefaults": {
           "arrowcolor": "#2a3f5f",
           "arrowhead": 0,
           "arrowwidth": 1
          },
          "autotypenumbers": "strict",
          "coloraxis": {
           "colorbar": {
            "outlinewidth": 0,
            "ticks": ""
           }
          },
          "colorscale": {
           "diverging": [
            [
             0,
             "#8e0152"
            ],
            [
             0.1,
             "#c51b7d"
            ],
            [
             0.2,
             "#de77ae"
            ],
            [
             0.3,
             "#f1b6da"
            ],
            [
             0.4,
             "#fde0ef"
            ],
            [
             0.5,
             "#f7f7f7"
            ],
            [
             0.6,
             "#e6f5d0"
            ],
            [
             0.7,
             "#b8e186"
            ],
            [
             0.8,
             "#7fbc41"
            ],
            [
             0.9,
             "#4d9221"
            ],
            [
             1,
             "#276419"
            ]
           ],
           "sequential": [
            [
             0,
             "#0d0887"
            ],
            [
             0.1111111111111111,
             "#46039f"
            ],
            [
             0.2222222222222222,
             "#7201a8"
            ],
            [
             0.3333333333333333,
             "#9c179e"
            ],
            [
             0.4444444444444444,
             "#bd3786"
            ],
            [
             0.5555555555555556,
             "#d8576b"
            ],
            [
             0.6666666666666666,
             "#ed7953"
            ],
            [
             0.7777777777777778,
             "#fb9f3a"
            ],
            [
             0.8888888888888888,
             "#fdca26"
            ],
            [
             1,
             "#f0f921"
            ]
           ],
           "sequentialminus": [
            [
             0,
             "#0d0887"
            ],
            [
             0.1111111111111111,
             "#46039f"
            ],
            [
             0.2222222222222222,
             "#7201a8"
            ],
            [
             0.3333333333333333,
             "#9c179e"
            ],
            [
             0.4444444444444444,
             "#bd3786"
            ],
            [
             0.5555555555555556,
             "#d8576b"
            ],
            [
             0.6666666666666666,
             "#ed7953"
            ],
            [
             0.7777777777777778,
             "#fb9f3a"
            ],
            [
             0.8888888888888888,
             "#fdca26"
            ],
            [
             1,
             "#f0f921"
            ]
           ]
          },
          "colorway": [
           "#636efa",
           "#EF553B",
           "#00cc96",
           "#ab63fa",
           "#FFA15A",
           "#19d3f3",
           "#FF6692",
           "#B6E880",
           "#FF97FF",
           "#FECB52"
          ],
          "font": {
           "color": "#2a3f5f"
          },
          "geo": {
           "bgcolor": "white",
           "lakecolor": "white",
           "landcolor": "#E5ECF6",
           "showlakes": true,
           "showland": true,
           "subunitcolor": "white"
          },
          "hoverlabel": {
           "align": "left"
          },
          "hovermode": "closest",
          "mapbox": {
           "style": "light"
          },
          "paper_bgcolor": "white",
          "plot_bgcolor": "#E5ECF6",
          "polar": {
           "angularaxis": {
            "gridcolor": "white",
            "linecolor": "white",
            "ticks": ""
           },
           "bgcolor": "#E5ECF6",
           "radialaxis": {
            "gridcolor": "white",
            "linecolor": "white",
            "ticks": ""
           }
          },
          "scene": {
           "xaxis": {
            "backgroundcolor": "#E5ECF6",
            "gridcolor": "white",
            "gridwidth": 2,
            "linecolor": "white",
            "showbackground": true,
            "ticks": "",
            "zerolinecolor": "white"
           },
           "yaxis": {
            "backgroundcolor": "#E5ECF6",
            "gridcolor": "white",
            "gridwidth": 2,
            "linecolor": "white",
            "showbackground": true,
            "ticks": "",
            "zerolinecolor": "white"
           },
           "zaxis": {
            "backgroundcolor": "#E5ECF6",
            "gridcolor": "white",
            "gridwidth": 2,
            "linecolor": "white",
            "showbackground": true,
            "ticks": "",
            "zerolinecolor": "white"
           }
          },
          "shapedefaults": {
           "line": {
            "color": "#2a3f5f"
           }
          },
          "ternary": {
           "aaxis": {
            "gridcolor": "white",
            "linecolor": "white",
            "ticks": ""
           },
           "baxis": {
            "gridcolor": "white",
            "linecolor": "white",
            "ticks": ""
           },
           "bgcolor": "#E5ECF6",
           "caxis": {
            "gridcolor": "white",
            "linecolor": "white",
            "ticks": ""
           }
          },
          "title": {
           "x": 0.05
          },
          "xaxis": {
           "automargin": true,
           "gridcolor": "white",
           "linecolor": "white",
           "ticks": "",
           "title": {
            "standoff": 15
           },
           "zerolinecolor": "white",
           "zerolinewidth": 2
          },
          "yaxis": {
           "automargin": true,
           "gridcolor": "white",
           "linecolor": "white",
           "ticks": "",
           "title": {
            "standoff": 15
           },
           "zerolinecolor": "white",
           "zerolinewidth": 2
          }
         }
        },
        "xaxis": {
         "anchor": "y",
         "domain": [
          0,
          1
         ],
         "title": {
          "text": "Age"
         }
        },
        "yaxis": {
         "anchor": "x",
         "domain": [
          0,
          1
         ],
         "title": {
          "text": "Sleep Quality"
         }
        }
       }
      }
     },
     "metadata": {},
     "output_type": "display_data"
    },
    {
     "data": {
      "application/vnd.plotly.v1+json": {
       "config": {
        "plotlyServerURL": "https://plot.ly"
       },
       "data": [
        {
         "alignmentgroup": "True",
         "hovertemplate": "Gender=%{x}<br>Sleep Quality=%{y}<extra></extra>",
         "legendgroup": "",
         "marker": {
          "color": "#636efa"
         },
         "name": "",
         "notched": false,
         "offsetgroup": "",
         "orientation": "v",
         "showlegend": false,
         "type": "box",
         "x": [
          "Female",
          "Male",
          "Female",
          "Female",
          "Male",
          "Female",
          "Female",
          "Male",
          "Female",
          "Female",
          "Male",
          "Male",
          "Female",
          "Male",
          "Female",
          "Female",
          "Female",
          "Female",
          "Female",
          "Male",
          "Male",
          "Male",
          "Female",
          "Female",
          "Male",
          "Male",
          "Female",
          "Male",
          "Male",
          "Female",
          "Male",
          "Male",
          "Male",
          "Female",
          "Female",
          "Female",
          "Male",
          "Female",
          "Female",
          "Female",
          "Male",
          "Male",
          "Female",
          "Female",
          "Female",
          "Female",
          "Male",
          "Female",
          "Female",
          "Female",
          "Female",
          "Male",
          "Female",
          "Female",
          "Male",
          "Male",
          "Male",
          "Male",
          "Female",
          "Female",
          "Female",
          "Male",
          "Male",
          "Female",
          "Male",
          "Male",
          "Male",
          "Male",
          "Male",
          "Male",
          "Female",
          "Female",
          "Male",
          "Male",
          "Male",
          "Male",
          "Female",
          "Male",
          "Male",
          "Male",
          "Male",
          "Male",
          "Male",
          "Female",
          "Male",
          "Male",
          "Male",
          "Male",
          "Male",
          "Female",
          "Male",
          "Male",
          "Male",
          "Male",
          "Male",
          "Female",
          "Male",
          "Male",
          "Female",
          "Male",
          "Female",
          "Male",
          "Female",
          "Female",
          "Female",
          "Female",
          "Male",
          "Male",
          "Female",
          "Male",
          "Male",
          "Male",
          "Male",
          "Male",
          "Male",
          "Male",
          "Male",
          "Male",
          "Male",
          "Male",
          "Male",
          "Female",
          "Male",
          "Male",
          "Male",
          "Male",
          "Male",
          "Female",
          "Female",
          "Male",
          "Female",
          "Female",
          "Female",
          "Male",
          "Male",
          "Female",
          "Male",
          "Male",
          "Male",
          "Female",
          "Female",
          "Female",
          "Male",
          "Male",
          "Female",
          "Female",
          "Male",
          "Female",
          "Female",
          "Female",
          "Male",
          "Female",
          "Male",
          "Male",
          "Male",
          "Male",
          "Female",
          "Female",
          "Female",
          "Male",
          "Male",
          "Male",
          "Male",
          "Female",
          "Male",
          "Female",
          "Female",
          "Female",
          "Male",
          "Female",
          "Male",
          "Female",
          "Male",
          "Female",
          "Female",
          "Male",
          "Female",
          "Female",
          "Female",
          "Male",
          "Male",
          "Female",
          "Female",
          "Female",
          "Female",
          "Female",
          "Female",
          "Male",
          "Male",
          "Female",
          "Male",
          "Female",
          "Male",
          "Female",
          "Female",
          "Female",
          "Female",
          "Male",
          "Female",
          "Male",
          "Male",
          "Female",
          "Female",
          "Male",
          "Female",
          "Female",
          "Female",
          "Female",
          "Female",
          "Male",
          "Male",
          "Female",
          "Female",
          "Female",
          "Male",
          "Female",
          "Male",
          "Female",
          "Female",
          "Female",
          "Female",
          "Female",
          "Male",
          "Female",
          "Male",
          "Male",
          "Female",
          "Female",
          "Female",
          "Male",
          "Male",
          "Male",
          "Female",
          "Male",
          "Female",
          "Female",
          "Male",
          "Male",
          "Female",
          "Male",
          "Male",
          "Male",
          "Female",
          "Male",
          "Female",
          "Male",
          "Female",
          "Female",
          "Male",
          "Male",
          "Female",
          "Male",
          "Female",
          "Female",
          "Female",
          "Female",
          "Female",
          "Female",
          "Male",
          "Female",
          "Male",
          "Female",
          "Female",
          "Female",
          "Female",
          "Male",
          "Male",
          "Female",
          "Male",
          "Male",
          "Female",
          "Female",
          "Male",
          "Male",
          "Male",
          "Female",
          "Female",
          "Female",
          "Female",
          "Female",
          "Female",
          "Male",
          "Male",
          "Female",
          "Female",
          "Male",
          "Male",
          "Female",
          "Female",
          "Female",
          "Male",
          "Female",
          "Female",
          "Female",
          "Male",
          "Female",
          "Male",
          "Female",
          "Female",
          "Male",
          "Female",
          "Female",
          "Male",
          "Male",
          "Male",
          "Male",
          "Male",
          "Female",
          "Female",
          "Female",
          "Female",
          "Female",
          "Male",
          "Male",
          "Male",
          "Female",
          "Male",
          "Male",
          "Male",
          "Male",
          "Male",
          "Male",
          "Female",
          "Male",
          "Female",
          "Female",
          "Female",
          "Female",
          "Female",
          "Female",
          "Male",
          "Male",
          "Female",
          "Female",
          "Female",
          "Female",
          "Female",
          "Male",
          "Male",
          "Male",
          "Male",
          "Female",
          "Female",
          "Female",
          "Male",
          "Male",
          "Male",
          "Male",
          "Male",
          "Female",
          "Male",
          "Female",
          "Male",
          "Male",
          "Female",
          "Male",
          "Male",
          "Female",
          "Male",
          "Female",
          "Female",
          "Female",
          "Male",
          "Female",
          "Male",
          "Female",
          "Male",
          "Male",
          "Male",
          "Male",
          "Female",
          "Female",
          "Female",
          "Male",
          "Male",
          "Female",
          "Male",
          "Female",
          "Male",
          "Male",
          "Female",
          "Male",
          "Male",
          "Male",
          "Male",
          "Female",
          "Female",
          "Female",
          "Female",
          "Female",
          "Male",
          "Female",
          "Female",
          "Male",
          "Female",
          "Male",
          "Female",
          "Female",
          "Female",
          "Female",
          "Female",
          "Male",
          "Male",
          "Male",
          "Male",
          "Male",
          "Male",
          "Female",
          "Female",
          "Female",
          "Male",
          "Male",
          "Female",
          "Male",
          "Female",
          "Male",
          "Female",
          "Male",
          "Male",
          "Male",
          "Male",
          "Male",
          "Female",
          "Female",
          "Male",
          "Female",
          "Male",
          "Male",
          "Male",
          "Male",
          "Female",
          "Female",
          "Male",
          "Female",
          "Female",
          "Female",
          "Male",
          "Male",
          "Male",
          "Male",
          "Female",
          "Male",
          "Female",
          "Female",
          "Male",
          "Female",
          "Male",
          "Female",
          "Male",
          "Female",
          "Male",
          "Male"
         ],
         "x0": " ",
         "xaxis": "x",
         "y": [
          86.00000000000001,
          94.33333333333334,
          100,
          96,
          100,
          100,
          100,
          100,
          100,
          100,
          100,
          95,
          100,
          100,
          100,
          100,
          100,
          95,
          100,
          100,
          89.99999999999999,
          100,
          100,
          100,
          85.00000000000001,
          86.00000000000001,
          100,
          100,
          100,
          96.66666666666666,
          96.66666666666666,
          100,
          100,
          100,
          100,
          100,
          92,
          100,
          100,
          100,
          94,
          89.99999999999999,
          100,
          100,
          100,
          94.33333333333334,
          100,
          100,
          100,
          100,
          100,
          100,
          100,
          100,
          95,
          100,
          100,
          100,
          100,
          100,
          100,
          92,
          89.99999999999999,
          100,
          100,
          100,
          85.00000000000001,
          95,
          92,
          89.99999999999999,
          100,
          92,
          89.99999999999999,
          100,
          100,
          100,
          100,
          100,
          96.66666666666666,
          100,
          100,
          87.5,
          100,
          100,
          88,
          95,
          100,
          100,
          100,
          100,
          89.99999999999999,
          100,
          92,
          100,
          100,
          96.66666666666666,
          100,
          100,
          100,
          100,
          100,
          100,
          100,
          89.99999999999999,
          100,
          100,
          96.66666666666666,
          100,
          100,
          100,
          88.33333333333333,
          96.66666666666666,
          89.99999999999999,
          89.99999999999999,
          100,
          96.66666666666666,
          100,
          100,
          96.66666666666666,
          96.66666666666666,
          89.99999999999999,
          100,
          100,
          100,
          96.66666666666666,
          100,
          100,
          100,
          100,
          92,
          100,
          100,
          100,
          98,
          100,
          96.66666666666666,
          94.33333333333334,
          100,
          100,
          100,
          100,
          96,
          100,
          100,
          100,
          100,
          98,
          100,
          100,
          100,
          100,
          100,
          95,
          100,
          100,
          100,
          100,
          100,
          92,
          100,
          100,
          100,
          100,
          100,
          100,
          100,
          96.66666666666666,
          100,
          100,
          100,
          100,
          100,
          100,
          100,
          100,
          92,
          100,
          100,
          100,
          89.99999999999999,
          100,
          100,
          100,
          100,
          100,
          100,
          96.66666666666666,
          92,
          100,
          96.66666666666666,
          95,
          100,
          85.00000000000001,
          96.66666666666666,
          100,
          100,
          100,
          98,
          83.33333333333333,
          100,
          100,
          100,
          86.00000000000001,
          100,
          96.66666666666666,
          89.99999999999999,
          96.66666666666666,
          96.66666666666666,
          100,
          100,
          100,
          92,
          87.5,
          91.66666666666667,
          100,
          100,
          100,
          100,
          100,
          98,
          100,
          100,
          100,
          100,
          100,
          100,
          100,
          96.66666666666666,
          100,
          100,
          100,
          100,
          86.66666666666667,
          100,
          100,
          100,
          100,
          100,
          100,
          100,
          92,
          100,
          100,
          100,
          100,
          100,
          100,
          98,
          100,
          100,
          92,
          100,
          96.66666666666666,
          100,
          96.66666666666666,
          96.66666666666666,
          96.66666666666666,
          89.99999999999999,
          98,
          100,
          100,
          100,
          100,
          100,
          100,
          95,
          96.66666666666666,
          100,
          100,
          100,
          100,
          100,
          100,
          100,
          100,
          99,
          98,
          100,
          100,
          96.66666666666666,
          100,
          100,
          100,
          100,
          100,
          89.99999999999999,
          98,
          100,
          96.66666666666666,
          100,
          98,
          100,
          89.99999999999999,
          100,
          96.66666666666666,
          100,
          100,
          100,
          100,
          100,
          100,
          100,
          100,
          100,
          89.99999999999999,
          88.33333333333333,
          98,
          100,
          96.66666666666666,
          100,
          100,
          100,
          100,
          96.66666666666666,
          100,
          100,
          100,
          100,
          100,
          85.00000000000001,
          96.66666666666666,
          100,
          100,
          100,
          86.00000000000001,
          100,
          100,
          100,
          100,
          100,
          80.66666666666666,
          98,
          100,
          100,
          100,
          100,
          100,
          100,
          100,
          90.33333333333333,
          96.66666666666666,
          100,
          100,
          100,
          100,
          100,
          85.00000000000001,
          98,
          100,
          100,
          96.66666666666666,
          97.50000000000001,
          100,
          100,
          100,
          100,
          100,
          100,
          96.66666666666666,
          100,
          100,
          100,
          100,
          100,
          100,
          100,
          100,
          86.66666666666667,
          100,
          89.99999999999999,
          96.66666666666666,
          96.66666666666666,
          100,
          100,
          100,
          100,
          100,
          100,
          92,
          100,
          96.66666666666666,
          100,
          100,
          100,
          92,
          100,
          96.66666666666666,
          100,
          100,
          100,
          95,
          80,
          96.66666666666666,
          100,
          100,
          100,
          92,
          100,
          100,
          100,
          100,
          100,
          98,
          100,
          92,
          90.33333333333333,
          96.66666666666666,
          100,
          100,
          100,
          92,
          96.66666666666666,
          92,
          100,
          100,
          100,
          100,
          96.66666666666666,
          100,
          100,
          96.66666666666666,
          100,
          96.66666666666666,
          100,
          89.99999999999999,
          100,
          92,
          100,
          100,
          100,
          100,
          100,
          100,
          100,
          100,
          100,
          100,
          100,
          100,
          100,
          100,
          100,
          100,
          100,
          100,
          100,
          85.00000000000001,
          100,
          100,
          100,
          92,
          100
         ],
         "y0": " ",
         "yaxis": "y"
        }
       ],
       "layout": {
        "boxmode": "group",
        "legend": {
         "tracegroupgap": 0
        },
        "margin": {
         "t": 60
        },
        "template": {
         "data": {
          "bar": [
           {
            "error_x": {
             "color": "#2a3f5f"
            },
            "error_y": {
             "color": "#2a3f5f"
            },
            "marker": {
             "line": {
              "color": "#E5ECF6",
              "width": 0.5
             },
             "pattern": {
              "fillmode": "overlay",
              "size": 10,
              "solidity": 0.2
             }
            },
            "type": "bar"
           }
          ],
          "barpolar": [
           {
            "marker": {
             "line": {
              "color": "#E5ECF6",
              "width": 0.5
             },
             "pattern": {
              "fillmode": "overlay",
              "size": 10,
              "solidity": 0.2
             }
            },
            "type": "barpolar"
           }
          ],
          "carpet": [
           {
            "aaxis": {
             "endlinecolor": "#2a3f5f",
             "gridcolor": "white",
             "linecolor": "white",
             "minorgridcolor": "white",
             "startlinecolor": "#2a3f5f"
            },
            "baxis": {
             "endlinecolor": "#2a3f5f",
             "gridcolor": "white",
             "linecolor": "white",
             "minorgridcolor": "white",
             "startlinecolor": "#2a3f5f"
            },
            "type": "carpet"
           }
          ],
          "choropleth": [
           {
            "colorbar": {
             "outlinewidth": 0,
             "ticks": ""
            },
            "type": "choropleth"
           }
          ],
          "contour": [
           {
            "colorbar": {
             "outlinewidth": 0,
             "ticks": ""
            },
            "colorscale": [
             [
              0,
              "#0d0887"
             ],
             [
              0.1111111111111111,
              "#46039f"
             ],
             [
              0.2222222222222222,
              "#7201a8"
             ],
             [
              0.3333333333333333,
              "#9c179e"
             ],
             [
              0.4444444444444444,
              "#bd3786"
             ],
             [
              0.5555555555555556,
              "#d8576b"
             ],
             [
              0.6666666666666666,
              "#ed7953"
             ],
             [
              0.7777777777777778,
              "#fb9f3a"
             ],
             [
              0.8888888888888888,
              "#fdca26"
             ],
             [
              1,
              "#f0f921"
             ]
            ],
            "type": "contour"
           }
          ],
          "contourcarpet": [
           {
            "colorbar": {
             "outlinewidth": 0,
             "ticks": ""
            },
            "type": "contourcarpet"
           }
          ],
          "heatmap": [
           {
            "colorbar": {
             "outlinewidth": 0,
             "ticks": ""
            },
            "colorscale": [
             [
              0,
              "#0d0887"
             ],
             [
              0.1111111111111111,
              "#46039f"
             ],
             [
              0.2222222222222222,
              "#7201a8"
             ],
             [
              0.3333333333333333,
              "#9c179e"
             ],
             [
              0.4444444444444444,
              "#bd3786"
             ],
             [
              0.5555555555555556,
              "#d8576b"
             ],
             [
              0.6666666666666666,
              "#ed7953"
             ],
             [
              0.7777777777777778,
              "#fb9f3a"
             ],
             [
              0.8888888888888888,
              "#fdca26"
             ],
             [
              1,
              "#f0f921"
             ]
            ],
            "type": "heatmap"
           }
          ],
          "heatmapgl": [
           {
            "colorbar": {
             "outlinewidth": 0,
             "ticks": ""
            },
            "colorscale": [
             [
              0,
              "#0d0887"
             ],
             [
              0.1111111111111111,
              "#46039f"
             ],
             [
              0.2222222222222222,
              "#7201a8"
             ],
             [
              0.3333333333333333,
              "#9c179e"
             ],
             [
              0.4444444444444444,
              "#bd3786"
             ],
             [
              0.5555555555555556,
              "#d8576b"
             ],
             [
              0.6666666666666666,
              "#ed7953"
             ],
             [
              0.7777777777777778,
              "#fb9f3a"
             ],
             [
              0.8888888888888888,
              "#fdca26"
             ],
             [
              1,
              "#f0f921"
             ]
            ],
            "type": "heatmapgl"
           }
          ],
          "histogram": [
           {
            "marker": {
             "pattern": {
              "fillmode": "overlay",
              "size": 10,
              "solidity": 0.2
             }
            },
            "type": "histogram"
           }
          ],
          "histogram2d": [
           {
            "colorbar": {
             "outlinewidth": 0,
             "ticks": ""
            },
            "colorscale": [
             [
              0,
              "#0d0887"
             ],
             [
              0.1111111111111111,
              "#46039f"
             ],
             [
              0.2222222222222222,
              "#7201a8"
             ],
             [
              0.3333333333333333,
              "#9c179e"
             ],
             [
              0.4444444444444444,
              "#bd3786"
             ],
             [
              0.5555555555555556,
              "#d8576b"
             ],
             [
              0.6666666666666666,
              "#ed7953"
             ],
             [
              0.7777777777777778,
              "#fb9f3a"
             ],
             [
              0.8888888888888888,
              "#fdca26"
             ],
             [
              1,
              "#f0f921"
             ]
            ],
            "type": "histogram2d"
           }
          ],
          "histogram2dcontour": [
           {
            "colorbar": {
             "outlinewidth": 0,
             "ticks": ""
            },
            "colorscale": [
             [
              0,
              "#0d0887"
             ],
             [
              0.1111111111111111,
              "#46039f"
             ],
             [
              0.2222222222222222,
              "#7201a8"
             ],
             [
              0.3333333333333333,
              "#9c179e"
             ],
             [
              0.4444444444444444,
              "#bd3786"
             ],
             [
              0.5555555555555556,
              "#d8576b"
             ],
             [
              0.6666666666666666,
              "#ed7953"
             ],
             [
              0.7777777777777778,
              "#fb9f3a"
             ],
             [
              0.8888888888888888,
              "#fdca26"
             ],
             [
              1,
              "#f0f921"
             ]
            ],
            "type": "histogram2dcontour"
           }
          ],
          "mesh3d": [
           {
            "colorbar": {
             "outlinewidth": 0,
             "ticks": ""
            },
            "type": "mesh3d"
           }
          ],
          "parcoords": [
           {
            "line": {
             "colorbar": {
              "outlinewidth": 0,
              "ticks": ""
             }
            },
            "type": "parcoords"
           }
          ],
          "pie": [
           {
            "automargin": true,
            "type": "pie"
           }
          ],
          "scatter": [
           {
            "fillpattern": {
             "fillmode": "overlay",
             "size": 10,
             "solidity": 0.2
            },
            "type": "scatter"
           }
          ],
          "scatter3d": [
           {
            "line": {
             "colorbar": {
              "outlinewidth": 0,
              "ticks": ""
             }
            },
            "marker": {
             "colorbar": {
              "outlinewidth": 0,
              "ticks": ""
             }
            },
            "type": "scatter3d"
           }
          ],
          "scattercarpet": [
           {
            "marker": {
             "colorbar": {
              "outlinewidth": 0,
              "ticks": ""
             }
            },
            "type": "scattercarpet"
           }
          ],
          "scattergeo": [
           {
            "marker": {
             "colorbar": {
              "outlinewidth": 0,
              "ticks": ""
             }
            },
            "type": "scattergeo"
           }
          ],
          "scattergl": [
           {
            "marker": {
             "colorbar": {
              "outlinewidth": 0,
              "ticks": ""
             }
            },
            "type": "scattergl"
           }
          ],
          "scattermapbox": [
           {
            "marker": {
             "colorbar": {
              "outlinewidth": 0,
              "ticks": ""
             }
            },
            "type": "scattermapbox"
           }
          ],
          "scatterpolar": [
           {
            "marker": {
             "colorbar": {
              "outlinewidth": 0,
              "ticks": ""
             }
            },
            "type": "scatterpolar"
           }
          ],
          "scatterpolargl": [
           {
            "marker": {
             "colorbar": {
              "outlinewidth": 0,
              "ticks": ""
             }
            },
            "type": "scatterpolargl"
           }
          ],
          "scatterternary": [
           {
            "marker": {
             "colorbar": {
              "outlinewidth": 0,
              "ticks": ""
             }
            },
            "type": "scatterternary"
           }
          ],
          "surface": [
           {
            "colorbar": {
             "outlinewidth": 0,
             "ticks": ""
            },
            "colorscale": [
             [
              0,
              "#0d0887"
             ],
             [
              0.1111111111111111,
              "#46039f"
             ],
             [
              0.2222222222222222,
              "#7201a8"
             ],
             [
              0.3333333333333333,
              "#9c179e"
             ],
             [
              0.4444444444444444,
              "#bd3786"
             ],
             [
              0.5555555555555556,
              "#d8576b"
             ],
             [
              0.6666666666666666,
              "#ed7953"
             ],
             [
              0.7777777777777778,
              "#fb9f3a"
             ],
             [
              0.8888888888888888,
              "#fdca26"
             ],
             [
              1,
              "#f0f921"
             ]
            ],
            "type": "surface"
           }
          ],
          "table": [
           {
            "cells": {
             "fill": {
              "color": "#EBF0F8"
             },
             "line": {
              "color": "white"
             }
            },
            "header": {
             "fill": {
              "color": "#C8D4E3"
             },
             "line": {
              "color": "white"
             }
            },
            "type": "table"
           }
          ]
         },
         "layout": {
          "annotationdefaults": {
           "arrowcolor": "#2a3f5f",
           "arrowhead": 0,
           "arrowwidth": 1
          },
          "autotypenumbers": "strict",
          "coloraxis": {
           "colorbar": {
            "outlinewidth": 0,
            "ticks": ""
           }
          },
          "colorscale": {
           "diverging": [
            [
             0,
             "#8e0152"
            ],
            [
             0.1,
             "#c51b7d"
            ],
            [
             0.2,
             "#de77ae"
            ],
            [
             0.3,
             "#f1b6da"
            ],
            [
             0.4,
             "#fde0ef"
            ],
            [
             0.5,
             "#f7f7f7"
            ],
            [
             0.6,
             "#e6f5d0"
            ],
            [
             0.7,
             "#b8e186"
            ],
            [
             0.8,
             "#7fbc41"
            ],
            [
             0.9,
             "#4d9221"
            ],
            [
             1,
             "#276419"
            ]
           ],
           "sequential": [
            [
             0,
             "#0d0887"
            ],
            [
             0.1111111111111111,
             "#46039f"
            ],
            [
             0.2222222222222222,
             "#7201a8"
            ],
            [
             0.3333333333333333,
             "#9c179e"
            ],
            [
             0.4444444444444444,
             "#bd3786"
            ],
            [
             0.5555555555555556,
             "#d8576b"
            ],
            [
             0.6666666666666666,
             "#ed7953"
            ],
            [
             0.7777777777777778,
             "#fb9f3a"
            ],
            [
             0.8888888888888888,
             "#fdca26"
            ],
            [
             1,
             "#f0f921"
            ]
           ],
           "sequentialminus": [
            [
             0,
             "#0d0887"
            ],
            [
             0.1111111111111111,
             "#46039f"
            ],
            [
             0.2222222222222222,
             "#7201a8"
            ],
            [
             0.3333333333333333,
             "#9c179e"
            ],
            [
             0.4444444444444444,
             "#bd3786"
            ],
            [
             0.5555555555555556,
             "#d8576b"
            ],
            [
             0.6666666666666666,
             "#ed7953"
            ],
            [
             0.7777777777777778,
             "#fb9f3a"
            ],
            [
             0.8888888888888888,
             "#fdca26"
            ],
            [
             1,
             "#f0f921"
            ]
           ]
          },
          "colorway": [
           "#636efa",
           "#EF553B",
           "#00cc96",
           "#ab63fa",
           "#FFA15A",
           "#19d3f3",
           "#FF6692",
           "#B6E880",
           "#FF97FF",
           "#FECB52"
          ],
          "font": {
           "color": "#2a3f5f"
          },
          "geo": {
           "bgcolor": "white",
           "lakecolor": "white",
           "landcolor": "#E5ECF6",
           "showlakes": true,
           "showland": true,
           "subunitcolor": "white"
          },
          "hoverlabel": {
           "align": "left"
          },
          "hovermode": "closest",
          "mapbox": {
           "style": "light"
          },
          "paper_bgcolor": "white",
          "plot_bgcolor": "#E5ECF6",
          "polar": {
           "angularaxis": {
            "gridcolor": "white",
            "linecolor": "white",
            "ticks": ""
           },
           "bgcolor": "#E5ECF6",
           "radialaxis": {
            "gridcolor": "white",
            "linecolor": "white",
            "ticks": ""
           }
          },
          "scene": {
           "xaxis": {
            "backgroundcolor": "#E5ECF6",
            "gridcolor": "white",
            "gridwidth": 2,
            "linecolor": "white",
            "showbackground": true,
            "ticks": "",
            "zerolinecolor": "white"
           },
           "yaxis": {
            "backgroundcolor": "#E5ECF6",
            "gridcolor": "white",
            "gridwidth": 2,
            "linecolor": "white",
            "showbackground": true,
            "ticks": "",
            "zerolinecolor": "white"
           },
           "zaxis": {
            "backgroundcolor": "#E5ECF6",
            "gridcolor": "white",
            "gridwidth": 2,
            "linecolor": "white",
            "showbackground": true,
            "ticks": "",
            "zerolinecolor": "white"
           }
          },
          "shapedefaults": {
           "line": {
            "color": "#2a3f5f"
           }
          },
          "ternary": {
           "aaxis": {
            "gridcolor": "white",
            "linecolor": "white",
            "ticks": ""
           },
           "baxis": {
            "gridcolor": "white",
            "linecolor": "white",
            "ticks": ""
           },
           "bgcolor": "#E5ECF6",
           "caxis": {
            "gridcolor": "white",
            "linecolor": "white",
            "ticks": ""
           }
          },
          "title": {
           "x": 0.05
          },
          "xaxis": {
           "automargin": true,
           "gridcolor": "white",
           "linecolor": "white",
           "ticks": "",
           "title": {
            "standoff": 15
           },
           "zerolinecolor": "white",
           "zerolinewidth": 2
          },
          "yaxis": {
           "automargin": true,
           "gridcolor": "white",
           "linecolor": "white",
           "ticks": "",
           "title": {
            "standoff": 15
           },
           "zerolinecolor": "white",
           "zerolinewidth": 2
          }
         }
        },
        "xaxis": {
         "anchor": "y",
         "domain": [
          0,
          1
         ],
         "title": {
          "text": "Gender"
         }
        },
        "yaxis": {
         "anchor": "x",
         "domain": [
          0,
          1
         ],
         "title": {
          "text": "Sleep Quality"
         }
        }
       }
      }
     },
     "metadata": {},
     "output_type": "display_data"
    },
    {
     "data": {
      "application/vnd.plotly.v1+json": {
       "config": {
        "plotlyServerURL": "https://plot.ly"
       },
       "data": [
        {
         "alignmentgroup": "True",
         "hovertemplate": "Smoking status=%{x}<br>Sleep Quality=%{y}<extra></extra>",
         "legendgroup": "",
         "marker": {
          "color": "#636efa"
         },
         "name": "",
         "notched": false,
         "offsetgroup": "",
         "orientation": "v",
         "showlegend": false,
         "type": "box",
         "x": [
          "Yes",
          "Yes",
          "No",
          "Yes",
          "No",
          "No",
          "Yes",
          "Yes",
          "No",
          "No",
          "Yes",
          "No",
          "No",
          "No",
          "Yes",
          "No",
          "Yes",
          "Yes",
          "No",
          "Yes",
          "No",
          "No",
          "No",
          "No",
          "No",
          "No",
          "No",
          "Yes",
          "No",
          "No",
          "Yes",
          "No",
          "Yes",
          "Yes",
          "No",
          "No",
          "Yes",
          "No",
          "Yes",
          "No",
          "No",
          "Yes",
          "Yes",
          "No",
          "No",
          "No",
          "No",
          "Yes",
          "No",
          "No",
          "No",
          "No",
          "No",
          "No",
          "No",
          "No",
          "No",
          "Yes",
          "No",
          "No",
          "No",
          "No",
          "No",
          "No",
          "No",
          "No",
          "No",
          "No",
          "No",
          "Yes",
          "Yes",
          "No",
          "Yes",
          "Yes",
          "No",
          "Yes",
          "No",
          "Yes",
          "No",
          "Yes",
          "Yes",
          "No",
          "Yes",
          "No",
          "No",
          "No",
          "No",
          "No",
          "Yes",
          "No",
          "Yes",
          "No",
          "Yes",
          "No",
          "No",
          "Yes",
          "No",
          "No",
          "No",
          "No",
          "No",
          "No",
          "No",
          "No",
          "No",
          "No",
          "No",
          "Yes",
          "No",
          "Yes",
          "Yes",
          "No",
          "No",
          "Yes",
          "Yes",
          "Yes",
          "Yes",
          "Yes",
          "No",
          "No",
          "No",
          "No",
          "No",
          "Yes",
          "Yes",
          "No",
          "Yes",
          "No",
          "No",
          "No",
          "Yes",
          "Yes",
          "No",
          "No",
          "Yes",
          "No",
          "Yes",
          "Yes",
          "No",
          "No",
          "Yes",
          "Yes",
          "No",
          "No",
          "Yes",
          "Yes",
          "Yes",
          "No",
          "No",
          "No",
          "Yes",
          "No",
          "No",
          "No",
          "Yes",
          "No",
          "No",
          "No",
          "No",
          "Yes",
          "Yes",
          "No",
          "No",
          "Yes",
          "Yes",
          "No",
          "No",
          "No",
          "No",
          "No",
          "No",
          "No",
          "Yes",
          "No",
          "No",
          "No",
          "No",
          "No",
          "Yes",
          "No",
          "Yes",
          "Yes",
          "No",
          "No",
          "No",
          "No",
          "No",
          "No",
          "Yes",
          "No",
          "No",
          "Yes",
          "No",
          "No",
          "No",
          "No",
          "Yes",
          "Yes",
          "No",
          "Yes",
          "No",
          "No",
          "Yes",
          "Yes",
          "No",
          "No",
          "No",
          "Yes",
          "No",
          "Yes",
          "No",
          "No",
          "No",
          "Yes",
          "No",
          "No",
          "No",
          "Yes",
          "No",
          "No",
          "No",
          "Yes",
          "No",
          "No",
          "No",
          "No",
          "No",
          "No",
          "No",
          "No",
          "No",
          "Yes",
          "No",
          "Yes",
          "No",
          "No",
          "No",
          "Yes",
          "No",
          "Yes",
          "No",
          "Yes",
          "No",
          "No",
          "No",
          "No",
          "Yes",
          "No",
          "Yes",
          "No",
          "No",
          "Yes",
          "Yes",
          "No",
          "No",
          "Yes",
          "No",
          "Yes",
          "Yes",
          "No",
          "Yes",
          "No",
          "No",
          "No",
          "No",
          "Yes",
          "Yes",
          "No",
          "No",
          "No",
          "No",
          "No",
          "Yes",
          "Yes",
          "No",
          "No",
          "No",
          "No",
          "No",
          "No",
          "Yes",
          "Yes",
          "No",
          "No",
          "No",
          "Yes",
          "Yes",
          "Yes",
          "No",
          "No",
          "No",
          "No",
          "No",
          "No",
          "No",
          "No",
          "No",
          "Yes",
          "Yes",
          "No",
          "No",
          "No",
          "No",
          "Yes",
          "No",
          "No",
          "Yes",
          "Yes",
          "No",
          "No",
          "No",
          "No",
          "No",
          "No",
          "Yes",
          "No",
          "No",
          "No",
          "No",
          "No",
          "Yes",
          "No",
          "Yes",
          "No",
          "No",
          "Yes",
          "Yes",
          "No",
          "No",
          "Yes",
          "No",
          "Yes",
          "No",
          "No",
          "Yes",
          "Yes",
          "No",
          "No",
          "No",
          "No",
          "No",
          "No",
          "Yes",
          "No",
          "No",
          "Yes",
          "No",
          "No",
          "Yes",
          "Yes",
          "No",
          "No",
          "No",
          "No",
          "Yes",
          "Yes",
          "No",
          "Yes",
          "Yes",
          "No",
          "Yes",
          "Yes",
          "No",
          "No",
          "Yes",
          "No",
          "No",
          "Yes",
          "Yes",
          "No",
          "No",
          "Yes",
          "No",
          "Yes",
          "No",
          "No",
          "No",
          "No",
          "No",
          "No",
          "No",
          "No",
          "No",
          "Yes",
          "Yes",
          "No",
          "No",
          "No",
          "No",
          "No",
          "No",
          "Yes",
          "Yes",
          "No",
          "Yes",
          "No",
          "No",
          "No",
          "No",
          "No",
          "No",
          "Yes",
          "Yes",
          "Yes",
          "Yes",
          "Yes",
          "No",
          "Yes",
          "No",
          "Yes",
          "Yes",
          "No",
          "No",
          "Yes",
          "No",
          "No",
          "No",
          "Yes",
          "No",
          "Yes",
          "Yes",
          "No",
          "No",
          "Yes",
          "Yes",
          "No",
          "No",
          "No",
          "No",
          "No",
          "Yes",
          "No",
          "No",
          "Yes",
          "No",
          "No",
          "No",
          "No",
          "No",
          "Yes",
          "Yes",
          "No",
          "No",
          "No",
          "Yes",
          "Yes",
          "Yes",
          "No",
          "No",
          "Yes",
          "No",
          "No"
         ],
         "x0": " ",
         "xaxis": "x",
         "y": [
          86.00000000000001,
          94.33333333333334,
          100,
          96,
          100,
          100,
          100,
          100,
          100,
          100,
          100,
          95,
          100,
          100,
          100,
          100,
          100,
          95,
          100,
          100,
          89.99999999999999,
          100,
          100,
          100,
          85.00000000000001,
          86.00000000000001,
          100,
          100,
          100,
          96.66666666666666,
          96.66666666666666,
          100,
          100,
          100,
          100,
          100,
          92,
          100,
          100,
          100,
          94,
          89.99999999999999,
          100,
          100,
          100,
          94.33333333333334,
          100,
          100,
          100,
          100,
          100,
          100,
          100,
          100,
          95,
          100,
          100,
          100,
          100,
          100,
          100,
          92,
          89.99999999999999,
          100,
          100,
          100,
          85.00000000000001,
          95,
          92,
          89.99999999999999,
          100,
          92,
          89.99999999999999,
          100,
          100,
          100,
          100,
          100,
          96.66666666666666,
          100,
          100,
          87.5,
          100,
          100,
          88,
          95,
          100,
          100,
          100,
          100,
          89.99999999999999,
          100,
          92,
          100,
          100,
          96.66666666666666,
          100,
          100,
          100,
          100,
          100,
          100,
          100,
          89.99999999999999,
          100,
          100,
          96.66666666666666,
          100,
          100,
          100,
          88.33333333333333,
          96.66666666666666,
          89.99999999999999,
          89.99999999999999,
          100,
          96.66666666666666,
          100,
          100,
          96.66666666666666,
          96.66666666666666,
          89.99999999999999,
          100,
          100,
          100,
          96.66666666666666,
          100,
          100,
          100,
          100,
          92,
          100,
          100,
          100,
          98,
          100,
          96.66666666666666,
          94.33333333333334,
          100,
          100,
          100,
          100,
          96,
          100,
          100,
          100,
          100,
          98,
          100,
          100,
          100,
          100,
          100,
          95,
          100,
          100,
          100,
          100,
          100,
          92,
          100,
          100,
          100,
          100,
          100,
          100,
          100,
          96.66666666666666,
          100,
          100,
          100,
          100,
          100,
          100,
          100,
          100,
          92,
          100,
          100,
          100,
          89.99999999999999,
          100,
          100,
          100,
          100,
          100,
          100,
          96.66666666666666,
          92,
          100,
          96.66666666666666,
          95,
          100,
          85.00000000000001,
          96.66666666666666,
          100,
          100,
          100,
          98,
          83.33333333333333,
          100,
          100,
          100,
          86.00000000000001,
          100,
          96.66666666666666,
          89.99999999999999,
          96.66666666666666,
          96.66666666666666,
          100,
          100,
          100,
          92,
          87.5,
          91.66666666666667,
          100,
          100,
          100,
          100,
          100,
          98,
          100,
          100,
          100,
          100,
          100,
          100,
          100,
          96.66666666666666,
          100,
          100,
          100,
          100,
          86.66666666666667,
          100,
          100,
          100,
          100,
          100,
          100,
          100,
          92,
          100,
          100,
          100,
          100,
          100,
          100,
          98,
          100,
          100,
          92,
          100,
          96.66666666666666,
          100,
          96.66666666666666,
          96.66666666666666,
          96.66666666666666,
          89.99999999999999,
          98,
          100,
          100,
          100,
          100,
          100,
          100,
          95,
          96.66666666666666,
          100,
          100,
          100,
          100,
          100,
          100,
          100,
          100,
          99,
          98,
          100,
          100,
          96.66666666666666,
          100,
          100,
          100,
          100,
          100,
          89.99999999999999,
          98,
          100,
          96.66666666666666,
          100,
          98,
          100,
          89.99999999999999,
          100,
          96.66666666666666,
          100,
          100,
          100,
          100,
          100,
          100,
          100,
          100,
          100,
          89.99999999999999,
          88.33333333333333,
          98,
          100,
          96.66666666666666,
          100,
          100,
          100,
          100,
          96.66666666666666,
          100,
          100,
          100,
          100,
          100,
          85.00000000000001,
          96.66666666666666,
          100,
          100,
          100,
          86.00000000000001,
          100,
          100,
          100,
          100,
          100,
          80.66666666666666,
          98,
          100,
          100,
          100,
          100,
          100,
          100,
          100,
          90.33333333333333,
          96.66666666666666,
          100,
          100,
          100,
          100,
          100,
          85.00000000000001,
          98,
          100,
          100,
          96.66666666666666,
          97.50000000000001,
          100,
          100,
          100,
          100,
          100,
          100,
          96.66666666666666,
          100,
          100,
          100,
          100,
          100,
          100,
          100,
          100,
          86.66666666666667,
          100,
          89.99999999999999,
          96.66666666666666,
          96.66666666666666,
          100,
          100,
          100,
          100,
          100,
          100,
          92,
          100,
          96.66666666666666,
          100,
          100,
          100,
          92,
          100,
          96.66666666666666,
          100,
          100,
          100,
          95,
          80,
          96.66666666666666,
          100,
          100,
          100,
          92,
          100,
          100,
          100,
          100,
          100,
          98,
          100,
          92,
          90.33333333333333,
          96.66666666666666,
          100,
          100,
          100,
          92,
          96.66666666666666,
          92,
          100,
          100,
          100,
          100,
          96.66666666666666,
          100,
          100,
          96.66666666666666,
          100,
          96.66666666666666,
          100,
          89.99999999999999,
          100,
          92,
          100,
          100,
          100,
          100,
          100,
          100,
          100,
          100,
          100,
          100,
          100,
          100,
          100,
          100,
          100,
          100,
          100,
          100,
          100,
          85.00000000000001,
          100,
          100,
          100,
          92,
          100
         ],
         "y0": " ",
         "yaxis": "y"
        }
       ],
       "layout": {
        "boxmode": "group",
        "legend": {
         "tracegroupgap": 0
        },
        "margin": {
         "t": 60
        },
        "template": {
         "data": {
          "bar": [
           {
            "error_x": {
             "color": "#2a3f5f"
            },
            "error_y": {
             "color": "#2a3f5f"
            },
            "marker": {
             "line": {
              "color": "#E5ECF6",
              "width": 0.5
             },
             "pattern": {
              "fillmode": "overlay",
              "size": 10,
              "solidity": 0.2
             }
            },
            "type": "bar"
           }
          ],
          "barpolar": [
           {
            "marker": {
             "line": {
              "color": "#E5ECF6",
              "width": 0.5
             },
             "pattern": {
              "fillmode": "overlay",
              "size": 10,
              "solidity": 0.2
             }
            },
            "type": "barpolar"
           }
          ],
          "carpet": [
           {
            "aaxis": {
             "endlinecolor": "#2a3f5f",
             "gridcolor": "white",
             "linecolor": "white",
             "minorgridcolor": "white",
             "startlinecolor": "#2a3f5f"
            },
            "baxis": {
             "endlinecolor": "#2a3f5f",
             "gridcolor": "white",
             "linecolor": "white",
             "minorgridcolor": "white",
             "startlinecolor": "#2a3f5f"
            },
            "type": "carpet"
           }
          ],
          "choropleth": [
           {
            "colorbar": {
             "outlinewidth": 0,
             "ticks": ""
            },
            "type": "choropleth"
           }
          ],
          "contour": [
           {
            "colorbar": {
             "outlinewidth": 0,
             "ticks": ""
            },
            "colorscale": [
             [
              0,
              "#0d0887"
             ],
             [
              0.1111111111111111,
              "#46039f"
             ],
             [
              0.2222222222222222,
              "#7201a8"
             ],
             [
              0.3333333333333333,
              "#9c179e"
             ],
             [
              0.4444444444444444,
              "#bd3786"
             ],
             [
              0.5555555555555556,
              "#d8576b"
             ],
             [
              0.6666666666666666,
              "#ed7953"
             ],
             [
              0.7777777777777778,
              "#fb9f3a"
             ],
             [
              0.8888888888888888,
              "#fdca26"
             ],
             [
              1,
              "#f0f921"
             ]
            ],
            "type": "contour"
           }
          ],
          "contourcarpet": [
           {
            "colorbar": {
             "outlinewidth": 0,
             "ticks": ""
            },
            "type": "contourcarpet"
           }
          ],
          "heatmap": [
           {
            "colorbar": {
             "outlinewidth": 0,
             "ticks": ""
            },
            "colorscale": [
             [
              0,
              "#0d0887"
             ],
             [
              0.1111111111111111,
              "#46039f"
             ],
             [
              0.2222222222222222,
              "#7201a8"
             ],
             [
              0.3333333333333333,
              "#9c179e"
             ],
             [
              0.4444444444444444,
              "#bd3786"
             ],
             [
              0.5555555555555556,
              "#d8576b"
             ],
             [
              0.6666666666666666,
              "#ed7953"
             ],
             [
              0.7777777777777778,
              "#fb9f3a"
             ],
             [
              0.8888888888888888,
              "#fdca26"
             ],
             [
              1,
              "#f0f921"
             ]
            ],
            "type": "heatmap"
           }
          ],
          "heatmapgl": [
           {
            "colorbar": {
             "outlinewidth": 0,
             "ticks": ""
            },
            "colorscale": [
             [
              0,
              "#0d0887"
             ],
             [
              0.1111111111111111,
              "#46039f"
             ],
             [
              0.2222222222222222,
              "#7201a8"
             ],
             [
              0.3333333333333333,
              "#9c179e"
             ],
             [
              0.4444444444444444,
              "#bd3786"
             ],
             [
              0.5555555555555556,
              "#d8576b"
             ],
             [
              0.6666666666666666,
              "#ed7953"
             ],
             [
              0.7777777777777778,
              "#fb9f3a"
             ],
             [
              0.8888888888888888,
              "#fdca26"
             ],
             [
              1,
              "#f0f921"
             ]
            ],
            "type": "heatmapgl"
           }
          ],
          "histogram": [
           {
            "marker": {
             "pattern": {
              "fillmode": "overlay",
              "size": 10,
              "solidity": 0.2
             }
            },
            "type": "histogram"
           }
          ],
          "histogram2d": [
           {
            "colorbar": {
             "outlinewidth": 0,
             "ticks": ""
            },
            "colorscale": [
             [
              0,
              "#0d0887"
             ],
             [
              0.1111111111111111,
              "#46039f"
             ],
             [
              0.2222222222222222,
              "#7201a8"
             ],
             [
              0.3333333333333333,
              "#9c179e"
             ],
             [
              0.4444444444444444,
              "#bd3786"
             ],
             [
              0.5555555555555556,
              "#d8576b"
             ],
             [
              0.6666666666666666,
              "#ed7953"
             ],
             [
              0.7777777777777778,
              "#fb9f3a"
             ],
             [
              0.8888888888888888,
              "#fdca26"
             ],
             [
              1,
              "#f0f921"
             ]
            ],
            "type": "histogram2d"
           }
          ],
          "histogram2dcontour": [
           {
            "colorbar": {
             "outlinewidth": 0,
             "ticks": ""
            },
            "colorscale": [
             [
              0,
              "#0d0887"
             ],
             [
              0.1111111111111111,
              "#46039f"
             ],
             [
              0.2222222222222222,
              "#7201a8"
             ],
             [
              0.3333333333333333,
              "#9c179e"
             ],
             [
              0.4444444444444444,
              "#bd3786"
             ],
             [
              0.5555555555555556,
              "#d8576b"
             ],
             [
              0.6666666666666666,
              "#ed7953"
             ],
             [
              0.7777777777777778,
              "#fb9f3a"
             ],
             [
              0.8888888888888888,
              "#fdca26"
             ],
             [
              1,
              "#f0f921"
             ]
            ],
            "type": "histogram2dcontour"
           }
          ],
          "mesh3d": [
           {
            "colorbar": {
             "outlinewidth": 0,
             "ticks": ""
            },
            "type": "mesh3d"
           }
          ],
          "parcoords": [
           {
            "line": {
             "colorbar": {
              "outlinewidth": 0,
              "ticks": ""
             }
            },
            "type": "parcoords"
           }
          ],
          "pie": [
           {
            "automargin": true,
            "type": "pie"
           }
          ],
          "scatter": [
           {
            "fillpattern": {
             "fillmode": "overlay",
             "size": 10,
             "solidity": 0.2
            },
            "type": "scatter"
           }
          ],
          "scatter3d": [
           {
            "line": {
             "colorbar": {
              "outlinewidth": 0,
              "ticks": ""
             }
            },
            "marker": {
             "colorbar": {
              "outlinewidth": 0,
              "ticks": ""
             }
            },
            "type": "scatter3d"
           }
          ],
          "scattercarpet": [
           {
            "marker": {
             "colorbar": {
              "outlinewidth": 0,
              "ticks": ""
             }
            },
            "type": "scattercarpet"
           }
          ],
          "scattergeo": [
           {
            "marker": {
             "colorbar": {
              "outlinewidth": 0,
              "ticks": ""
             }
            },
            "type": "scattergeo"
           }
          ],
          "scattergl": [
           {
            "marker": {
             "colorbar": {
              "outlinewidth": 0,
              "ticks": ""
             }
            },
            "type": "scattergl"
           }
          ],
          "scattermapbox": [
           {
            "marker": {
             "colorbar": {
              "outlinewidth": 0,
              "ticks": ""
             }
            },
            "type": "scattermapbox"
           }
          ],
          "scatterpolar": [
           {
            "marker": {
             "colorbar": {
              "outlinewidth": 0,
              "ticks": ""
             }
            },
            "type": "scatterpolar"
           }
          ],
          "scatterpolargl": [
           {
            "marker": {
             "colorbar": {
              "outlinewidth": 0,
              "ticks": ""
             }
            },
            "type": "scatterpolargl"
           }
          ],
          "scatterternary": [
           {
            "marker": {
             "colorbar": {
              "outlinewidth": 0,
              "ticks": ""
             }
            },
            "type": "scatterternary"
           }
          ],
          "surface": [
           {
            "colorbar": {
             "outlinewidth": 0,
             "ticks": ""
            },
            "colorscale": [
             [
              0,
              "#0d0887"
             ],
             [
              0.1111111111111111,
              "#46039f"
             ],
             [
              0.2222222222222222,
              "#7201a8"
             ],
             [
              0.3333333333333333,
              "#9c179e"
             ],
             [
              0.4444444444444444,
              "#bd3786"
             ],
             [
              0.5555555555555556,
              "#d8576b"
             ],
             [
              0.6666666666666666,
              "#ed7953"
             ],
             [
              0.7777777777777778,
              "#fb9f3a"
             ],
             [
              0.8888888888888888,
              "#fdca26"
             ],
             [
              1,
              "#f0f921"
             ]
            ],
            "type": "surface"
           }
          ],
          "table": [
           {
            "cells": {
             "fill": {
              "color": "#EBF0F8"
             },
             "line": {
              "color": "white"
             }
            },
            "header": {
             "fill": {
              "color": "#C8D4E3"
             },
             "line": {
              "color": "white"
             }
            },
            "type": "table"
           }
          ]
         },
         "layout": {
          "annotationdefaults": {
           "arrowcolor": "#2a3f5f",
           "arrowhead": 0,
           "arrowwidth": 1
          },
          "autotypenumbers": "strict",
          "coloraxis": {
           "colorbar": {
            "outlinewidth": 0,
            "ticks": ""
           }
          },
          "colorscale": {
           "diverging": [
            [
             0,
             "#8e0152"
            ],
            [
             0.1,
             "#c51b7d"
            ],
            [
             0.2,
             "#de77ae"
            ],
            [
             0.3,
             "#f1b6da"
            ],
            [
             0.4,
             "#fde0ef"
            ],
            [
             0.5,
             "#f7f7f7"
            ],
            [
             0.6,
             "#e6f5d0"
            ],
            [
             0.7,
             "#b8e186"
            ],
            [
             0.8,
             "#7fbc41"
            ],
            [
             0.9,
             "#4d9221"
            ],
            [
             1,
             "#276419"
            ]
           ],
           "sequential": [
            [
             0,
             "#0d0887"
            ],
            [
             0.1111111111111111,
             "#46039f"
            ],
            [
             0.2222222222222222,
             "#7201a8"
            ],
            [
             0.3333333333333333,
             "#9c179e"
            ],
            [
             0.4444444444444444,
             "#bd3786"
            ],
            [
             0.5555555555555556,
             "#d8576b"
            ],
            [
             0.6666666666666666,
             "#ed7953"
            ],
            [
             0.7777777777777778,
             "#fb9f3a"
            ],
            [
             0.8888888888888888,
             "#fdca26"
            ],
            [
             1,
             "#f0f921"
            ]
           ],
           "sequentialminus": [
            [
             0,
             "#0d0887"
            ],
            [
             0.1111111111111111,
             "#46039f"
            ],
            [
             0.2222222222222222,
             "#7201a8"
            ],
            [
             0.3333333333333333,
             "#9c179e"
            ],
            [
             0.4444444444444444,
             "#bd3786"
            ],
            [
             0.5555555555555556,
             "#d8576b"
            ],
            [
             0.6666666666666666,
             "#ed7953"
            ],
            [
             0.7777777777777778,
             "#fb9f3a"
            ],
            [
             0.8888888888888888,
             "#fdca26"
            ],
            [
             1,
             "#f0f921"
            ]
           ]
          },
          "colorway": [
           "#636efa",
           "#EF553B",
           "#00cc96",
           "#ab63fa",
           "#FFA15A",
           "#19d3f3",
           "#FF6692",
           "#B6E880",
           "#FF97FF",
           "#FECB52"
          ],
          "font": {
           "color": "#2a3f5f"
          },
          "geo": {
           "bgcolor": "white",
           "lakecolor": "white",
           "landcolor": "#E5ECF6",
           "showlakes": true,
           "showland": true,
           "subunitcolor": "white"
          },
          "hoverlabel": {
           "align": "left"
          },
          "hovermode": "closest",
          "mapbox": {
           "style": "light"
          },
          "paper_bgcolor": "white",
          "plot_bgcolor": "#E5ECF6",
          "polar": {
           "angularaxis": {
            "gridcolor": "white",
            "linecolor": "white",
            "ticks": ""
           },
           "bgcolor": "#E5ECF6",
           "radialaxis": {
            "gridcolor": "white",
            "linecolor": "white",
            "ticks": ""
           }
          },
          "scene": {
           "xaxis": {
            "backgroundcolor": "#E5ECF6",
            "gridcolor": "white",
            "gridwidth": 2,
            "linecolor": "white",
            "showbackground": true,
            "ticks": "",
            "zerolinecolor": "white"
           },
           "yaxis": {
            "backgroundcolor": "#E5ECF6",
            "gridcolor": "white",
            "gridwidth": 2,
            "linecolor": "white",
            "showbackground": true,
            "ticks": "",
            "zerolinecolor": "white"
           },
           "zaxis": {
            "backgroundcolor": "#E5ECF6",
            "gridcolor": "white",
            "gridwidth": 2,
            "linecolor": "white",
            "showbackground": true,
            "ticks": "",
            "zerolinecolor": "white"
           }
          },
          "shapedefaults": {
           "line": {
            "color": "#2a3f5f"
           }
          },
          "ternary": {
           "aaxis": {
            "gridcolor": "white",
            "linecolor": "white",
            "ticks": ""
           },
           "baxis": {
            "gridcolor": "white",
            "linecolor": "white",
            "ticks": ""
           },
           "bgcolor": "#E5ECF6",
           "caxis": {
            "gridcolor": "white",
            "linecolor": "white",
            "ticks": ""
           }
          },
          "title": {
           "x": 0.05
          },
          "xaxis": {
           "automargin": true,
           "gridcolor": "white",
           "linecolor": "white",
           "ticks": "",
           "title": {
            "standoff": 15
           },
           "zerolinecolor": "white",
           "zerolinewidth": 2
          },
          "yaxis": {
           "automargin": true,
           "gridcolor": "white",
           "linecolor": "white",
           "ticks": "",
           "title": {
            "standoff": 15
           },
           "zerolinecolor": "white",
           "zerolinewidth": 2
          }
         }
        },
        "xaxis": {
         "anchor": "y",
         "domain": [
          0,
          1
         ],
         "title": {
          "text": "Smoking status"
         }
        },
        "yaxis": {
         "anchor": "x",
         "domain": [
          0,
          1
         ],
         "title": {
          "text": "Sleep Quality"
         }
        }
       }
      }
     },
     "metadata": {},
     "output_type": "display_data"
    }
   ],
   "source": [
    "cat_columns = (\"Age\", \"Gender\", \"Smoking status\")\n",
    "\n",
    "for col in cat_columns:\n",
    "    fig2 = px.box(sleep_df, col, \"Sleep Quality\")\n",
    "    fig2.show()"
   ]
  },
  {
   "cell_type": "code",
   "execution_count": 72,
   "metadata": {},
   "outputs": [
    {
     "data": {
      "text/plain": [
       "<Axes: >"
      ]
     },
     "execution_count": 72,
     "metadata": {},
     "output_type": "execute_result"
    },
    {
     "data": {
      "image/png": "[encoded data removed]",
      "text/plain": [
       "<Figure size 640x480 with 2 Axes>"
      ]
     },
     "metadata": {},
     "output_type": "display_data"
    }
   ],
   "source": [
    "import seaborn as sns\n",
    "import matplotlib.pyplot as plt\n",
    "sns.heatmap(sleep_df.corr(numeric_only=True), annot=True, fmt=\".2f\")"
   ]
  },
  {
   "cell_type": "markdown",
   "metadata": {},
   "source": [
    "## Linear Models\n",
    "\n",
    "A linear regression model, Ridge Regression model, LASSO Regression model, and Elasctic Net Regression model will be used to evaluate the sleep variables and predict sleep quality."
   ]
  },
  {
   "cell_type": "code",
   "execution_count": 73,
   "metadata": {},
   "outputs": [],
   "source": [
    "random_state = 619\n",
    "from sklearn.model_selection import train_test_split\n",
    "from sklearn.linear_model import LinearRegression\n",
    "from sklearn.compose import ColumnTransformer\n",
    "from sklearn.preprocessing import StandardScaler, OneHotEncoder\n",
    "from sklearn.metrics import r2_score\n",
    "from sklearn.metrics import mean_squared_error\n",
    "import statsmodels.api as sm\n",
    "from scipy import stats\n",
    "import numpy as np"
   ]
  },
  {
   "cell_type": "code",
   "execution_count": 121,
   "metadata": {},
   "outputs": [],
   "source": [
    "def evaluate_model(X, y, model):\n",
    "\n",
    "    X_train, X_test, y_train, y_test = train_test_split(X, y, test_size=0.33, random_state=random_state)\n",
    "\n",
    "    numerical_cols = X.select_dtypes(include=[\"int64\", \"float64\"]).columns\n",
    "    categorical_cols = X.select_dtypes(include=[\"object\", \"category\"]).columns\n",
    "    preprocessor = ColumnTransformer(\n",
    "        transformers=[\n",
    "            (\"num\", StandardScaler(), numerical_cols),\n",
    "            (\"cat\", OneHotEncoder(), categorical_cols),\n",
    "        ]\n",
    "    )\n",
    "\n",
    "    X_train_scaled = preprocessor.fit_transform(X_train)\n",
    "    X_test_scaled = preprocessor.transform(X_test)\n",
    "\n",
    "    model.fit(X_train_scaled, y_train)\n",
    "    y_pred = model.predict(X_test_scaled)\n",
    "\n",
    "    model_mse = mean_squared_error(y_true=y_test, y_pred=y_pred)\n",
    "    model_r2score = r2_score(y_true=y_test, y_pred=y_pred)\n",
    "\n",
    "    try:\n",
    "        coeff = model.coef_\n",
    "    except AttributeError:\n",
    "        coeff = {}\n",
    "\n",
    "    return model_mse, model_r2score, y_pred, y_test, dict(zip(X.columns, coeff))"
   ]
  },
  {
   "cell_type": "code",
   "execution_count": 100,
   "metadata": {},
   "outputs": [],
   "source": [
    "def check_assumptions(y_pred, y_true):\n",
    "    sns.scatterplot(x=y_pred, y=(y_true - y_pred))\n",
    "    plt.xlabel(\"Predicted Values\")\n",
    "    plt.ylabel(\"Residuals\")\n",
    "    plt.show()\n",
    "\n",
    "    sm.qqplot((y_true - y_pred), line='s')"
   ]
  },
  {
   "cell_type": "code",
   "execution_count": 101,
   "metadata": {},
   "outputs": [
    {
     "name": "stdout",
     "output_type": "stream",
     "text": [
      "Linear Regression model with missing values set to 0 has a MSE of 7.222323612686763 and R2 of 0.5357704019079745\n",
      "Age 0.06187967154412703\n",
      "Gender 1.9899944091362678\n",
      "Bedtime 0.1664779229946883\n",
      "Wakeup time 1.8787799015787885\n",
      "Sleep duration -0.12778303700958188\n",
      "Sleep efficiency -0.30104969783363855\n",
      "REM sleep percentage 0.15346828778954735\n",
      "Deep sleep percentage -0.0370923745250567\n",
      "Light sleep percentage -0.16910069625644167\n",
      "Awakenings -0.29765553205154527\n",
      "Caffeine consumption 0.22657504427653702\n",
      "Alcohol consumption -0.22657504427655378\n",
      "Smoking status -1.218537854363507\n",
      "Exercise frequency -1.983021616331831\n"
     ]
    },
    {
     "data": {
      "image/png": "[encoded data removed]",
      "text/plain": [
       "<Figure size 640x480 with 1 Axes>"
      ]
     },
     "metadata": {},
     "output_type": "display_data"
    },
    {
     "data": {
      "image/png": "[encoded data removed]",
      "text/plain": [
       "<Figure size 640x480 with 1 Axes>"
      ]
     },
     "metadata": {},
     "output_type": "display_data"
    }
   ],
   "source": [
    "X = sleep_df.drop(\"Sleep Quality\", axis=1).fillna(0)\n",
    "y = sleep_df.loc[:, \"Sleep Quality\"]\n",
    "\n",
    "model_mse, model_r2, y_pred, y_test, coeff = evaluate_model(X, y, LinearRegression())\n",
    "print(f\"Linear Regression model with missing values set to 0 has a MSE of {model_mse} and R2 of {model_r2}\")\n",
    "\n",
    "for coefficient, value in coeff.items():\n",
    "    print(coefficient, value)\n",
    "\n",
    "check_assumptions(y_pred, y_test)"
   ]
  },
  {
   "cell_type": "code",
   "execution_count": 102,
   "metadata": {},
   "outputs": [
    {
     "name": "stdout",
     "output_type": "stream",
     "text": [
      "Linear Regression model with missing values set to mean has a MSE of 7.209592837346577 and R2 of 0.5365886984890351\n",
      "Age 0.05057155338631942\n",
      "Gender 1.977751081295378\n",
      "Bedtime 0.2549900543458886\n",
      "Wakeup time 1.86397889193666\n",
      "Sleep duration -0.15180048968112347\n",
      "Sleep efficiency -0.2731003541121983\n",
      "REM sleep percentage 0.23324392904950758\n",
      "Deep sleep percentage -0.10141834643040556\n",
      "Light sleep percentage -0.24178267025808559\n",
      "Awakenings -0.3414502276867223\n",
      "Caffeine consumption 0.22568674699734628\n",
      "Alcohol consumption -0.22568674699738536\n",
      "Smoking status -1.2536329276285565\n",
      "Exercise frequency -1.970334033691036\n"
     ]
    },
    {
     "data": {
      "image/png": "[encoded data removed]",
      "text/plain": [
       "<Figure size 640x480 with 1 Axes>"
      ]
     },
     "metadata": {},
     "output_type": "display_data"
    },
    {
     "data": {
      "image/png": "[encoded data removed]",
      "text/plain": [
       "<Figure size 640x480 with 1 Axes>"
      ]
     },
     "metadata": {},
     "output_type": "display_data"
    }
   ],
   "source": [
    "X = sleep_df.copy().drop(\"Sleep Quality\", axis=1)\n",
    "X[\"Awakenings\"] = X[\"Awakenings\"].fillna(X[\"Awakenings\"].mean())\n",
    "X[\"Alcohol consumption\"] = X[\"Alcohol consumption\"].fillna(X[\"Alcohol consumption\"].mean())\n",
    "X[\"Caffeine consumption\"] = X[\"Caffeine consumption\"].fillna(X[\"Caffeine consumption\"].mean())\n",
    "X[\"Exercise frequency\"] = X[\"Exercise frequency\"].fillna(X[\"Exercise frequency\"].mean())\n",
    "y = sleep_df.copy().loc[:, \"Sleep Quality\"]\n",
    "\n",
    "model_mse, model_r2, y_pred, y_test, coeff = evaluate_model(X, y, LinearRegression())\n",
    "print(f\"Linear Regression model with missing values set to mean has a MSE of {model_mse} and R2 of {model_r2}\")\n",
    "\n",
    "for coefficient, value in coeff.items():\n",
    "    print(coefficient, value)\n",
    "\n",
    "check_assumptions(y_pred, y_test)"
   ]
  },
  {
   "cell_type": "code",
   "execution_count": 109,
   "metadata": {},
   "outputs": [
    {
     "name": "stdout",
     "output_type": "stream",
     "text": [
      "Ridge Regression model with missing values set to mean has a MSE of 7.25662583334707 and R2 of 0.5335655566303652\n",
      "Age 0.04728077832058259\n",
      "Gender 2.001895451527038\n",
      "Bedtime 0.2314497151151624\n",
      "Wakeup time 1.868721629722612\n",
      "Sleep duration -0.14105075569239675\n",
      "Sleep efficiency -0.2851775481444688\n",
      "REM sleep percentage 0.23994167261245153\n",
      "Deep sleep percentage -0.10240415895376731\n",
      "Light sleep percentage -0.23222399879616556\n",
      "Awakenings -0.33210840028972616\n",
      "Caffeine consumption 0.2350692341779453\n",
      "Alcohol consumption -0.23506923417791423\n",
      "Smoking status -1.1287210956133376\n",
      "Exercise frequency -1.8144824668325297\n"
     ]
    },
    {
     "data": {
      "image/png": "[encoded data removed]",
      "text/plain": [
       "<Figure size 640x480 with 1 Axes>"
      ]
     },
     "metadata": {},
     "output_type": "display_data"
    },
    {
     "data": {
      "image/png": "[encoded data removed]",
      "text/plain": [
       "<Figure size 640x480 with 1 Axes>"
      ]
     },
     "metadata": {},
     "output_type": "display_data"
    }
   ],
   "source": [
    "from sklearn.linear_model import Ridge\n",
    "\n",
    "X = sleep_df.copy().drop(\"Sleep Quality\", axis=1)\n",
    "X[\"Awakenings\"] = X[\"Awakenings\"].fillna(X[\"Awakenings\"].mean())\n",
    "X[\"Alcohol consumption\"] = X[\"Alcohol consumption\"].fillna(X[\"Alcohol consumption\"].mean())\n",
    "X[\"Caffeine consumption\"] = X[\"Caffeine consumption\"].fillna(X[\"Caffeine consumption\"].mean())\n",
    "X[\"Exercise frequency\"] = X[\"Exercise frequency\"].fillna(X[\"Exercise frequency\"].mean())\n",
    "y = sleep_df.copy().loc[:, \"Sleep Quality\"]\n",
    "\n",
    "model_mse, model_r2, y_pred, y_test, coeff = evaluate_model(X, y, Ridge(alpha=0.5))\n",
    "print(f\"Ridge Regression model with missing values set to mean has a MSE of {model_mse} and R2 of {model_r2}\")\n",
    "\n",
    "for coefficient, value in coeff.items():\n",
    "    print(coefficient, value)\n",
    "\n",
    "check_assumptions(y_pred, y_test)"
   ]
  },
  {
   "cell_type": "code",
   "execution_count": 116,
   "metadata": {},
   "outputs": [
    {
     "name": "stdout",
     "output_type": "stream",
     "text": [
      "Lasso Regression model with missing values set to mean has a MSE of 7.207254680174328 and R2 of 0.5367389883157665\n",
      "Age 0.0475142158132805\n",
      "Gender 2.086098705510917\n",
      "Bedtime 0.2446205110459301\n",
      "Wakeup time 1.924184060883745\n",
      "Sleep duration 0.10491812528486485\n",
      "Sleep efficiency -0.031200085305892734\n",
      "REM sleep percentage 0.23302785051949718\n",
      "Deep sleep percentage -0.10340031980067452\n",
      "Light sleep percentage -0.23672622610850488\n",
      "Awakenings -0.33875178667496064\n",
      "Caffeine consumption 0.4527349709317382\n",
      "Alcohol consumption -0.0\n",
      "Smoking status -1.3955316129136504\n",
      "Exercise frequency -2.062666020492122\n"
     ]
    },
    {
     "data": {
      "image/png": "[encoded data removed]",
      "text/plain": [
       "<Figure size 640x480 with 1 Axes>"
      ]
     },
     "metadata": {},
     "output_type": "display_data"
    },
    {
     "data": {
      "image/png": "[encoded data removed]",
      "text/plain": [
       "<Figure size 640x480 with 1 Axes>"
      ]
     },
     "metadata": {},
     "output_type": "display_data"
    }
   ],
   "source": [
    "from sklearn.linear_model import Lasso\n",
    "\n",
    "X = sleep_df.copy().drop(\"Sleep Quality\", axis=1)\n",
    "X[\"Awakenings\"] = X[\"Awakenings\"].fillna(X[\"Awakenings\"].mean())\n",
    "X[\"Alcohol consumption\"] = X[\"Alcohol consumption\"].fillna(X[\"Alcohol consumption\"].mean())\n",
    "X[\"Caffeine consumption\"] = X[\"Caffeine consumption\"].fillna(X[\"Caffeine consumption\"].mean())\n",
    "X[\"Exercise frequency\"] = X[\"Exercise frequency\"].fillna(X[\"Exercise frequency\"].mean())\n",
    "y = sleep_df.copy().loc[:, \"Sleep Quality\"]\n",
    "\n",
    "model_mse, model_r2, y_pred, y_test, coeff = evaluate_model(X, y, Lasso(alpha=0.001))\n",
    "print(f\"Lasso Regression model with missing values set to mean has a MSE of {model_mse} and R2 of {model_r2}\")\n",
    "\n",
    "for coefficient, value in coeff.items():\n",
    "    print(coefficient, value)\n",
    "\n",
    "check_assumptions(y_pred, y_test)"
   ]
  },
  {
   "cell_type": "markdown",
   "metadata": {},
   "source": [
    "## Non linear regression"
   ]
  },
  {
   "cell_type": "code",
   "execution_count": 131,
   "metadata": {},
   "outputs": [
    {
     "name": "stdout",
     "output_type": "stream",
     "text": [
      "Best parameters found:  {'C': 10, 'degree': 2, 'kernel': 'poly'}\n",
      "Best score found:  0.7628710640276288\n"
     ]
    }
   ],
   "source": [
    "from sklearn.svm import SVR\n",
    "from sklearn.model_selection import GridSearchCV\n",
    "\n",
    "X = sleep_df.copy().drop(\"Sleep Quality\", axis=1)\n",
    "X[\"Awakenings\"] = X[\"Awakenings\"].fillna(X[\"Awakenings\"].mean())\n",
    "X[\"Alcohol consumption\"] = X[\"Alcohol consumption\"].fillna(\n",
    "    X[\"Alcohol consumption\"].mean()\n",
    ")\n",
    "X[\"Caffeine consumption\"] = X[\"Caffeine consumption\"].fillna(\n",
    "    X[\"Caffeine consumption\"].mean()\n",
    ")\n",
    "X[\"Exercise frequency\"] = X[\"Exercise frequency\"].fillna(X[\"Exercise frequency\"].mean())\n",
    "y = sleep_df.copy().loc[:, \"Sleep Quality\"]\n",
    "\n",
    "grid_svm = GridSearchCV(\n",
    "    estimator=SVR(),\n",
    "    param_grid={\n",
    "        \"kernel\": [\"linear\", \"poly\", \"rbf\", \"sigmoid\"],\n",
    "        \"degree\": [1, 2, 3, 4, 5],\n",
    "        \"C\": [0.1, 1, 10, 100],\n",
    "    },\n",
    "    cv=5,\n",
    ")\n",
    "X_train, X_test, y_train, y_test = train_test_split(X, y, test_size=0.33, random_state=random_state)\n",
    "\n",
    "numerical_cols = X.select_dtypes(include=[\"int64\", \"float64\"]).columns\n",
    "categorical_cols = X.select_dtypes(include=[\"object\", \"category\"]).columns\n",
    "preprocessor = ColumnTransformer(\n",
    "    transformers=[\n",
    "        (\"num\", StandardScaler(), numerical_cols),\n",
    "        (\"cat\", OneHotEncoder(), categorical_cols),\n",
    "    ]\n",
    ")\n",
    "\n",
    "X_train_scaled = preprocessor.fit_transform(X_train)\n",
    "X_test_scaled = preprocessor.transform(X_test)\n",
    "\n",
    "grid_svm.fit(X_train_scaled, y_train)\n",
    "print(\"Best parameters found: \", grid_svm.best_params_)\n",
    "\n",
    "# Print the best score\n",
    "print(\"Best score found: \", grid_svm.best_score_)"
   ]
  },
  {
   "cell_type": "code",
   "execution_count": 132,
   "metadata": {},
   "outputs": [
    {
     "name": "stdout",
     "output_type": "stream",
     "text": [
      "Support Vector Machine Regression model with missing values set to mean has a MSE of 3.0669432112353805 and R2 of 0.8028659624415231\n"
     ]
    }
   ],
   "source": [
    "model_mse, model_r2, y_pred, y_test, _ = evaluate_model(X, y, SVR(C=10, degree=2, kernel=\"poly\"))\n",
    "print(f\"Support Vector Machine Regression model with missing values set to mean has a MSE of {model_mse} and R2 of {model_r2}\")"
   ]
  }
 ],
 "metadata": {
  "kernelspec": {
   "display_name": ".venv",
   "language": "python",
   "name": "python3"
  },
  "language_info": {
   "codemirror_mode": {
    "name": "ipython",
    "version": 3
   },
   "file_extension": ".py",
   "mimetype": "text/x-python",
   "name": "python",
   "nbconvert_exporter": "python",
   "pygments_lexer": "ipython3",
   "version": "3.10.11"
  }
 },
 "nbformat": 4,
 "nbformat_minor": 2
}
